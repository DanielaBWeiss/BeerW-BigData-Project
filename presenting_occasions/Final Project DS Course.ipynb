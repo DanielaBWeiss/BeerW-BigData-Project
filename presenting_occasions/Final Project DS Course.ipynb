{
 "cells": [
  {
   "cell_type": "markdown",
   "metadata": {},
   "source": [
    "# FINAL Project"
   ]
  },
  {
   "cell_type": "markdown",
   "metadata": {},
   "source": [
    "## 1. The company"
   ]
  },
  {
   "cell_type": "markdown",
   "metadata": {},
   "source": [
    "## WeissBeerger\n",
    "\n",
    "WeissBeerger, an Israeli start-up based in Tel-Aviv, develops IoT analytics tools that include sensors in the beer taps, refrigerators and other important points in the supply chain to provide bar and restaurant owners important beverage analytics.\n",
    "Nowadays they mostly aim to analyze data based on table orders rather than IoT, mostly due to the availability of data."
   ]
  },
  {
   "cell_type": "markdown",
   "metadata": {},
   "source": [
    "## 2. The Data"
   ]
  },
  {
   "cell_type": "markdown",
   "metadata": {},
   "source": [
    "The data we received from the company consists of table orders from restaurants all over Canada.\n",
    "Initially the data contained over [ ] tables, and bacause of the massive amount of data, we decided to initally focus on Toronto, which sonsits of [ ]  total table orders."
   ]
  },
  {
   "cell_type": "markdown",
   "metadata": {},
   "source": [
    "A single table order consists of a unique order_id, along with the item titles and numeric features that come along with the items ordered at a table."
   ]
  },
  {
   "cell_type": "markdown",
   "metadata": {},
   "source": [
    "Example Table"
   ]
  },
  {
   "cell_type": "code",
   "execution_count": 2,
   "metadata": {},
   "outputs": [],
   "source": [
    "import pandas as pd\n",
    "data = pd.read_csv(\"../data/original_data.csv\")"
   ]
  },
  {
   "cell_type": "code",
   "execution_count": 3,
   "metadata": {},
   "outputs": [],
   "source": [
    "pd.set_option('display.max_columns', 500)"
   ]
  },
  {
   "cell_type": "code",
   "execution_count": 4,
   "metadata": {},
   "outputs": [
    {
     "data": {
      "text/html": [
       "<div>\n",
       "<style scoped>\n",
       "    .dataframe tbody tr th:only-of-type {\n",
       "        vertical-align: middle;\n",
       "    }\n",
       "\n",
       "    .dataframe tbody tr th {\n",
       "        vertical-align: top;\n",
       "    }\n",
       "\n",
       "    .dataframe thead th {\n",
       "        text-align: right;\n",
       "    }\n",
       "</style>\n",
       "<table border=\"1\" class=\"dataframe\">\n",
       "  <thead>\n",
       "    <tr style=\"text-align: right;\">\n",
       "      <th></th>\n",
       "      <th>city</th>\n",
       "      <th>bar_id</th>\n",
       "      <th>order_id</th>\n",
       "      <th>order_time</th>\n",
       "      <th>order_item_id</th>\n",
       "      <th>title</th>\n",
       "      <th>category_id</th>\n",
       "      <th>beer_brand_id</th>\n",
       "      <th>beer_serving_type_id</th>\n",
       "      <th>beer_volume</th>\n",
       "      <th>item_qty</th>\n",
       "      <th>sales_before_tax</th>\n",
       "      <th>sales_inc_tax</th>\n",
       "      <th>guest_count</th>\n",
       "      <th>waiter_id</th>\n",
       "      <th>country</th>\n",
       "      <th>country_id</th>\n",
       "      <th>state</th>\n",
       "      <th>state_id</th>\n",
       "      <th>timezone</th>\n",
       "      <th>bar_type_id</th>\n",
       "      <th>status</th>\n",
       "      <th>last_status</th>\n",
       "      <th>is_bulk</th>\n",
       "      <th>bar_type</th>\n",
       "      <th>data_availability_status_id</th>\n",
       "    </tr>\n",
       "  </thead>\n",
       "  <tbody>\n",
       "    <tr>\n",
       "      <th>1574737</th>\n",
       "      <td>Toronto</td>\n",
       "      <td>23193</td>\n",
       "      <td>650818052</td>\n",
       "      <td>2019-07-19 13:08:06.000</td>\n",
       "      <td>65081805204</td>\n",
       "      <td>Pint Coors Light</td>\n",
       "      <td>1.0</td>\n",
       "      <td>280</td>\n",
       "      <td>2</td>\n",
       "      <td>0.591</td>\n",
       "      <td>1.0</td>\n",
       "      <td>5.97</td>\n",
       "      <td>6.746852</td>\n",
       "      <td>0</td>\n",
       "      <td>2011.0</td>\n",
       "      <td>Canada</td>\n",
       "      <td>195</td>\n",
       "      <td>Ontario</td>\n",
       "      <td>49</td>\n",
       "      <td>America/Toronto</td>\n",
       "      <td>1</td>\n",
       "      <td>12</td>\n",
       "      <td>0</td>\n",
       "      <td>0</td>\n",
       "      <td>Bar/Pub</td>\n",
       "      <td>1</td>\n",
       "    </tr>\n",
       "    <tr>\n",
       "      <th>1574738</th>\n",
       "      <td>Toronto</td>\n",
       "      <td>23193</td>\n",
       "      <td>650818052</td>\n",
       "      <td>2019-07-19 13:08:06.000</td>\n",
       "      <td>65081805202</td>\n",
       "      <td>Chicken Fingers SAUCE</td>\n",
       "      <td>2.0</td>\n",
       "      <td>0</td>\n",
       "      <td>0</td>\n",
       "      <td>0.000</td>\n",
       "      <td>1.0</td>\n",
       "      <td>1.00</td>\n",
       "      <td>1.130126</td>\n",
       "      <td>0</td>\n",
       "      <td>2011.0</td>\n",
       "      <td>Canada</td>\n",
       "      <td>195</td>\n",
       "      <td>Ontario</td>\n",
       "      <td>49</td>\n",
       "      <td>America/Toronto</td>\n",
       "      <td>1</td>\n",
       "      <td>12</td>\n",
       "      <td>0</td>\n",
       "      <td>0</td>\n",
       "      <td>Bar/Pub</td>\n",
       "      <td>1</td>\n",
       "    </tr>\n",
       "    <tr>\n",
       "      <th>1574739</th>\n",
       "      <td>Toronto</td>\n",
       "      <td>23193</td>\n",
       "      <td>650818052</td>\n",
       "      <td>2019-07-19 13:08:06.000</td>\n",
       "      <td>65081805201</td>\n",
       "      <td>Chicken Fingers</td>\n",
       "      <td>2.0</td>\n",
       "      <td>0</td>\n",
       "      <td>0</td>\n",
       "      <td>0.000</td>\n",
       "      <td>1.0</td>\n",
       "      <td>10.00</td>\n",
       "      <td>11.301259</td>\n",
       "      <td>0</td>\n",
       "      <td>2011.0</td>\n",
       "      <td>Canada</td>\n",
       "      <td>195</td>\n",
       "      <td>Ontario</td>\n",
       "      <td>49</td>\n",
       "      <td>America/Toronto</td>\n",
       "      <td>1</td>\n",
       "      <td>12</td>\n",
       "      <td>0</td>\n",
       "      <td>0</td>\n",
       "      <td>Bar/Pub</td>\n",
       "      <td>1</td>\n",
       "    </tr>\n",
       "    <tr>\n",
       "      <th>1574740</th>\n",
       "      <td>Toronto</td>\n",
       "      <td>23193</td>\n",
       "      <td>650818052</td>\n",
       "      <td>2019-07-19 13:08:06.000</td>\n",
       "      <td>65081805205</td>\n",
       "      <td>Pop</td>\n",
       "      <td>4.0</td>\n",
       "      <td>0</td>\n",
       "      <td>0</td>\n",
       "      <td>0.000</td>\n",
       "      <td>1.0</td>\n",
       "      <td>2.00</td>\n",
       "      <td>2.260252</td>\n",
       "      <td>0</td>\n",
       "      <td>2011.0</td>\n",
       "      <td>Canada</td>\n",
       "      <td>195</td>\n",
       "      <td>Ontario</td>\n",
       "      <td>49</td>\n",
       "      <td>America/Toronto</td>\n",
       "      <td>1</td>\n",
       "      <td>12</td>\n",
       "      <td>0</td>\n",
       "      <td>0</td>\n",
       "      <td>Bar/Pub</td>\n",
       "      <td>1</td>\n",
       "    </tr>\n",
       "    <tr>\n",
       "      <th>1574741</th>\n",
       "      <td>Toronto</td>\n",
       "      <td>23193</td>\n",
       "      <td>650818052</td>\n",
       "      <td>2019-07-19 13:08:06.000</td>\n",
       "      <td>65081805203</td>\n",
       "      <td>+add Gravy</td>\n",
       "      <td>2.0</td>\n",
       "      <td>0</td>\n",
       "      <td>0</td>\n",
       "      <td>0.000</td>\n",
       "      <td>1.0</td>\n",
       "      <td>1.00</td>\n",
       "      <td>1.130126</td>\n",
       "      <td>0</td>\n",
       "      <td>2011.0</td>\n",
       "      <td>Canada</td>\n",
       "      <td>195</td>\n",
       "      <td>Ontario</td>\n",
       "      <td>49</td>\n",
       "      <td>America/Toronto</td>\n",
       "      <td>1</td>\n",
       "      <td>12</td>\n",
       "      <td>0</td>\n",
       "      <td>0</td>\n",
       "      <td>Bar/Pub</td>\n",
       "      <td>1</td>\n",
       "    </tr>\n",
       "    <tr>\n",
       "      <th>1574742</th>\n",
       "      <td>Toronto</td>\n",
       "      <td>23193</td>\n",
       "      <td>650818052</td>\n",
       "      <td>2019-07-19 13:08:06.000</td>\n",
       "      <td>65081805200</td>\n",
       "      <td>Chicken Stirfry TERIYAKI</td>\n",
       "      <td>2.0</td>\n",
       "      <td>0</td>\n",
       "      <td>0</td>\n",
       "      <td>0.000</td>\n",
       "      <td>1.0</td>\n",
       "      <td>11.00</td>\n",
       "      <td>12.431385</td>\n",
       "      <td>0</td>\n",
       "      <td>2011.0</td>\n",
       "      <td>Canada</td>\n",
       "      <td>195</td>\n",
       "      <td>Ontario</td>\n",
       "      <td>49</td>\n",
       "      <td>America/Toronto</td>\n",
       "      <td>1</td>\n",
       "      <td>12</td>\n",
       "      <td>0</td>\n",
       "      <td>0</td>\n",
       "      <td>Bar/Pub</td>\n",
       "      <td>1</td>\n",
       "    </tr>\n",
       "  </tbody>\n",
       "</table>\n",
       "</div>"
      ],
      "text/plain": [
       "            city  bar_id   order_id               order_time  order_item_id  \\\n",
       "1574737  Toronto   23193  650818052  2019-07-19 13:08:06.000    65081805204   \n",
       "1574738  Toronto   23193  650818052  2019-07-19 13:08:06.000    65081805202   \n",
       "1574739  Toronto   23193  650818052  2019-07-19 13:08:06.000    65081805201   \n",
       "1574740  Toronto   23193  650818052  2019-07-19 13:08:06.000    65081805205   \n",
       "1574741  Toronto   23193  650818052  2019-07-19 13:08:06.000    65081805203   \n",
       "1574742  Toronto   23193  650818052  2019-07-19 13:08:06.000    65081805200   \n",
       "\n",
       "                            title  category_id  beer_brand_id  \\\n",
       "1574737          Pint Coors Light          1.0            280   \n",
       "1574738     Chicken Fingers SAUCE          2.0              0   \n",
       "1574739           Chicken Fingers          2.0              0   \n",
       "1574740                       Pop          4.0              0   \n",
       "1574741                +add Gravy          2.0              0   \n",
       "1574742  Chicken Stirfry TERIYAKI          2.0              0   \n",
       "\n",
       "         beer_serving_type_id  beer_volume  item_qty  sales_before_tax  \\\n",
       "1574737                     2        0.591       1.0              5.97   \n",
       "1574738                     0        0.000       1.0              1.00   \n",
       "1574739                     0        0.000       1.0             10.00   \n",
       "1574740                     0        0.000       1.0              2.00   \n",
       "1574741                     0        0.000       1.0              1.00   \n",
       "1574742                     0        0.000       1.0             11.00   \n",
       "\n",
       "         sales_inc_tax  guest_count  waiter_id country  country_id    state  \\\n",
       "1574737       6.746852            0     2011.0  Canada         195  Ontario   \n",
       "1574738       1.130126            0     2011.0  Canada         195  Ontario   \n",
       "1574739      11.301259            0     2011.0  Canada         195  Ontario   \n",
       "1574740       2.260252            0     2011.0  Canada         195  Ontario   \n",
       "1574741       1.130126            0     2011.0  Canada         195  Ontario   \n",
       "1574742      12.431385            0     2011.0  Canada         195  Ontario   \n",
       "\n",
       "         state_id         timezone  bar_type_id  status  last_status  is_bulk  \\\n",
       "1574737        49  America/Toronto            1      12            0        0   \n",
       "1574738        49  America/Toronto            1      12            0        0   \n",
       "1574739        49  America/Toronto            1      12            0        0   \n",
       "1574740        49  America/Toronto            1      12            0        0   \n",
       "1574741        49  America/Toronto            1      12            0        0   \n",
       "1574742        49  America/Toronto            1      12            0        0   \n",
       "\n",
       "        bar_type  data_availability_status_id  \n",
       "1574737  Bar/Pub                            1  \n",
       "1574738  Bar/Pub                            1  \n",
       "1574739  Bar/Pub                            1  \n",
       "1574740  Bar/Pub                            1  \n",
       "1574741  Bar/Pub                            1  \n",
       "1574742  Bar/Pub                            1  "
      ]
     },
     "execution_count": 4,
     "metadata": {},
     "output_type": "execute_result"
    }
   ],
   "source": [
    "data[data.order_id == 650818052]"
   ]
  },
  {
   "cell_type": "markdown",
   "metadata": {},
   "source": [
    "## Features present in the tables"
   ]
  },
  {
   "cell_type": "markdown",
   "metadata": {},
   "source": [
    "- bar_id\n",
    "- order_id\n",
    "- order_time - open time for table\n",
    "- order_time_closed - close time for table\n",
    "- order_item_time\n",
    "- order_item_id\n",
    "- item_qty - quantity of that exact item in order\n",
    "- sales_before_tax\n",
    "- sales_inc_tax\n",
    "- guest_count - total number of guests in table\n",
    "- title - name of dish / beverage\n",
    "- category_id - out of 6 possible categories\n",
    "- beer_brand_id - when the item is a beer\n",
    "- beer_serving_type - out of 6 possible categories\n",
    "- beer_volume - when the item is a beer"
   ]
  },
  {
   "cell_type": "markdown",
   "metadata": {},
   "source": [
    "## 3.  Goal for the project"
   ]
  },
  {
   "cell_type": "markdown",
   "metadata": {},
   "source": [
    "## Goal: Be able to predict the type of Occasion that appears at a table, given the table order\n",
    "### input: Aggregated table of all item rows (as shown above)\n",
    "### output: Type of Occasion\n",
    "\n",
    "What are Occasions?\n",
    "\n",
    "Through collaborations with the company representatives, we were given initial occasions to work with, and allowed to change them as we saw fit.\n",
    "\n",
    "Original Occasions:\n",
    "\t- Male social - occasion socializing with males only\n",
    "\t- Meal Occasion - key activity meal\n",
    "\t\t○ Possible to divide into a lot\n",
    "\t\t○ Meal formal\n",
    "\t\t○ Meal aformal\n",
    "\t\t○ Hungry/munchies\n",
    "\t- Party - a lively occasion where key activity is party\n",
    "\t- Mix-group social\n",
    "\t\t○ Date\n",
    "\t\t○ Happy hour\n",
    "\t- Relax together - doing a relax activity\n",
    "    - Relax alone!"
   ]
  },
  {
   "cell_type": "markdown",
   "metadata": {},
   "source": [
    "#  Annotations Task"
   ]
  },
  {
   "cell_type": "markdown",
   "metadata": {},
   "source": [
    "Given these goals, our first step was to create a small annotation task for ourselves, in order to be able to understand the data and the task that's required of us."
   ]
  },
  {
   "cell_type": "markdown",
   "metadata": {},
   "source": [
    "## Intuition - Guest Count"
   ]
  },
  {
   "cell_type": "markdown",
   "metadata": {},
   "source": [
    "We noticed that a major feature for predicting the occasion would have to be the guest count. Usually the number of people that are present at a table, can tell us what type of occasion is happening, or at least give us a hint.\n",
    "\n",
    "Because of this - we take a closer look at the feature `guest count`."
   ]
  },
  {
   "cell_type": "markdown",
   "metadata": {},
   "source": [
    "### Analyzing the data and annotation guest count"
   ]
  },
  {
   "cell_type": "markdown",
   "metadata": {},
   "source": [
    "When looking closely at the data, we noticed that a lot of the times the given Guest Count feature in a given table was not beleivable.\n",
    "\n",
    "We decided to annotate multiple tables for Guest Count, and see if its even a feasible task."
   ]
  },
  {
   "cell_type": "markdown",
   "metadata": {},
   "source": [
    "Take a look at the following tables"
   ]
  },
  {
   "cell_type": "code",
   "execution_count": 20,
   "metadata": {},
   "outputs": [
    {
     "data": {
      "text/html": [
       "<div>\n",
       "<style scoped>\n",
       "    .dataframe tbody tr th:only-of-type {\n",
       "        vertical-align: middle;\n",
       "    }\n",
       "\n",
       "    .dataframe tbody tr th {\n",
       "        vertical-align: top;\n",
       "    }\n",
       "\n",
       "    .dataframe thead th {\n",
       "        text-align: right;\n",
       "    }\n",
       "</style>\n",
       "<table border=\"1\" class=\"dataframe\">\n",
       "  <thead>\n",
       "    <tr style=\"text-align: right;\">\n",
       "      <th></th>\n",
       "      <th>city</th>\n",
       "      <th>bar_id</th>\n",
       "      <th>order_id</th>\n",
       "      <th>order_time</th>\n",
       "      <th>order_item_id</th>\n",
       "      <th>title</th>\n",
       "      <th>category_id</th>\n",
       "      <th>beer_brand_id</th>\n",
       "      <th>beer_serving_type_id</th>\n",
       "      <th>beer_volume</th>\n",
       "      <th>item_qty</th>\n",
       "      <th>sales_before_tax</th>\n",
       "      <th>sales_inc_tax</th>\n",
       "      <th>guest_count</th>\n",
       "      <th>waiter_id</th>\n",
       "      <th>country</th>\n",
       "      <th>country_id</th>\n",
       "      <th>state</th>\n",
       "      <th>state_id</th>\n",
       "      <th>timezone</th>\n",
       "      <th>bar_type_id</th>\n",
       "      <th>status</th>\n",
       "      <th>last_status</th>\n",
       "      <th>is_bulk</th>\n",
       "      <th>bar_type</th>\n",
       "      <th>data_availability_status_id</th>\n",
       "    </tr>\n",
       "  </thead>\n",
       "  <tbody>\n",
       "    <tr>\n",
       "      <th>156005</th>\n",
       "      <td>Toronto</td>\n",
       "      <td>1177</td>\n",
       "      <td>648222217</td>\n",
       "      <td>2019-07-15 18:26:00.000</td>\n",
       "      <td>64822221700</td>\n",
       "      <td>CORONA BTL</td>\n",
       "      <td>1.0</td>\n",
       "      <td>128</td>\n",
       "      <td>1</td>\n",
       "      <td>0.355</td>\n",
       "      <td>1.0</td>\n",
       "      <td>6.25</td>\n",
       "      <td>7.063457</td>\n",
       "      <td>1</td>\n",
       "      <td>788.0</td>\n",
       "      <td>Canada</td>\n",
       "      <td>195</td>\n",
       "      <td>Ontario</td>\n",
       "      <td>49</td>\n",
       "      <td>America/Toronto</td>\n",
       "      <td>10</td>\n",
       "      <td>11</td>\n",
       "      <td>0</td>\n",
       "      <td>0</td>\n",
       "      <td>Casual Dining</td>\n",
       "      <td>1</td>\n",
       "    </tr>\n",
       "    <tr>\n",
       "      <th>156006</th>\n",
       "      <td>Toronto</td>\n",
       "      <td>1177</td>\n",
       "      <td>648222217</td>\n",
       "      <td>2019-07-15 18:26:00.000</td>\n",
       "      <td>64822221706</td>\n",
       "      <td>CORONA BTL</td>\n",
       "      <td>1.0</td>\n",
       "      <td>128</td>\n",
       "      <td>1</td>\n",
       "      <td>0.355</td>\n",
       "      <td>1.0</td>\n",
       "      <td>6.25</td>\n",
       "      <td>7.063457</td>\n",
       "      <td>1</td>\n",
       "      <td>788.0</td>\n",
       "      <td>Canada</td>\n",
       "      <td>195</td>\n",
       "      <td>Ontario</td>\n",
       "      <td>49</td>\n",
       "      <td>America/Toronto</td>\n",
       "      <td>10</td>\n",
       "      <td>11</td>\n",
       "      <td>0</td>\n",
       "      <td>0</td>\n",
       "      <td>Casual Dining</td>\n",
       "      <td>1</td>\n",
       "    </tr>\n",
       "    <tr>\n",
       "      <th>156007</th>\n",
       "      <td>Toronto</td>\n",
       "      <td>1177</td>\n",
       "      <td>648222217</td>\n",
       "      <td>2019-07-15 18:26:00.000</td>\n",
       "      <td>64822221705</td>\n",
       "      <td>CORONA BTL</td>\n",
       "      <td>1.0</td>\n",
       "      <td>128</td>\n",
       "      <td>1</td>\n",
       "      <td>0.355</td>\n",
       "      <td>1.0</td>\n",
       "      <td>6.25</td>\n",
       "      <td>7.063457</td>\n",
       "      <td>1</td>\n",
       "      <td>788.0</td>\n",
       "      <td>Canada</td>\n",
       "      <td>195</td>\n",
       "      <td>Ontario</td>\n",
       "      <td>49</td>\n",
       "      <td>America/Toronto</td>\n",
       "      <td>10</td>\n",
       "      <td>11</td>\n",
       "      <td>0</td>\n",
       "      <td>0</td>\n",
       "      <td>Casual Dining</td>\n",
       "      <td>1</td>\n",
       "    </tr>\n",
       "    <tr>\n",
       "      <th>156008</th>\n",
       "      <td>Toronto</td>\n",
       "      <td>1177</td>\n",
       "      <td>648222217</td>\n",
       "      <td>2019-07-15 18:26:00.000</td>\n",
       "      <td>64822221707</td>\n",
       "      <td>CORONA BTL</td>\n",
       "      <td>1.0</td>\n",
       "      <td>128</td>\n",
       "      <td>1</td>\n",
       "      <td>0.355</td>\n",
       "      <td>1.0</td>\n",
       "      <td>6.25</td>\n",
       "      <td>7.063457</td>\n",
       "      <td>1</td>\n",
       "      <td>788.0</td>\n",
       "      <td>Canada</td>\n",
       "      <td>195</td>\n",
       "      <td>Ontario</td>\n",
       "      <td>49</td>\n",
       "      <td>America/Toronto</td>\n",
       "      <td>10</td>\n",
       "      <td>11</td>\n",
       "      <td>0</td>\n",
       "      <td>0</td>\n",
       "      <td>Casual Dining</td>\n",
       "      <td>1</td>\n",
       "    </tr>\n",
       "    <tr>\n",
       "      <th>156009</th>\n",
       "      <td>Toronto</td>\n",
       "      <td>1177</td>\n",
       "      <td>648222217</td>\n",
       "      <td>2019-07-15 18:26:00.000</td>\n",
       "      <td>64822221708</td>\n",
       "      <td>CORONA BTL</td>\n",
       "      <td>1.0</td>\n",
       "      <td>128</td>\n",
       "      <td>1</td>\n",
       "      <td>0.355</td>\n",
       "      <td>1.0</td>\n",
       "      <td>6.25</td>\n",
       "      <td>7.063457</td>\n",
       "      <td>1</td>\n",
       "      <td>788.0</td>\n",
       "      <td>Canada</td>\n",
       "      <td>195</td>\n",
       "      <td>Ontario</td>\n",
       "      <td>49</td>\n",
       "      <td>America/Toronto</td>\n",
       "      <td>10</td>\n",
       "      <td>11</td>\n",
       "      <td>0</td>\n",
       "      <td>0</td>\n",
       "      <td>Casual Dining</td>\n",
       "      <td>1</td>\n",
       "    </tr>\n",
       "    <tr>\n",
       "      <th>156010</th>\n",
       "      <td>Toronto</td>\n",
       "      <td>1177</td>\n",
       "      <td>648222217</td>\n",
       "      <td>2019-07-15 18:26:00.000</td>\n",
       "      <td>64822221704</td>\n",
       "      <td>WINGS.5PC</td>\n",
       "      <td>2.0</td>\n",
       "      <td>0</td>\n",
       "      <td>0</td>\n",
       "      <td>0.000</td>\n",
       "      <td>1.0</td>\n",
       "      <td>10.47</td>\n",
       "      <td>11.832703</td>\n",
       "      <td>1</td>\n",
       "      <td>788.0</td>\n",
       "      <td>Canada</td>\n",
       "      <td>195</td>\n",
       "      <td>Ontario</td>\n",
       "      <td>49</td>\n",
       "      <td>America/Toronto</td>\n",
       "      <td>10</td>\n",
       "      <td>11</td>\n",
       "      <td>0</td>\n",
       "      <td>0</td>\n",
       "      <td>Casual Dining</td>\n",
       "      <td>1</td>\n",
       "    </tr>\n",
       "    <tr>\n",
       "      <th>156011</th>\n",
       "      <td>Toronto</td>\n",
       "      <td>1177</td>\n",
       "      <td>648222217</td>\n",
       "      <td>2019-07-15 18:26:00.000</td>\n",
       "      <td>64822221701</td>\n",
       "      <td>CORONA BTL</td>\n",
       "      <td>1.0</td>\n",
       "      <td>128</td>\n",
       "      <td>1</td>\n",
       "      <td>0.355</td>\n",
       "      <td>1.0</td>\n",
       "      <td>6.25</td>\n",
       "      <td>7.063457</td>\n",
       "      <td>1</td>\n",
       "      <td>788.0</td>\n",
       "      <td>Canada</td>\n",
       "      <td>195</td>\n",
       "      <td>Ontario</td>\n",
       "      <td>49</td>\n",
       "      <td>America/Toronto</td>\n",
       "      <td>10</td>\n",
       "      <td>11</td>\n",
       "      <td>0</td>\n",
       "      <td>0</td>\n",
       "      <td>Casual Dining</td>\n",
       "      <td>1</td>\n",
       "    </tr>\n",
       "    <tr>\n",
       "      <th>156012</th>\n",
       "      <td>Toronto</td>\n",
       "      <td>1177</td>\n",
       "      <td>648222217</td>\n",
       "      <td>2019-07-15 18:26:00.000</td>\n",
       "      <td>64822221703</td>\n",
       "      <td>WINGS</td>\n",
       "      <td>2.0</td>\n",
       "      <td>0</td>\n",
       "      <td>0</td>\n",
       "      <td>0.000</td>\n",
       "      <td>1.0</td>\n",
       "      <td>0.00</td>\n",
       "      <td>0.000000</td>\n",
       "      <td>1</td>\n",
       "      <td>788.0</td>\n",
       "      <td>Canada</td>\n",
       "      <td>195</td>\n",
       "      <td>Ontario</td>\n",
       "      <td>49</td>\n",
       "      <td>America/Toronto</td>\n",
       "      <td>10</td>\n",
       "      <td>11</td>\n",
       "      <td>0</td>\n",
       "      <td>0</td>\n",
       "      <td>Casual Dining</td>\n",
       "      <td>1</td>\n",
       "    </tr>\n",
       "    <tr>\n",
       "      <th>156013</th>\n",
       "      <td>Toronto</td>\n",
       "      <td>1177</td>\n",
       "      <td>648222217</td>\n",
       "      <td>2019-07-15 18:26:00.000</td>\n",
       "      <td>64822221702</td>\n",
       "      <td>Add.Fries^</td>\n",
       "      <td>2.0</td>\n",
       "      <td>0</td>\n",
       "      <td>0</td>\n",
       "      <td>0.000</td>\n",
       "      <td>1.0</td>\n",
       "      <td>2.97</td>\n",
       "      <td>3.356555</td>\n",
       "      <td>1</td>\n",
       "      <td>788.0</td>\n",
       "      <td>Canada</td>\n",
       "      <td>195</td>\n",
       "      <td>Ontario</td>\n",
       "      <td>49</td>\n",
       "      <td>America/Toronto</td>\n",
       "      <td>10</td>\n",
       "      <td>11</td>\n",
       "      <td>0</td>\n",
       "      <td>0</td>\n",
       "      <td>Casual Dining</td>\n",
       "      <td>1</td>\n",
       "    </tr>\n",
       "  </tbody>\n",
       "</table>\n",
       "</div>"
      ],
      "text/plain": [
       "           city  bar_id   order_id               order_time  order_item_id  \\\n",
       "156005  Toronto    1177  648222217  2019-07-15 18:26:00.000    64822221700   \n",
       "156006  Toronto    1177  648222217  2019-07-15 18:26:00.000    64822221706   \n",
       "156007  Toronto    1177  648222217  2019-07-15 18:26:00.000    64822221705   \n",
       "156008  Toronto    1177  648222217  2019-07-15 18:26:00.000    64822221707   \n",
       "156009  Toronto    1177  648222217  2019-07-15 18:26:00.000    64822221708   \n",
       "156010  Toronto    1177  648222217  2019-07-15 18:26:00.000    64822221704   \n",
       "156011  Toronto    1177  648222217  2019-07-15 18:26:00.000    64822221701   \n",
       "156012  Toronto    1177  648222217  2019-07-15 18:26:00.000    64822221703   \n",
       "156013  Toronto    1177  648222217  2019-07-15 18:26:00.000    64822221702   \n",
       "\n",
       "             title  category_id  beer_brand_id  beer_serving_type_id  \\\n",
       "156005  CORONA BTL          1.0            128                     1   \n",
       "156006  CORONA BTL          1.0            128                     1   \n",
       "156007  CORONA BTL          1.0            128                     1   \n",
       "156008  CORONA BTL          1.0            128                     1   \n",
       "156009  CORONA BTL          1.0            128                     1   \n",
       "156010   WINGS.5PC          2.0              0                     0   \n",
       "156011  CORONA BTL          1.0            128                     1   \n",
       "156012       WINGS          2.0              0                     0   \n",
       "156013  Add.Fries^          2.0              0                     0   \n",
       "\n",
       "        beer_volume  item_qty  sales_before_tax  sales_inc_tax  guest_count  \\\n",
       "156005        0.355       1.0              6.25       7.063457            1   \n",
       "156006        0.355       1.0              6.25       7.063457            1   \n",
       "156007        0.355       1.0              6.25       7.063457            1   \n",
       "156008        0.355       1.0              6.25       7.063457            1   \n",
       "156009        0.355       1.0              6.25       7.063457            1   \n",
       "156010        0.000       1.0             10.47      11.832703            1   \n",
       "156011        0.355       1.0              6.25       7.063457            1   \n",
       "156012        0.000       1.0              0.00       0.000000            1   \n",
       "156013        0.000       1.0              2.97       3.356555            1   \n",
       "\n",
       "        waiter_id country  country_id    state  state_id         timezone  \\\n",
       "156005      788.0  Canada         195  Ontario        49  America/Toronto   \n",
       "156006      788.0  Canada         195  Ontario        49  America/Toronto   \n",
       "156007      788.0  Canada         195  Ontario        49  America/Toronto   \n",
       "156008      788.0  Canada         195  Ontario        49  America/Toronto   \n",
       "156009      788.0  Canada         195  Ontario        49  America/Toronto   \n",
       "156010      788.0  Canada         195  Ontario        49  America/Toronto   \n",
       "156011      788.0  Canada         195  Ontario        49  America/Toronto   \n",
       "156012      788.0  Canada         195  Ontario        49  America/Toronto   \n",
       "156013      788.0  Canada         195  Ontario        49  America/Toronto   \n",
       "\n",
       "        bar_type_id  status  last_status  is_bulk       bar_type  \\\n",
       "156005           10      11            0        0  Casual Dining   \n",
       "156006           10      11            0        0  Casual Dining   \n",
       "156007           10      11            0        0  Casual Dining   \n",
       "156008           10      11            0        0  Casual Dining   \n",
       "156009           10      11            0        0  Casual Dining   \n",
       "156010           10      11            0        0  Casual Dining   \n",
       "156011           10      11            0        0  Casual Dining   \n",
       "156012           10      11            0        0  Casual Dining   \n",
       "156013           10      11            0        0  Casual Dining   \n",
       "\n",
       "        data_availability_status_id  \n",
       "156005                            1  \n",
       "156006                            1  \n",
       "156007                            1  \n",
       "156008                            1  \n",
       "156009                            1  \n",
       "156010                            1  \n",
       "156011                            1  \n",
       "156012                            1  \n",
       "156013                            1  "
      ]
     },
     "execution_count": 20,
     "metadata": {},
     "output_type": "execute_result"
    }
   ],
   "source": [
    "data[data[\"order_id\"] == 648222217]"
   ]
  },
  {
   "cell_type": "markdown",
   "metadata": {},
   "source": [
    "How many people are sitting at the table?\n",
    "\n",
    "Notice that the feature \"Guest Count\" says there is 1 person sitting at the table. \n",
    "\n",
    "Even between ourselves, our guest count labels ranged from 3people to 6 people."
   ]
  },
  {
   "cell_type": "code",
   "execution_count": 21,
   "metadata": {},
   "outputs": [
    {
     "data": {
      "text/html": [
       "<div>\n",
       "<style scoped>\n",
       "    .dataframe tbody tr th:only-of-type {\n",
       "        vertical-align: middle;\n",
       "    }\n",
       "\n",
       "    .dataframe tbody tr th {\n",
       "        vertical-align: top;\n",
       "    }\n",
       "\n",
       "    .dataframe thead th {\n",
       "        text-align: right;\n",
       "    }\n",
       "</style>\n",
       "<table border=\"1\" class=\"dataframe\">\n",
       "  <thead>\n",
       "    <tr style=\"text-align: right;\">\n",
       "      <th></th>\n",
       "      <th>city</th>\n",
       "      <th>bar_id</th>\n",
       "      <th>order_id</th>\n",
       "      <th>order_time</th>\n",
       "      <th>order_item_id</th>\n",
       "      <th>title</th>\n",
       "      <th>category_id</th>\n",
       "      <th>beer_brand_id</th>\n",
       "      <th>beer_serving_type_id</th>\n",
       "      <th>beer_volume</th>\n",
       "      <th>item_qty</th>\n",
       "      <th>sales_before_tax</th>\n",
       "      <th>sales_inc_tax</th>\n",
       "      <th>guest_count</th>\n",
       "      <th>waiter_id</th>\n",
       "      <th>country</th>\n",
       "      <th>country_id</th>\n",
       "      <th>state</th>\n",
       "      <th>state_id</th>\n",
       "      <th>timezone</th>\n",
       "      <th>bar_type_id</th>\n",
       "      <th>status</th>\n",
       "      <th>last_status</th>\n",
       "      <th>is_bulk</th>\n",
       "      <th>bar_type</th>\n",
       "      <th>data_availability_status_id</th>\n",
       "    </tr>\n",
       "  </thead>\n",
       "  <tbody>\n",
       "    <tr>\n",
       "      <th>1372306</th>\n",
       "      <td>Toronto</td>\n",
       "      <td>1279</td>\n",
       "      <td>649560864</td>\n",
       "      <td>2019-07-17 16:32:00.000</td>\n",
       "      <td>64956086400</td>\n",
       "      <td>BEACHED</td>\n",
       "      <td>3.0</td>\n",
       "      <td>0</td>\n",
       "      <td>0</td>\n",
       "      <td>0.0</td>\n",
       "      <td>1.0</td>\n",
       "      <td>0.0</td>\n",
       "      <td>0.0</td>\n",
       "      <td>0</td>\n",
       "      <td>65.0</td>\n",
       "      <td>Canada</td>\n",
       "      <td>195</td>\n",
       "      <td>Ontario</td>\n",
       "      <td>49</td>\n",
       "      <td>America/Toronto</td>\n",
       "      <td>10</td>\n",
       "      <td>11</td>\n",
       "      <td>0</td>\n",
       "      <td>0</td>\n",
       "      <td>Casual Dining</td>\n",
       "      <td>1</td>\n",
       "    </tr>\n",
       "  </tbody>\n",
       "</table>\n",
       "</div>"
      ],
      "text/plain": [
       "            city  bar_id   order_id               order_time  order_item_id  \\\n",
       "1372306  Toronto    1279  649560864  2019-07-17 16:32:00.000    64956086400   \n",
       "\n",
       "           title  category_id  beer_brand_id  beer_serving_type_id  \\\n",
       "1372306  BEACHED          3.0              0                     0   \n",
       "\n",
       "         beer_volume  item_qty  sales_before_tax  sales_inc_tax  guest_count  \\\n",
       "1372306          0.0       1.0               0.0            0.0            0   \n",
       "\n",
       "         waiter_id country  country_id    state  state_id         timezone  \\\n",
       "1372306       65.0  Canada         195  Ontario        49  America/Toronto   \n",
       "\n",
       "         bar_type_id  status  last_status  is_bulk       bar_type  \\\n",
       "1372306           10      11            0        0  Casual Dining   \n",
       "\n",
       "         data_availability_status_id  \n",
       "1372306                            1  "
      ]
     },
     "execution_count": 21,
     "metadata": {},
     "output_type": "execute_result"
    }
   ],
   "source": [
    "data[data[\"order_id\"] == 649560864]"
   ]
  },
  {
   "cell_type": "markdown",
   "metadata": {},
   "source": [
    "Or for example this table says the guest count is 0."
   ]
  },
  {
   "cell_type": "markdown",
   "metadata": {},
   "source": [
    "### In general, we found it to be a very hard task to predict the guest count, based on the data available to us alone. At the time, we were only allowed to have timestamps of the whole order, and not of each item."
   ]
  },
  {
   "cell_type": "markdown",
   "metadata": {},
   "source": [
    "## Conclusion for the annotation task"
   ]
  },
  {
   "cell_type": "markdown",
   "metadata": {},
   "source": [
    "### After relating to the company the difficulty and necessity of guest count, and the representatives informing us that it is a known and difficult problem that they desperately need to solve, we decided to divide our work into two separate goals. This simply doesnt supply enough signal to correctly annotate the guest count (GC)"
   ]
  },
  {
   "cell_type": "markdown",
   "metadata": {},
   "source": [
    "### Goal A \n",
    "#### Predict Occasions given data \"trustworthy\", meaning we assume we have true GC number and based on that we would predict the occasion.  we will filter out the data that isnt trustworth to contain only believable bars with \"correct guest count\". We explain further under data Processing what believable bars are.\n",
    "\n",
    "### Goal B\n",
    "#### Implement a guest count model given the above described data as labeled data.\n",
    "\n",
    "\n",
    "This made our work much easier to handle, and made it so that we focued each task on a closed environment, rather than have a lot of noise in the original data and a vague direction."
   ]
  },
  {
   "cell_type": "markdown",
   "metadata": {},
   "source": [
    "## 4. Data Processing"
   ]
  },
  {
   "cell_type": "markdown",
   "metadata": {},
   "source": [
    "We created the following three processing steps to clean and filter our data, and all of our models and data are assumed to have gone through this process."
   ]
  },
  {
   "cell_type": "markdown",
   "metadata": {},
   "source": [
    "## 4.1 Quality Bars"
   ]
  },
  {
   "cell_type": "markdown",
   "metadata": {},
   "source": [
    "Since we wanted to count no the guest ocunt feature in the occasion model, we decided to filter out bars that are untrustworthy, meaning bars that exhibited unusual bahavior."
   ]
  },
  {
   "cell_type": "markdown",
   "metadata": {},
   "source": [
    "* We looked at the guest count distribution per bar_id.\n",
    "\n",
    "We started with more than 700 bars, and eventaully after filtering bars we ended up with 35 trustworthy bars.\n",
    "(~30k table orders)\n",
    "\n",
    "Our filtering choices for removing bars:\n",
    "    - (rule 1) Max guest count of 1 or 0\n",
    "    - (rule 2) Any bars with s.t.d (standard deviation) of > 1.5"
   ]
  },
  {
   "cell_type": "markdown",
   "metadata": {},
   "source": [
    "We chose these rules after looking at the distribution of bars that seemed believable in their reporting, for example the following bar contains a believable distribution:\n",
    "(Also based on what the company told us, that about 30% of the data contained guest counts of 1)\n"
   ]
  },
  {
   "cell_type": "code",
   "execution_count": 5,
   "metadata": {},
   "outputs": [
    {
     "data": {
      "text/plain": [
       "Text(0.5, 1.0, 'Guest Count distribution for a Trustworthy Bar')"
      ]
     },
     "execution_count": 5,
     "metadata": {},
     "output_type": "execute_result"
    },
    {
     "data": {
      "image/png": "[encoded data removed]",
      "text/plain": [
       "<Figure size 432x288 with 1 Axes>"
      ]
     },
     "metadata": {
      "needs_background": "light"
     },
     "output_type": "display_data"
    }
   ],
   "source": [
    "import matplotlib as plt\n",
    "import seaborn as sns\n",
    "sns.countplot(x=\"guest_count\", data=data[data.bar_id == 11719]).set_title(\"Guest Count distribution for a Trustworthy Bar\")\n"
   ]
  },
  {
   "cell_type": "markdown",
   "metadata": {},
   "source": [
    "## 4.1 Data Cleaning"
   ]
  },
  {
   "cell_type": "markdown",
   "metadata": {},
   "source": [
    "In data cleaning we removed the follwing two things:\n",
    "    - (1) Nan tables\n",
    "    - (2) Titles that were not informative"
   ]
  },
  {
   "cell_type": "markdown",
   "metadata": {},
   "source": [
    "(1) is trivial, since we have a lot of data, we removed all tables that contained some Nan values. This occurred for 40k of the tables in only two features, the category_id of the item, and the beer_volume.\n",
    "we decided to remove them."
   ]
  },
  {
   "cell_type": "markdown",
   "metadata": {},
   "source": [
    "(2) We removed all titles that were not informative for actual meals or drinks, such as sauces, side dishes, cancellations, etc."
   ]
  },
  {
   "cell_type": "markdown",
   "metadata": {},
   "source": [
    "Example for some of the textual filtering we did:"
   ]
  },
  {
   "cell_type": "code",
   "execution_count": null,
   "metadata": {},
   "outputs": [],
   "source": [
    "    if \"xtra\" in title:\n",
    "        return False\n",
    "    if \"sub\" in title and price == 0:\n",
    "        sub.add(title)\n",
    "        return False\n",
    "    elif \"add\" in title:\n",
    "        return False\n",
    "    elif \"sauce\" in title:\n",
    "        for t in foods_w_sauce: \n",
    "            if t in title: return True\n",
    "        for t in remove_w_sauce:\n",
    "            if t in title: return False\n",
    "        sauces.add(title)\n",
    "        return False\n",
    "    elif \"no \" in title:\n",
    "        return False\n",
    "    elif \"no.\" in title:\n",
    "        return False\n",
    "    elif \"-no \" in title:\n",
    "        return False\n",
    "    elif \"side \" in title:\n",
    "        return False"
   ]
  },
  {
   "cell_type": "markdown",
   "metadata": {},
   "source": [
    "# TODO: show a graph which exhibit the different distribution between all the bars and the picked out bars"
   ]
  },
  {
   "cell_type": "markdown",
   "metadata": {},
   "source": [
    "## 4.2 Feature Engineering"
   ]
  },
  {
   "cell_type": "markdown",
   "metadata": {},
   "source": [
    "### This step proved to be the majority of our work, deciding on important features that eventually we'd want to use, and calculating informative numerical statistics."
   ]
  },
  {
   "cell_type": "markdown",
   "metadata": {},
   "source": [
    "The following features were added by us, after careful data evaluation:\n",
    "\n",
    "- **total_orders_category_id_X** - we sum all the category ids in each item of the total order, and add 6 separate columns for each one, items of 0 cost are not counted (X = 1.0 ... 6.0) [6]\n",
    "- **total_orders** - total number of items in an order, items of category 5 and items of 0 cost are not counted [1]\n",
    "- **order_day_of_week** - \"Friday\", \"Monday\", etc [1]\n",
    "- **is_weekend** - is the order day landed on a weekend (friday - sunday) [1]\n",
    "- **sharable** - is the item \"title\" a food that is a typical \"sharing\" food? (pizza, fries, wings, etc) [1]\n",
    "- **kids_meal** - is the item a \"kid\" item [1]\n",
    "- **birthday** - is there a comment in the order about a \"birthday\" [1]\n",
    "- **order(_close)_hour/minute** - the order(_close)_time hour & minute for start & close times [4]\n",
    "- **order_item_hour/minute** - the order_item_time hour & minute [2]\n",
    "- **period_of_day** - what part of the day did the order occur in (breakfast, lunch, etc) [1]\n",
    "- **dwell_time** - the total time (in hours) the table order was open for [1]\n",
    "- **meal_step** - the step in which the current item was ordered in. If the item was ordered after more than 4 minutes than the previous item, then the item is considered to be in the next numeric step. (1 - n steps, in increments of 1) [1]\n",
    "- **meal_flow_step** - the \"flow\" step in which the current item was ordered in. The same as meal_step, except the increments are (time between the previous order / 4 minutes) - this means we consider \"flow_steps\" to be four minutes long. Each flow step is added the total flow steps up to that point [1]\n",
    "- **total_flow_steps** - the total flow steps in that order [1]\n",
    "- **meal_flow_last_to_close** - the number of flow steps occurred, between the last item ordered, and till the table order was closed [1]\n",
    "- **total_meal_steps** - the total number of meal steps in that order [1]\n",
    "- **first_to_second_order** - the time passed between the 2 first orders [1]\n",
    "- **avg_time_between_steps** - average time between item orders in that order [1]\n",
    "- **sit_to_order** - the time passed until the first item order [1]\n",
    "- **max_items_per_step** - the highest count of items ordered in a step [1]\n",
    "- **total_large_meals** - number of large meals in that order, items of 0 cost are not counted [1]\n",
    "- **total_small_meals** - number of small meals in that order, items of 0 cost are not counted [1]\n",
    "- **total_large_sharable_meals** - number of large sharable meals in that order, items of 0 cost are not counted [1]\n",
    "- **total_small_sharable_meals** - number of small sharable meals in that order, items of 0 cost are not counted [1]"
   ]
  },
  {
   "cell_type": "markdown",
   "metadata": {},
   "source": [
    "# 6. Models"
   ]
  },
  {
   "cell_type": "markdown",
   "metadata": {},
   "source": [
    "# 6.1 Guest Count Model"
   ]
  },
  {
   "cell_type": "markdown",
   "metadata": {},
   "source": [
    "# 6.2 Occasions Heuristics Model"
   ]
  },
  {
   "cell_type": "markdown",
   "metadata": {},
   "source": [
    "###### we conclude that since we dont have labeled data regarding the occasions, we would need to create an heuristic model to predict the occasion type. since occasion types varies with respect to the GC we decided to split the tables into bins of GC. we split the data GC to four bins:\n",
    "* GC = 1\n",
    "* GC = 2\n",
    "* GC = 3-5\n",
    "* GC = 6 or more\n",
    "\n",
    "Each team member looked deeply into a particular bin, the bin owner learned through annotations of orders, what kind of occasions exist in this bin. Eventually the bin owner wrote down a set of rules to determine given what kind of event goes on at the table, given a table order . \n",
    "\n"
   ]
  },
  {
   "cell_type": "markdown",
   "metadata": {},
   "source": [
    "###### To maintain intergrity of the model, each bin owner annotated a dev set and a test set. (50 tables dev and 25 test)\n",
    "###### the heuristic was based on tables from the dev set, and tested on the test set. \n",
    "###### our average accuracy rate reaches 90.5% "
   ]
  },
  {
   "cell_type": "markdown",
   "metadata": {},
   "source": [
    "# 7. Insights and Discussions"
   ]
  },
  {
   "cell_type": "markdown",
   "metadata": {},
   "source": [
    "##### there are dozens of data analysis that can be done on this data, we have picked some to share with you"
   ]
  },
  {
   "cell_type": "markdown",
   "metadata": {},
   "source": [
    "###### Underneath you may see the dwell time distribution for the drinking event per bin, this is an impressive insight since you can clearly see that the people at the table the more time they spend at the bar"
   ]
  },
  {
   "cell_type": "code",
   "execution_count": 16,
   "metadata": {},
   "outputs": [
    {
     "data": {
      "image/png": "[encoded data removed]",
      "text/plain": [
       "<IPython.core.display.Image object>"
      ]
     },
     "execution_count": 16,
     "metadata": {},
     "output_type": "execute_result"
    }
   ],
   "source": [
    "from IPython.display import Image\n",
    "Image(\"image1.png\")"
   ]
  },
  {
   "cell_type": "code",
   "execution_count": null,
   "metadata": {},
   "outputs": [],
   "source": []
  },
  {
   "cell_type": "code",
   "execution_count": null,
   "metadata": {},
   "outputs": [],
   "source": []
  }
 ],
 "metadata": {
  "kernelspec": {
   "display_name": "Python 3",
   "language": "python",
   "name": "python3"
  },
  "language_info": {
   "codemirror_mode": {
    "name": "ipython",
    "version": 3
   },
   "file_extension": ".py",
   "mimetype": "text/x-python",
   "name": "python",
   "nbconvert_exporter": "python",
   "pygments_lexer": "ipython3",
   "version": "3.7.1"
  }
 },
 "nbformat": 4,
 "nbformat_minor": 2
}
