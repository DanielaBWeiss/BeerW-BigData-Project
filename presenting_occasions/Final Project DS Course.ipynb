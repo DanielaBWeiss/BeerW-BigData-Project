{
 "cells": [
  {
   "cell_type": "markdown",
   "metadata": {},
   "source": [
    "# Data Science Project - BIU - WeissBeerger"
   ]
  },
  {
   "cell_type": "markdown",
   "metadata": {},
   "source": [
    "Table of Contents:\n",
    "1. The Company\n",
    "2. The Data\n",
    "3. Our Project’s Goal\n",
    "4. Data Processing\n",
    "5. Feature Engineering\n",
    "6. Models\n",
    "7. Where we got stuck\n",
    "8. Insights & Discussions"
   ]
  },
  {
   "cell_type": "markdown",
   "metadata": {},
   "source": [
    "----"
   ]
  },
  {
   "cell_type": "markdown",
   "metadata": {},
   "source": [
    "## 1. The Company"
   ]
  },
  {
   "cell_type": "markdown",
   "metadata": {},
   "source": [
    "### WeissBeerger\n",
    "\n",
    "WeissBeerger, an Israeli start-up based in Tel-Aviv, develops IoT analytics tools that include sensors in the beer taps, refrigerators and other important points in the supply chain to provide bar and restaurant owners important beverage analytics.\n",
    "Nowadays they mostly aim to analyze data based on table orders rather than IoT, mostly due to the availability of data."
   ]
  },
  {
   "cell_type": "markdown",
   "metadata": {},
   "source": [
    "------"
   ]
  },
  {
   "cell_type": "markdown",
   "metadata": {},
   "source": [
    "## 2. The Data"
   ]
  },
  {
   "cell_type": "markdown",
   "metadata": {},
   "source": [
    "The data we received from the company consists of table orders from restaurants all over Canada.  \n",
    "Because of the massive amount of data (a simple query for a week has supplied us with about 1.75M order items, about 300K tables), we decided to focus on Toronto, which consists of a considerable volume of the data (around 80%)."
   ]
  },
  {
   "cell_type": "markdown",
   "metadata": {},
   "source": [
    "A single table order consists of a unique `order_id`, along with the item titles and numeric features that come along with the items ordered at the table."
   ]
  },
  {
   "cell_type": "markdown",
   "metadata": {},
   "source": [
    "#### Example Table (taken from the initial data we've received):"
   ]
  },
  {
   "cell_type": "code",
   "execution_count": 3,
   "metadata": {},
   "outputs": [],
   "source": [
    "import pandas as pd"
   ]
  },
  {
   "cell_type": "code",
   "execution_count": 4,
   "metadata": {},
   "outputs": [],
   "source": [
    "data = pd.read_csv(\"../data/original_data.csv\")"
   ]
  },
  {
   "cell_type": "code",
   "execution_count": 24,
   "metadata": {},
   "outputs": [],
   "source": [
    "pd.set_option('display.max_columns', 500)"
   ]
  },
  {
   "cell_type": "code",
   "execution_count": 25,
   "metadata": {
    "scrolled": true
   },
   "outputs": [
    {
     "data": {
      "text/html": [
       "<div>\n",
       "<style scoped>\n",
       "    .dataframe tbody tr th:only-of-type {\n",
       "        vertical-align: middle;\n",
       "    }\n",
       "\n",
       "    .dataframe tbody tr th {\n",
       "        vertical-align: top;\n",
       "    }\n",
       "\n",
       "    .dataframe thead th {\n",
       "        text-align: right;\n",
       "    }\n",
       "</style>\n",
       "<table border=\"1\" class=\"dataframe\">\n",
       "  <thead>\n",
       "    <tr style=\"text-align: right;\">\n",
       "      <th></th>\n",
       "      <th>city</th>\n",
       "      <th>bar_id</th>\n",
       "      <th>order_id</th>\n",
       "      <th>order_time</th>\n",
       "      <th>order_item_id</th>\n",
       "      <th>title</th>\n",
       "      <th>category_id</th>\n",
       "      <th>beer_brand_id</th>\n",
       "      <th>beer_serving_type_id</th>\n",
       "      <th>beer_volume</th>\n",
       "      <th>item_qty</th>\n",
       "      <th>sales_before_tax</th>\n",
       "      <th>sales_inc_tax</th>\n",
       "      <th>guest_count</th>\n",
       "      <th>waiter_id</th>\n",
       "      <th>country</th>\n",
       "      <th>country_id</th>\n",
       "      <th>state</th>\n",
       "      <th>state_id</th>\n",
       "      <th>timezone</th>\n",
       "      <th>bar_type_id</th>\n",
       "      <th>status</th>\n",
       "      <th>last_status</th>\n",
       "      <th>is_bulk</th>\n",
       "      <th>bar_type</th>\n",
       "      <th>data_availability_status_id</th>\n",
       "    </tr>\n",
       "  </thead>\n",
       "  <tbody>\n",
       "    <tr>\n",
       "      <th>1574737</th>\n",
       "      <td>Toronto</td>\n",
       "      <td>23193</td>\n",
       "      <td>650818052</td>\n",
       "      <td>2019-07-19 13:08:06.000</td>\n",
       "      <td>65081805204</td>\n",
       "      <td>Pint Coors Light</td>\n",
       "      <td>1.0</td>\n",
       "      <td>280</td>\n",
       "      <td>2</td>\n",
       "      <td>0.591</td>\n",
       "      <td>1.0</td>\n",
       "      <td>5.97</td>\n",
       "      <td>6.746852</td>\n",
       "      <td>0</td>\n",
       "      <td>2011.0</td>\n",
       "      <td>Canada</td>\n",
       "      <td>195</td>\n",
       "      <td>Ontario</td>\n",
       "      <td>49</td>\n",
       "      <td>America/Toronto</td>\n",
       "      <td>1</td>\n",
       "      <td>12</td>\n",
       "      <td>0</td>\n",
       "      <td>0</td>\n",
       "      <td>Bar/Pub</td>\n",
       "      <td>1</td>\n",
       "    </tr>\n",
       "    <tr>\n",
       "      <th>1574738</th>\n",
       "      <td>Toronto</td>\n",
       "      <td>23193</td>\n",
       "      <td>650818052</td>\n",
       "      <td>2019-07-19 13:08:06.000</td>\n",
       "      <td>65081805202</td>\n",
       "      <td>Chicken Fingers SAUCE</td>\n",
       "      <td>2.0</td>\n",
       "      <td>0</td>\n",
       "      <td>0</td>\n",
       "      <td>0.000</td>\n",
       "      <td>1.0</td>\n",
       "      <td>1.00</td>\n",
       "      <td>1.130126</td>\n",
       "      <td>0</td>\n",
       "      <td>2011.0</td>\n",
       "      <td>Canada</td>\n",
       "      <td>195</td>\n",
       "      <td>Ontario</td>\n",
       "      <td>49</td>\n",
       "      <td>America/Toronto</td>\n",
       "      <td>1</td>\n",
       "      <td>12</td>\n",
       "      <td>0</td>\n",
       "      <td>0</td>\n",
       "      <td>Bar/Pub</td>\n",
       "      <td>1</td>\n",
       "    </tr>\n",
       "    <tr>\n",
       "      <th>1574739</th>\n",
       "      <td>Toronto</td>\n",
       "      <td>23193</td>\n",
       "      <td>650818052</td>\n",
       "      <td>2019-07-19 13:08:06.000</td>\n",
       "      <td>65081805201</td>\n",
       "      <td>Chicken Fingers</td>\n",
       "      <td>2.0</td>\n",
       "      <td>0</td>\n",
       "      <td>0</td>\n",
       "      <td>0.000</td>\n",
       "      <td>1.0</td>\n",
       "      <td>10.00</td>\n",
       "      <td>11.301259</td>\n",
       "      <td>0</td>\n",
       "      <td>2011.0</td>\n",
       "      <td>Canada</td>\n",
       "      <td>195</td>\n",
       "      <td>Ontario</td>\n",
       "      <td>49</td>\n",
       "      <td>America/Toronto</td>\n",
       "      <td>1</td>\n",
       "      <td>12</td>\n",
       "      <td>0</td>\n",
       "      <td>0</td>\n",
       "      <td>Bar/Pub</td>\n",
       "      <td>1</td>\n",
       "    </tr>\n",
       "    <tr>\n",
       "      <th>1574740</th>\n",
       "      <td>Toronto</td>\n",
       "      <td>23193</td>\n",
       "      <td>650818052</td>\n",
       "      <td>2019-07-19 13:08:06.000</td>\n",
       "      <td>65081805205</td>\n",
       "      <td>Pop</td>\n",
       "      <td>4.0</td>\n",
       "      <td>0</td>\n",
       "      <td>0</td>\n",
       "      <td>0.000</td>\n",
       "      <td>1.0</td>\n",
       "      <td>2.00</td>\n",
       "      <td>2.260252</td>\n",
       "      <td>0</td>\n",
       "      <td>2011.0</td>\n",
       "      <td>Canada</td>\n",
       "      <td>195</td>\n",
       "      <td>Ontario</td>\n",
       "      <td>49</td>\n",
       "      <td>America/Toronto</td>\n",
       "      <td>1</td>\n",
       "      <td>12</td>\n",
       "      <td>0</td>\n",
       "      <td>0</td>\n",
       "      <td>Bar/Pub</td>\n",
       "      <td>1</td>\n",
       "    </tr>\n",
       "    <tr>\n",
       "      <th>1574741</th>\n",
       "      <td>Toronto</td>\n",
       "      <td>23193</td>\n",
       "      <td>650818052</td>\n",
       "      <td>2019-07-19 13:08:06.000</td>\n",
       "      <td>65081805203</td>\n",
       "      <td>+add Gravy</td>\n",
       "      <td>2.0</td>\n",
       "      <td>0</td>\n",
       "      <td>0</td>\n",
       "      <td>0.000</td>\n",
       "      <td>1.0</td>\n",
       "      <td>1.00</td>\n",
       "      <td>1.130126</td>\n",
       "      <td>0</td>\n",
       "      <td>2011.0</td>\n",
       "      <td>Canada</td>\n",
       "      <td>195</td>\n",
       "      <td>Ontario</td>\n",
       "      <td>49</td>\n",
       "      <td>America/Toronto</td>\n",
       "      <td>1</td>\n",
       "      <td>12</td>\n",
       "      <td>0</td>\n",
       "      <td>0</td>\n",
       "      <td>Bar/Pub</td>\n",
       "      <td>1</td>\n",
       "    </tr>\n",
       "    <tr>\n",
       "      <th>1574742</th>\n",
       "      <td>Toronto</td>\n",
       "      <td>23193</td>\n",
       "      <td>650818052</td>\n",
       "      <td>2019-07-19 13:08:06.000</td>\n",
       "      <td>65081805200</td>\n",
       "      <td>Chicken Stirfry TERIYAKI</td>\n",
       "      <td>2.0</td>\n",
       "      <td>0</td>\n",
       "      <td>0</td>\n",
       "      <td>0.000</td>\n",
       "      <td>1.0</td>\n",
       "      <td>11.00</td>\n",
       "      <td>12.431385</td>\n",
       "      <td>0</td>\n",
       "      <td>2011.0</td>\n",
       "      <td>Canada</td>\n",
       "      <td>195</td>\n",
       "      <td>Ontario</td>\n",
       "      <td>49</td>\n",
       "      <td>America/Toronto</td>\n",
       "      <td>1</td>\n",
       "      <td>12</td>\n",
       "      <td>0</td>\n",
       "      <td>0</td>\n",
       "      <td>Bar/Pub</td>\n",
       "      <td>1</td>\n",
       "    </tr>\n",
       "  </tbody>\n",
       "</table>\n",
       "</div>"
      ],
      "text/plain": [
       "            city  bar_id   order_id               order_time  order_item_id  \\\n",
       "1574737  Toronto   23193  650818052  2019-07-19 13:08:06.000    65081805204   \n",
       "1574738  Toronto   23193  650818052  2019-07-19 13:08:06.000    65081805202   \n",
       "1574739  Toronto   23193  650818052  2019-07-19 13:08:06.000    65081805201   \n",
       "1574740  Toronto   23193  650818052  2019-07-19 13:08:06.000    65081805205   \n",
       "1574741  Toronto   23193  650818052  2019-07-19 13:08:06.000    65081805203   \n",
       "1574742  Toronto   23193  650818052  2019-07-19 13:08:06.000    65081805200   \n",
       "\n",
       "                            title  category_id  beer_brand_id  \\\n",
       "1574737          Pint Coors Light          1.0            280   \n",
       "1574738     Chicken Fingers SAUCE          2.0              0   \n",
       "1574739           Chicken Fingers          2.0              0   \n",
       "1574740                       Pop          4.0              0   \n",
       "1574741                +add Gravy          2.0              0   \n",
       "1574742  Chicken Stirfry TERIYAKI          2.0              0   \n",
       "\n",
       "         beer_serving_type_id  beer_volume  item_qty  sales_before_tax  \\\n",
       "1574737                     2        0.591       1.0              5.97   \n",
       "1574738                     0        0.000       1.0              1.00   \n",
       "1574739                     0        0.000       1.0             10.00   \n",
       "1574740                     0        0.000       1.0              2.00   \n",
       "1574741                     0        0.000       1.0              1.00   \n",
       "1574742                     0        0.000       1.0             11.00   \n",
       "\n",
       "         sales_inc_tax  guest_count  waiter_id country  country_id    state  \\\n",
       "1574737       6.746852            0     2011.0  Canada         195  Ontario   \n",
       "1574738       1.130126            0     2011.0  Canada         195  Ontario   \n",
       "1574739      11.301259            0     2011.0  Canada         195  Ontario   \n",
       "1574740       2.260252            0     2011.0  Canada         195  Ontario   \n",
       "1574741       1.130126            0     2011.0  Canada         195  Ontario   \n",
       "1574742      12.431385            0     2011.0  Canada         195  Ontario   \n",
       "\n",
       "         state_id         timezone  bar_type_id  status  last_status  is_bulk  \\\n",
       "1574737        49  America/Toronto            1      12            0        0   \n",
       "1574738        49  America/Toronto            1      12            0        0   \n",
       "1574739        49  America/Toronto            1      12            0        0   \n",
       "1574740        49  America/Toronto            1      12            0        0   \n",
       "1574741        49  America/Toronto            1      12            0        0   \n",
       "1574742        49  America/Toronto            1      12            0        0   \n",
       "\n",
       "        bar_type  data_availability_status_id  \n",
       "1574737  Bar/Pub                            1  \n",
       "1574738  Bar/Pub                            1  \n",
       "1574739  Bar/Pub                            1  \n",
       "1574740  Bar/Pub                            1  \n",
       "1574741  Bar/Pub                            1  \n",
       "1574742  Bar/Pub                            1  "
      ]
     },
     "execution_count": 25,
     "metadata": {},
     "output_type": "execute_result"
    }
   ],
   "source": [
    "data[data.order_id == 650818052]"
   ]
  },
  {
   "cell_type": "markdown",
   "metadata": {},
   "source": [
    "As can be seen:\n",
    "- The table open time is at 13pm (`order_time`)\n",
    "- There are 2 main food items (Chicken Fingers 10\\\\$ & Chicken Stirfry 11\\\\$) with sauces\n",
    "- There are 2 drinks, 1 pint of a Coors Light beer, the other is pop\n",
    "- Some of you may guess it is a lunch for two (but who knows?)\n",
    "- Its `guest_count` is 0 (we will dive into this problem later on)"
   ]
  },
  {
   "cell_type": "markdown",
   "metadata": {},
   "source": [
    "#### Focus"
   ]
  },
  {
   "cell_type": "markdown",
   "metadata": {},
   "source": [
    "In order to derive more interesting insights, we've picked 3 interesting periods during the past year:\n",
    "1. Silvester (December 23, '18 - January 5, '19)\n",
    "2. Valentine (February 10, '19 - February 16, '19)\n",
    "3. Hockey Season (April 10, '19 - April 24, '19)"
   ]
  },
  {
   "cell_type": "code",
   "execution_count": 26,
   "metadata": {},
   "outputs": [],
   "source": [
    "silvester = pd.read_csv(\"../data/toronto_silvester_20181223_20190105.csv\")"
   ]
  },
  {
   "cell_type": "code",
   "execution_count": 33,
   "metadata": {},
   "outputs": [
    {
     "data": {
      "text/html": [
       "<div>\n",
       "<style scoped>\n",
       "    .dataframe tbody tr th:only-of-type {\n",
       "        vertical-align: middle;\n",
       "    }\n",
       "\n",
       "    .dataframe tbody tr th {\n",
       "        vertical-align: top;\n",
       "    }\n",
       "\n",
       "    .dataframe thead th {\n",
       "        text-align: right;\n",
       "    }\n",
       "</style>\n",
       "<table border=\"1\" class=\"dataframe\">\n",
       "  <thead>\n",
       "    <tr style=\"text-align: right;\">\n",
       "      <th></th>\n",
       "      <th>bar_id</th>\n",
       "      <th>order_id</th>\n",
       "      <th>order_time</th>\n",
       "      <th>order_time_closed</th>\n",
       "      <th>order_item_time</th>\n",
       "      <th>order_item_id</th>\n",
       "      <th>item_qty</th>\n",
       "      <th>sales_before_tax</th>\n",
       "      <th>sales_inc_tax</th>\n",
       "      <th>guest_count</th>\n",
       "      <th>title</th>\n",
       "      <th>category_id</th>\n",
       "      <th>beer_brand_id</th>\n",
       "      <th>beer_serving_type_id</th>\n",
       "      <th>beer_volume</th>\n",
       "    </tr>\n",
       "  </thead>\n",
       "  <tbody>\n",
       "    <tr>\n",
       "      <th>109</th>\n",
       "      <td>1269</td>\n",
       "      <td>360893871</td>\n",
       "      <td>2018-12-28 19:38:00.000</td>\n",
       "      <td>2018-12-28 20:24:04.000</td>\n",
       "      <td>2018-12-28 19:39:00.000</td>\n",
       "      <td>4476325129</td>\n",
       "      <td>1.0</td>\n",
       "      <td>3.99</td>\n",
       "      <td>4.508357</td>\n",
       "      <td>2</td>\n",
       "      <td>POP.</td>\n",
       "      <td>4.0</td>\n",
       "      <td>0</td>\n",
       "      <td>0</td>\n",
       "      <td>0.0</td>\n",
       "    </tr>\n",
       "    <tr>\n",
       "      <th>110</th>\n",
       "      <td>1269</td>\n",
       "      <td>360893871</td>\n",
       "      <td>2018-12-28 19:38:00.000</td>\n",
       "      <td>2018-12-28 20:24:04.000</td>\n",
       "      <td>2018-12-28 19:39:00.000</td>\n",
       "      <td>4476325126</td>\n",
       "      <td>1.0</td>\n",
       "      <td>21.97</td>\n",
       "      <td>24.824210</td>\n",
       "      <td>2</td>\n",
       "      <td>SIRL.FRITES+</td>\n",
       "      <td>2.0</td>\n",
       "      <td>0</td>\n",
       "      <td>0</td>\n",
       "      <td>0.0</td>\n",
       "    </tr>\n",
       "    <tr>\n",
       "      <th>111</th>\n",
       "      <td>1269</td>\n",
       "      <td>360893871</td>\n",
       "      <td>2018-12-28 19:38:00.000</td>\n",
       "      <td>2018-12-28 20:24:04.000</td>\n",
       "      <td>2018-12-28 19:38:00.000</td>\n",
       "      <td>4476325125</td>\n",
       "      <td>1.0</td>\n",
       "      <td>14.35</td>\n",
       "      <td>16.214265</td>\n",
       "      <td>2</td>\n",
       "      <td>CALAMARI</td>\n",
       "      <td>2.0</td>\n",
       "      <td>0</td>\n",
       "      <td>0</td>\n",
       "      <td>0.0</td>\n",
       "    </tr>\n",
       "    <tr>\n",
       "      <th>112</th>\n",
       "      <td>1269</td>\n",
       "      <td>360893871</td>\n",
       "      <td>2018-12-28 19:38:00.000</td>\n",
       "      <td>2018-12-28 20:24:04.000</td>\n",
       "      <td>2018-12-28 19:39:00.000</td>\n",
       "      <td>4476325128</td>\n",
       "      <td>1.0</td>\n",
       "      <td>2.97</td>\n",
       "      <td>3.355844</td>\n",
       "      <td>2</td>\n",
       "      <td>Add.Rst.Garlic.Mash--</td>\n",
       "      <td>2.0</td>\n",
       "      <td>0</td>\n",
       "      <td>0</td>\n",
       "      <td>0.0</td>\n",
       "    </tr>\n",
       "    <tr>\n",
       "      <th>113</th>\n",
       "      <td>1269</td>\n",
       "      <td>360893871</td>\n",
       "      <td>2018-12-28 19:38:00.000</td>\n",
       "      <td>2018-12-28 20:24:04.000</td>\n",
       "      <td>2018-12-28 19:39:00.000</td>\n",
       "      <td>4476325127</td>\n",
       "      <td>1.0</td>\n",
       "      <td>15.99</td>\n",
       "      <td>18.067324</td>\n",
       "      <td>2</td>\n",
       "      <td>CHK.GOATCHS.WRAP</td>\n",
       "      <td>2.0</td>\n",
       "      <td>0</td>\n",
       "      <td>0</td>\n",
       "      <td>0.0</td>\n",
       "    </tr>\n",
       "  </tbody>\n",
       "</table>\n",
       "</div>"
      ],
      "text/plain": [
       "     bar_id   order_id               order_time        order_time_closed  \\\n",
       "109    1269  360893871  2018-12-28 19:38:00.000  2018-12-28 20:24:04.000   \n",
       "110    1269  360893871  2018-12-28 19:38:00.000  2018-12-28 20:24:04.000   \n",
       "111    1269  360893871  2018-12-28 19:38:00.000  2018-12-28 20:24:04.000   \n",
       "112    1269  360893871  2018-12-28 19:38:00.000  2018-12-28 20:24:04.000   \n",
       "113    1269  360893871  2018-12-28 19:38:00.000  2018-12-28 20:24:04.000   \n",
       "\n",
       "             order_item_time  order_item_id  item_qty  sales_before_tax  \\\n",
       "109  2018-12-28 19:39:00.000     4476325129       1.0              3.99   \n",
       "110  2018-12-28 19:39:00.000     4476325126       1.0             21.97   \n",
       "111  2018-12-28 19:38:00.000     4476325125       1.0             14.35   \n",
       "112  2018-12-28 19:39:00.000     4476325128       1.0              2.97   \n",
       "113  2018-12-28 19:39:00.000     4476325127       1.0             15.99   \n",
       "\n",
       "     sales_inc_tax  guest_count                  title  category_id  \\\n",
       "109       4.508357            2                   POP.          4.0   \n",
       "110      24.824210            2           SIRL.FRITES+          2.0   \n",
       "111      16.214265            2               CALAMARI          2.0   \n",
       "112       3.355844            2  Add.Rst.Garlic.Mash--          2.0   \n",
       "113      18.067324            2       CHK.GOATCHS.WRAP          2.0   \n",
       "\n",
       "     beer_brand_id  beer_serving_type_id  beer_volume  \n",
       "109              0                     0          0.0  \n",
       "110              0                     0          0.0  \n",
       "111              0                     0          0.0  \n",
       "112              0                     0          0.0  \n",
       "113              0                     0          0.0  "
      ]
     },
     "execution_count": 33,
     "metadata": {},
     "output_type": "execute_result"
    }
   ],
   "source": [
    "silvester[silvester.order_id == 360893871]"
   ]
  },
  {
   "cell_type": "markdown",
   "metadata": {},
   "source": [
    "As can be seen:\n",
    "- The table open time is at 19:38pm (`order_time`)\n",
    "- The table close time is at 20:24pm (`order_time_closed`)\n",
    "- All of the order items were ordered together, right when the table opened (or, a minute later) (`order_item_time`)\n",
    "- There are 2 main food items (Fried Potatoes 22\\\\$ & Goat Cheese-Stuffed Chicken 16\\\\$) with roasted garlic mashed potatoes (`title`, `category_id`)\n",
    "- There is a single large shareable food item (Calamari 14\\\\$)\n",
    "- There is a single drink - pop\n",
    "- Some of you may guess it is a lunch for two (as the `guest_count` suggests)"
   ]
  },
  {
   "cell_type": "markdown",
   "metadata": {},
   "source": [
    "#### Features present in the tables"
   ]
  },
  {
   "cell_type": "code",
   "execution_count": 27,
   "metadata": {},
   "outputs": [
    {
     "name": "stdout",
     "output_type": "stream",
     "text": [
      "<class 'pandas.core.frame.DataFrame'>\n",
      "RangeIndex: 541499 entries, 0 to 541498\n",
      "Data columns (total 15 columns):\n",
      "bar_id                  541499 non-null int64\n",
      "order_id                541499 non-null int64\n",
      "order_time              541499 non-null object\n",
      "order_time_closed       541499 non-null object\n",
      "order_item_time         541499 non-null object\n",
      "order_item_id           541499 non-null int64\n",
      "item_qty                541499 non-null float64\n",
      "sales_before_tax        541499 non-null float64\n",
      "sales_inc_tax           541499 non-null float64\n",
      "guest_count             541499 non-null int64\n",
      "title                   541499 non-null object\n",
      "category_id             541422 non-null float64\n",
      "beer_brand_id           541499 non-null int64\n",
      "beer_serving_type_id    541499 non-null int64\n",
      "beer_volume             541497 non-null float64\n",
      "dtypes: float64(5), int64(6), object(4)\n",
      "memory usage: 62.0+ MB\n"
     ]
    }
   ],
   "source": [
    "silvester.info()"
   ]
  },
  {
   "cell_type": "markdown",
   "metadata": {},
   "source": [
    "- `bar_id`\n",
    "- `order_id`\n",
    "- `order_time` - open time for table\n",
    "- `order_time_closed` - close time for table\n",
    "- `order_item_time` - order time for a specific item of the table\n",
    "- `order_item_id`\n",
    "- `item_qty` - quantity of that exact item in the order\n",
    "- `sales_before_tax`\n",
    "- `sales_inc_tax`\n",
    "- `guest_count` - total number of guests in table\n",
    "- `title` - name of dish / beverage\n",
    "- `category_id` - out of 6 possible categories\n",
    "- `beer_brand_id` - when the item is a beer (otherwise: filled with 0)\n",
    "- `beer_serving_type` - out of 6 possible categories (bottle, can, glass, keg, jug)\n",
    "- `beer_volume` - when the item is a beer (otherwise: 0)"
   ]
  },
  {
   "cell_type": "markdown",
   "metadata": {},
   "source": [
    "**`category_id`**:\n",
    "1. beer\n",
    "2. food\n",
    "3. liquer and alcohol\n",
    "4. soft drinks\n",
    "5. side dishes\n",
    "6. cocktails and wine"
   ]
  },
  {
   "cell_type": "markdown",
   "metadata": {},
   "source": [
    "These features have outliers which should be handled, also unreliable values.\n",
    "\n",
    "Examples:\n",
    "- `guest_count` with value of 0\n",
    "- `guest_count` that seem weird when looking at the data (lots of food orders when there's only 1 person)\n",
    "- negative values"
   ]
  },
  {
   "cell_type": "markdown",
   "metadata": {},
   "source": [
    "----"
   ]
  },
  {
   "cell_type": "markdown",
   "metadata": {},
   "source": [
    "## 3.  Our Project’s Goal"
   ]
  },
  {
   "cell_type": "markdown",
   "metadata": {},
   "source": [
    "### Goal:\n",
    "Be able to predict the type of **Occasion** that appears at a table, given the table order\n",
    "\n",
    "### Input:\n",
    "Aggregated table of all item rows (as shown above)\n",
    "\n",
    "### Output:\n",
    "Type of **Occasion**"
   ]
  },
  {
   "cell_type": "markdown",
   "metadata": {},
   "source": [
    "#### What are Occasions?\n",
    "\n",
    "Through collaborations with the company representatives, we were given initial occasions to work with, and were allowed to change them as we saw fit.\n",
    "\n",
    "Original Occasions:\n",
    "\t- Male social - occasion socializing with males only\n",
    "\t- Meal Occasion - key activity meal\n",
    "\t\t○ Possible to divide into a lot\n",
    "\t\t○ Meal formal\n",
    "\t\t○ Meal aformal\n",
    "\t\t○ Hungry / munchies\n",
    "\t- Party - a lively occasion where key activity is party\n",
    "\t- Mix-group social\n",
    "\t\t○ Date\n",
    "\t\t○ Happy hour\n",
    "\t- Relax together - doing a relax activity\n",
    "    - Relax alone!"
   ]
  },
  {
   "cell_type": "markdown",
   "metadata": {},
   "source": [
    "These are not the occasions that we ended up precisely using, but were a starting point for us."
   ]
  },
  {
   "cell_type": "markdown",
   "metadata": {},
   "source": [
    "### Annotations Task"
   ]
  },
  {
   "cell_type": "markdown",
   "metadata": {},
   "source": [
    "Given these goals, our first step was to create a small annotation task for ourselves, in order to be able to understand the data and the task that's required of us."
   ]
  },
  {
   "cell_type": "markdown",
   "metadata": {},
   "source": [
    "### Intuition - Guest Count"
   ]
  },
  {
   "cell_type": "markdown",
   "metadata": {},
   "source": [
    "We noticed that a major feature for predicting the occasion would have to be the guest count. Usually the number of people that are present at a table, can tell us what type of occasion is happening, or at least give us a hint.\n",
    "\n",
    "Because of this - let's take a closer look at the feature `guest count`."
   ]
  },
  {
   "cell_type": "markdown",
   "metadata": {},
   "source": [
    "### Analyzing the data and annotation guest count"
   ]
  },
  {
   "cell_type": "markdown",
   "metadata": {},
   "source": [
    "When looking closely at the data, we noticed that a lot of the times the given `guest_count` feature in a given table was not believable.\n",
    "\n",
    "We decided to annotate multiple tables for `guest_count`, and see if its even a feasible task."
   ]
  },
  {
   "cell_type": "markdown",
   "metadata": {},
   "source": [
    "Take a look at the following tables:"
   ]
  },
  {
   "cell_type": "code",
   "execution_count": 35,
   "metadata": {},
   "outputs": [
    {
     "data": {
      "text/html": [
       "<div>\n",
       "<style scoped>\n",
       "    .dataframe tbody tr th:only-of-type {\n",
       "        vertical-align: middle;\n",
       "    }\n",
       "\n",
       "    .dataframe tbody tr th {\n",
       "        vertical-align: top;\n",
       "    }\n",
       "\n",
       "    .dataframe thead th {\n",
       "        text-align: right;\n",
       "    }\n",
       "</style>\n",
       "<table border=\"1\" class=\"dataframe\">\n",
       "  <thead>\n",
       "    <tr style=\"text-align: right;\">\n",
       "      <th></th>\n",
       "      <th>city</th>\n",
       "      <th>bar_id</th>\n",
       "      <th>order_id</th>\n",
       "      <th>order_time</th>\n",
       "      <th>order_item_id</th>\n",
       "      <th>title</th>\n",
       "      <th>category_id</th>\n",
       "      <th>beer_brand_id</th>\n",
       "      <th>beer_serving_type_id</th>\n",
       "      <th>beer_volume</th>\n",
       "      <th>item_qty</th>\n",
       "      <th>sales_before_tax</th>\n",
       "      <th>sales_inc_tax</th>\n",
       "      <th>guest_count</th>\n",
       "      <th>waiter_id</th>\n",
       "      <th>country</th>\n",
       "      <th>country_id</th>\n",
       "      <th>state</th>\n",
       "      <th>state_id</th>\n",
       "      <th>timezone</th>\n",
       "      <th>bar_type_id</th>\n",
       "      <th>status</th>\n",
       "      <th>last_status</th>\n",
       "      <th>is_bulk</th>\n",
       "      <th>bar_type</th>\n",
       "      <th>data_availability_status_id</th>\n",
       "    </tr>\n",
       "  </thead>\n",
       "  <tbody>\n",
       "    <tr>\n",
       "      <th>156005</th>\n",
       "      <td>Toronto</td>\n",
       "      <td>1177</td>\n",
       "      <td>648222217</td>\n",
       "      <td>2019-07-15 18:26:00.000</td>\n",
       "      <td>64822221700</td>\n",
       "      <td>CORONA BTL</td>\n",
       "      <td>1.0</td>\n",
       "      <td>128</td>\n",
       "      <td>1</td>\n",
       "      <td>0.355</td>\n",
       "      <td>1.0</td>\n",
       "      <td>6.25</td>\n",
       "      <td>7.063457</td>\n",
       "      <td>1</td>\n",
       "      <td>788.0</td>\n",
       "      <td>Canada</td>\n",
       "      <td>195</td>\n",
       "      <td>Ontario</td>\n",
       "      <td>49</td>\n",
       "      <td>America/Toronto</td>\n",
       "      <td>10</td>\n",
       "      <td>11</td>\n",
       "      <td>0</td>\n",
       "      <td>0</td>\n",
       "      <td>Casual Dining</td>\n",
       "      <td>1</td>\n",
       "    </tr>\n",
       "    <tr>\n",
       "      <th>156006</th>\n",
       "      <td>Toronto</td>\n",
       "      <td>1177</td>\n",
       "      <td>648222217</td>\n",
       "      <td>2019-07-15 18:26:00.000</td>\n",
       "      <td>64822221706</td>\n",
       "      <td>CORONA BTL</td>\n",
       "      <td>1.0</td>\n",
       "      <td>128</td>\n",
       "      <td>1</td>\n",
       "      <td>0.355</td>\n",
       "      <td>1.0</td>\n",
       "      <td>6.25</td>\n",
       "      <td>7.063457</td>\n",
       "      <td>1</td>\n",
       "      <td>788.0</td>\n",
       "      <td>Canada</td>\n",
       "      <td>195</td>\n",
       "      <td>Ontario</td>\n",
       "      <td>49</td>\n",
       "      <td>America/Toronto</td>\n",
       "      <td>10</td>\n",
       "      <td>11</td>\n",
       "      <td>0</td>\n",
       "      <td>0</td>\n",
       "      <td>Casual Dining</td>\n",
       "      <td>1</td>\n",
       "    </tr>\n",
       "    <tr>\n",
       "      <th>156007</th>\n",
       "      <td>Toronto</td>\n",
       "      <td>1177</td>\n",
       "      <td>648222217</td>\n",
       "      <td>2019-07-15 18:26:00.000</td>\n",
       "      <td>64822221705</td>\n",
       "      <td>CORONA BTL</td>\n",
       "      <td>1.0</td>\n",
       "      <td>128</td>\n",
       "      <td>1</td>\n",
       "      <td>0.355</td>\n",
       "      <td>1.0</td>\n",
       "      <td>6.25</td>\n",
       "      <td>7.063457</td>\n",
       "      <td>1</td>\n",
       "      <td>788.0</td>\n",
       "      <td>Canada</td>\n",
       "      <td>195</td>\n",
       "      <td>Ontario</td>\n",
       "      <td>49</td>\n",
       "      <td>America/Toronto</td>\n",
       "      <td>10</td>\n",
       "      <td>11</td>\n",
       "      <td>0</td>\n",
       "      <td>0</td>\n",
       "      <td>Casual Dining</td>\n",
       "      <td>1</td>\n",
       "    </tr>\n",
       "    <tr>\n",
       "      <th>156008</th>\n",
       "      <td>Toronto</td>\n",
       "      <td>1177</td>\n",
       "      <td>648222217</td>\n",
       "      <td>2019-07-15 18:26:00.000</td>\n",
       "      <td>64822221707</td>\n",
       "      <td>CORONA BTL</td>\n",
       "      <td>1.0</td>\n",
       "      <td>128</td>\n",
       "      <td>1</td>\n",
       "      <td>0.355</td>\n",
       "      <td>1.0</td>\n",
       "      <td>6.25</td>\n",
       "      <td>7.063457</td>\n",
       "      <td>1</td>\n",
       "      <td>788.0</td>\n",
       "      <td>Canada</td>\n",
       "      <td>195</td>\n",
       "      <td>Ontario</td>\n",
       "      <td>49</td>\n",
       "      <td>America/Toronto</td>\n",
       "      <td>10</td>\n",
       "      <td>11</td>\n",
       "      <td>0</td>\n",
       "      <td>0</td>\n",
       "      <td>Casual Dining</td>\n",
       "      <td>1</td>\n",
       "    </tr>\n",
       "    <tr>\n",
       "      <th>156009</th>\n",
       "      <td>Toronto</td>\n",
       "      <td>1177</td>\n",
       "      <td>648222217</td>\n",
       "      <td>2019-07-15 18:26:00.000</td>\n",
       "      <td>64822221708</td>\n",
       "      <td>CORONA BTL</td>\n",
       "      <td>1.0</td>\n",
       "      <td>128</td>\n",
       "      <td>1</td>\n",
       "      <td>0.355</td>\n",
       "      <td>1.0</td>\n",
       "      <td>6.25</td>\n",
       "      <td>7.063457</td>\n",
       "      <td>1</td>\n",
       "      <td>788.0</td>\n",
       "      <td>Canada</td>\n",
       "      <td>195</td>\n",
       "      <td>Ontario</td>\n",
       "      <td>49</td>\n",
       "      <td>America/Toronto</td>\n",
       "      <td>10</td>\n",
       "      <td>11</td>\n",
       "      <td>0</td>\n",
       "      <td>0</td>\n",
       "      <td>Casual Dining</td>\n",
       "      <td>1</td>\n",
       "    </tr>\n",
       "    <tr>\n",
       "      <th>156010</th>\n",
       "      <td>Toronto</td>\n",
       "      <td>1177</td>\n",
       "      <td>648222217</td>\n",
       "      <td>2019-07-15 18:26:00.000</td>\n",
       "      <td>64822221704</td>\n",
       "      <td>WINGS.5PC</td>\n",
       "      <td>2.0</td>\n",
       "      <td>0</td>\n",
       "      <td>0</td>\n",
       "      <td>0.000</td>\n",
       "      <td>1.0</td>\n",
       "      <td>10.47</td>\n",
       "      <td>11.832703</td>\n",
       "      <td>1</td>\n",
       "      <td>788.0</td>\n",
       "      <td>Canada</td>\n",
       "      <td>195</td>\n",
       "      <td>Ontario</td>\n",
       "      <td>49</td>\n",
       "      <td>America/Toronto</td>\n",
       "      <td>10</td>\n",
       "      <td>11</td>\n",
       "      <td>0</td>\n",
       "      <td>0</td>\n",
       "      <td>Casual Dining</td>\n",
       "      <td>1</td>\n",
       "    </tr>\n",
       "    <tr>\n",
       "      <th>156011</th>\n",
       "      <td>Toronto</td>\n",
       "      <td>1177</td>\n",
       "      <td>648222217</td>\n",
       "      <td>2019-07-15 18:26:00.000</td>\n",
       "      <td>64822221701</td>\n",
       "      <td>CORONA BTL</td>\n",
       "      <td>1.0</td>\n",
       "      <td>128</td>\n",
       "      <td>1</td>\n",
       "      <td>0.355</td>\n",
       "      <td>1.0</td>\n",
       "      <td>6.25</td>\n",
       "      <td>7.063457</td>\n",
       "      <td>1</td>\n",
       "      <td>788.0</td>\n",
       "      <td>Canada</td>\n",
       "      <td>195</td>\n",
       "      <td>Ontario</td>\n",
       "      <td>49</td>\n",
       "      <td>America/Toronto</td>\n",
       "      <td>10</td>\n",
       "      <td>11</td>\n",
       "      <td>0</td>\n",
       "      <td>0</td>\n",
       "      <td>Casual Dining</td>\n",
       "      <td>1</td>\n",
       "    </tr>\n",
       "    <tr>\n",
       "      <th>156012</th>\n",
       "      <td>Toronto</td>\n",
       "      <td>1177</td>\n",
       "      <td>648222217</td>\n",
       "      <td>2019-07-15 18:26:00.000</td>\n",
       "      <td>64822221703</td>\n",
       "      <td>WINGS</td>\n",
       "      <td>2.0</td>\n",
       "      <td>0</td>\n",
       "      <td>0</td>\n",
       "      <td>0.000</td>\n",
       "      <td>1.0</td>\n",
       "      <td>0.00</td>\n",
       "      <td>0.000000</td>\n",
       "      <td>1</td>\n",
       "      <td>788.0</td>\n",
       "      <td>Canada</td>\n",
       "      <td>195</td>\n",
       "      <td>Ontario</td>\n",
       "      <td>49</td>\n",
       "      <td>America/Toronto</td>\n",
       "      <td>10</td>\n",
       "      <td>11</td>\n",
       "      <td>0</td>\n",
       "      <td>0</td>\n",
       "      <td>Casual Dining</td>\n",
       "      <td>1</td>\n",
       "    </tr>\n",
       "    <tr>\n",
       "      <th>156013</th>\n",
       "      <td>Toronto</td>\n",
       "      <td>1177</td>\n",
       "      <td>648222217</td>\n",
       "      <td>2019-07-15 18:26:00.000</td>\n",
       "      <td>64822221702</td>\n",
       "      <td>Add.Fries^</td>\n",
       "      <td>2.0</td>\n",
       "      <td>0</td>\n",
       "      <td>0</td>\n",
       "      <td>0.000</td>\n",
       "      <td>1.0</td>\n",
       "      <td>2.97</td>\n",
       "      <td>3.356555</td>\n",
       "      <td>1</td>\n",
       "      <td>788.0</td>\n",
       "      <td>Canada</td>\n",
       "      <td>195</td>\n",
       "      <td>Ontario</td>\n",
       "      <td>49</td>\n",
       "      <td>America/Toronto</td>\n",
       "      <td>10</td>\n",
       "      <td>11</td>\n",
       "      <td>0</td>\n",
       "      <td>0</td>\n",
       "      <td>Casual Dining</td>\n",
       "      <td>1</td>\n",
       "    </tr>\n",
       "  </tbody>\n",
       "</table>\n",
       "</div>"
      ],
      "text/plain": [
       "           city  bar_id   order_id               order_time  order_item_id  \\\n",
       "156005  Toronto    1177  648222217  2019-07-15 18:26:00.000    64822221700   \n",
       "156006  Toronto    1177  648222217  2019-07-15 18:26:00.000    64822221706   \n",
       "156007  Toronto    1177  648222217  2019-07-15 18:26:00.000    64822221705   \n",
       "156008  Toronto    1177  648222217  2019-07-15 18:26:00.000    64822221707   \n",
       "156009  Toronto    1177  648222217  2019-07-15 18:26:00.000    64822221708   \n",
       "156010  Toronto    1177  648222217  2019-07-15 18:26:00.000    64822221704   \n",
       "156011  Toronto    1177  648222217  2019-07-15 18:26:00.000    64822221701   \n",
       "156012  Toronto    1177  648222217  2019-07-15 18:26:00.000    64822221703   \n",
       "156013  Toronto    1177  648222217  2019-07-15 18:26:00.000    64822221702   \n",
       "\n",
       "             title  category_id  beer_brand_id  beer_serving_type_id  \\\n",
       "156005  CORONA BTL          1.0            128                     1   \n",
       "156006  CORONA BTL          1.0            128                     1   \n",
       "156007  CORONA BTL          1.0            128                     1   \n",
       "156008  CORONA BTL          1.0            128                     1   \n",
       "156009  CORONA BTL          1.0            128                     1   \n",
       "156010   WINGS.5PC          2.0              0                     0   \n",
       "156011  CORONA BTL          1.0            128                     1   \n",
       "156012       WINGS          2.0              0                     0   \n",
       "156013  Add.Fries^          2.0              0                     0   \n",
       "\n",
       "        beer_volume  item_qty  sales_before_tax  sales_inc_tax  guest_count  \\\n",
       "156005        0.355       1.0              6.25       7.063457            1   \n",
       "156006        0.355       1.0              6.25       7.063457            1   \n",
       "156007        0.355       1.0              6.25       7.063457            1   \n",
       "156008        0.355       1.0              6.25       7.063457            1   \n",
       "156009        0.355       1.0              6.25       7.063457            1   \n",
       "156010        0.000       1.0             10.47      11.832703            1   \n",
       "156011        0.355       1.0              6.25       7.063457            1   \n",
       "156012        0.000       1.0              0.00       0.000000            1   \n",
       "156013        0.000       1.0              2.97       3.356555            1   \n",
       "\n",
       "        waiter_id country  country_id    state  state_id         timezone  \\\n",
       "156005      788.0  Canada         195  Ontario        49  America/Toronto   \n",
       "156006      788.0  Canada         195  Ontario        49  America/Toronto   \n",
       "156007      788.0  Canada         195  Ontario        49  America/Toronto   \n",
       "156008      788.0  Canada         195  Ontario        49  America/Toronto   \n",
       "156009      788.0  Canada         195  Ontario        49  America/Toronto   \n",
       "156010      788.0  Canada         195  Ontario        49  America/Toronto   \n",
       "156011      788.0  Canada         195  Ontario        49  America/Toronto   \n",
       "156012      788.0  Canada         195  Ontario        49  America/Toronto   \n",
       "156013      788.0  Canada         195  Ontario        49  America/Toronto   \n",
       "\n",
       "        bar_type_id  status  last_status  is_bulk       bar_type  \\\n",
       "156005           10      11            0        0  Casual Dining   \n",
       "156006           10      11            0        0  Casual Dining   \n",
       "156007           10      11            0        0  Casual Dining   \n",
       "156008           10      11            0        0  Casual Dining   \n",
       "156009           10      11            0        0  Casual Dining   \n",
       "156010           10      11            0        0  Casual Dining   \n",
       "156011           10      11            0        0  Casual Dining   \n",
       "156012           10      11            0        0  Casual Dining   \n",
       "156013           10      11            0        0  Casual Dining   \n",
       "\n",
       "        data_availability_status_id  \n",
       "156005                            1  \n",
       "156006                            1  \n",
       "156007                            1  \n",
       "156008                            1  \n",
       "156009                            1  \n",
       "156010                            1  \n",
       "156011                            1  \n",
       "156012                            1  \n",
       "156013                            1  "
      ]
     },
     "execution_count": 35,
     "metadata": {},
     "output_type": "execute_result"
    }
   ],
   "source": [
    "data[data[\"order_id\"] == 648222217]"
   ]
  },
  {
   "cell_type": "markdown",
   "metadata": {},
   "source": [
    "There's an order for wings w/ fries + 6 corona beer bottles."
   ]
  },
  {
   "cell_type": "markdown",
   "metadata": {},
   "source": [
    "We can see the feature `guest_count` equals 1, is it though?"
   ]
  },
  {
   "cell_type": "markdown",
   "metadata": {},
   "source": [
    "How many people are sitting at the table?  \n",
    "Even between ourselves, our guest count labels ranged from 3 people to 6."
   ]
  },
  {
   "cell_type": "code",
   "execution_count": 21,
   "metadata": {},
   "outputs": [
    {
     "data": {
      "text/html": [
       "<div>\n",
       "<style scoped>\n",
       "    .dataframe tbody tr th:only-of-type {\n",
       "        vertical-align: middle;\n",
       "    }\n",
       "\n",
       "    .dataframe tbody tr th {\n",
       "        vertical-align: top;\n",
       "    }\n",
       "\n",
       "    .dataframe thead th {\n",
       "        text-align: right;\n",
       "    }\n",
       "</style>\n",
       "<table border=\"1\" class=\"dataframe\">\n",
       "  <thead>\n",
       "    <tr style=\"text-align: right;\">\n",
       "      <th></th>\n",
       "      <th>city</th>\n",
       "      <th>bar_id</th>\n",
       "      <th>order_id</th>\n",
       "      <th>order_time</th>\n",
       "      <th>order_item_id</th>\n",
       "      <th>title</th>\n",
       "      <th>category_id</th>\n",
       "      <th>beer_brand_id</th>\n",
       "      <th>beer_serving_type_id</th>\n",
       "      <th>beer_volume</th>\n",
       "      <th>item_qty</th>\n",
       "      <th>sales_before_tax</th>\n",
       "      <th>sales_inc_tax</th>\n",
       "      <th>guest_count</th>\n",
       "      <th>waiter_id</th>\n",
       "      <th>country</th>\n",
       "      <th>country_id</th>\n",
       "      <th>state</th>\n",
       "      <th>state_id</th>\n",
       "      <th>timezone</th>\n",
       "      <th>bar_type_id</th>\n",
       "      <th>status</th>\n",
       "      <th>last_status</th>\n",
       "      <th>is_bulk</th>\n",
       "      <th>bar_type</th>\n",
       "      <th>data_availability_status_id</th>\n",
       "    </tr>\n",
       "  </thead>\n",
       "  <tbody>\n",
       "    <tr>\n",
       "      <th>1372306</th>\n",
       "      <td>Toronto</td>\n",
       "      <td>1279</td>\n",
       "      <td>649560864</td>\n",
       "      <td>2019-07-17 16:32:00.000</td>\n",
       "      <td>64956086400</td>\n",
       "      <td>BEACHED</td>\n",
       "      <td>3.0</td>\n",
       "      <td>0</td>\n",
       "      <td>0</td>\n",
       "      <td>0.0</td>\n",
       "      <td>1.0</td>\n",
       "      <td>0.0</td>\n",
       "      <td>0.0</td>\n",
       "      <td>0</td>\n",
       "      <td>65.0</td>\n",
       "      <td>Canada</td>\n",
       "      <td>195</td>\n",
       "      <td>Ontario</td>\n",
       "      <td>49</td>\n",
       "      <td>America/Toronto</td>\n",
       "      <td>10</td>\n",
       "      <td>11</td>\n",
       "      <td>0</td>\n",
       "      <td>0</td>\n",
       "      <td>Casual Dining</td>\n",
       "      <td>1</td>\n",
       "    </tr>\n",
       "  </tbody>\n",
       "</table>\n",
       "</div>"
      ],
      "text/plain": [
       "            city  bar_id   order_id               order_time  order_item_id  \\\n",
       "1372306  Toronto    1279  649560864  2019-07-17 16:32:00.000    64956086400   \n",
       "\n",
       "           title  category_id  beer_brand_id  beer_serving_type_id  \\\n",
       "1372306  BEACHED          3.0              0                     0   \n",
       "\n",
       "         beer_volume  item_qty  sales_before_tax  sales_inc_tax  guest_count  \\\n",
       "1372306          0.0       1.0               0.0            0.0            0   \n",
       "\n",
       "         waiter_id country  country_id    state  state_id         timezone  \\\n",
       "1372306       65.0  Canada         195  Ontario        49  America/Toronto   \n",
       "\n",
       "         bar_type_id  status  last_status  is_bulk       bar_type  \\\n",
       "1372306           10      11            0        0  Casual Dining   \n",
       "\n",
       "         data_availability_status_id  \n",
       "1372306                            1  "
      ]
     },
     "execution_count": 21,
     "metadata": {},
     "output_type": "execute_result"
    }
   ],
   "source": [
    "data[data[\"order_id\"] == 649560864]"
   ]
  },
  {
   "cell_type": "markdown",
   "metadata": {},
   "source": [
    "Or for example this table says the guest count is 0, clearly this is wrong."
   ]
  },
  {
   "cell_type": "markdown",
   "metadata": {},
   "source": [
    "Also, the representatives themselves mentioned the `guest_count` feature is not reliable."
   ]
  },
  {
   "cell_type": "markdown",
   "metadata": {},
   "source": [
    "    In general, we found it to be a very hard task to predict the guest count, based on the data available to us alone. At the time, we were only allowed to have timestamps of the whole order, and not of each item (i.e. the `order_item_time` was not present)."
   ]
  },
  {
   "cell_type": "markdown",
   "metadata": {},
   "source": [
    "### Conclusion for the annotation task"
   ]
  },
  {
   "cell_type": "markdown",
   "metadata": {},
   "source": [
    "After relating to the company the difficulty and necessity of guest count, and the representatives informing us that it is a known and difficult problem that they desperately need to solve, we decided to divide our work into two separate goals. This simply doesnt supply enough signal to correctly annotate the guest count (GC)."
   ]
  },
  {
   "cell_type": "markdown",
   "metadata": {},
   "source": [
    "### Goal A \n",
    "Predict Occasions given **\"trustworthy\"** data, meaning we assume we have true GC number and based on that we would predict the occasion.  \n",
    "We will filter out the data that isn't trustworthy to contain only believable bars with \"correct guest count\".  \n",
    "We explain further under *Data Processing* what believable bars are.\n",
    "\n",
    "### Goal B\n",
    "Implement a guest count model given the above described data as labeled data.\n",
    "\n",
    "\n",
    "This made our work much easier to handle, and made it so that we focued each task on a closed environment, rather than have a lot of noise in the original data and a vague direction."
   ]
  },
  {
   "cell_type": "markdown",
   "metadata": {},
   "source": [
    "**Combining both of the goals above, we had the whole occasions-classifier product: being able to predict the occasions whether or the `guest_count` feature is present / can be trusted.**"
   ]
  },
  {
   "cell_type": "markdown",
   "metadata": {},
   "source": [
    "-----"
   ]
  },
  {
   "cell_type": "markdown",
   "metadata": {},
   "source": [
    "## 4. Data Processing"
   ]
  },
  {
   "cell_type": "markdown",
   "metadata": {},
   "source": [
    "We created the following three processing steps to clean and filter our data, and all of our models and data are assumed to have gone through this process.\n",
    "1. Quality Bars\n",
    "2. Data Cleaning\n",
    "3. Feature Engineering"
   ]
  },
  {
   "cell_type": "markdown",
   "metadata": {},
   "source": [
    "### 4.1 Quality Bars"
   ]
  },
  {
   "cell_type": "markdown",
   "metadata": {},
   "source": [
    "Since we wanted to count on the `guest_count` feature in the occasion model, we decided to filter out bars that are untrustworthy, meaning bars that exhibited unusual bahavior."
   ]
  },
  {
   "cell_type": "markdown",
   "metadata": {},
   "source": [
    "* We looked at the `guest_count` distribution per bar_id.\n",
    "\n",
    "We started with more than 700 bars, and eventaully after filtering out bars we ended up with 35 trustworthy bars.\n",
    "(~30k table orders)\n",
    "\n",
    "Our filtering choices for removing bars:\n",
    "    - (rule 1) Max guest count of 1 or 0\n",
    "    - (rule 2) Any bars with s.t.d (standard deviation) of > 1.5"
   ]
  },
  {
   "cell_type": "markdown",
   "metadata": {},
   "source": [
    "We chose these rules after looking at the distribution of bars that seemed believable in their reporting, for example the following bar contains a believable distribution:\n",
    "(Also based on what the company told us, that about 30% of the data contained guest counts of 1)\n"
   ]
  },
  {
   "cell_type": "code",
   "execution_count": 8,
   "metadata": {},
   "outputs": [],
   "source": [
    "bars = data[data.bar_id.isin(pd.read_csv(\"../Feature_Engineering/best_bars_35.csv\").bar_id)]"
   ]
  },
  {
   "cell_type": "markdown",
   "metadata": {},
   "source": [
    "**An Untrustworty Bar**"
   ]
  },
  {
   "cell_type": "code",
   "execution_count": 28,
   "metadata": {},
   "outputs": [
    {
     "data": {
      "text/plain": [
       "<matplotlib.axes._subplots.AxesSubplot at 0x113b2cba8>"
      ]
     },
     "execution_count": 28,
     "metadata": {},
     "output_type": "execute_result"
    },
    {
     "data": {
      "image/png": "[encoded data removed]",
      "text/plain": [
       "<Figure size 432x288 with 1 Axes>"
      ]
     },
     "metadata": {
      "needs_background": "light"
     },
     "output_type": "display_data"
    }
   ],
   "source": [
    "data[data.bar_id == 30058].guest_count.value_counts().plot()"
   ]
  },
  {
   "cell_type": "markdown",
   "metadata": {},
   "source": [
    "For example the bar above, contains a guest count distribution that is erratic, and doesn't follow the correct distribution that the company relayed to us."
   ]
  },
  {
   "cell_type": "markdown",
   "metadata": {},
   "source": [
    "**A trustworthy bar**"
   ]
  },
  {
   "cell_type": "code",
   "execution_count": 38,
   "metadata": {},
   "outputs": [
    {
     "data": {
      "text/plain": [
       "Text(0.5, 1.0, 'Guest Count Distribution for a Trustworthy Bar')"
      ]
     },
     "execution_count": 38,
     "metadata": {},
     "output_type": "execute_result"
    },
    {
     "data": {
      "image/png": "[encoded data removed]",
      "text/plain": [
       "<Figure size 432x288 with 1 Axes>"
      ]
     },
     "metadata": {
      "needs_background": "light"
     },
     "output_type": "display_data"
    }
   ],
   "source": [
    "import matplotlib as plt\n",
    "import seaborn as sns\n",
    "sns.countplot(x=\"guest_count\", data=data[data.bar_id == 11719]).set_title(\"Guest Count Distribution for a Trustworthy Bar\")"
   ]
  },
  {
   "cell_type": "markdown",
   "metadata": {},
   "source": [
    "For example the graph above exhibits the behavior or a believable bar, based on what the company representative shared with us they usually see with the data."
   ]
  },
  {
   "cell_type": "markdown",
   "metadata": {},
   "source": [
    "**Our chosen \"trustworhty bars\" total guest count distribution**"
   ]
  },
  {
   "cell_type": "code",
   "execution_count": 13,
   "metadata": {},
   "outputs": [
    {
     "data": {
      "text/plain": [
       "<matplotlib.axes._subplots.AxesSubplot at 0x11216e7b8>"
      ]
     },
     "execution_count": 13,
     "metadata": {},
     "output_type": "execute_result"
    },
    {
     "data": {
      "image/png": "[encoded data removed]",
      "text/plain": [
       "<Figure size 432x288 with 1 Axes>"
      ]
     },
     "metadata": {
      "needs_background": "light"
     },
     "output_type": "display_data"
    }
   ],
   "source": [
    "bars.guest_count.value_counts().plot.bar()"
   ]
  },
  {
   "cell_type": "markdown",
   "metadata": {},
   "source": [
    "### 4.2 Data Cleaning"
   ]
  },
  {
   "cell_type": "markdown",
   "metadata": {},
   "source": [
    "In data cleaning we removed the follwing two things:\n",
    "    - (1) Nan tables\n",
    "    - (2) Titles that were not informative"
   ]
  },
  {
   "cell_type": "markdown",
   "metadata": {},
   "source": [
    "    (1) is trivial, since we have a lot of data, we removed all tables that contained some Nan values. This occurred for 40k of the tables in only two features, the `category_id` of the item, and the `beer_volume`. We decided to remove them."
   ]
  },
  {
   "cell_type": "markdown",
   "metadata": {},
   "source": [
    "    (2) We removed all titles that were not informative for actual meals or drinks, such as sauces, side dishes, cancellations, etc."
   ]
  },
  {
   "cell_type": "markdown",
   "metadata": {},
   "source": [
    "Example for some of the textual filtering we did:"
   ]
  },
  {
   "cell_type": "code",
   "execution_count": 41,
   "metadata": {},
   "outputs": [],
   "source": [
    "def if_keep(title):    \n",
    "    if \"xtra\" in title:\n",
    "        return False\n",
    "    if \"sub\" in title and price == 0:\n",
    "        sub.add(title)\n",
    "        return False\n",
    "    elif \"add\" in title:\n",
    "        return False\n",
    "    elif \"sauce\" in title:\n",
    "        for t in foods_w_sauce: \n",
    "            if t in title: return True\n",
    "        for t in remove_w_sauce:\n",
    "            if t in title: return False\n",
    "        sauces.add(title)\n",
    "        return False\n",
    "    elif \"no \" in title:\n",
    "        return False\n",
    "    elif \"no.\" in title:\n",
    "        return False\n",
    "    elif \"-no \" in title:\n",
    "        return False\n",
    "    elif \"side \" in title:\n",
    "        return False\n",
    "    \n",
    "    return True"
   ]
  },
  {
   "cell_type": "markdown",
   "metadata": {},
   "source": [
    "---"
   ]
  },
  {
   "cell_type": "markdown",
   "metadata": {},
   "source": [
    "## 5. Feature Engineering"
   ]
  },
  {
   "cell_type": "markdown",
   "metadata": {},
   "source": [
    "This step proved to be the majority of our work, deciding on important features that eventually we'd want to use, and calculating informative numerical statistics."
   ]
  },
  {
   "cell_type": "markdown",
   "metadata": {},
   "source": [
    "The following features were added by us, after (ongoing) careful data evaluation:\n",
    "\n",
    "- **total_orders_category_id_X** - we sum all the category ids in each item of the total order, and add 6 separate columns for each one, items of 0 cost are not counted (X = 1.0 ... 6.0) [6]\n",
    "- **total_orders** - total number of items in an order, items of category 5 and items of 0 cost are not counted [1]\n",
    "- **order_day_of_week** - \"Friday\", \"Monday\", etc [1]\n",
    "- **is_weekend** - is the order day landed on a weekend (friday - sunday) [1]\n",
    "- **sharable** - is the item \"title\" a food that is a typical \"sharing\" food? (pizza, fries, wings, etc) [1]\n",
    "- **kids_meal** - is the item a \"kid\" item [1]\n",
    "- **birthday** - is there a comment in the order about a \"birthday\" [1]\n",
    "- **order(_close)_hour/minute** - the order(_close)_time hour & minute for start & close times [4]\n",
    "- **order_item_hour/minute** - the order_item_time hour & minute [2]\n",
    "- **period_of_day** - what part of the day did the order occur in (breakfast, lunch, etc) [1]\n",
    "- **dwell_time** - the total time (in hours) the table order was open for [1]\n",
    "- **meal_step** - the step in which the current item was ordered in. If the item was ordered after more than 4 minutes than the previous item, then the item is considered to be in the next numeric step. (1 - n steps, in increments of 1) [1]\n",
    "- **meal_flow_step** - the \"flow\" step in which the current item was ordered in. The same as meal_step, except the increments are (time between the previous order / 4 minutes) - this means we consider \"flow_steps\" to be four minutes long. Each flow step is added the total flow steps up to that point [1]\n",
    "- **total_flow_steps** - the total flow steps in that order [1]\n",
    "- **meal_flow_last_to_close** - the number of flow steps occurred, between the last item ordered, and till the table order was closed [1]\n",
    "- **total_meal_steps** - the total number of meal steps in that order [1]\n",
    "- **first_to_second_order** - the time passed between the 2 first orders [1]\n",
    "- **avg_time_between_steps** - average time between item orders in that order [1]\n",
    "- **sit_to_order** - the time passed until the first item order [1]\n",
    "- **max_items_per_step** - the highest count of items ordered in a step [1]\n",
    "- **total_large_meals** - number of large meals in that order, items of 0 cost are not counted [1]\n",
    "- **total_small_meals** - number of small meals in that order, items of 0 cost are not counted [1]\n",
    "- **total_large_sharable_meals** - number of large sharable meals in that order, items of 0 cost are not counted [1]\n",
    "- **total_small_sharable_meals** - number of small sharable meals in that order, items of 0 cost are not counted [1]"
   ]
  },
  {
   "cell_type": "markdown",
   "metadata": {},
   "source": [
    "Most of these features we went on to use in our two models, and especialy they proved crucial for our Occasion model."
   ]
  },
  {
   "cell_type": "markdown",
   "metadata": {},
   "source": [
    "---"
   ]
  },
  {
   "cell_type": "markdown",
   "metadata": {},
   "source": [
    "## 6. Models"
   ]
  },
  {
   "cell_type": "markdown",
   "metadata": {},
   "source": [
    "### 6.1 Guest Count Model"
   ]
  },
  {
   "cell_type": "markdown",
   "metadata": {},
   "source": [
    "As mentioned above, we've used the data from the trusted bars as train & test sets."
   ]
  },
  {
   "cell_type": "markdown",
   "metadata": {},
   "source": [
    "Before applying a machine learning model to solve the task, the features we saw to be most meaningful were:\n",
    "- `total_orders_category_id_X`\n",
    "- `total_orders`\n",
    "- `max_items_per_step`\n",
    "- `total(_small/large(_sharable))_meals`"
   ]
  },
  {
   "cell_type": "markdown",
   "metadata": {},
   "source": [
    "#TODO - This current model is still in the works, and is the final part of our project. This will be updated in the final presentation."
   ]
  },
  {
   "cell_type": "markdown",
   "metadata": {},
   "source": [
    "### 6.2 Occasions Heuristics Model"
   ]
  },
  {
   "cell_type": "markdown",
   "metadata": {},
   "source": [
    "We conclude that since we dont have labeled data regarding the occasions, and after experimenting with a few unsupervised methods, we decided to create a heuristic model to predict the occasion type.  \n",
    "Since occasion types varies with respect to the GC we decided to split the tables into bins of GC. we split the data GC to four bins:\n",
    "* GC = 1\n",
    "* GC = 2\n",
    "* GC = 3-5\n",
    "* GC = 6 or more\n",
    "\n",
    "Each team member looked deeply into a particular bin, the bin owner learned through annotations of orders, what kind of occasions exist in this bin.  \n",
    "Eventually the bin owner wrote down a set of rules to determine given what kind of event goes on at the table, given a table order . \n",
    "\n"
   ]
  },
  {
   "cell_type": "markdown",
   "metadata": {},
   "source": [
    "#### To maintain intergrity of the model, each bin owner annotated a dev set and a test set. (50 tables dev and 25 test each, resulting in a total of 200 Dev and 100 Test Tables)\n",
    "#### the heuristic was based on tables from the dev set, and tested on the test set. \n",
    "## our average accuracy (on all bins and all occasions) rate reaches 90.5% on Dev, and 82% on Test."
   ]
  },
  {
   "cell_type": "markdown",
   "metadata": {},
   "source": [
    "-------------------------------"
   ]
  },
  {
   "cell_type": "markdown",
   "metadata": {},
   "source": [
    "### 6.2 continued, our final occasions"
   ]
  },
  {
   "cell_type": "markdown",
   "metadata": {},
   "source": [
    "#### Common Occasions to all bins:\n",
    "* **BREAKFAST**\n",
    "* **LUNCH**\n",
    "* **DINNER**\n",
    "* **DRINKING**\n",
    "* **UNKNOWN**"
   ]
  },
  {
   "cell_type": "markdown",
   "metadata": {},
   "source": [
    "### Occasions per GC Bins"
   ]
  },
  {
   "cell_type": "markdown",
   "metadata": {},
   "source": [
    "#### Category 1:\n",
    "*In addition to the common occasions*\n",
    "1. **MUNCH** - time of day must be `late_night`, contains only meals that are not large\n",
    "2. **CASUAL DRINK** - any time of day, ratio of food to drinks less than 1.5. up to 3 drinks can have <=1.2 L of beer volume.\n",
    "3. **NOT_1** - either too many items ordered in a single step, or \"kid\" in one of the titles.\n",
    "\n",
    "#### Category 2:\n",
    "*In addition to the common occasions*\n",
    "1. **ROMANTIC_DATE**\n",
    "2. **FANCY_DATE**\n",
    "3. **MALES_ONLY**\n",
    "4. **JUST_EATING**\n",
    "5. **BIRTHDAY**\n",
    "6. **KIDS**\n",
    "7. **NOT_2**\n",
    "\n",
    "#### Category 3-5:\n",
    "1. **FAMILY EVENT** - orders must contain kids dishes (order item title should be a kid dish)\n",
    "2. **SOCIAL GATHERING** - any time of day, table must contain shareable dishes and not too many large not sharable dishes\n",
    "3. **AFTER WORK** - a social gathering occurring after work hours (during the weekdays, around 15-18 pm)\n",
    "\n",
    "\n",
    "#### Category 6:\n",
    "##### party events occurs if the guest count is larger than 10\n",
    "1. **FAMILY EVENT**\n",
    "3. **SOCIAL GATHERING**\n",
    "4. **AFTER WORK**\n",
    "\n"
   ]
  },
  {
   "cell_type": "markdown",
   "metadata": {},
   "source": [
    "#### The following is our full data distributions on all occasions (running our classifier on the whole data)"
   ]
  },
  {
   "cell_type": "code",
   "execution_count": 36,
   "metadata": {},
   "outputs": [
    {
     "data": {
      "text/plain": [
       "DINNER              0.243324\n",
       "LUNCH               0.154026\n",
       "CASUAL_DRINK        0.118580\n",
       "UNK                 0.114266\n",
       "DRINKING            0.093926\n",
       "NOT_1               0.057078\n",
       "FAMILY_EVENT        0.052430\n",
       "JUST_EATING         0.048152\n",
       "FANCY_DATE          0.021998\n",
       "SOCIAL_GATHERING    0.018557\n",
       "Name: occasion, dtype: float64"
      ]
     },
     "execution_count": 36,
     "metadata": {},
     "output_type": "execute_result"
    }
   ],
   "source": [
    "hockey_occasions = pd.read_csv(\"hockey_occasions.csv\")\n",
    "valentine_occasions = pd.read_csv(\"valentine_occasions.csv\")\n",
    "silvester_occasions = pd.read_csv(\"silvester_occasions.csv\")\n",
    "occasions = pd.concat([hockey_occasions, valentine_occasions, silvester_occasions], axis=0)\n",
    "occasions.occasion.value_counts(normalize=True)[:10]\n"
   ]
  },
  {
   "cell_type": "markdown",
   "metadata": {},
   "source": [
    "- 24% Dinner\n",
    "- 15% Lunch\n",
    "\n",
    "Total of ~40% for meals\n",
    "\n",
    "- 12% Casual Drink\n",
    "- 9% Drinking"
   ]
  },
  {
   "cell_type": "markdown",
   "metadata": {},
   "source": [
    "*We present further interesting insights in section 8*"
   ]
  },
  {
   "cell_type": "markdown",
   "metadata": {},
   "source": [
    "----"
   ]
  },
  {
   "cell_type": "markdown",
   "metadata": {},
   "source": [
    "## 7. Where we got stuck"
   ]
  },
  {
   "cell_type": "markdown",
   "metadata": {},
   "source": [
    "- `guest_count`\n",
    "- `order_item_time`"
   ]
  },
  {
   "cell_type": "markdown",
   "metadata": {},
   "source": [
    "One of the main hardships of this project was to understand the scope of the actual given data, and recognize the limitations the data provides.\n",
    "We ended up realizing Guest count was crucial, but spent a lot of time figuring out how to predict the Guest count given the data we had.\n",
    "\n",
    "Only after we were able to meet with the representatives from the company, did we get insights that they have into the data and what they do in their own work, as well as access to more features that greatly reduced the complexity of what we wanted to achieve, such as the order_item_time that turned out to be crucial."
   ]
  },
  {
   "cell_type": "markdown",
   "metadata": {},
   "source": [
    "Just getting to the point where we realized we need to split the work into two separate goals that seemed more feasible, took quite a lot of time to get to. We believe that clear communication with the company from the beginning, and if they were able to grant us access quicker to all parts of the data we would have saved from work."
   ]
  },
  {
   "cell_type": "markdown",
   "metadata": {},
   "source": [
    "All in all the actual work process was an extremely important experience, and understanding how to relate your findings, as well as your direction and the hardships is important for the success of a project."
   ]
  },
  {
   "cell_type": "markdown",
   "metadata": {},
   "source": [
    "----\n"
   ]
  },
  {
   "cell_type": "markdown",
   "metadata": {},
   "source": [
    "## 8. Insights and Discussions"
   ]
  },
  {
   "cell_type": "markdown",
   "metadata": {},
   "source": [
    "### there are dozens of data analysis that can be done on this data, we have picked some to share with you that the company people themselves seemed to really appreciate"
   ]
  },
  {
   "cell_type": "markdown",
   "metadata": {},
   "source": [
    "## Insights into the differences between the bins of guest count - how do different tables look like when the number of people at the table differs"
   ]
  },
  {
   "cell_type": "code",
   "execution_count": 40,
   "metadata": {},
   "outputs": [],
   "source": [
    "hockey = pd.read_csv(\"../data/hockey_3_text_processed.csv\")\n",
    "silvester = pd.read_csv(\"../data/silvester_3_text_processed.csv\")\n",
    "valentine = pd.read_csv(\"../data/valentine_3_text_processed.csv\")\n",
    "hockey = hockey[~(hockey.guest_count == 0)]\n",
    "silvester = silvester[~(silvester.guest_count == 0)]\n",
    "valentine = valentine[~(valentine.guest_count == 0)]\n",
    "data = pd.concat([hockey, silvester, valentine], axis=0)\n",
    "dfs = {\n",
    "    '1'   : data[data.guest_count == 1],\n",
    "    '2'   : data[data.guest_count == 2],\n",
    "    '3-5' : data[(data.guest_count >= 3) & (data.guest_count <= 5)],\n",
    "    '6+'  : data[data.guest_count >= 6]\n",
    "}"
   ]
  },
  {
   "cell_type": "code",
   "execution_count": 44,
   "metadata": {},
   "outputs": [],
   "source": [
    "bins = ['1', '2', '3-5', '6+']"
   ]
  },
  {
   "cell_type": "code",
   "execution_count": 46,
   "metadata": {},
   "outputs": [
    {
     "data": {
      "image/png": "[encoded data removed]",
      "text/plain": [
       "<Figure size 864x864 with 4 Axes>"
      ]
     },
     "metadata": {
      "needs_background": "light"
     },
     "output_type": "display_data"
    }
   ],
   "source": [
    "import matplotlib.pyplot as plt\n",
    "import seaborn as sns\n",
    "plt.rcParams['figure.figsize'] = [12, 12]\n",
    "\n",
    "order = ['breakfast', 'lunch', 'afternoon', 'hang_out', 'dinner', 'night']\n",
    "\n",
    "fig, axes = plt.subplots(2, 2)\n",
    "axes = axes.flatten()\n",
    "\n",
    "for i in range(len(bins)):\n",
    "    bin = bins[i]\n",
    "    sns.countplot(x='period_of_day', data=dfs[bin], order=order, ax=axes[i])\n",
    "    axes[i].title.set_text('Bin ' + bin)"
   ]
  },
  {
   "cell_type": "markdown",
   "metadata": {},
   "source": [
    "#### Notice that bin 1 goes out to eat more around hand_gout and night time than the other bins, while eating out at lunch less than the rest of the bins, also Bin 1 eats out in the afternoons more than the rest.\n",
    "#### Most of the other bins show similar treands for the other times of the day."
   ]
  },
  {
   "cell_type": "markdown",
   "metadata": {},
   "source": [
    "### Days of the week based on the Guest count bins"
   ]
  },
  {
   "cell_type": "code",
   "execution_count": 48,
   "metadata": {},
   "outputs": [
    {
     "data": {
      "image/png": "[encoded data removed]",
      "text/plain": [
       "<Figure size 864x864 with 4 Axes>"
      ]
     },
     "metadata": {
      "needs_background": "light"
     },
     "output_type": "display_data"
    }
   ],
   "source": [
    "fig, axes = plt.subplots(2, 2)\n",
    "axes = axes.flatten()\n",
    "order = ['Sunday', 'Monday', 'Tuesday', 'Wednesday', 'Thursday', 'Friday', 'Saturday']\n",
    "\n",
    "for i in range(len(bins)):\n",
    "    bin = bins[i]\n",
    "    sns.countplot(x='order_day_of_week', data=dfs[bin], order=order,ax=axes[i])\n",
    "    axes[i].title.set_text('Bin ' + bin)"
   ]
  },
  {
   "cell_type": "markdown",
   "metadata": {},
   "source": [
    "### Unsurprisingly, it seems like the big groups hangout more on sundays and fridays, whereas for bings 1 & 2 the more common days are thursdays and fridays.\n",
    "#### for bin 1 it seems that almost all days other than friday and thursday are pretty evenly spread out."
   ]
  },
  {
   "cell_type": "markdown",
   "metadata": {},
   "source": [
    "--------------------------------"
   ]
  },
  {
   "cell_type": "markdown",
   "metadata": {},
   "source": [
    "## lets look at the differences between our occasions with respect to bins."
   ]
  },
  {
   "cell_type": "markdown",
   "metadata": {},
   "source": [
    "### Bin 1"
   ]
  },
  {
   "cell_type": "code",
   "execution_count": 50,
   "metadata": {},
   "outputs": [
    {
     "data": {
      "image/png": "[encoded data removed]",
      "text/plain": [
       "<Figure size 576x432 with 1 Axes>"
      ]
     },
     "metadata": {
      "needs_background": "light"
     },
     "output_type": "display_data"
    }
   ],
   "source": [
    "occ_dfs = {\n",
    "    '1'   : occasions[occasions.guest_count == 1],\n",
    "    '2'   : occasions[occasions.guest_count == 2],\n",
    "    '3-5' : occasions[(occasions.guest_count >= 3) & (occasions.guest_count <= 5)],\n",
    "    '6+'  : occasions[occasions.guest_count >= 6]\n",
    "}\n",
    "plt.rcParams['figure.figsize'] = [8, 6]\n",
    "\n",
    "ax = sns.countplot(x='occasion', data=occ_dfs['1'])\n",
    "ax.set_xticklabels(ax.get_xticklabels(), rotation=40, ha=\"right\")\n",
    "plt.show()"
   ]
  },
  {
   "cell_type": "markdown",
   "metadata": {},
   "source": [
    "### Bin 2"
   ]
  },
  {
   "cell_type": "code",
   "execution_count": 52,
   "metadata": {},
   "outputs": [
    {
     "data": {
      "image/png": "[encoded data removed]",
      "text/plain": [
       "<Figure size 720x432 with 1 Axes>"
      ]
     },
     "metadata": {
      "needs_background": "light"
     },
     "output_type": "display_data"
    }
   ],
   "source": [
    "plt.rcParams['figure.figsize'] = [10, 6]\n",
    "\n",
    "ax = sns.countplot(x='occasion', data=occ_dfs['2'])\n",
    "ax.set_xticklabels(ax.get_xticklabels(), rotation=40, ha=\"right\")\n",
    "plt.show()"
   ]
  },
  {
   "cell_type": "markdown",
   "metadata": {},
   "source": [
    "### Bin 3-5"
   ]
  },
  {
   "cell_type": "code",
   "execution_count": 53,
   "metadata": {},
   "outputs": [
    {
     "data": {
      "image/png": "[encoded data removed]",
      "text/plain": [
       "<Figure size 720x432 with 1 Axes>"
      ]
     },
     "metadata": {
      "needs_background": "light"
     },
     "output_type": "display_data"
    }
   ],
   "source": [
    "plt.rcParams['figure.figsize'] = [10, 6]\n",
    "\n",
    "ax = sns.countplot(x='occasion', data=occ_dfs['3-5'])\n",
    "ax.set_xticklabels(ax.get_xticklabels(), rotation=40, ha=\"right\")\n",
    "plt.show()"
   ]
  },
  {
   "cell_type": "markdown",
   "metadata": {},
   "source": [
    "### Bin 6+"
   ]
  },
  {
   "cell_type": "code",
   "execution_count": 54,
   "metadata": {},
   "outputs": [
    {
     "data": {
      "image/png": "[encoded data removed]",
      "text/plain": [
       "<Figure size 720x432 with 1 Axes>"
      ]
     },
     "metadata": {
      "needs_background": "light"
     },
     "output_type": "display_data"
    }
   ],
   "source": [
    "plt.rcParams['figure.figsize'] = [10, 6]\n",
    "\n",
    "ax = sns.countplot(x='occasion', data=occ_dfs['6+'])\n",
    "ax.set_xticklabels(ax.get_xticklabels(), rotation=40, ha=\"right\")\n",
    "plt.show()"
   ]
  },
  {
   "cell_type": "markdown",
   "metadata": {},
   "source": [
    "### A lot of these distributions per bins made great sense for the company representatives, and in a way it justified the way we decided on our occasions, and the heuristics we chose to model."
   ]
  },
  {
   "cell_type": "markdown",
   "metadata": {},
   "source": [
    "### One surprising thing that the company didn't spend time looking into is the family category, they didn't even know of such occasion, or look for any type of meals with \"kids\" in them.\n",
    "### They already informed us that they will use the features they learned of the family event into their models."
   ]
  },
  {
   "cell_type": "code",
   "execution_count": 56,
   "metadata": {},
   "outputs": [],
   "source": [
    "family_occ = occasions[occasions.occasion == \"FAMILY_EVENT\"]\n",
    "family = data[data.order_id.isin(family_occ.order_id)]"
   ]
  },
  {
   "cell_type": "code",
   "execution_count": 57,
   "metadata": {},
   "outputs": [
    {
     "data": {
      "text/plain": [
       "2.0    0.629776\n",
       "4.0    0.263367\n",
       "1.0    0.056607\n",
       "3.0    0.028624\n",
       "6.0    0.017918\n",
       "5.0    0.003708\n",
       "Name: category_id, dtype: float64"
      ]
     },
     "execution_count": 57,
     "metadata": {},
     "output_type": "execute_result"
    }
   ],
   "source": [
    "family_dfs = {\n",
    "    '3-5' : family[(family.guest_count >= 3) & (family.guest_count <= 5)],\n",
    "    '6+'  : family[family.guest_count >= 6]\n",
    "}\n",
    "family.category_id.value_counts(normalize=True)"
   ]
  },
  {
   "cell_type": "markdown",
   "metadata": {},
   "source": [
    "### For example the fact that most family events contain very little alcohol is crucial for them to know."
   ]
  },
  {
   "cell_type": "markdown",
   "metadata": {},
   "source": [
    "### Another feature that they were very interested in was the \"dwell time\", meaning how long do groups stay at the table.\n"
   ]
  },
  {
   "cell_type": "code",
   "execution_count": 59,
   "metadata": {},
   "outputs": [
    {
     "data": {
      "image/png": "[encoded data removed]",
      "text/plain": [
       "<Figure size 720x432 with 4 Axes>"
      ]
     },
     "metadata": {
      "needs_background": "light"
     },
     "output_type": "display_data"
    }
   ],
   "source": [
    "drinking_occ = occasions[occasions.occasion == \"DRINKING\"]\n",
    "drinking = data[data.order_id.isin(drinking_occ.order_id)]\n",
    "drink_dfs = {\n",
    "    '1'   : drinking[drinking.guest_count == 1],\n",
    "    '2'   : drinking[drinking.guest_count == 2],\n",
    "    '3-5' : drinking[(drinking.guest_count >= 3) & (drinking.guest_count <= 5)],\n",
    "    '6+'  : drinking[drinking.guest_count >= 6]\n",
    "}\n",
    "fig, axes = plt.subplots(2, 2)\n",
    "axes = axes.flatten()\n",
    "fig.suptitle('dwell time distribution for drinking event', fontsize=16)\n",
    "for i in range(len(bins)):\n",
    "    bin = bins[i]\n",
    "    sns.distplot(drink_dfs[bin]['dwell_time'], bins=500, ax=axes[i])\n",
    "    axes[i].title.set_text('Bin ' + bin)\n",
    "    axes[i].set_xlim(0, 5)"
   ]
  },
  {
   "cell_type": "markdown",
   "metadata": {},
   "source": [
    "### This image was important for the company because it emphasized that large groups distribution tends to spread out longer."
   ]
  },
  {
   "cell_type": "markdown",
   "metadata": {},
   "source": [
    "#### we could also see the difference in large groups when looking at family events."
   ]
  },
  {
   "cell_type": "code",
   "execution_count": 63,
   "metadata": {},
   "outputs": [
    {
     "ename": "NameError",
     "evalue": "name 'family_bins' is not defined",
     "output_type": "error",
     "traceback": [
      "\u001b[0;31m---------------------------------------------------------------------------\u001b[0m",
      "\u001b[0;31mNameError\u001b[0m                                 Traceback (most recent call last)",
      "\u001b[0;32m<ipython-input-63-2174b08464ee>\u001b[0m in \u001b[0;36m<module>\u001b[0;34m\u001b[0m\n\u001b[1;32m      5\u001b[0m     \u001b[0;34m'6+'\u001b[0m  \u001b[0;34m:\u001b[0m \u001b[0mfamily\u001b[0m\u001b[0;34m[\u001b[0m\u001b[0mfamily\u001b[0m\u001b[0;34m.\u001b[0m\u001b[0mguest_count\u001b[0m \u001b[0;34m>=\u001b[0m \u001b[0;36m6\u001b[0m\u001b[0;34m]\u001b[0m\u001b[0;34m\u001b[0m\u001b[0;34m\u001b[0m\u001b[0m\n\u001b[1;32m      6\u001b[0m }\n\u001b[0;32m----> 7\u001b[0;31m \u001b[0;32mfor\u001b[0m \u001b[0mi\u001b[0m \u001b[0;32min\u001b[0m \u001b[0mrange\u001b[0m\u001b[0;34m(\u001b[0m\u001b[0mlen\u001b[0m\u001b[0;34m(\u001b[0m\u001b[0mfamily_bins\u001b[0m\u001b[0;34m)\u001b[0m\u001b[0;34m)\u001b[0m\u001b[0;34m:\u001b[0m\u001b[0;34m\u001b[0m\u001b[0;34m\u001b[0m\u001b[0m\n\u001b[0m\u001b[1;32m      8\u001b[0m     \u001b[0mbin\u001b[0m \u001b[0;34m=\u001b[0m \u001b[0mfamily_bins\u001b[0m\u001b[0;34m[\u001b[0m\u001b[0mi\u001b[0m\u001b[0;34m]\u001b[0m\u001b[0;34m\u001b[0m\u001b[0;34m\u001b[0m\u001b[0m\n\u001b[1;32m      9\u001b[0m     \u001b[0msns\u001b[0m\u001b[0;34m.\u001b[0m\u001b[0mdistplot\u001b[0m\u001b[0;34m(\u001b[0m\u001b[0mfamily_dfs\u001b[0m\u001b[0;34m[\u001b[0m\u001b[0mbin\u001b[0m\u001b[0;34m]\u001b[0m\u001b[0;34m[\u001b[0m\u001b[0;34m'dwell_time'\u001b[0m\u001b[0;34m]\u001b[0m\u001b[0;34m,\u001b[0m \u001b[0mbins\u001b[0m\u001b[0;34m=\u001b[0m\u001b[0;36m500\u001b[0m\u001b[0;34m,\u001b[0m \u001b[0max\u001b[0m\u001b[0;34m=\u001b[0m\u001b[0maxes\u001b[0m\u001b[0;34m[\u001b[0m\u001b[0mi\u001b[0m\u001b[0;34m]\u001b[0m\u001b[0;34m)\u001b[0m\u001b[0;34m\u001b[0m\u001b[0;34m\u001b[0m\u001b[0m\n",
      "\u001b[0;31mNameError\u001b[0m: name 'family_bins' is not defined"
     ]
    },
    {
     "data": {
      "image/png": "[encoded data removed]",
      "text/plain": [
       "<Figure size 720x432 with 2 Axes>"
      ]
     },
     "metadata": {
      "needs_background": "light"
     },
     "output_type": "display_data"
    }
   ],
   "source": [
    "\n",
    "fig, axes = plt.subplots(1, 2)\n",
    "axes = axes.flatten()\n",
    "family_dfs = {\n",
    "    '3-5' : family[(family.guest_count >= 3) & (family.guest_count <= 5)],\n",
    "    '6+'  : family[family.guest_count >= 6]\n",
    "}\n",
    "for i in range(len(family_bins)):\n",
    "    bin = family_bins[i]\n",
    "    sns.distplot(family_dfs[bin]['dwell_time'], bins=500, ax=axes[i])\n",
    "    axes[i].title.set_text('Bin ' + bin)\n",
    "    axes[i].set_xlim(0, 5)"
   ]
  },
  {
   "cell_type": "code",
   "execution_count": null,
   "metadata": {},
   "outputs": [],
   "source": []
  },
  {
   "cell_type": "markdown",
   "metadata": {},
   "source": [
    "###### Underneath you may see the dwell time distribution for the drinking event per bin, this is an impressive insight since you can clearly see that the people at the table the more time they spend at the bar"
   ]
  },
  {
   "cell_type": "code",
   "execution_count": 16,
   "metadata": {},
   "outputs": [
    {
     "data": {
      "image/png": "[encoded data removed]",
      "text/plain": [
       "<IPython.core.display.Image object>"
      ]
     },
     "execution_count": 16,
     "metadata": {},
     "output_type": "execute_result"
    }
   ],
   "source": [
    "from IPython.display import Image\n",
    "Image(\"image1.png\")"
   ]
  }
 ],
 "metadata": {
  "kernelspec": {
   "display_name": "Python 3",
   "language": "python",
   "name": "python3"
  },
  "language_info": {
   "codemirror_mode": {
    "name": "ipython",
    "version": 3
   },
   "file_extension": ".py",
   "mimetype": "text/x-python",
   "name": "python",
   "nbconvert_exporter": "python",
   "pygments_lexer": "ipython3",
   "version": "3.6.8"
  }
 },
 "nbformat": 4,
 "nbformat_minor": 2
}
