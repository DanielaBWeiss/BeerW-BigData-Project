{
 "cells": [
  {
   "cell_type": "markdown",
   "metadata": {},
   "source": [
    "# Occasion Classfier using Guest Count Bins and Heuristics"
   ]
  },
  {
   "cell_type": "code",
   "execution_count": 2,
   "metadata": {},
   "outputs": [],
   "source": [
    "import pandas as pd\n",
    "import seaborn as sns\n",
    "import matplotlib.pyplot as plt\n",
    "from sklearn.metrics import confusion_matrix\n",
    "from sklearn.metrics import classification_report"
   ]
  },
  {
   "cell_type": "code",
   "execution_count": 3,
   "metadata": {},
   "outputs": [],
   "source": [
    "import os\n",
    "import sys\n",
    "module_path = os.path.abspath(os.path.join('..'))\n",
    "sys.path.append(module_path+\"/heuristics\")"
   ]
  },
  {
   "cell_type": "code",
   "execution_count": 26,
   "metadata": {},
   "outputs": [
    {
     "data": {
      "text/plain": [
       "'/Users/danielastepanov/Documents/Bar-Ilan/b_semester18/DS_project/BeerW-BigData-Project'"
      ]
     },
     "execution_count": 26,
     "metadata": {},
     "output_type": "execute_result"
    }
   ],
   "source": [
    "module_path"
   ]
  },
  {
   "cell_type": "code",
   "execution_count": 4,
   "metadata": {},
   "outputs": [],
   "source": [
    "from occasion_classifier import shrink_orders_to_table\n",
    "from occasion_classifier import classify"
   ]
  },
  {
   "cell_type": "code",
   "execution_count": 5,
   "metadata": {},
   "outputs": [],
   "source": [
    "hockey = pd.read_csv(\"../data/hockey_3_text_processed.csv\")\n",
    "silvester = pd.read_csv(\"../data/silvester_3_text_processed.csv\")\n",
    "valentine = pd.read_csv(\"../data/valentine_3_text_processed.csv\")\n",
    "hockey = hockey[~(hockey.guest_count == 0)]\n",
    "silvester = silvester[~(silvester.guest_count == 0)]\n",
    "valentine = valentine[~(valentine.guest_count == 0)]\n",
    "data = pd.concat([hockey, silvester, valentine], axis=0)"
   ]
  },
  {
   "cell_type": "markdown",
   "metadata": {},
   "source": [
    "## Using clean data (pre-processed) and bars we deemed trsutworthy, we use the Guest_Count feature to divide our orders into the following bins:\n",
    "\n",
    "### Bins:\n",
    "### - 1\n",
    "### - 2\n",
    "### - 3-5\n",
    "### - 6+"
   ]
  },
  {
   "cell_type": "markdown",
   "metadata": {},
   "source": [
    "## For each bin, we describe the chosen occasions"
   ]
  },
  {
   "cell_type": "markdown",
   "metadata": {},
   "source": [
    "## Common Occasions to all bins:\n",
    "* **BREAKFAST**\n",
    "* **LUNCH**\n",
    "* **DINNER**\n",
    "* **DRINKING**\n",
    "* **UNKNOWN**"
   ]
  },
  {
   "cell_type": "markdown",
   "metadata": {},
   "source": [
    "### Category 1:\n",
    "*In addition to the common occasions*\n",
    "1. **MUNCH** - time of day must be `late_night`, contains only meals that are not large\n",
    "2. **CASUAL DRINK** - any time of day, ratio of food to drinks less than 1.5. up to 3 drinks can have <=1.2 L of beer volume.\n",
    "3. **NOT_1** - either too many items ordered in a single step, or \"kid\" in one of the titles."
   ]
  },
  {
   "cell_type": "markdown",
   "metadata": {},
   "source": [
    "### Category 2:\n",
    "*In addition to the common occasions*\n",
    "1. **ROMANTIC_DATE**\n",
    "2. **FANCY_DATE**\n",
    "3. **MALES_ONLY**\n",
    "4. **JUST_EATING**\n",
    "5. **BIRTHDAY**\n",
    "6. **KIDS**\n",
    "7. **NOT_2**"
   ]
  },
  {
   "cell_type": "markdown",
   "metadata": {},
   "source": [
    "### Category 3-5:\n",
    "1. **FAMILY EVENT**\n",
    "2. **SOCIAL GATHERING**\n",
    "3. **AFTER WORK**"
   ]
  },
  {
   "cell_type": "markdown",
   "metadata": {},
   "source": [
    "### Category 6:\n",
    "##### party events occurs if the guest count is larger than 10\n",
    "1. **FAMILY EVENT**\n",
    "3. **SOCIAL GATHERING**\n",
    "4. **AFTER WORK**"
   ]
  },
  {
   "cell_type": "markdown",
   "metadata": {},
   "source": [
    "------------------------------------------"
   ]
  },
  {
   "cell_type": "markdown",
   "metadata": {},
   "source": [
    "## We annotated ~50 tables for dev, and 25 for test, for each category bin.\n"
   ]
  },
  {
   "cell_type": "markdown",
   "metadata": {},
   "source": [
    "# DEV results"
   ]
  },
  {
   "cell_type": "code",
   "execution_count": 6,
   "metadata": {},
   "outputs": [],
   "source": [
    "import csv\n",
    "\n",
    "results = {}\n",
    "total_correct = 0\n",
    "total_incorrect = 0\n",
    "with open(\"../heuristics/dev.csv\") as f:\n",
    "    csv_reader = csv.reader(f, delimiter=',')\n",
    "    current_cat = 0\n",
    "    table_results = {}\n",
    "    for row in csv_reader:\n",
    "        if len(row) == 1:\n",
    "            current_cat = row[0]\n",
    "            results[current_cat] = {}\n",
    "            table_results[current_cat] = []\n",
    "            results[current_cat][\"correct\"] = 0\n",
    "            results[current_cat][\"incorrect\"] = 0\n",
    "            continue\n",
    "            \n",
    "        orders = data[data.order_id == int(row[0])]\n",
    "        table = shrink_orders_to_table(orders)\n",
    "        pred_occasion = classify(table)\n",
    "        table_results[current_cat].append((int(row[0]), row[1], pred_occasion))\n",
    "        if pred_occasion == row[1]:\n",
    "            results[current_cat][\"correct\"] += 1\n",
    "            total_correct += 1\n",
    "        else:\n",
    "            results[current_cat][\"incorrect\"] += 1\n",
    "            total_incorrect += 1\n"
   ]
  },
  {
   "cell_type": "markdown",
   "metadata": {},
   "source": [
    "# Accumulative Accuracy for all guest count bins for all occasions:\n"
   ]
  },
  {
   "cell_type": "code",
   "execution_count": 6,
   "metadata": {},
   "outputs": [
    {
     "data": {
      "text/plain": [
       "85.0"
      ]
     },
     "execution_count": 6,
     "metadata": {},
     "output_type": "execute_result"
    }
   ],
   "source": [
    "total_correct/(total_incorrect + total_correct)*100"
   ]
  },
  {
   "cell_type": "markdown",
   "metadata": {},
   "source": [
    "## Accuracy for Category 1"
   ]
  },
  {
   "cell_type": "code",
   "execution_count": 7,
   "metadata": {},
   "outputs": [
    {
     "data": {
      "text/plain": [
       "0.9215686274509803"
      ]
     },
     "execution_count": 7,
     "metadata": {},
     "output_type": "execute_result"
    }
   ],
   "source": [
    "results['1'][\"correct\"]/(results['1'][\"correct\"] + results['1'][\"incorrect\"])"
   ]
  },
  {
   "cell_type": "markdown",
   "metadata": {},
   "source": [
    "## Accuracy for Category 3-5"
   ]
  },
  {
   "cell_type": "code",
   "execution_count": 8,
   "metadata": {},
   "outputs": [
    {
     "data": {
      "text/plain": [
       "0.85"
      ]
     },
     "execution_count": 8,
     "metadata": {},
     "output_type": "execute_result"
    }
   ],
   "source": [
    "results['3-5'][\"correct\"]/(results['3-5'][\"correct\"] + results['3-5'][\"incorrect\"])"
   ]
  },
  {
   "cell_type": "markdown",
   "metadata": {},
   "source": [
    "## Accuracy for Category 6"
   ]
  },
  {
   "cell_type": "code",
   "execution_count": 9,
   "metadata": {},
   "outputs": [
    {
     "data": {
      "text/plain": [
       "0.8571428571428571"
      ]
     },
     "execution_count": 9,
     "metadata": {},
     "output_type": "execute_result"
    }
   ],
   "source": [
    "results['6'][\"correct\"]/(results['6'][\"correct\"] + results['6'][\"incorrect\"])"
   ]
  },
  {
   "cell_type": "markdown",
   "metadata": {},
   "source": [
    "----------------------------------------------"
   ]
  },
  {
   "cell_type": "markdown",
   "metadata": {},
   "source": [
    "# TEST Results"
   ]
  },
  {
   "cell_type": "code",
   "execution_count": 7,
   "metadata": {},
   "outputs": [],
   "source": [
    "import csv\n",
    "\n",
    "results = {}\n",
    "total_correct = 0\n",
    "total_incorrect = 0\n",
    "with open(\"../heuristics/test.csv\") as f:\n",
    "    csv_reader = csv.reader(f, delimiter=',')\n",
    "    current_cat = 0\n",
    "    table_results = {}\n",
    "    for row in csv_reader:\n",
    "        if len(row) == 1:\n",
    "            current_cat = row[0]\n",
    "            results[current_cat] = {}\n",
    "            table_results[current_cat] = []\n",
    "            results[current_cat][\"correct\"] = 0\n",
    "            results[current_cat][\"incorrect\"] = 0\n",
    "            continue\n",
    "            \n",
    "        orders = data[data.order_id == int(row[0])]\n",
    "        table = shrink_orders_to_table(orders)\n",
    "        pred_occasion = classify(table)\n",
    "        table_results[current_cat].append((int(row[0]), row[1], pred_occasion))\n",
    "        if pred_occasion == row[1]:\n",
    "            results[current_cat][\"correct\"] += 1\n",
    "            total_correct += 1\n",
    "        else:\n",
    "            results[current_cat][\"incorrect\"] += 1\n",
    "            total_incorrect += 1\n"
   ]
  },
  {
   "cell_type": "markdown",
   "metadata": {},
   "source": [
    "# Accumulative TEST Accuracy for all guest count bins for all occasions:\n"
   ]
  },
  {
   "cell_type": "code",
   "execution_count": 11,
   "metadata": {},
   "outputs": [
    {
     "data": {
      "text/plain": [
       "82.55813953488372"
      ]
     },
     "execution_count": 11,
     "metadata": {},
     "output_type": "execute_result"
    }
   ],
   "source": [
    "total_correct/(total_incorrect + total_correct)*100"
   ]
  },
  {
   "cell_type": "markdown",
   "metadata": {},
   "source": [
    "## Accuracy for Category 1"
   ]
  },
  {
   "cell_type": "code",
   "execution_count": 12,
   "metadata": {},
   "outputs": [
    {
     "data": {
      "text/plain": [
       "0.7916666666666666"
      ]
     },
     "execution_count": 12,
     "metadata": {},
     "output_type": "execute_result"
    }
   ],
   "source": [
    "results['1'][\"correct\"]/(results['1'][\"correct\"] + results['1'][\"incorrect\"])"
   ]
  },
  {
   "cell_type": "markdown",
   "metadata": {},
   "source": [
    "## Accuracy for Category 3-5"
   ]
  },
  {
   "cell_type": "code",
   "execution_count": 13,
   "metadata": {},
   "outputs": [
    {
     "data": {
      "text/plain": [
       "0.8666666666666667"
      ]
     },
     "execution_count": 13,
     "metadata": {},
     "output_type": "execute_result"
    }
   ],
   "source": [
    "results['3-5'][\"correct\"]/(results['3-5'][\"correct\"] + results['3-5'][\"incorrect\"])"
   ]
  },
  {
   "cell_type": "markdown",
   "metadata": {},
   "source": [
    "## Accuracy for Category 6"
   ]
  },
  {
   "cell_type": "code",
   "execution_count": 14,
   "metadata": {},
   "outputs": [
    {
     "data": {
      "text/plain": [
       "0.8125"
      ]
     },
     "execution_count": 14,
     "metadata": {},
     "output_type": "execute_result"
    }
   ],
   "source": [
    "results['6'][\"correct\"]/(results['6'][\"correct\"] + results['6'][\"incorrect\"])"
   ]
  },
  {
   "cell_type": "markdown",
   "metadata": {},
   "source": [
    "## Accuracies for test are 80 and above. To really be trustworthy of these numbers, a much larger test set should be collected."
   ]
  },
  {
   "cell_type": "markdown",
   "metadata": {},
   "source": [
    "------------------------------------"
   ]
  },
  {
   "cell_type": "markdown",
   "metadata": {},
   "source": [
    "## Lets try our classifiers on each dataset"
   ]
  },
  {
   "cell_type": "markdown",
   "metadata": {},
   "source": [
    "# Hockey"
   ]
  },
  {
   "cell_type": "code",
   "execution_count": null,
   "metadata": {},
   "outputs": [],
   "source": [
    "'''\n",
    "hockey_ids = list(hockey.order_id.value_counts().keys())\n",
    "results = {}\n",
    "current_cat = 0\n",
    "hockey_results = []\n",
    "hockey_tables = shrink_orders_to_table(hockey)\n",
    "for order in hockey_ids:\n",
    "    table = hockey_tables[hockey_tables.index == order]\n",
    "    pred_occasion = classify(table)\n",
    "    hockey_results.append((order, table.guest_count.iloc[0], pred_occasion))\n",
    "hockey_results = pd.DataFrame(hockey_results, columns=[\"order_id\", \"guest_count\", \"occasion\"])\n",
    "hockey_results.to_csv(\"hockey_occasions.csv\", index=False)\n",
    "'''"
   ]
  },
  {
   "cell_type": "code",
   "execution_count": 7,
   "metadata": {},
   "outputs": [],
   "source": [
    "hockey_occasions = pd.read_csv(\"hockey_occasions.csv\")"
   ]
  },
  {
   "cell_type": "markdown",
   "metadata": {},
   "source": [
    "# Valentine"
   ]
  },
  {
   "cell_type": "code",
   "execution_count": null,
   "metadata": {},
   "outputs": [],
   "source": [
    "'''\n",
    "valentine_ids = list(valentine.order_id.value_counts().keys())\n",
    "results = {}\n",
    "current_cat = 0\n",
    "val_results = []\n",
    "valentine_tables = shrink_orders_to_table(valentine)\n",
    "for order in valentine_ids:\n",
    "    table = valentine_tables[valentine_tables.index == order]\n",
    "    pred_occasion = classify(table)\n",
    "    val_results.append((order, table.guest_count.iloc[0], pred_occasion))\n",
    "val_results = pd.DataFrame(val_results, columns=[\"order_id\", \"guest_count\", \"occasion\"])\n",
    "val_results.to_csv(\"valentine_occasions.csv\", index=False)\n",
    "'''"
   ]
  },
  {
   "cell_type": "code",
   "execution_count": 8,
   "metadata": {},
   "outputs": [],
   "source": [
    "valentine_occasions = pd.read_csv(\"valentine_occasions.csv\")"
   ]
  },
  {
   "cell_type": "markdown",
   "metadata": {},
   "source": [
    "# Silvester"
   ]
  },
  {
   "cell_type": "code",
   "execution_count": null,
   "metadata": {},
   "outputs": [],
   "source": [
    "'''\n",
    "silvester_ids = list(silvester.order_id.value_counts().keys())\n",
    "results = {}\n",
    "current_cat = 0\n",
    "sil_results = []\n",
    "sil_tables = shrink_orders_to_table(silvester)\n",
    "for order in silvester_ids:\n",
    "    table = sil_tables[sil_tables.index == order]\n",
    "    pred_occasion = classify(table)\n",
    "    sil_results.append((order, table.guest_count.iloc[0], pred_occasion))\n",
    "sil_results = pd.DataFrame(sil_results, columns=[\"order_id\", \"guest_count\", \"occasion\"])\n",
    "sil_results.to_csv(\"silvester_occasions.csv\", index=False)\n",
    "'''"
   ]
  },
  {
   "cell_type": "code",
   "execution_count": 9,
   "metadata": {},
   "outputs": [],
   "source": [
    "silvester_occasions = pd.read_csv(\"silvester_occasions.csv\")"
   ]
  },
  {
   "cell_type": "markdown",
   "metadata": {},
   "source": [
    "# Guest count distributions"
   ]
  },
  {
   "cell_type": "code",
   "execution_count": 10,
   "metadata": {},
   "outputs": [],
   "source": [
    "bins = ['1', '2', '3-5', '6+']"
   ]
  },
  {
   "cell_type": "markdown",
   "metadata": {},
   "source": [
    "### Hockey"
   ]
  },
  {
   "cell_type": "code",
   "execution_count": 11,
   "metadata": {},
   "outputs": [
    {
     "name": "stdout",
     "output_type": "stream",
     "text": [
      "Total number of entries for bin 1: 156812 (36.51%)\n",
      "Total number of entries for bin 2: 122157 (28.44%)\n",
      "Total number of entries for bin 3-5: 109980 (25.61%)\n",
      "Total number of entries for bin 6+: 40549 (9.44%)\n"
     ]
    }
   ],
   "source": [
    "hock_dfs = {\n",
    "    '1'   : hockey[hockey.guest_count == 1],\n",
    "    '2'   : hockey[hockey.guest_count == 2],\n",
    "    '3-5' : hockey[(hockey.guest_count >= 3) & (hockey.guest_count <= 5)],\n",
    "    '6+'  : hockey[hockey.guest_count >= 6]\n",
    "}\n",
    "for bin in bins:\n",
    "    print(\"Total number of entries for bin {}: {} ({}%)\".format(bin, len(hock_dfs[bin]), round(100 * len(hock_dfs[bin]) / len(hockey), 2)))"
   ]
  },
  {
   "cell_type": "markdown",
   "metadata": {},
   "source": [
    "### Valentine"
   ]
  },
  {
   "cell_type": "code",
   "execution_count": 12,
   "metadata": {},
   "outputs": [
    {
     "name": "stdout",
     "output_type": "stream",
     "text": [
      "Total number of entries for bin 1: 46896 (30.8%)\n",
      "Total number of entries for bin 2: 53640 (35.23%)\n",
      "Total number of entries for bin 3-5: 40068 (26.32%)\n",
      "Total number of entries for bin 6+: 11649 (7.65%)\n"
     ]
    }
   ],
   "source": [
    "val_dfs = {\n",
    "    '1'   : valentine[valentine.guest_count == 1],\n",
    "    '2'   : valentine[valentine.guest_count == 2],\n",
    "    '3-5' : valentine[(valentine.guest_count >= 3) & (valentine.guest_count <= 5)],\n",
    "    '6+'  : valentine[valentine.guest_count >= 6]\n",
    "}\n",
    "for bin in bins:\n",
    "    print(\"Total number of entries for bin {}: {} ({}%)\".format(bin, len(val_dfs[bin]), round(100 * len(val_dfs[bin]) / len(valentine), 2)))"
   ]
  },
  {
   "cell_type": "markdown",
   "metadata": {},
   "source": [
    "### Silvester"
   ]
  },
  {
   "cell_type": "code",
   "execution_count": 13,
   "metadata": {},
   "outputs": [
    {
     "name": "stdout",
     "output_type": "stream",
     "text": [
      "Total number of entries for bin 1: 111215 (28.72%)\n",
      "Total number of entries for bin 2: 112265 (28.99%)\n",
      "Total number of entries for bin 3-5: 125843 (32.5%)\n",
      "Total number of entries for bin 6+: 37901 (9.79%)\n"
     ]
    }
   ],
   "source": [
    "sil_dfs = {\n",
    "    '1'   : silvester[silvester.guest_count == 1],\n",
    "    '2'   : silvester[silvester.guest_count == 2],\n",
    "    '3-5' : silvester[(silvester.guest_count >= 3) & (silvester.guest_count <= 5)],\n",
    "    '6+'  : silvester[silvester.guest_count >= 6]\n",
    "}\n",
    "for bin in bins:\n",
    "    print(\"Total number of entries for bin {}: {} ({}%)\".format(bin, len(sil_dfs[bin]), round(100 * len(sil_dfs[bin]) / len(silvester), 2)))"
   ]
  },
  {
   "cell_type": "markdown",
   "metadata": {},
   "source": [
    "# Occasions Distribution"
   ]
  },
  {
   "cell_type": "code",
   "execution_count": 14,
   "metadata": {},
   "outputs": [
    {
     "data": {
      "text/plain": [
       "DINNER              0.233938\n",
       "LUNCH               0.155577\n",
       "CASUAL_DRINK        0.139844\n",
       "UNK                 0.115337\n",
       "DRINKING            0.105792\n",
       "NOT_1               0.056064\n",
       "JUST_EATING         0.040909\n",
       "FAMILY_EVENT        0.039708\n",
       "SOCIAL_GATHERING    0.018386\n",
       "FANCY_DATE          0.017842\n",
       "Name: occasion, dtype: float64"
      ]
     },
     "execution_count": 14,
     "metadata": {},
     "output_type": "execute_result"
    }
   ],
   "source": [
    "hockey_occasions.occasion.value_counts(normalize=True)[:10]"
   ]
  },
  {
   "cell_type": "code",
   "execution_count": 15,
   "metadata": {},
   "outputs": [
    {
     "data": {
      "text/plain": [
       "DINNER           0.254444\n",
       "LUNCH            0.165496\n",
       "UNK              0.113331\n",
       "CASUAL_DRINK     0.104685\n",
       "DRINKING         0.088431\n",
       "JUST_EATING      0.052877\n",
       "NOT_1            0.052262\n",
       "FAMILY_EVENT     0.043681\n",
       "FANCY_DATE       0.027232\n",
       "ROMANTIC_DATE    0.020432\n",
       "Name: occasion, dtype: float64"
      ]
     },
     "execution_count": 15,
     "metadata": {},
     "output_type": "execute_result"
    }
   ],
   "source": [
    "valentine_occasions.occasion.value_counts(normalize=True)[:10]"
   ]
  },
  {
   "cell_type": "code",
   "execution_count": 16,
   "metadata": {},
   "outputs": [
    {
     "data": {
      "text/plain": [
       "DINNER              0.250042\n",
       "LUNCH               0.147219\n",
       "UNK                 0.113357\n",
       "CASUAL_DRINK        0.098525\n",
       "DRINKING            0.081767\n",
       "FAMILY_EVENT        0.071732\n",
       "NOT_1               0.060379\n",
       "JUST_EATING         0.054987\n",
       "FANCY_DATE          0.024839\n",
       "SOCIAL_GATHERING    0.020376\n",
       "Name: occasion, dtype: float64"
      ]
     },
     "execution_count": 16,
     "metadata": {},
     "output_type": "execute_result"
    }
   ],
   "source": [
    "silvester_occasions.occasion.value_counts(normalize=True)[:10]"
   ]
  },
  {
   "cell_type": "markdown",
   "metadata": {},
   "source": [
    "### The distributiosn are quite similar, although a few notable differences. Casual drink appears 13% of the time under hockey, while its at 10 and 9 % in valentine and silvester.\n",
    "\n",
    "### Family event also appears at 7% under silvester, while remains at a 4 and 3% in hockey and valentine.\n",
    "\n",
    "### Dinner and lunch are the top two categories for all datasets.\n"
   ]
  },
  {
   "cell_type": "markdown",
   "metadata": {},
   "source": [
    "# Lets first look at the differences between our bins"
   ]
  },
  {
   "cell_type": "code",
   "execution_count": 17,
   "metadata": {},
   "outputs": [],
   "source": [
    "dfs = {\n",
    "    '1'   : data[data.guest_count == 1],\n",
    "    '2'   : data[data.guest_count == 2],\n",
    "    '3-5' : data[(data.guest_count >= 3) & (data.guest_count <= 5)],\n",
    "    '6+'  : data[data.guest_count >= 6]\n",
    "}"
   ]
  },
  {
   "cell_type": "code",
   "execution_count": 18,
   "metadata": {},
   "outputs": [
    {
     "data": {
      "image/png": "[encoded data removed]",
      "text/plain": [
       "<Figure size 864x864 with 4 Axes>"
      ]
     },
     "metadata": {
      "needs_background": "light"
     },
     "output_type": "display_data"
    }
   ],
   "source": [
    "plt.rcParams['figure.figsize'] = [12, 12]\n",
    "\n",
    "order = ['breakfast', 'lunch', 'afternoon', 'hang_out', 'dinner', 'night']\n",
    "\n",
    "fig, axes = plt.subplots(2, 2)\n",
    "axes = axes.flatten()\n",
    "\n",
    "for i in range(len(bins)):\n",
    "    bin = bins[i]\n",
    "    sns.countplot(x='period_of_day', data=dfs[bin], order=order, ax=axes[i])\n",
    "    axes[i].title.set_text('Bin ' + bin)"
   ]
  },
  {
   "cell_type": "markdown",
   "metadata": {},
   "source": [
    "#### Overall it seems that bin 1 goes out to eat more around hand_gout and night time than the other bins, while eating out at lunch less than the rest of the bins.\n",
    "#### Most of the other bins show similar treands for the other times of the day.\n"
   ]
  },
  {
   "cell_type": "code",
   "execution_count": 23,
   "metadata": {},
   "outputs": [
    {
     "data": {
      "image/png": "[encoded data removed]",
      "text/plain": [
       "<Figure size 864x864 with 4 Axes>"
      ]
     },
     "metadata": {
      "needs_background": "light"
     },
     "output_type": "display_data"
    }
   ],
   "source": [
    "fig, axes = plt.subplots(2, 2)\n",
    "axes = axes.flatten()\n",
    "order = ['Sunday', 'Monday', 'Tuesday', 'Wednesday', 'Thursday', 'Friday', 'Saturday']\n",
    "\n",
    "for i in range(len(bins)):\n",
    "    bin = bins[i]\n",
    "    sns.countplot(x='order_day_of_week', data=dfs[bin], order=order,ax=axes[i])\n",
    "    axes[i].title.set_text('Bin ' + bin)"
   ]
  },
  {
   "cell_type": "markdown",
   "metadata": {},
   "source": [
    "#### Unsurprisingly, it seems like the big groups hangout more on sundays and fridays, whereas for bings 1 & 2 the more common days are thursdays and fridays.\n",
    "#### for bin 1 it seems that almost all days other than friday and thursday are pretty evenly spread out."
   ]
  },
  {
   "cell_type": "markdown",
   "metadata": {},
   "source": [
    "## Lets look at a few Occasions"
   ]
  },
  {
   "cell_type": "markdown",
   "metadata": {},
   "source": [
    "# Drinking"
   ]
  },
  {
   "cell_type": "code",
   "execution_count": 27,
   "metadata": {},
   "outputs": [],
   "source": [
    "occasions = pd.concat([hockey_occasions, valentine_occasions, silvester_occasions],axis=0)\n",
    "drinking_occ = occasions[occasions.occasion == \"DRINKING\"]\n",
    "drinking = data[data.order_id.isin(drinking_occ.order_id)]"
   ]
  },
  {
   "cell_type": "code",
   "execution_count": 32,
   "metadata": {},
   "outputs": [],
   "source": [
    "drink_dfs = {\n",
    "    '1'   : drinking[drinking.guest_count == 1],\n",
    "    '2'   : drinking[drinking.guest_count == 2],\n",
    "    '3-5' : drinking[(drinking.guest_count >= 3) & (drinking.guest_count <= 5)],\n",
    "    '6+'  : drinking[drinking.guest_count >= 6]\n",
    "}"
   ]
  },
  {
   "cell_type": "code",
   "execution_count": 33,
   "metadata": {},
   "outputs": [
    {
     "data": {
      "image/png": "[encoded data removed]",
      "text/plain": [
       "<Figure size 864x864 with 4 Axes>"
      ]
     },
     "metadata": {
      "needs_background": "light"
     },
     "output_type": "display_data"
    }
   ],
   "source": [
    "plt.rcParams['figure.figsize'] = [12, 12]\n",
    "\n",
    "order = ['breakfast', 'lunch', 'afternoon', 'hang_out', 'dinner', 'night']\n",
    "\n",
    "fig, axes = plt.subplots(2, 2)\n",
    "axes = axes.flatten()\n",
    "\n",
    "for i in range(len(bins)):\n",
    "    bin = bins[i]\n",
    "    sns.countplot(x='period_of_day', data=drink_dfs[bin], order=order, ax=axes[i])\n",
    "    axes[i].title.set_text('Bin ' + bin)"
   ]
  },
  {
   "cell_type": "markdown",
   "metadata": {},
   "source": [
    "#### Looks like drinking times differ a bit between our bins. in the 3-5, we have \"night\" time as the most common tiem for drinking, while groups 6+ is dinner time.\n",
    "\n",
    "#### While bins 1 & 2 are more similar in their drinking times, afternoon and dinner are most common."
   ]
  },
  {
   "cell_type": "code",
   "execution_count": 35,
   "metadata": {},
   "outputs": [
    {
     "data": {
      "image/png": "[encoded data removed]",
      "text/plain": [
       "<Figure size 864x864 with 4 Axes>"
      ]
     },
     "metadata": {
      "needs_background": "light"
     },
     "output_type": "display_data"
    }
   ],
   "source": [
    "fig, axes = plt.subplots(2, 2)\n",
    "axes = axes.flatten()\n",
    "\n",
    "for i in range(len(bins)):\n",
    "    bin = bins[i]\n",
    "    sns.distplot(drink_dfs[bin]['dwell_time'], bins=500, ax=axes[i])\n",
    "    axes[i].title.set_text('Bin ' + bin)\n",
    "    axes[i].set_xlim(0, 5)"
   ]
  },
  {
   "cell_type": "code",
   "execution_count": 41,
   "metadata": {},
   "outputs": [
    {
     "data": {
      "text/html": [
       "<div>\n",
       "<style scoped>\n",
       "    .dataframe tbody tr th:only-of-type {\n",
       "        vertical-align: middle;\n",
       "    }\n",
       "\n",
       "    .dataframe tbody tr th {\n",
       "        vertical-align: top;\n",
       "    }\n",
       "\n",
       "    .dataframe thead th {\n",
       "        text-align: right;\n",
       "    }\n",
       "</style>\n",
       "<table border=\"1\" class=\"dataframe\">\n",
       "  <thead>\n",
       "    <tr style=\"text-align: right;\">\n",
       "      <th></th>\n",
       "      <th>bar_id</th>\n",
       "      <th>order_id</th>\n",
       "      <th>order_item_id</th>\n",
       "      <th>item_qty</th>\n",
       "      <th>sales_before_tax</th>\n",
       "      <th>sales_inc_tax</th>\n",
       "      <th>guest_count</th>\n",
       "      <th>category_id</th>\n",
       "      <th>beer_brand_id</th>\n",
       "      <th>beer_serving_type_id</th>\n",
       "      <th>...</th>\n",
       "      <th>first_to_second_order</th>\n",
       "      <th>avg_time_between_steps</th>\n",
       "      <th>sit_to_order</th>\n",
       "      <th>max_items_per_step</th>\n",
       "      <th>total_large_meals</th>\n",
       "      <th>total_small_meals</th>\n",
       "      <th>total_large_sharable_meals</th>\n",
       "      <th>total_small_sharable_meals</th>\n",
       "      <th>total_sales_before_tax</th>\n",
       "      <th>total_sales_inc_tax</th>\n",
       "    </tr>\n",
       "  </thead>\n",
       "  <tbody>\n",
       "    <tr>\n",
       "      <th>count</th>\n",
       "      <td>113303.000000</td>\n",
       "      <td>1.133030e+05</td>\n",
       "      <td>1.133030e+05</td>\n",
       "      <td>113303.000000</td>\n",
       "      <td>113303.000000</td>\n",
       "      <td>113303.000000</td>\n",
       "      <td>113303.000000</td>\n",
       "      <td>113303.000000</td>\n",
       "      <td>113303.000000</td>\n",
       "      <td>113303.000000</td>\n",
       "      <td>...</td>\n",
       "      <td>113303.000000</td>\n",
       "      <td>113303.000000</td>\n",
       "      <td>113303.000000</td>\n",
       "      <td>113303.000000</td>\n",
       "      <td>113303.000000</td>\n",
       "      <td>113303.000000</td>\n",
       "      <td>113303.000000</td>\n",
       "      <td>113303.000000</td>\n",
       "      <td>113303.000000</td>\n",
       "      <td>113303.000000</td>\n",
       "    </tr>\n",
       "    <tr>\n",
       "      <th>mean</th>\n",
       "      <td>11051.547055</td>\n",
       "      <td>4.546713e+08</td>\n",
       "      <td>3.473019e+10</td>\n",
       "      <td>1.086739</td>\n",
       "      <td>9.259185</td>\n",
       "      <td>10.463888</td>\n",
       "      <td>1.993451</td>\n",
       "      <td>2.281113</td>\n",
       "      <td>205.764516</td>\n",
       "      <td>0.603567</td>\n",
       "      <td>...</td>\n",
       "      <td>7.658615</td>\n",
       "      <td>19.641262</td>\n",
       "      <td>4.871495</td>\n",
       "      <td>3.387845</td>\n",
       "      <td>1.017571</td>\n",
       "      <td>0.441844</td>\n",
       "      <td>0.392496</td>\n",
       "      <td>0.151673</td>\n",
       "      <td>86.482172</td>\n",
       "      <td>97.783186</td>\n",
       "    </tr>\n",
       "    <tr>\n",
       "      <th>std</th>\n",
       "      <td>7751.365185</td>\n",
       "      <td>7.155878e+07</td>\n",
       "      <td>2.181880e+10</td>\n",
       "      <td>0.729913</td>\n",
       "      <td>7.102405</td>\n",
       "      <td>8.035485</td>\n",
       "      <td>1.638385</td>\n",
       "      <td>1.196768</td>\n",
       "      <td>932.608035</td>\n",
       "      <td>0.898350</td>\n",
       "      <td>...</td>\n",
       "      <td>20.805372</td>\n",
       "      <td>18.055960</td>\n",
       "      <td>20.216292</td>\n",
       "      <td>3.149674</td>\n",
       "      <td>1.436449</td>\n",
       "      <td>1.067943</td>\n",
       "      <td>0.815295</td>\n",
       "      <td>0.517642</td>\n",
       "      <td>86.680131</td>\n",
       "      <td>98.361434</td>\n",
       "    </tr>\n",
       "    <tr>\n",
       "      <th>min</th>\n",
       "      <td>1154.000000</td>\n",
       "      <td>3.587425e+08</td>\n",
       "      <td>4.461098e+09</td>\n",
       "      <td>-6.000000</td>\n",
       "      <td>-17.990000</td>\n",
       "      <td>-20.327684</td>\n",
       "      <td>1.000000</td>\n",
       "      <td>1.000000</td>\n",
       "      <td>0.000000</td>\n",
       "      <td>0.000000</td>\n",
       "      <td>...</td>\n",
       "      <td>0.000000</td>\n",
       "      <td>1.000000</td>\n",
       "      <td>1.000000</td>\n",
       "      <td>1.000000</td>\n",
       "      <td>0.000000</td>\n",
       "      <td>0.000000</td>\n",
       "      <td>0.000000</td>\n",
       "      <td>0.000000</td>\n",
       "      <td>3.250000</td>\n",
       "      <td>3.250000</td>\n",
       "    </tr>\n",
       "    <tr>\n",
       "      <th>25%</th>\n",
       "      <td>1279.000000</td>\n",
       "      <td>3.624584e+08</td>\n",
       "      <td>4.487970e+09</td>\n",
       "      <td>1.000000</td>\n",
       "      <td>6.000000</td>\n",
       "      <td>6.780488</td>\n",
       "      <td>1.000000</td>\n",
       "      <td>1.000000</td>\n",
       "      <td>0.000000</td>\n",
       "      <td>0.000000</td>\n",
       "      <td>...</td>\n",
       "      <td>0.000000</td>\n",
       "      <td>11.000000</td>\n",
       "      <td>1.000000</td>\n",
       "      <td>2.000000</td>\n",
       "      <td>0.000000</td>\n",
       "      <td>0.000000</td>\n",
       "      <td>0.000000</td>\n",
       "      <td>0.000000</td>\n",
       "      <td>42.250000</td>\n",
       "      <td>47.690000</td>\n",
       "    </tr>\n",
       "    <tr>\n",
       "      <th>50%</th>\n",
       "      <td>17125.000000</td>\n",
       "      <td>5.113919e+08</td>\n",
       "      <td>5.113919e+10</td>\n",
       "      <td>1.000000</td>\n",
       "      <td>7.500000</td>\n",
       "      <td>8.475600</td>\n",
       "      <td>2.000000</td>\n",
       "      <td>2.000000</td>\n",
       "      <td>0.000000</td>\n",
       "      <td>0.000000</td>\n",
       "      <td>...</td>\n",
       "      <td>0.000000</td>\n",
       "      <td>16.500000</td>\n",
       "      <td>1.000000</td>\n",
       "      <td>3.000000</td>\n",
       "      <td>1.000000</td>\n",
       "      <td>0.000000</td>\n",
       "      <td>0.000000</td>\n",
       "      <td>0.000000</td>\n",
       "      <td>64.630000</td>\n",
       "      <td>73.060000</td>\n",
       "    </tr>\n",
       "    <tr>\n",
       "      <th>75%</th>\n",
       "      <td>17650.000000</td>\n",
       "      <td>5.209622e+08</td>\n",
       "      <td>5.209622e+10</td>\n",
       "      <td>1.000000</td>\n",
       "      <td>11.500000</td>\n",
       "      <td>12.995364</td>\n",
       "      <td>2.000000</td>\n",
       "      <td>3.000000</td>\n",
       "      <td>71.000000</td>\n",
       "      <td>2.000000</td>\n",
       "      <td>...</td>\n",
       "      <td>8.000000</td>\n",
       "      <td>24.200000</td>\n",
       "      <td>1.000000</td>\n",
       "      <td>4.000000</td>\n",
       "      <td>2.000000</td>\n",
       "      <td>0.000000</td>\n",
       "      <td>1.000000</td>\n",
       "      <td>0.000000</td>\n",
       "      <td>97.720000</td>\n",
       "      <td>110.410000</td>\n",
       "    </tr>\n",
       "    <tr>\n",
       "      <th>max</th>\n",
       "      <td>19513.000000</td>\n",
       "      <td>5.264150e+08</td>\n",
       "      <td>5.264150e+10</td>\n",
       "      <td>121.700000</td>\n",
       "      <td>697.000000</td>\n",
       "      <td>787.624658</td>\n",
       "      <td>10.000000</td>\n",
       "      <td>6.000000</td>\n",
       "      <td>27975.000000</td>\n",
       "      <td>3.000000</td>\n",
       "      <td>...</td>\n",
       "      <td>1292.000000</td>\n",
       "      <td>710.500000</td>\n",
       "      <td>533.000000</td>\n",
       "      <td>61.000000</td>\n",
       "      <td>32.000000</td>\n",
       "      <td>14.000000</td>\n",
       "      <td>9.000000</td>\n",
       "      <td>5.000000</td>\n",
       "      <td>966.050000</td>\n",
       "      <td>1114.247238</td>\n",
       "    </tr>\n",
       "  </tbody>\n",
       "</table>\n",
       "<p>8 rows × 43 columns</p>\n",
       "</div>"
      ],
      "text/plain": [
       "              bar_id      order_id  order_item_id       item_qty  \\\n",
       "count  113303.000000  1.133030e+05   1.133030e+05  113303.000000   \n",
       "mean    11051.547055  4.546713e+08   3.473019e+10       1.086739   \n",
       "std      7751.365185  7.155878e+07   2.181880e+10       0.729913   \n",
       "min      1154.000000  3.587425e+08   4.461098e+09      -6.000000   \n",
       "25%      1279.000000  3.624584e+08   4.487970e+09       1.000000   \n",
       "50%     17125.000000  5.113919e+08   5.113919e+10       1.000000   \n",
       "75%     17650.000000  5.209622e+08   5.209622e+10       1.000000   \n",
       "max     19513.000000  5.264150e+08   5.264150e+10     121.700000   \n",
       "\n",
       "       sales_before_tax  sales_inc_tax    guest_count    category_id  \\\n",
       "count     113303.000000  113303.000000  113303.000000  113303.000000   \n",
       "mean           9.259185      10.463888       1.993451       2.281113   \n",
       "std            7.102405       8.035485       1.638385       1.196768   \n",
       "min          -17.990000     -20.327684       1.000000       1.000000   \n",
       "25%            6.000000       6.780488       1.000000       1.000000   \n",
       "50%            7.500000       8.475600       2.000000       2.000000   \n",
       "75%           11.500000      12.995364       2.000000       3.000000   \n",
       "max          697.000000     787.624658      10.000000       6.000000   \n",
       "\n",
       "       beer_brand_id  beer_serving_type_id  ...  first_to_second_order  \\\n",
       "count  113303.000000         113303.000000  ...          113303.000000   \n",
       "mean      205.764516              0.603567  ...               7.658615   \n",
       "std       932.608035              0.898350  ...              20.805372   \n",
       "min         0.000000              0.000000  ...               0.000000   \n",
       "25%         0.000000              0.000000  ...               0.000000   \n",
       "50%         0.000000              0.000000  ...               0.000000   \n",
       "75%        71.000000              2.000000  ...               8.000000   \n",
       "max     27975.000000              3.000000  ...            1292.000000   \n",
       "\n",
       "       avg_time_between_steps   sit_to_order  max_items_per_step  \\\n",
       "count           113303.000000  113303.000000       113303.000000   \n",
       "mean                19.641262       4.871495            3.387845   \n",
       "std                 18.055960      20.216292            3.149674   \n",
       "min                  1.000000       1.000000            1.000000   \n",
       "25%                 11.000000       1.000000            2.000000   \n",
       "50%                 16.500000       1.000000            3.000000   \n",
       "75%                 24.200000       1.000000            4.000000   \n",
       "max                710.500000     533.000000           61.000000   \n",
       "\n",
       "       total_large_meals  total_small_meals  total_large_sharable_meals  \\\n",
       "count      113303.000000      113303.000000               113303.000000   \n",
       "mean            1.017571           0.441844                    0.392496   \n",
       "std             1.436449           1.067943                    0.815295   \n",
       "min             0.000000           0.000000                    0.000000   \n",
       "25%             0.000000           0.000000                    0.000000   \n",
       "50%             1.000000           0.000000                    0.000000   \n",
       "75%             2.000000           0.000000                    1.000000   \n",
       "max            32.000000          14.000000                    9.000000   \n",
       "\n",
       "       total_small_sharable_meals  total_sales_before_tax  total_sales_inc_tax  \n",
       "count               113303.000000           113303.000000        113303.000000  \n",
       "mean                     0.151673               86.482172            97.783186  \n",
       "std                      0.517642               86.680131            98.361434  \n",
       "min                      0.000000                3.250000             3.250000  \n",
       "25%                      0.000000               42.250000            47.690000  \n",
       "50%                      0.000000               64.630000            73.060000  \n",
       "75%                      0.000000               97.720000           110.410000  \n",
       "max                      5.000000              966.050000          1114.247238  \n",
       "\n",
       "[8 rows x 43 columns]"
      ]
     },
     "execution_count": 41,
     "metadata": {},
     "output_type": "execute_result"
    }
   ],
   "source": [
    "drinking.describe()"
   ]
  },
  {
   "cell_type": "code",
   "execution_count": 48,
   "metadata": {},
   "outputs": [
    {
     "data": {
      "text/plain": [
       "3.0    0.406777\n",
       "1.0    0.339047\n",
       "2.0    0.190092\n",
       "6.0    0.041517\n",
       "4.0    0.020388\n",
       "5.0    0.002180\n",
       "Name: category_id, dtype: float64"
      ]
     },
     "execution_count": 48,
     "metadata": {},
     "output_type": "execute_result"
    }
   ],
   "source": [
    "drinking.category_id.value_counts(normalize=True)"
   ]
  },
  {
   "cell_type": "markdown",
   "metadata": {},
   "source": [
    "### as we'd expect, there'd be more drinks in the drinking category, especially more liquers"
   ]
  },
  {
   "cell_type": "code",
   "execution_count": 46,
   "metadata": {},
   "outputs": [
    {
     "data": {
      "text/plain": [
       "0.0     0.321315\n",
       "4.0     0.131541\n",
       "2.0     0.104702\n",
       "3.0     0.092919\n",
       "1.0     0.091692\n",
       "5.0     0.067474\n",
       "6.0     0.055091\n",
       "7.0     0.028516\n",
       "8.0     0.023018\n",
       "9.0     0.014827\n",
       "10.0    0.012180\n",
       "Name: total_orders_category_id_1.0, dtype: float64"
      ]
     },
     "execution_count": 46,
     "metadata": {},
     "output_type": "execute_result"
    }
   ],
   "source": [
    "drinking['total_orders_category_id_1.0'].value_counts(normalize=True)[:10]"
   ]
  },
  {
   "cell_type": "code",
   "execution_count": 47,
   "metadata": {},
   "outputs": [
    {
     "data": {
      "text/plain": [
       "0.0     0.273479\n",
       "2.0     0.121356\n",
       "4.0     0.103254\n",
       "3.0     0.100748\n",
       "1.0     0.063114\n",
       "5.0     0.052699\n",
       "6.0     0.052187\n",
       "8.0     0.029426\n",
       "7.0     0.027316\n",
       "9.0     0.017237\n",
       "10.0    0.015039\n",
       "Name: total_orders_category_id_3.0, dtype: float64"
      ]
     },
     "execution_count": 47,
     "metadata": {},
     "output_type": "execute_result"
    }
   ],
   "source": [
    "drinking['total_orders_category_id_3.0'].value_counts(normalize=True)[:10]"
   ]
  },
  {
   "cell_type": "markdown",
   "metadata": {},
   "source": [
    "### These numbers make sense, since we defined our rules as less drinks but liquers affect the same as more drinks but being beers. Therefore category one having most quantity of 4 beers, while liquers having most quantity of 2s make sense."
   ]
  },
  {
   "cell_type": "code",
   "execution_count": 54,
   "metadata": {},
   "outputs": [
    {
     "name": "stdout",
     "output_type": "stream",
     "text": [
      "Most common beers for bin #  1\n",
      "budweiser tap      0.061497\n",
      "light              0.055668\n",
      "corona             0.048396\n",
      "mill st org tap    0.028984\n",
      "pnt budweiser      0.026684\n",
      "stella.pt          0.025134\n",
      "keiths tap         0.017112\n",
      "dark               0.016524\n",
      "coors.light.xl     0.016524\n",
      "bud light tap      0.015882\n",
      "Name: title, dtype: float64\n",
      "\n",
      "Most common beers for bin #  2\n",
      "budweiser tap      0.067449\n",
      "corona             0.056834\n",
      "light              0.053867\n",
      "stella.pt          0.040087\n",
      "mill st org tap    0.035670\n",
      "keiths tap         0.024131\n",
      "coors.light.xl     0.021956\n",
      "dark               0.021428\n",
      "goose ipa tap      0.020967\n",
      "bud light tap      0.020835\n",
      "Name: title, dtype: float64\n",
      "\n",
      "Most common beers for bin #  3-5\n",
      "corona             0.158084\n",
      "budweiser tap      0.119464\n",
      "mill st org tap    0.067456\n",
      "bud light tap      0.041195\n",
      "keiths tap         0.040680\n",
      "keiths  tap        0.032441\n",
      "west coast ipa     0.031926\n",
      "shock top tap      0.031926\n",
      "goose ipa tap      0.031411\n",
      "light              0.021627\n",
      "Name: title, dtype: float64\n",
      "\n",
      "Most common beers for bin #  6+\n",
      "light              0.105909\n",
      "budweiser tap      0.098235\n",
      "corona             0.077130\n",
      "lg stella          0.041827\n",
      "lg canadian        0.036838\n",
      "lg coors light     0.027245\n",
      "mill st org tap    0.024942\n",
      "bud light tap      0.022256\n",
      "lg guinness        0.020721\n",
      "heineken           0.020338\n",
      "Name: title, dtype: float64\n",
      "\n"
     ]
    }
   ],
   "source": [
    "for bin in bins:\n",
    "    print(\"Most common beers for bin # \", bin)\n",
    "    print(drink_dfs[bin][drink_dfs[bin].category_id == 1].title.value_counts(normalize=True)[:10])\n",
    "    print()"
   ]
  }
 ],
 "metadata": {
  "kernelspec": {
   "display_name": "Python 3",
   "language": "python",
   "name": "python3"
  },
  "language_info": {
   "codemirror_mode": {
    "name": "ipython",
    "version": 3
   },
   "file_extension": ".py",
   "mimetype": "text/x-python",
   "name": "python",
   "nbconvert_exporter": "python",
   "pygments_lexer": "ipython3",
   "version": "3.6.8"
  }
 },
 "nbformat": 4,
 "nbformat_minor": 2
}
