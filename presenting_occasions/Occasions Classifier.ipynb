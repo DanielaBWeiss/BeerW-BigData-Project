{
 "cells": [
  {
   "cell_type": "markdown",
   "metadata": {},
   "source": [
    "# Occasion Classfier using Guest Count Bins and Heuristics"
   ]
  },
  {
   "cell_type": "code",
   "execution_count": 1,
   "metadata": {},
   "outputs": [],
   "source": [
    "import pandas as pd\n",
    "import seaborn as sns\n",
    "import matplotlib.pyplot as plt\n",
    "from sklearn.metrics import confusion_matrix\n",
    "from sklearn.metrics import classification_report"
   ]
  },
  {
   "cell_type": "code",
   "execution_count": 2,
   "metadata": {},
   "outputs": [],
   "source": [
    "import os\n",
    "import sys\n",
    "module_path = os.path.abspath(os.path.join('..'))\n",
    "sys.path.append(module_path+\"/heuristics\")"
   ]
  },
  {
   "cell_type": "code",
   "execution_count": 26,
   "metadata": {},
   "outputs": [
    {
     "data": {
      "text/plain": [
       "'/Users/danielastepanov/Documents/Bar-Ilan/b_semester18/DS_project/BeerW-BigData-Project'"
      ]
     },
     "execution_count": 26,
     "metadata": {},
     "output_type": "execute_result"
    }
   ],
   "source": [
    "module_path"
   ]
  },
  {
   "cell_type": "code",
   "execution_count": 3,
   "metadata": {},
   "outputs": [],
   "source": [
    "from occasion_classifier import shrink_orders_to_table\n",
    "from occasion_classifier import classify"
   ]
  },
  {
   "cell_type": "code",
   "execution_count": 4,
   "metadata": {},
   "outputs": [],
   "source": [
    "hockey = pd.read_csv(\"../data/hockey_3_text_processed.csv\")\n",
    "silvester = pd.read_csv(\"../data/silvester_3_text_processed.csv\")\n",
    "valentine = pd.read_csv(\"../data/valentine_3_text_processed.csv\")\n",
    "\n",
    "data = pd.concat([hockey, silvester, valentine], axis=0)"
   ]
  },
  {
   "cell_type": "markdown",
   "metadata": {},
   "source": [
    "## Using clean data (pre-processed) and bars we deemed trsutworthy, we use the Guest_Count feature to divide our orders into the following bins:\n",
    "\n",
    "### Bins:\n",
    "### - 1\n",
    "### - 2\n",
    "### - 3-5\n",
    "### - 6+"
   ]
  },
  {
   "cell_type": "markdown",
   "metadata": {},
   "source": [
    "## For each bin, we describe the chosen occasions"
   ]
  },
  {
   "cell_type": "markdown",
   "metadata": {},
   "source": [
    "## Common Occasions to all bins:\n",
    "* **BREAKFAST**\n",
    "* **LUNCH**\n",
    "* **DINNER**\n",
    "* **DRINKING**\n",
    "* **UNK**"
   ]
  },
  {
   "cell_type": "markdown",
   "metadata": {},
   "source": [
    "### Category 1:\n",
    "1. **LUNCH** - time of day must be `lunch time`, and must contain at least 1 large meal and 0 or 1 drinks.\n",
    "2. **MUNCH** - time of day must be `late_night`, contains only meals that are not large\n",
    "3. **DINNER** - time of day either `dinner` or `late_night`, contains at least 1 large meal, and up to 2 drinks\n",
    "4. **CASUAL DRINK** - any time of day, ratio of food to drinks less than 1.5. up to 3 drinks can have <=1.2 L of beer.\n",
    "5. **DRINKING** - any time of day, ratio of drinks to food larger than 1.5.\n",
    "6. **NOT_1** - either too many items ordered in a single step, or \"kid\" in one of the titles.\n",
    "7. **UNK** - undealt with"
   ]
  },
  {
   "cell_type": "markdown",
   "metadata": {},
   "source": [
    "### Category 2:\n",
    "1. **LUNCH** \n",
    "2. **DINNER** \n",
    "3. **DRINKING**\n",
    "4. **ROMANTIC_DATE**\n",
    "5. **FANCY_DATE**\n",
    "6. **MALES_ONLY**\n",
    "7. **JUST_EATING**\n",
    "8. **BIRTHDAY**\n",
    "9. **KIDS**\n",
    "10. **NOT_2**\n",
    "11. **UNK**"
   ]
  },
  {
   "cell_type": "markdown",
   "metadata": {},
   "source": [
    "### Category 3-5:\n",
    "1. **Family Event**\n",
    "2. **Drinking**\n",
    "3. **Breakfast**\n",
    "4. **Lunch**\n",
    "5. **Dinner**\n",
    "6. **Social Gathering**\n",
    "7. **After Work**"
   ]
  },
  {
   "cell_type": "markdown",
   "metadata": {},
   "source": [
    "### Category 6:\n",
    "1. "
   ]
  },
  {
   "cell_type": "markdown",
   "metadata": {},
   "source": [
    "------------------------------------------"
   ]
  },
  {
   "cell_type": "code",
   "execution_count": 6,
   "metadata": {},
   "outputs": [],
   "source": [
    "labels_1 = [\"LUNCH\", \"MUNCH\", \"DINNER\", \"DRINKING\", \"CASUAL_DRINK\", \"NOT_1\", \"UNK\"]\n",
    "labels_2 = [\"LUNCH\",\"DINNER\", \"DRINKING\",\"ROMANTIC_DATE\", \"FANCY_DATE\", \"MALES_ONLY\", \\\n",
    "            \"JUST_EATING\", \"BIRTHDAY\", \"KIDS\",\"NOT_2\" ,\"UNK\"]\n",
    "labels_35 = [\"FAMILY_EVENT\", \"DRINKING\", \"BREAKFAST\", \"LUNCH\", \"DINNER\", \"SOCIAL_GATHERING\", \"AFTER_WORK\"]\n",
    "labels_6 = [\"Family Event\",\"Drinking\",\"Breakfast\",\"Lunch\",\"Dinner\",\"Social Gathering\",\"After Work\"]"
   ]
  },
  {
   "cell_type": "markdown",
   "metadata": {},
   "source": [
    "## We annotated ~50 tables for dev, and 25 for test, for each category bin.\n"
   ]
  },
  {
   "cell_type": "markdown",
   "metadata": {},
   "source": [
    "# DEV results"
   ]
  },
  {
   "cell_type": "code",
   "execution_count": 5,
   "metadata": {},
   "outputs": [],
   "source": [
    "import csv\n",
    "\n",
    "results = {}\n",
    "total_correct = 0\n",
    "total_incorrect = 0\n",
    "with open(\"../heuristics/dev.csv\") as f:\n",
    "    csv_reader = csv.reader(f, delimiter=',')\n",
    "    current_cat = 0\n",
    "    table_results = {}\n",
    "    for row in csv_reader:\n",
    "        if len(row) == 1:\n",
    "            current_cat = row[0]\n",
    "            results[current_cat] = {}\n",
    "            table_results[current_cat] = []\n",
    "            results[current_cat][\"correct\"] = 0\n",
    "            results[current_cat][\"incorrect\"] = 0\n",
    "            continue\n",
    "            \n",
    "        orders = data[data.order_id == int(row[0])]\n",
    "        table = shrink_orders_to_table(orders)\n",
    "        pred_occasion = classify(table)\n",
    "        table_results[current_cat].append((int(row[0]), row[1], pred_occasion))\n",
    "        if pred_occasion == row[1]:\n",
    "            results[current_cat][\"correct\"] += 1\n",
    "            total_correct += 1\n",
    "        else:\n",
    "            results[current_cat][\"incorrect\"] += 1\n",
    "            total_incorrect += 1\n"
   ]
  },
  {
   "cell_type": "markdown",
   "metadata": {},
   "source": [
    "# Accumulative Accuracy for all guest count bins for all occasions:\n"
   ]
  },
  {
   "cell_type": "code",
   "execution_count": 6,
   "metadata": {},
   "outputs": [
    {
     "data": {
      "text/plain": [
       "85.0"
      ]
     },
     "execution_count": 6,
     "metadata": {},
     "output_type": "execute_result"
    }
   ],
   "source": [
    "total_correct/(total_incorrect + total_correct)*100"
   ]
  },
  {
   "cell_type": "markdown",
   "metadata": {},
   "source": [
    "## Accuracy for Category 1"
   ]
  },
  {
   "cell_type": "code",
   "execution_count": 7,
   "metadata": {},
   "outputs": [
    {
     "data": {
      "text/plain": [
       "0.9215686274509803"
      ]
     },
     "execution_count": 7,
     "metadata": {},
     "output_type": "execute_result"
    }
   ],
   "source": [
    "results['1'][\"correct\"]/(results['1'][\"correct\"] + results['1'][\"incorrect\"])"
   ]
  },
  {
   "cell_type": "markdown",
   "metadata": {},
   "source": [
    "## Accuracy for Category 2"
   ]
  },
  {
   "cell_type": "code",
   "execution_count": 8,
   "metadata": {},
   "outputs": [
    {
     "data": {
      "text/plain": [
       "0.2857142857142857"
      ]
     },
     "execution_count": 8,
     "metadata": {},
     "output_type": "execute_result"
    }
   ],
   "source": [
    "results['2'][\"correct\"]/(results['2'][\"correct\"] + results['2'][\"incorrect\"])"
   ]
  },
  {
   "cell_type": "markdown",
   "metadata": {},
   "source": [
    "## Accuracy for Category 3-5"
   ]
  },
  {
   "cell_type": "code",
   "execution_count": 9,
   "metadata": {},
   "outputs": [
    {
     "data": {
      "text/plain": [
       "0.85"
      ]
     },
     "execution_count": 9,
     "metadata": {},
     "output_type": "execute_result"
    }
   ],
   "source": [
    "results['3-5'][\"correct\"]/(results['3-5'][\"correct\"] + results['3-5'][\"incorrect\"])"
   ]
  },
  {
   "cell_type": "markdown",
   "metadata": {},
   "source": [
    "## Accuracy for Category 6"
   ]
  },
  {
   "cell_type": "code",
   "execution_count": 10,
   "metadata": {},
   "outputs": [
    {
     "data": {
      "text/plain": [
       "0.8571428571428571"
      ]
     },
     "execution_count": 10,
     "metadata": {},
     "output_type": "execute_result"
    }
   ],
   "source": [
    "results['6'][\"correct\"]/(results['6'][\"correct\"] + results['6'][\"incorrect\"])"
   ]
  },
  {
   "cell_type": "markdown",
   "metadata": {},
   "source": [
    "----------------------------------------------"
   ]
  },
  {
   "cell_type": "markdown",
   "metadata": {},
   "source": [
    "# TEST Results"
   ]
  },
  {
   "cell_type": "code",
   "execution_count": 11,
   "metadata": {},
   "outputs": [],
   "source": [
    "import csv\n",
    "\n",
    "results = {}\n",
    "total_correct = 0\n",
    "total_incorrect = 0\n",
    "with open(\"../heuristics/test.csv\") as f:\n",
    "    csv_reader = csv.reader(f, delimiter=',')\n",
    "    current_cat = 0\n",
    "    table_results = {}\n",
    "    for row in csv_reader:\n",
    "        if len(row) == 1:\n",
    "            current_cat = row[0]\n",
    "            results[current_cat] = {}\n",
    "            table_results[current_cat] = []\n",
    "            results[current_cat][\"correct\"] = 0\n",
    "            results[current_cat][\"incorrect\"] = 0\n",
    "            continue\n",
    "            \n",
    "        orders = data[data.order_id == int(row[0])]\n",
    "        table = shrink_orders_to_table(orders)\n",
    "        pred_occasion = classify(table)\n",
    "        table_results[current_cat].append((int(row[0]), row[1], pred_occasion))\n",
    "        if pred_occasion == row[1]:\n",
    "            results[current_cat][\"correct\"] += 1\n",
    "            total_correct += 1\n",
    "        else:\n",
    "            results[current_cat][\"incorrect\"] += 1\n",
    "            total_incorrect += 1\n"
   ]
  },
  {
   "cell_type": "markdown",
   "metadata": {},
   "source": [
    "# Accumulative TEST Accuracy for all guest count bins for all occasions:\n"
   ]
  },
  {
   "cell_type": "code",
   "execution_count": 12,
   "metadata": {},
   "outputs": [
    {
     "data": {
      "text/plain": [
       "80.23255813953489"
      ]
     },
     "execution_count": 12,
     "metadata": {},
     "output_type": "execute_result"
    }
   ],
   "source": [
    "total_correct/(total_incorrect + total_correct)*100"
   ]
  },
  {
   "cell_type": "markdown",
   "metadata": {},
   "source": [
    "## Accuracy for Category 1"
   ]
  },
  {
   "cell_type": "code",
   "execution_count": 13,
   "metadata": {},
   "outputs": [
    {
     "data": {
      "text/plain": [
       "0.7083333333333334"
      ]
     },
     "execution_count": 13,
     "metadata": {},
     "output_type": "execute_result"
    }
   ],
   "source": [
    "results['1'][\"correct\"]/(results['1'][\"correct\"] + results['1'][\"incorrect\"])"
   ]
  },
  {
   "cell_type": "markdown",
   "metadata": {},
   "source": [
    "## Accuracy for Category 2"
   ]
  },
  {
   "cell_type": "code",
   "execution_count": 14,
   "metadata": {},
   "outputs": [
    {
     "ename": "ZeroDivisionError",
     "evalue": "division by zero",
     "output_type": "error",
     "traceback": [
      "\u001b[0;31m---------------------------------------------------------------------------\u001b[0m",
      "\u001b[0;31mZeroDivisionError\u001b[0m                         Traceback (most recent call last)",
      "\u001b[0;32m<ipython-input-14-1fcc18a35974>\u001b[0m in \u001b[0;36m<module>\u001b[0;34m\u001b[0m\n\u001b[0;32m----> 1\u001b[0;31m \u001b[0mresults\u001b[0m\u001b[0;34m[\u001b[0m\u001b[0;34m'2'\u001b[0m\u001b[0;34m]\u001b[0m\u001b[0;34m[\u001b[0m\u001b[0;34m\"correct\"\u001b[0m\u001b[0;34m]\u001b[0m\u001b[0;34m/\u001b[0m\u001b[0;34m(\u001b[0m\u001b[0mresults\u001b[0m\u001b[0;34m[\u001b[0m\u001b[0;34m'2'\u001b[0m\u001b[0;34m]\u001b[0m\u001b[0;34m[\u001b[0m\u001b[0;34m\"correct\"\u001b[0m\u001b[0;34m]\u001b[0m \u001b[0;34m+\u001b[0m \u001b[0mresults\u001b[0m\u001b[0;34m[\u001b[0m\u001b[0;34m'2'\u001b[0m\u001b[0;34m]\u001b[0m\u001b[0;34m[\u001b[0m\u001b[0;34m\"incorrect\"\u001b[0m\u001b[0;34m]\u001b[0m\u001b[0;34m)\u001b[0m\u001b[0;34m\u001b[0m\u001b[0;34m\u001b[0m\u001b[0m\n\u001b[0m",
      "\u001b[0;31mZeroDivisionError\u001b[0m: division by zero"
     ]
    }
   ],
   "source": [
    "results['2'][\"correct\"]/(results['2'][\"correct\"] + results['2'][\"incorrect\"])"
   ]
  },
  {
   "cell_type": "markdown",
   "metadata": {},
   "source": [
    "## Accuracy for Category 3-5"
   ]
  },
  {
   "cell_type": "code",
   "execution_count": 15,
   "metadata": {},
   "outputs": [
    {
     "data": {
      "text/plain": [
       "0.8666666666666667"
      ]
     },
     "execution_count": 15,
     "metadata": {},
     "output_type": "execute_result"
    }
   ],
   "source": [
    "results['3-5'][\"correct\"]/(results['3-5'][\"correct\"] + results['3-5'][\"incorrect\"])"
   ]
  },
  {
   "cell_type": "markdown",
   "metadata": {},
   "source": [
    "## Accuracy for Category 6"
   ]
  },
  {
   "cell_type": "code",
   "execution_count": 16,
   "metadata": {},
   "outputs": [
    {
     "data": {
      "text/plain": [
       "0.8125"
      ]
     },
     "execution_count": 16,
     "metadata": {},
     "output_type": "execute_result"
    }
   ],
   "source": [
    "results['6'][\"correct\"]/(results['6'][\"correct\"] + results['6'][\"incorrect\"])"
   ]
  },
  {
   "cell_type": "markdown",
   "metadata": {},
   "source": [
    "## Theres quite a gap between our dev and test accuracy for most of the categories (Category 3-5 remains above 85% for both dev and test).\n",
    "## This could be due to the fact that some categories are more involved than others, as well as the amount that we have labeled. In an ideal situation, a much larger labeling effort would be done."
   ]
  },
  {
   "cell_type": "markdown",
   "metadata": {},
   "source": [
    "------------------------------------"
   ]
  },
  {
   "cell_type": "markdown",
   "metadata": {},
   "source": [
    "## Lets try our classifiers on each dataset"
   ]
  },
  {
   "cell_type": "markdown",
   "metadata": {},
   "source": [
    "# Hockey"
   ]
  },
  {
   "cell_type": "code",
   "execution_count": 17,
   "metadata": {},
   "outputs": [],
   "source": [
    "hockey_ids = list(hockey.order_id.value_counts().keys())"
   ]
  },
  {
   "cell_type": "code",
   "execution_count": null,
   "metadata": {},
   "outputs": [],
   "source": [
    "results = {}\n",
    "current_cat = 0\n",
    "table_results = []\n",
    "hockey_tables = shrink_orders_to_table(hockey)\n",
    "for order in hockey_ids:\n",
    "    table = hockey_tables[hockey_tables.order_id == order]\n",
    "    pred_occasion = classify(table)\n",
    "    table_results.append((order, table.guest_count.iloc[0], pred_occasion))"
   ]
  },
  {
   "cell_type": "code",
   "execution_count": null,
   "metadata": {},
   "outputs": [],
   "source": []
  },
  {
   "cell_type": "markdown",
   "metadata": {},
   "source": [
    "# Valentine"
   ]
  },
  {
   "cell_type": "code",
   "execution_count": 44,
   "metadata": {},
   "outputs": [],
   "source": [
    "valentine_ids = list(valentine.order_id.value_counts().keys())"
   ]
  },
  {
   "cell_type": "code",
   "execution_count": null,
   "metadata": {},
   "outputs": [],
   "source": [
    "results = {}\n",
    "current_cat = 0\n",
    "val_results = []\n",
    "for order in valentine_ids:\n",
    "    orders = valentine[valentine.order_id == order]\n",
    "    table = shrink_orders_to_table(orders)\n",
    "    pred_occasion = classify(table)\n",
    "    val_results.append((order, table.guest_count.iloc[0], pred_occasion))"
   ]
  },
  {
   "cell_type": "markdown",
   "metadata": {},
   "source": [
    "# Silvester"
   ]
  },
  {
   "cell_type": "code",
   "execution_count": 44,
   "metadata": {},
   "outputs": [],
   "source": [
    "silvester_ids = list(silvester.order_id.value_counts().keys())"
   ]
  },
  {
   "cell_type": "code",
   "execution_count": null,
   "metadata": {},
   "outputs": [],
   "source": [
    "results = {}\n",
    "current_cat = 0\n",
    "sil_results = []\n",
    "for order in silvester_ids:\n",
    "    orders = silvester[silvester.order_id == order]\n",
    "    table = shrink_orders_to_table(orders)\n",
    "    pred_occasion = classify(table)\n",
    "    sil_results.append((order, table.guest_count.iloc[0], pred_occasion))"
   ]
  },
  {
   "cell_type": "code",
   "execution_count": null,
   "metadata": {},
   "outputs": [],
   "source": []
  }
 ],
 "metadata": {
  "kernelspec": {
   "display_name": "Python 3",
   "language": "python",
   "name": "python3"
  },
  "language_info": {
   "codemirror_mode": {
    "name": "ipython",
    "version": 3
   },
   "file_extension": ".py",
   "mimetype": "text/x-python",
   "name": "python",
   "nbconvert_exporter": "python",
   "pygments_lexer": "ipython3",
   "version": "3.6.8"
  }
 },
 "nbformat": 4,
 "nbformat_minor": 2
}
