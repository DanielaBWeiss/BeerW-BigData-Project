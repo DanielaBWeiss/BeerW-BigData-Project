{
 "cells": [
  {
   "cell_type": "markdown",
   "metadata": {},
   "source": [
    "# Occasion Classfier using Guest Count Bins and Heuristics"
   ]
  },
  {
   "cell_type": "code",
   "execution_count": 1,
   "metadata": {},
   "outputs": [],
   "source": [
    "import pandas as pd\n",
    "import seaborn as sns\n",
    "import matplotlib.pyplot as plt\n",
    "from sklearn.metrics import confusion_matrix\n",
    "from sklearn.metrics import classification_report"
   ]
  },
  {
   "cell_type": "code",
   "execution_count": 2,
   "metadata": {},
   "outputs": [],
   "source": [
    "import os\n",
    "import sys\n",
    "module_path = os.path.abspath(os.path.join('..'))\n",
    "sys.path.append(module_path+\"/heuristics\")"
   ]
  },
  {
   "cell_type": "code",
   "execution_count": 26,
   "metadata": {},
   "outputs": [
    {
     "data": {
      "text/plain": [
       "'/Users/danielastepanov/Documents/Bar-Ilan/b_semester18/DS_project/BeerW-BigData-Project'"
      ]
     },
     "execution_count": 26,
     "metadata": {},
     "output_type": "execute_result"
    }
   ],
   "source": [
    "module_path"
   ]
  },
  {
   "cell_type": "code",
   "execution_count": 3,
   "metadata": {},
   "outputs": [],
   "source": [
    "from occasion_classifier import shrink_orders_to_table\n",
    "from occasion_classifier import classify"
   ]
  },
  {
   "cell_type": "code",
   "execution_count": 5,
   "metadata": {},
   "outputs": [],
   "source": [
    "hockey = pd.read_csv(\"../data/hockey_3_text_processed.csv\")\n",
    "silvester = pd.read_csv(\"../data/silvester_3_text_processed.csv\")\n",
    "valentine = pd.read_csv(\"../data/valentine_3_text_processed.csv\")\n",
    "hockey = hockey[~(hockey.guest_count == 0)]\n",
    "silvester = silvester[~(silvester.guest_count == 0)]\n",
    "valentine = valentine[~(valentine.guest_count == 0)]\n",
    "data = pd.concat([hockey, silvester, valentine], axis=0)"
   ]
  },
  {
   "cell_type": "markdown",
   "metadata": {},
   "source": [
    "## Using clean data (pre-processed) and bars we deemed trsutworthy, we use the Guest_Count feature to divide our orders into the following bins:\n",
    "\n",
    "### Bins:\n",
    "### - 1\n",
    "### - 2\n",
    "### - 3-5\n",
    "### - 6+"
   ]
  },
  {
   "cell_type": "markdown",
   "metadata": {},
   "source": [
    "## For each bin, we describe the chosen occasions"
   ]
  },
  {
   "cell_type": "markdown",
   "metadata": {},
   "source": [
    "## Common Occasions to all bins:\n",
    "* **BREAKFAST**\n",
    "* **LUNCH**\n",
    "* **DINNER**\n",
    "* **DRINKING**\n",
    "* **UNK**"
   ]
  },
  {
   "cell_type": "markdown",
   "metadata": {},
   "source": [
    "### Category 1:\n",
    "1. **LUNCH** - time of day must be `lunch time`, and must contain at least 1 large meal and 0 or 1 drinks.\n",
    "2. **MUNCH** - time of day must be `late_night`, contains only meals that are not large\n",
    "3. **DINNER** - time of day either `dinner` or `late_night`, contains at least 1 large meal, and up to 2 drinks\n",
    "4. **CASUAL DRINK** - any time of day, ratio of food to drinks less than 1.5. up to 3 drinks can have <=1.2 L of beer.\n",
    "5. **DRINKING** - any time of day, ratio of drinks to food larger than 1.5.\n",
    "6. **NOT_1** - either too many items ordered in a single step, or \"kid\" in one of the titles.\n",
    "7. **UNK** - undealt with"
   ]
  },
  {
   "cell_type": "markdown",
   "metadata": {},
   "source": [
    "### Category 2:\n",
    "1. **LUNCH** \n",
    "2. **DINNER** \n",
    "3. **DRINKING**\n",
    "4. **ROMANTIC_DATE**\n",
    "5. **FANCY_DATE**\n",
    "6. **MALES_ONLY**\n",
    "7. **JUST_EATING**\n",
    "8. **BIRTHDAY**\n",
    "9. **KIDS**\n",
    "10. **NOT_2**\n",
    "11. **UNK**"
   ]
  },
  {
   "cell_type": "markdown",
   "metadata": {},
   "source": [
    "### Category 3-5:\n",
    "1. **Family Event**\n",
    "2. **Drinking**\n",
    "3. **Breakfast**\n",
    "4. **Lunch**\n",
    "5. **Dinner**\n",
    "6. **Social Gathering**\n",
    "7. **After Work**"
   ]
  },
  {
   "cell_type": "markdown",
   "metadata": {},
   "source": [
    "### Category 6:\n",
    "1. "
   ]
  },
  {
   "cell_type": "markdown",
   "metadata": {},
   "source": [
    "------------------------------------------"
   ]
  },
  {
   "cell_type": "code",
   "execution_count": 6,
   "metadata": {},
   "outputs": [],
   "source": [
    "labels_1 = [\"LUNCH\", \"MUNCH\", \"DINNER\", \"DRINKING\", \"CASUAL_DRINK\", \"NOT_1\", \"UNK\"]\n",
    "labels_2 = [\"LUNCH\",\"DINNER\", \"DRINKING\",\"ROMANTIC_DATE\", \"FANCY_DATE\", \"MALES_ONLY\", \\\n",
    "            \"JUST_EATING\", \"BIRTHDAY\", \"KIDS\",\"NOT_2\" ,\"UNK\"]\n",
    "labels_35 = [\"FAMILY_EVENT\", \"DRINKING\", \"BREAKFAST\", \"LUNCH\", \"DINNER\", \"SOCIAL_GATHERING\", \"AFTER_WORK\"]\n",
    "labels_6 = [\"Family Event\",\"Drinking\",\"Breakfast\",\"Lunch\",\"Dinner\",\"Social Gathering\",\"After Work\"]"
   ]
  },
  {
   "cell_type": "markdown",
   "metadata": {},
   "source": [
    "## We annotated ~50 tables for dev, and 25 for test, for each category bin.\n"
   ]
  },
  {
   "cell_type": "markdown",
   "metadata": {},
   "source": [
    "# DEV results"
   ]
  },
  {
   "cell_type": "code",
   "execution_count": 6,
   "metadata": {},
   "outputs": [],
   "source": [
    "import csv\n",
    "\n",
    "results = {}\n",
    "total_correct = 0\n",
    "total_incorrect = 0\n",
    "with open(\"../heuristics/dev.csv\") as f:\n",
    "    csv_reader = csv.reader(f, delimiter=',')\n",
    "    current_cat = 0\n",
    "    table_results = {}\n",
    "    for row in csv_reader:\n",
    "        if len(row) == 1:\n",
    "            current_cat = row[0]\n",
    "            results[current_cat] = {}\n",
    "            table_results[current_cat] = []\n",
    "            results[current_cat][\"correct\"] = 0\n",
    "            results[current_cat][\"incorrect\"] = 0\n",
    "            continue\n",
    "            \n",
    "        orders = data[data.order_id == int(row[0])]\n",
    "        table = shrink_orders_to_table(orders)\n",
    "        pred_occasion = classify(table)\n",
    "        table_results[current_cat].append((int(row[0]), row[1], pred_occasion))\n",
    "        if pred_occasion == row[1]:\n",
    "            results[current_cat][\"correct\"] += 1\n",
    "            total_correct += 1\n",
    "        else:\n",
    "            results[current_cat][\"incorrect\"] += 1\n",
    "            total_incorrect += 1\n"
   ]
  },
  {
   "cell_type": "markdown",
   "metadata": {},
   "source": [
    "# Accumulative Accuracy for all guest count bins for all occasions:\n"
   ]
  },
  {
   "cell_type": "code",
   "execution_count": 7,
   "metadata": {},
   "outputs": [
    {
     "data": {
      "text/plain": [
       "85.0"
      ]
     },
     "execution_count": 7,
     "metadata": {},
     "output_type": "execute_result"
    }
   ],
   "source": [
    "total_correct/(total_incorrect + total_correct)*100"
   ]
  },
  {
   "cell_type": "markdown",
   "metadata": {},
   "source": [
    "## Accuracy for Category 1"
   ]
  },
  {
   "cell_type": "code",
   "execution_count": 8,
   "metadata": {},
   "outputs": [
    {
     "data": {
      "text/plain": [
       "0.9215686274509803"
      ]
     },
     "execution_count": 8,
     "metadata": {},
     "output_type": "execute_result"
    }
   ],
   "source": [
    "results['1'][\"correct\"]/(results['1'][\"correct\"] + results['1'][\"incorrect\"])"
   ]
  },
  {
   "cell_type": "markdown",
   "metadata": {},
   "source": [
    "## Accuracy for Category 3-5"
   ]
  },
  {
   "cell_type": "code",
   "execution_count": 9,
   "metadata": {},
   "outputs": [
    {
     "data": {
      "text/plain": [
       "0.85"
      ]
     },
     "execution_count": 9,
     "metadata": {},
     "output_type": "execute_result"
    }
   ],
   "source": [
    "results['3-5'][\"correct\"]/(results['3-5'][\"correct\"] + results['3-5'][\"incorrect\"])"
   ]
  },
  {
   "cell_type": "markdown",
   "metadata": {},
   "source": [
    "## Accuracy for Category 6"
   ]
  },
  {
   "cell_type": "code",
   "execution_count": 10,
   "metadata": {},
   "outputs": [
    {
     "data": {
      "text/plain": [
       "0.8571428571428571"
      ]
     },
     "execution_count": 10,
     "metadata": {},
     "output_type": "execute_result"
    }
   ],
   "source": [
    "results['6'][\"correct\"]/(results['6'][\"correct\"] + results['6'][\"incorrect\"])"
   ]
  },
  {
   "cell_type": "markdown",
   "metadata": {},
   "source": [
    "----------------------------------------------"
   ]
  },
  {
   "cell_type": "markdown",
   "metadata": {},
   "source": [
    "# TEST Results"
   ]
  },
  {
   "cell_type": "code",
   "execution_count": 11,
   "metadata": {},
   "outputs": [],
   "source": [
    "import csv\n",
    "\n",
    "results = {}\n",
    "total_correct = 0\n",
    "total_incorrect = 0\n",
    "with open(\"../heuristics/test.csv\") as f:\n",
    "    csv_reader = csv.reader(f, delimiter=',')\n",
    "    current_cat = 0\n",
    "    table_results = {}\n",
    "    for row in csv_reader:\n",
    "        if len(row) == 1:\n",
    "            current_cat = row[0]\n",
    "            results[current_cat] = {}\n",
    "            table_results[current_cat] = []\n",
    "            results[current_cat][\"correct\"] = 0\n",
    "            results[current_cat][\"incorrect\"] = 0\n",
    "            continue\n",
    "            \n",
    "        orders = data[data.order_id == int(row[0])]\n",
    "        table = shrink_orders_to_table(orders)\n",
    "        pred_occasion = classify(table)\n",
    "        table_results[current_cat].append((int(row[0]), row[1], pred_occasion))\n",
    "        if pred_occasion == row[1]:\n",
    "            results[current_cat][\"correct\"] += 1\n",
    "            total_correct += 1\n",
    "        else:\n",
    "            results[current_cat][\"incorrect\"] += 1\n",
    "            total_incorrect += 1\n"
   ]
  },
  {
   "cell_type": "markdown",
   "metadata": {},
   "source": [
    "# Accumulative TEST Accuracy for all guest count bins for all occasions:\n"
   ]
  },
  {
   "cell_type": "code",
   "execution_count": 12,
   "metadata": {},
   "outputs": [
    {
     "data": {
      "text/plain": [
       "82.55813953488372"
      ]
     },
     "execution_count": 12,
     "metadata": {},
     "output_type": "execute_result"
    }
   ],
   "source": [
    "total_correct/(total_incorrect + total_correct)*100"
   ]
  },
  {
   "cell_type": "markdown",
   "metadata": {},
   "source": [
    "## Accuracy for Category 1"
   ]
  },
  {
   "cell_type": "code",
   "execution_count": 13,
   "metadata": {},
   "outputs": [
    {
     "data": {
      "text/plain": [
       "0.7916666666666666"
      ]
     },
     "execution_count": 13,
     "metadata": {},
     "output_type": "execute_result"
    }
   ],
   "source": [
    "results['1'][\"correct\"]/(results['1'][\"correct\"] + results['1'][\"incorrect\"])"
   ]
  },
  {
   "cell_type": "markdown",
   "metadata": {},
   "source": [
    "## Accuracy for Category 3-5"
   ]
  },
  {
   "cell_type": "code",
   "execution_count": 14,
   "metadata": {},
   "outputs": [
    {
     "data": {
      "text/plain": [
       "0.8666666666666667"
      ]
     },
     "execution_count": 14,
     "metadata": {},
     "output_type": "execute_result"
    }
   ],
   "source": [
    "results['3-5'][\"correct\"]/(results['3-5'][\"correct\"] + results['3-5'][\"incorrect\"])"
   ]
  },
  {
   "cell_type": "markdown",
   "metadata": {},
   "source": [
    "## Accuracy for Category 6"
   ]
  },
  {
   "cell_type": "code",
   "execution_count": 15,
   "metadata": {},
   "outputs": [
    {
     "data": {
      "text/plain": [
       "0.8125"
      ]
     },
     "execution_count": 15,
     "metadata": {},
     "output_type": "execute_result"
    }
   ],
   "source": [
    "results['6'][\"correct\"]/(results['6'][\"correct\"] + results['6'][\"incorrect\"])"
   ]
  },
  {
   "cell_type": "markdown",
   "metadata": {},
   "source": [
    "## Accuracies for test are 80 and above. To really be trustworthy of these numbers, a much larger test set should be collected."
   ]
  },
  {
   "cell_type": "markdown",
   "metadata": {},
   "source": [
    "------------------------------------"
   ]
  },
  {
   "cell_type": "markdown",
   "metadata": {},
   "source": [
    "## Lets try our classifiers on each dataset"
   ]
  },
  {
   "cell_type": "markdown",
   "metadata": {},
   "source": [
    "# Hockey"
   ]
  },
  {
   "cell_type": "code",
   "execution_count": 16,
   "metadata": {},
   "outputs": [],
   "source": [
    "'''\n",
    "hockey_ids = list(hockey.order_id.value_counts().keys())\n",
    "results = {}\n",
    "current_cat = 0\n",
    "hockey_results = []\n",
    "hockey_tables = shrink_orders_to_table(hockey)\n",
    "for order in hockey_ids:\n",
    "    table = hockey_tables[hockey_tables.index == order]\n",
    "    pred_occasion = classify(table)\n",
    "    hockey_results.append((order, table.guest_count.iloc[0], pred_occasion))\n",
    "hockey_results = pd.DataFrame(hockey_results, columns=[\"order_id\", \"guest_count\", \"occasion\"])\n",
    "hockey_results.to_csv(\"hockey_occasions.csv\", index=False)\n",
    "'''"
   ]
  },
  {
   "cell_type": "code",
   "execution_count": 21,
   "metadata": {},
   "outputs": [],
   "source": [
    "hockey_occasions = pd.read_csv(\"hockey_occasions.csv\")"
   ]
  },
  {
   "cell_type": "markdown",
   "metadata": {},
   "source": [
    "# Valentine"
   ]
  },
  {
   "cell_type": "code",
   "execution_count": 17,
   "metadata": {},
   "outputs": [],
   "source": [
    "'''\n",
    "valentine_ids = list(valentine.order_id.value_counts().keys())\n",
    "results = {}\n",
    "current_cat = 0\n",
    "val_results = []\n",
    "valentine_tables = shrink_orders_to_table(valentine)\n",
    "for order in valentine_ids:\n",
    "    table = valentine_tables[valentine_tables.index == order]\n",
    "    pred_occasion = classify(table)\n",
    "    val_results.append((order, table.guest_count.iloc[0], pred_occasion))\n",
    "val_results = pd.DataFrame(val_results, columns=[\"order_id\", \"guest_count\", \"occasion\"])\n",
    "val_results.to_csv(\"valentine_occasions.csv\", index=False)\n",
    "'''"
   ]
  },
  {
   "cell_type": "code",
   "execution_count": 22,
   "metadata": {},
   "outputs": [],
   "source": [
    "valentine_occasions = pd.read_csv(\"valentine_occasions.csv\")"
   ]
  },
  {
   "cell_type": "markdown",
   "metadata": {},
   "source": [
    "# Silvester"
   ]
  },
  {
   "cell_type": "code",
   "execution_count": null,
   "metadata": {},
   "outputs": [],
   "source": [
    "'''\n",
    "silvester_ids = list(silvester.order_id.value_counts().keys())\n",
    "results = {}\n",
    "current_cat = 0\n",
    "sil_results = []\n",
    "sil_tables = shrink_orders_to_table(silvester)\n",
    "for order in silvester_ids:\n",
    "    table = sil_tables[sil_tables.index == order]\n",
    "    pred_occasion = classify(table)\n",
    "    sil_results.append((order, table.guest_count.iloc[0], pred_occasion))\n",
    "sil_results = pd.DataFrame(sil_results, columns=[\"order_id\", \"guest_count\", \"occasion\"])\n",
    "sil_results.to_csv(\"silvester_occasions.csv\", index=False)\n",
    "'''"
   ]
  },
  {
   "cell_type": "code",
   "execution_count": 23,
   "metadata": {},
   "outputs": [],
   "source": [
    "silvester_occasions = pd.read_csv(\"silvester_occasions.csv\")"
   ]
  },
  {
   "cell_type": "markdown",
   "metadata": {},
   "source": [
    "# Guest count distributions"
   ]
  },
  {
   "cell_type": "code",
   "execution_count": 24,
   "metadata": {},
   "outputs": [
    {
     "data": {
      "text/plain": [
       "1     0.545749\n",
       "2     0.275550\n",
       "3     0.087486\n",
       "4     0.046452\n",
       "5     0.018579\n",
       "6     0.010326\n",
       "7     0.004897\n",
       "8     0.003129\n",
       "9     0.002142\n",
       "10    0.001428\n",
       "Name: guest_count, dtype: float64"
      ]
     },
     "execution_count": 24,
     "metadata": {},
     "output_type": "execute_result"
    }
   ],
   "source": [
    "hockey_occasions.guest_count.value_counts(normalize=True)[:10]"
   ]
  },
  {
   "cell_type": "code",
   "execution_count": 25,
   "metadata": {},
   "outputs": [
    {
     "data": {
      "text/plain": [
       "1     0.483146\n",
       "2     0.338730\n",
       "3     0.091992\n",
       "4     0.047210\n",
       "5     0.016255\n",
       "6     0.009228\n",
       "7     0.004177\n",
       "8     0.002752\n",
       "9     0.002040\n",
       "10    0.001230\n",
       "Name: guest_count, dtype: float64"
      ]
     },
     "execution_count": 25,
     "metadata": {},
     "output_type": "execute_result"
    }
   ],
   "source": [
    "valentine_occasions.guest_count.value_counts(normalize=True)[:10]"
   ]
  },
  {
   "cell_type": "code",
   "execution_count": 26,
   "metadata": {},
   "outputs": [
    {
     "data": {
      "text/plain": [
       "1     0.467163\n",
       "2     0.302354\n",
       "3     0.107757\n",
       "4     0.067130\n",
       "5     0.025907\n",
       "6     0.012960\n",
       "7     0.006099\n",
       "8     0.003701\n",
       "9     0.002287\n",
       "10    0.001331\n",
       "Name: guest_count, dtype: float64"
      ]
     },
     "execution_count": 26,
     "metadata": {},
     "output_type": "execute_result"
    }
   ],
   "source": [
    "silvester_occasions.guest_count.value_counts(normalize=True)[:10]"
   ]
  },
  {
   "cell_type": "markdown",
   "metadata": {},
   "source": [
    "# Occasions Distribution"
   ]
  },
  {
   "cell_type": "code",
   "execution_count": 27,
   "metadata": {},
   "outputs": [
    {
     "data": {
      "text/plain": [
       "DINNER              0.233938\n",
       "LUNCH               0.155577\n",
       "CASUAL_DRINK        0.139844\n",
       "UNK                 0.115337\n",
       "DRINKING            0.105792\n",
       "NOT_1               0.056064\n",
       "JUST_EATING         0.040909\n",
       "FAMILY_EVENT        0.039708\n",
       "SOCIAL_GATHERING    0.018386\n",
       "FANCY_DATE          0.017842\n",
       "Name: occasion, dtype: float64"
      ]
     },
     "execution_count": 27,
     "metadata": {},
     "output_type": "execute_result"
    }
   ],
   "source": [
    "hockey_occasions.occasion.value_counts(normalize=True)[:10]"
   ]
  },
  {
   "cell_type": "code",
   "execution_count": 28,
   "metadata": {},
   "outputs": [
    {
     "data": {
      "text/plain": [
       "DINNER           0.254444\n",
       "LUNCH            0.165496\n",
       "UNK              0.113331\n",
       "CASUAL_DRINK     0.104685\n",
       "DRINKING         0.088431\n",
       "JUST_EATING      0.052877\n",
       "NOT_1            0.052262\n",
       "FAMILY_EVENT     0.043681\n",
       "FANCY_DATE       0.027232\n",
       "ROMANTIC_DATE    0.020432\n",
       "Name: occasion, dtype: float64"
      ]
     },
     "execution_count": 28,
     "metadata": {},
     "output_type": "execute_result"
    }
   ],
   "source": [
    "valentine_occasions.occasion.value_counts(normalize=True)[:10]"
   ]
  },
  {
   "cell_type": "code",
   "execution_count": 29,
   "metadata": {},
   "outputs": [
    {
     "data": {
      "text/plain": [
       "DINNER              0.250042\n",
       "LUNCH               0.147219\n",
       "UNK                 0.113357\n",
       "CASUAL_DRINK        0.098525\n",
       "DRINKING            0.081767\n",
       "FAMILY_EVENT        0.071732\n",
       "NOT_1               0.060379\n",
       "JUST_EATING         0.054987\n",
       "FANCY_DATE          0.024839\n",
       "SOCIAL_GATHERING    0.020376\n",
       "Name: occasion, dtype: float64"
      ]
     },
     "execution_count": 29,
     "metadata": {},
     "output_type": "execute_result"
    }
   ],
   "source": [
    "silvester_occasions.occasion.value_counts(normalize=True)[:10]"
   ]
  }
 ],
 "metadata": {
  "kernelspec": {
   "display_name": "Python 3",
   "language": "python",
   "name": "python3"
  },
  "language_info": {
   "codemirror_mode": {
    "name": "ipython",
    "version": 3
   },
   "file_extension": ".py",
   "mimetype": "text/x-python",
   "name": "python",
   "nbconvert_exporter": "python",
   "pygments_lexer": "ipython3",
   "version": "3.6.8"
  }
 },
 "nbformat": 4,
 "nbformat_minor": 2
}
