{
 "cells": [
  {
   "cell_type": "code",
   "execution_count": 2,
   "metadata": {},
   "outputs": [],
   "source": [
    "import numpy as np\n",
    "import pandas as pd\n",
    "import matplotlib.pyplot as plt\n",
    "import seaborn as sns\n",
    "%matplotlib inline"
   ]
  },
  {
   "cell_type": "code",
   "execution_count": 3,
   "metadata": {},
   "outputs": [],
   "source": [
    "df = pd.read_csv(\"../data/df_august.csv\")"
   ]
  },
  {
   "cell_type": "code",
   "execution_count": 4,
   "metadata": {},
   "outputs": [],
   "source": [
    "df.drop(\"city\", inplace=True, axis=1)"
   ]
  },
  {
   "cell_type": "markdown",
   "metadata": {},
   "source": [
    "### We have 320,805 entries in the data"
   ]
  },
  {
   "cell_type": "code",
   "execution_count": 14,
   "metadata": {},
   "outputs": [
    {
     "name": "stdout",
     "output_type": "stream",
     "text": [
      "<class 'pandas.core.frame.DataFrame'>\n",
      "RangeIndex: 320805 entries, 0 to 320804\n",
      "Data columns (total 23 columns):\n",
      "bar_id                          320805 non-null int64\n",
      "order_id                        320805 non-null int64\n",
      "order_time                      320805 non-null object\n",
      "order_item_id                   320805 non-null int64\n",
      "title                           320805 non-null object\n",
      "category_id                     319148 non-null float64\n",
      "beer_brand_id                   320805 non-null int64\n",
      "beer_serving_type_id            320805 non-null int64\n",
      "beer_volume                     320804 non-null float64\n",
      "item_qty                        320805 non-null float64\n",
      "sales_before_tax                320805 non-null float64\n",
      "sales_inc_tax                   320805 non-null float64\n",
      "guest_count                     320805 non-null int64\n",
      "timezone                        320805 non-null object\n",
      "bar_type_id                     320805 non-null int64\n",
      "bar_type                        302498 non-null object\n",
      "total_orders                    320805 non-null int64\n",
      "total_orders_category_id_1.0    320805 non-null int64\n",
      "total_orders_category_id_2.0    320805 non-null int64\n",
      "total_orders_category_id_3.0    320805 non-null int64\n",
      "total_orders_category_id_4.0    320805 non-null int64\n",
      "total_orders_category_id_5.0    320805 non-null int64\n",
      "total_orders_category_id_6.0    320805 non-null int64\n",
      "dtypes: float64(5), int64(14), object(4)\n",
      "memory usage: 56.3+ MB\n"
     ]
    }
   ],
   "source": [
    "df.info()"
   ]
  },
  {
   "cell_type": "markdown",
   "metadata": {},
   "source": [
    "### We have a total of 69,143 different table orders inside Toronto"
   ]
  },
  {
   "cell_type": "code",
   "execution_count": 44,
   "metadata": {},
   "outputs": [
    {
     "data": {
      "text/plain": [
       "69143"
      ]
     },
     "execution_count": 44,
     "metadata": {},
     "output_type": "execute_result"
    }
   ],
   "source": [
    "len(df[\"order_id\"].value_counts())"
   ]
  },
  {
   "cell_type": "markdown",
   "metadata": {},
   "source": [
    "### What is the avg number of items per table order?"
   ]
  },
  {
   "cell_type": "code",
   "execution_count": 46,
   "metadata": {},
   "outputs": [
    {
     "data": {
      "text/plain": [
       "4.639732149313741"
      ]
     },
     "execution_count": 46,
     "metadata": {},
     "output_type": "execute_result"
    }
   ],
   "source": [
    "df.groupby(\"order_id\").count()[\"total_orders\"].mean()"
   ]
  },
  {
   "cell_type": "markdown",
   "metadata": {},
   "source": [
    "### Looks like we have a long tail of total order values"
   ]
  },
  {
   "cell_type": "code",
   "execution_count": 73,
   "metadata": {},
   "outputs": [],
   "source": [
    "total_orders = df.groupby(\"order_id\")[\"total_orders\"].size()"
   ]
  },
  {
   "cell_type": "code",
   "execution_count": 76,
   "metadata": {},
   "outputs": [
    {
     "data": {
      "text/plain": [
       "2      13793\n",
       "3      11126\n",
       "1       9593\n",
       "4       9550\n",
       "5       6333\n",
       "6       4997\n",
       "7       3411\n",
       "8       2512\n",
       "9       1746\n",
       "10      1306\n",
       "11       986\n",
       "12       740\n",
       "13       540\n",
       "14       452\n",
       "15       349\n",
       "16       300\n",
       "17       224\n",
       "18       193\n",
       "20       142\n",
       "19       141\n",
       "22        87\n",
       "21        83\n",
       "24        81\n",
       "23        70\n",
       "25        52\n",
       "26        48\n",
       "27        36\n",
       "28        36\n",
       "29        20\n",
       "31        20\n",
       "       ...  \n",
       "90         2\n",
       "66         2\n",
       "70         1\n",
       "74         1\n",
       "67         1\n",
       "205        1\n",
       "69         1\n",
       "72         1\n",
       "132        1\n",
       "63         1\n",
       "145        1\n",
       "83         1\n",
       "58         1\n",
       "56         1\n",
       "54         1\n",
       "117        1\n",
       "179        1\n",
       "51         1\n",
       "114        1\n",
       "49         1\n",
       "112        1\n",
       "172        1\n",
       "170        1\n",
       "95         1\n",
       "93         1\n",
       "126        1\n",
       "152        1\n",
       "88         1\n",
       "86         1\n",
       "92         1\n",
       "Name: total_orders, Length: 86, dtype: int64"
      ]
     },
     "execution_count": 76,
     "metadata": {},
     "output_type": "execute_result"
    }
   ],
   "source": [
    "total_orders.value_counts()"
   ]
  },
  {
   "cell_type": "code",
   "execution_count": 77,
   "metadata": {},
   "outputs": [],
   "source": [
    "sns.set(style=\"whitegrid\")"
   ]
  },
  {
   "cell_type": "code",
   "execution_count": 79,
   "metadata": {},
   "outputs": [
    {
     "name": "stderr",
     "output_type": "stream",
     "text": [
      "'c' argument looks like a single numeric RGB or RGBA sequence, which should be avoided as value-mapping will have precedence in case its length matches with 'x' & 'y'.  Please use a 2-D array with a single row if you really want to specify the same RGB or RGBA value for all points.\n"
     ]
    },
    {
     "data": {
      "text/plain": [
       "<matplotlib.axes._subplots.AxesSubplot at 0x13d52e630>"
      ]
     },
     "execution_count": 79,
     "metadata": {},
     "output_type": "execute_result"
    },
    {
     "data": {
      "image/png": "[encoded data removed]",
      "text/plain": [
       "<Figure size 432x288 with 1 Axes>"
      ]
     },
     "metadata": {},
     "output_type": "display_data"
    }
   ],
   "source": [
    "sns.boxenplot(x=total_orders[:1000])"
   ]
  },
  {
   "cell_type": "code",
   "execution_count": 93,
   "metadata": {},
   "outputs": [
    {
     "data": {
      "text/plain": [
       "<matplotlib.axes._subplots.AxesSubplot at 0x13cc899e8>"
      ]
     },
     "execution_count": 93,
     "metadata": {},
     "output_type": "execute_result"
    },
    {
     "data": {
      "image/png": "[encoded data removed]",
      "text/plain": [
       "<Figure size 432x288 with 1 Axes>"
      ]
     },
     "metadata": {},
     "output_type": "display_data"
    }
   ],
   "source": [
    "total_orders.value_counts()[:10].plot.bar()"
   ]
  },
  {
   "cell_type": "markdown",
   "metadata": {},
   "source": [
    "### Looks like most table orders are made up of two item orders.. interesting. Does this mean most of these orders are done by one person or two people?"
   ]
  },
  {
   "cell_type": "code",
   "execution_count": 95,
   "metadata": {},
   "outputs": [
    {
     "data": {
      "text/plain": [
       "2    13793\n",
       "3    11126\n",
       "1     9593\n",
       "4     9550\n",
       "5     6333\n",
       "Name: total_orders, dtype: int64"
      ]
     },
     "execution_count": 95,
     "metadata": {},
     "output_type": "execute_result"
    }
   ],
   "source": [
    "total_orders.value_counts()[:5]"
   ]
  },
  {
   "cell_type": "markdown",
   "metadata": {},
   "source": [
    "### Insights - mapping from category ids to items:\n",
    "1. beer\n",
    "2. food\n",
    "3. liquer and alcohol\n",
    "4. soft drinks\n",
    "5. side dishes\n",
    "6. cocktails and wine"
   ]
  },
  {
   "cell_type": "markdown",
   "metadata": {},
   "source": [
    "### How many bars are we talking about?"
   ]
  },
  {
   "cell_type": "code",
   "execution_count": 17,
   "metadata": {},
   "outputs": [
    {
     "data": {
      "text/plain": [
       "320805"
      ]
     },
     "execution_count": 17,
     "metadata": {},
     "output_type": "execute_result"
    }
   ],
   "source": [
    "df[\"bar_id\"].count()"
   ]
  },
  {
   "cell_type": "markdown",
   "metadata": {},
   "source": [
    "### what is the distribution between these bars per order_ids?"
   ]
  },
  {
   "cell_type": "code",
   "execution_count": 36,
   "metadata": {},
   "outputs": [
    {
     "data": {
      "text/plain": [
       "<matplotlib.axes._subplots.AxesSubplot at 0x1281e11d0>"
      ]
     },
     "execution_count": 36,
     "metadata": {},
     "output_type": "execute_result"
    },
    {
     "data": {
      "image/png": "[encoded data removed]",
      "text/plain": [
       "<Figure size 432x288 with 1 Axes>"
      ]
     },
     "metadata": {
      "needs_background": "light"
     },
     "output_type": "display_data"
    }
   ],
   "source": [
    "df.groupby([\"bar_id\"]).count()[\"order_id\"].sort_values(ascending=False).plot.bar()"
   ]
  },
  {
   "cell_type": "markdown",
   "metadata": {},
   "source": [
    "### looks like there are disparities in terms of data (orders) we get per bar. Should we use all bars?"
   ]
  },
  {
   "cell_type": "code",
   "execution_count": 38,
   "metadata": {},
   "outputs": [
    {
     "data": {
      "text/plain": [
       "44"
      ]
     },
     "execution_count": 38,
     "metadata": {},
     "output_type": "execute_result"
    }
   ],
   "source": [
    "len(df[\"bar_id\"].value_counts())  #there are 44 different bars in Toronto"
   ]
  },
  {
   "cell_type": "markdown",
   "metadata": {},
   "source": [
    "## How many Null values do we have in the data?"
   ]
  },
  {
   "cell_type": "code",
   "execution_count": 39,
   "metadata": {},
   "outputs": [
    {
     "data": {
      "text/plain": [
       "bar_id                              0\n",
       "order_id                            0\n",
       "order_time                          0\n",
       "order_item_id                       0\n",
       "title                               0\n",
       "category_id                      1657\n",
       "beer_brand_id                       0\n",
       "beer_serving_type_id                0\n",
       "beer_volume                         1\n",
       "item_qty                            0\n",
       "sales_before_tax                    0\n",
       "sales_inc_tax                       0\n",
       "guest_count                         0\n",
       "timezone                            0\n",
       "bar_type_id                         0\n",
       "bar_type                        18307\n",
       "total_orders                        0\n",
       "total_orders_category_id_1.0        0\n",
       "total_orders_category_id_2.0        0\n",
       "total_orders_category_id_3.0        0\n",
       "total_orders_category_id_4.0        0\n",
       "total_orders_category_id_5.0        0\n",
       "total_orders_category_id_6.0        0\n",
       "dtype: int64"
      ]
     },
     "execution_count": 39,
     "metadata": {},
     "output_type": "execute_result"
    }
   ],
   "source": [
    "df.isnull().sum()"
   ]
  },
  {
   "cell_type": "code",
   "execution_count": 97,
   "metadata": {},
   "outputs": [],
   "source": [
    "## Back to total orders"
   ]
  },
  {
   "cell_type": "markdown",
   "metadata": {},
   "source": [
    "### lets look at total orders of 2s and 3s and 1s"
   ]
  },
  {
   "cell_type": "code",
   "execution_count": 5,
   "metadata": {},
   "outputs": [],
   "source": [
    "small_to = df[(df.total_orders == 2)]"
   ]
  },
  {
   "cell_type": "code",
   "execution_count": null,
   "metadata": {},
   "outputs": [],
   "source": [
    "### Almost 50% of orders "
   ]
  },
  {
   "cell_type": "code",
   "execution_count": 6,
   "metadata": {},
   "outputs": [
    {
     "data": {
      "text/plain": [
       "2.0    12882\n",
       "1.0     6456\n",
       "3.0     4059\n",
       "4.0     2570\n",
       "6.0      906\n",
       "5.0      612\n",
       "Name: category_id, dtype: int64"
      ]
     },
     "execution_count": 6,
     "metadata": {},
     "output_type": "execute_result"
    }
   ],
   "source": [
    "small_to[\"category_id\"].value_counts()"
   ]
  },
  {
   "cell_type": "code",
   "execution_count": 12,
   "metadata": {},
   "outputs": [
    {
     "data": {
      "text/plain": [
       "Index(['Unnamed: 0', 'bar_id', 'order_id', 'order_time', 'order_item_id',\n",
       "       'title', 'category_id', 'beer_brand_id', 'beer_serving_type_id',\n",
       "       'beer_volume', 'item_qty', 'sales_before_tax', 'sales_inc_tax',\n",
       "       'guest_count', 'timezone', 'bar_type_id', 'bar_type', 'total_orders',\n",
       "       'total_orders_category_id_1.0', 'total_orders_category_id_2.0',\n",
       "       'total_orders_category_id_3.0', 'total_orders_category_id_4.0',\n",
       "       'total_orders_category_id_5.0', 'total_orders_category_id_6.0'],\n",
       "      dtype='object')"
      ]
     },
     "execution_count": 12,
     "metadata": {},
     "output_type": "execute_result"
    }
   ],
   "source": [
    "small_to.columns"
   ]
  },
  {
   "cell_type": "code",
   "execution_count": 40,
   "metadata": {},
   "outputs": [
    {
     "name": "stderr",
     "output_type": "stream",
     "text": [
      "/Users/danielastepanov/miniconda3/envs/ds/lib/python3.6/site-packages/ipykernel_launcher.py:1: SettingWithCopyWarning: \n",
      "A value is trying to be set on a copy of a slice from a DataFrame.\n",
      "Try using .loc[row_indexer,col_indexer] = value instead\n",
      "\n",
      "See the caveats in the documentation: http://pandas.pydata.org/pandas-docs/stable/indexing.html#indexing-view-versus-copy\n",
      "  \"\"\"Entry point for launching an IPython kernel.\n"
     ]
    }
   ],
   "source": [
    "small_to[\"category_id\"] = small_to.category_id.apply(lambda x: str(x))"
   ]
  },
  {
   "cell_type": "code",
   "execution_count": 45,
   "metadata": {},
   "outputs": [
    {
     "data": {
      "text/plain": [
       "2.0    0.451559\n",
       "1.0    0.217781\n",
       "3.0    0.147387\n",
       "4.0    0.116153\n",
       "6.0    0.035221\n",
       "5.0    0.027579\n",
       "nan    0.004320\n",
       "Name: category_id, dtype: float64"
      ]
     },
     "execution_count": 45,
     "metadata": {},
     "output_type": "execute_result"
    }
   ],
   "source": [
    "small_to.groupby([\"order_id\", \"category_id\"]).count().reset_index()[\"category_id\"].value_counts(normalize=True)"
   ]
  },
  {
   "cell_type": "markdown",
   "metadata": {},
   "source": [
    "### Seems like almost 50% of ordered items are food items, them 20% are beers, and 15% are hard liquer."
   ]
  },
  {
   "cell_type": "markdown",
   "metadata": {},
   "source": [
    "## Lets see the numbers for orders with 3 and 1 total"
   ]
  },
  {
   "cell_type": "code",
   "execution_count": 47,
   "metadata": {},
   "outputs": [
    {
     "name": "stderr",
     "output_type": "stream",
     "text": [
      "/Users/danielastepanov/miniconda3/envs/ds/lib/python3.6/site-packages/ipykernel_launcher.py:2: SettingWithCopyWarning: \n",
      "A value is trying to be set on a copy of a slice from a DataFrame.\n",
      "Try using .loc[row_indexer,col_indexer] = value instead\n",
      "\n",
      "See the caveats in the documentation: http://pandas.pydata.org/pandas-docs/stable/indexing.html#indexing-view-versus-copy\n",
      "  \n"
     ]
    },
    {
     "data": {
      "text/plain": [
       "2.0    0.502971\n",
       "1.0    0.261441\n",
       "3.0    0.141562\n",
       "4.0    0.042531\n",
       "6.0    0.038778\n",
       "5.0    0.008652\n",
       "nan    0.004065\n",
       "Name: category_id, dtype: float64"
      ]
     },
     "execution_count": 47,
     "metadata": {},
     "output_type": "execute_result"
    }
   ],
   "source": [
    "small_to = df[(df.total_orders == 1)]\n",
    "small_to[\"category_id\"] = small_to.category_id.apply(lambda x: str(x))\n",
    "small_to.groupby([\"order_id\", \"category_id\"]).count().reset_index()[\"category_id\"].value_counts(normalize=True)"
   ]
  },
  {
   "cell_type": "code",
   "execution_count": 48,
   "metadata": {},
   "outputs": [
    {
     "name": "stderr",
     "output_type": "stream",
     "text": [
      "/Users/danielastepanov/miniconda3/envs/ds/lib/python3.6/site-packages/ipykernel_launcher.py:2: SettingWithCopyWarning: \n",
      "A value is trying to be set on a copy of a slice from a DataFrame.\n",
      "Try using .loc[row_indexer,col_indexer] = value instead\n",
      "\n",
      "See the caveats in the documentation: http://pandas.pydata.org/pandas-docs/stable/indexing.html#indexing-view-versus-copy\n",
      "  \n"
     ]
    },
    {
     "data": {
      "text/plain": [
       "2.0    0.436434\n",
       "1.0    0.199942\n",
       "3.0    0.146631\n",
       "4.0    0.137457\n",
       "6.0    0.037510\n",
       "5.0    0.036550\n",
       "nan    0.005475\n",
       "Name: category_id, dtype: float64"
      ]
     },
     "execution_count": 48,
     "metadata": {},
     "output_type": "execute_result"
    }
   ],
   "source": [
    "small_to = df[(df.total_orders == 3)]\n",
    "small_to[\"category_id\"] = small_to.category_id.apply(lambda x: str(x))\n",
    "small_to.groupby([\"order_id\", \"category_id\"]).count().reset_index()[\"category_id\"].value_counts(normalize=True)"
   ]
  }
 ],
 "metadata": {
  "kernelspec": {
   "display_name": "Python 3",
   "language": "python",
   "name": "python3"
  },
  "language_info": {
   "codemirror_mode": {
    "name": "ipython",
    "version": 3
   },
   "file_extension": ".py",
   "mimetype": "text/x-python",
   "name": "python",
   "nbconvert_exporter": "python",
   "pygments_lexer": "ipython3",
   "version": "3.6.8"
  }
 },
 "nbformat": 4,
 "nbformat_minor": 2
}
