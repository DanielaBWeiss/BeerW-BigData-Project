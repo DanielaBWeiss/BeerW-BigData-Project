{
 "cells": [
  {
   "cell_type": "code",
   "execution_count": 1,
   "metadata": {},
   "outputs": [],
   "source": [
    "import pandas as pd\n"
   ]
  },
  {
   "cell_type": "code",
   "execution_count": 188,
   "metadata": {},
   "outputs": [],
   "source": [
    "val = pd.read_csv(\"../data/toronto_valentine_20190210_20190216.csv\")\n",
    "hoc = pd.read_csv(\"../data/korea_toronto_hocky_20190410_20190424.csv\")\n"
   ]
  },
  {
   "cell_type": "code",
   "execution_count": 17,
   "metadata": {},
   "outputs": [
    {
     "data": {
      "text/plain": [
       "521095549    375\n",
       "513690152     60\n",
       "513558466     60\n",
       "521765889     55\n",
       "519022853     47\n",
       "513558528     41\n",
       "519021838     36\n",
       "521911713     36\n",
       "521943786     34\n",
       "513690401     32\n",
       "522778513     31\n",
       "525659494     30\n",
       "524542006     30\n",
       "523722790     30\n",
       "524459282     30\n",
       "525659502     29\n",
       "522779177     29\n",
       "519022596     28\n",
       "524221650     28\n",
       "523539432     27\n",
       "521609487     24\n",
       "521068167     24\n",
       "522779124     24\n",
       "512704015     23\n",
       "513462991     23\n",
       "513690475     23\n",
       "520253648     22\n",
       "512806163     22\n",
       "514690232     22\n",
       "525623573     22\n",
       "            ... \n",
       "524442311      1\n",
       "512806168      1\n",
       "525522783      1\n",
       "512570122      1\n",
       "522554472      1\n",
       "513335779      1\n",
       "512742411      1\n",
       "523336710      1\n",
       "519023098      1\n",
       "513325747      1\n",
       "519019834      1\n",
       "519632431      1\n",
       "519023097      1\n",
       "512855584      1\n",
       "521588724      1\n",
       "512704022      1\n",
       "514472272      1\n",
       "524853696      1\n",
       "513335776      1\n",
       "522599902      1\n",
       "522633575      1\n",
       "521096512      1\n",
       "514472296      1\n",
       "514492365      1\n",
       "521095550      1\n",
       "511233432      1\n",
       "511233424      1\n",
       "522697104      1\n",
       "525667672      1\n",
       "521096515      1\n",
       "Name: order_id, Length: 2925, dtype: int64"
      ]
     },
     "execution_count": 17,
     "metadata": {},
     "output_type": "execute_result"
    }
   ],
   "source": [
    "hoc[hoc.bar_id == 19088].order_id.value_counts() "
   ]
  },
  {
   "cell_type": "code",
   "execution_count": null,
   "metadata": {},
   "outputs": [],
   "source": [
    "Lets remove those that have a guest count of zeros"
   ]
  },
  {
   "cell_type": "code",
   "execution_count": 191,
   "metadata": {},
   "outputs": [],
   "source": [
    "data = hoc[~(hoc.guest_count == 0)]\n",
    "data_val = val[~(val.guest_count == 0)]"
   ]
  },
  {
   "cell_type": "code",
   "execution_count": 194,
   "metadata": {},
   "outputs": [
    {
     "data": {
      "text/plain": [
       "645787"
      ]
     },
     "execution_count": 194,
     "metadata": {},
     "output_type": "execute_result"
    }
   ],
   "source": [
    "len(hoc)"
   ]
  },
  {
   "cell_type": "code",
   "execution_count": 190,
   "metadata": {},
   "outputs": [
    {
     "data": {
      "text/plain": [
       "478447"
      ]
     },
     "execution_count": 190,
     "metadata": {},
     "output_type": "execute_result"
    }
   ],
   "source": [
    "len(data)"
   ]
  },
  {
   "cell_type": "code",
   "execution_count": 192,
   "metadata": {},
   "outputs": [
    {
     "data": {
      "text/plain": [
       "221888"
      ]
     },
     "execution_count": 192,
     "metadata": {},
     "output_type": "execute_result"
    }
   ],
   "source": [
    "len(val)"
   ]
  },
  {
   "cell_type": "code",
   "execution_count": 193,
   "metadata": {},
   "outputs": [
    {
     "data": {
      "text/plain": [
       "169351"
      ]
     },
     "execution_count": 193,
     "metadata": {},
     "output_type": "execute_result"
    }
   ],
   "source": [
    "len(data_val)"
   ]
  },
  {
   "cell_type": "code",
   "execution_count": 195,
   "metadata": {},
   "outputs": [
    {
     "data": {
      "text/plain": [
       "1      0.369362\n",
       "2      0.281296\n",
       "3      0.126547\n",
       "4      0.086572\n",
       "5      0.042671\n",
       "6      0.027123\n",
       "7      0.014917\n",
       "8      0.010829\n",
       "9      0.007809\n",
       "10     0.005856\n",
       "11     0.004642\n",
       "12     0.004310\n",
       "13     0.002947\n",
       "14     0.002381\n",
       "15     0.001651\n",
       "19     0.001419\n",
       "18     0.001323\n",
       "17     0.001244\n",
       "16     0.001158\n",
       "21     0.000765\n",
       "20     0.000665\n",
       "23     0.000614\n",
       "22     0.000500\n",
       "26     0.000462\n",
       "48     0.000445\n",
       "24     0.000431\n",
       "58     0.000397\n",
       "27     0.000320\n",
       "37     0.000265\n",
       "33     0.000230\n",
       "35     0.000184\n",
       "29     0.000163\n",
       "38     0.000153\n",
       "25     0.000075\n",
       "32     0.000069\n",
       "28     0.000050\n",
       "34     0.000048\n",
       "42     0.000036\n",
       "30     0.000023\n",
       "52     0.000017\n",
       "73     0.000017\n",
       "60     0.000008\n",
       "55     0.000004\n",
       "50     0.000002\n",
       "108    0.000002\n",
       "Name: guest_count, dtype: float64"
      ]
     },
     "execution_count": 195,
     "metadata": {},
     "output_type": "execute_result"
    }
   ],
   "source": [
    "data.guest_count.value_counts(normalize=True) #cool"
   ]
  },
  {
   "cell_type": "code",
   "execution_count": 196,
   "metadata": {},
   "outputs": [],
   "source": [
    "#Will only do for the hockey data since this is just for the code"
   ]
  },
  {
   "cell_type": "code",
   "execution_count": 197,
   "metadata": {},
   "outputs": [
    {
     "name": "stderr",
     "output_type": "stream",
     "text": [
      "/Users/danielastepanov/miniconda3/envs/ds/lib/python3.6/site-packages/ipykernel_launcher.py:1: SettingWithCopyWarning: \n",
      "A value is trying to be set on a copy of a slice from a DataFrame.\n",
      "Try using .loc[row_indexer,col_indexer] = value instead\n",
      "\n",
      "See the caveats in the documentation: http://pandas.pydata.org/pandas-docs/stable/indexing.html#indexing-view-versus-copy\n",
      "  \"\"\"Entry point for launching an IPython kernel.\n",
      "/Users/danielastepanov/miniconda3/envs/ds/lib/python3.6/site-packages/ipykernel_launcher.py:2: SettingWithCopyWarning: \n",
      "A value is trying to be set on a copy of a slice from a DataFrame.\n",
      "Try using .loc[row_indexer,col_indexer] = value instead\n",
      "\n",
      "See the caveats in the documentation: http://pandas.pydata.org/pandas-docs/stable/indexing.html#indexing-view-versus-copy\n",
      "  \n",
      "/Users/danielastepanov/miniconda3/envs/ds/lib/python3.6/site-packages/ipykernel_launcher.py:3: SettingWithCopyWarning: \n",
      "A value is trying to be set on a copy of a slice from a DataFrame.\n",
      "Try using .loc[row_indexer,col_indexer] = value instead\n",
      "\n",
      "See the caveats in the documentation: http://pandas.pydata.org/pandas-docs/stable/indexing.html#indexing-view-versus-copy\n",
      "  This is separate from the ipykernel package so we can avoid doing imports until\n"
     ]
    }
   ],
   "source": [
    "data[\"order_time\"] = pd.to_datetime(data[\"order_time\"], format=\"%Y-%m-%d %H:%M:%S.%f\")\n",
    "data[\"order_item_time\"] = pd.to_datetime(data[\"order_item_time\"], format=\"%Y-%m-%d %H:%M:%S.%f\")\n",
    "data[\"order_time_closed\"] = pd.to_datetime(data[\"order_time_closed\"], format=\"%Y-%m-%d %H:%M:%S.%f\")"
   ]
  },
  {
   "cell_type": "code",
   "execution_count": 198,
   "metadata": {},
   "outputs": [],
   "source": [
    "data = pd.concat([data, pd.get_dummies(data[\"category_id\"], prefix=\"category_id\")], axis=1)\n",
    "# count total of orders per category id\n",
    "category_ids = [float(i) for i in range(1, 7)]\n",
    "for category_id in category_ids:\n",
    "    data[\"total_orders_category_id_\" + str(category_id)] =\\\n",
    "        data.groupby(\"order_id\")[\"category_id_\" + str(category_id)].transform(\"sum\")"
   ]
  },
  {
   "cell_type": "code",
   "execution_count": 199,
   "metadata": {},
   "outputs": [],
   "source": [
    "total_categories_ids = [\"total_orders_category_id_\" + str(float(i)) for i in range(1, 7)]\n",
    "total_categories_ids_to_sum = [column for column in total_categories_ids if column != \"total_orders_category_id_5.0\"]\n",
    "data[\"total_orders\"] = data.apply(lambda order: sum(order[column] for column in total_categories_ids_to_sum), axis=1)\n"
   ]
  },
  {
   "cell_type": "code",
   "execution_count": 200,
   "metadata": {},
   "outputs": [],
   "source": [
    "data[\"order_day_of_week\"] = data.order_time.apply(lambda ticket: ticket.day_name())\n",
    "\n",
    "\n",
    "# 4. Add `period_of_day` feature ('breakfast', 'lunch', 'afternoon', 'dinner', 'night')\n",
    "data[\"order_hour\"] = data.order_time.apply(lambda ticket: ticket.hour)\n",
    "\n",
    "def period_of_day(hour):\n",
    "    if hour >= 6 and hour < 11: return 'breakfast'\n",
    "    elif hour >= 11 and hour < 14: return 'lunch'\n",
    "    elif hour >= 14 and hour < 18: return 'afternoon'\n",
    "    elif hour >= 18 and hour < 21: return 'dinner'\n",
    "    elif hour >= 21 and hour < 23: return 'hang_out'\n",
    "    elif hour >= 23 or hour < 6: return 'night'\n",
    "\n",
    "data[\"period_of_day\"] = data.apply(lambda order: period_of_day(int(order[\"order_hour\"])), axis=1)\n",
    "#data.drop(\"order_hour\", axis=1, inplace=True)\n",
    "\n",
    "# 5. Add `is_weekend` feature\n",
    "weekend = [\"Friday\", \"Saturday\", \"Sunday\"]\n",
    "data[\"is_weekend\"] = data.order_day_of_week.apply(lambda ticket_day: ticket_day in weekend)"
   ]
  },
  {
   "cell_type": "code",
   "execution_count": 162,
   "metadata": {},
   "outputs": [],
   "source": [
    "sauces = set()\n",
    "sub = set()\n",
    "# drop unrelevant titles\n",
    "def filter_titles(row):\n",
    "    title = row[\"title\"].lower()\n",
    "    price = row[\"sales_before_tax\"]\n",
    "\n",
    "    if \"xtra\" in title:\n",
    "        return False\n",
    "    if \"sub\" in title and price == 0:\n",
    "        sub.add(title)\n",
    "        return False\n",
    "    elif \"add\" in title:\n",
    "        return False\n",
    "    elif \"sauce\" in title:\n",
    "        for t in foods_w_sauce: \n",
    "            if t in title: return True\n",
    "        for t in remove_w_sauce:\n",
    "            if t in title: return False\n",
    "        sauces.add(title)\n",
    "        return False\n",
    "    elif \"no \" in title:\n",
    "        return False\n",
    "    elif \"no.\" in title:\n",
    "        return False\n",
    "    elif \"-no \" in title:\n",
    "        return False\n",
    "    elif \"side \" in title:\n",
    "        return False\n",
    "    elif \"+\" in title:\n",
    "        return False\n",
    "    elif \"dip\" in title:\n",
    "        return False\n",
    "    elif \"blue cheese\" in title:\n",
    "        return False\n",
    "    elif \"bbq\" in title:\n",
    "        return False\n",
    "    elif \"n/c\" in title:\n",
    "        return False\n",
    "    elif \"s/o\" in title:\n",
    "        return False\n",
    "    elif title == '' or title == 'garlic.aioli' or title == 'gluten' or title == 'hot n honey' or title == 'honey garlic' or title == 'kids.' or title == 'to go':\n",
    "        return False\n",
    "    else:\n",
    "        return True\n",
    "\n",
    "foods_w_sauce = [\"fingers\", \"spaghetti\", \"poutine\", \"wings\", \"pate\", \"bowl\", \"fries\", \"rigatoni\", \"pasta\",\n",
    "                \"linguini\", \"frite\"]\n",
    "remove_w_sauce = [\"no wing\", \"for wing\", \"on\", \"side\"]\n",
    "whitelist = set('.abcdefghijklmnopqrstuvwxyz \\\\//')\n",
    "    \n",
    " "
   ]
  },
  {
   "cell_type": "code",
   "execution_count": 201,
   "metadata": {},
   "outputs": [],
   "source": [
    "data.title = data.title.apply(lambda x: str(x))\n",
    "data = data[data.apply(lambda x: filter_titles(x), axis=1)]\n"
   ]
  },
  {
   "cell_type": "code",
   "execution_count": 165,
   "metadata": {},
   "outputs": [
    {
     "name": "stderr",
     "output_type": "stream",
     "text": [
      "/Users/danielastepanov/miniconda3/envs/ds/lib/python3.6/site-packages/ipykernel_launcher.py:15: SettingWithCopyWarning: \n",
      "A value is trying to be set on a copy of a slice from a DataFrame.\n",
      "Try using .loc[row_indexer,col_indexer] = value instead\n",
      "\n",
      "See the caveats in the documentation: http://pandas.pydata.org/pandas-docs/stable/indexing.html#indexing-view-versus-copy\n",
      "  from ipykernel import kernelapp as app\n",
      "/Users/danielastepanov/miniconda3/envs/ds/lib/python3.6/site-packages/ipykernel_launcher.py:21: SettingWithCopyWarning: \n",
      "A value is trying to be set on a copy of a slice from a DataFrame.\n",
      "Try using .loc[row_indexer,col_indexer] = value instead\n",
      "\n",
      "See the caveats in the documentation: http://pandas.pydata.org/pandas-docs/stable/indexing.html#indexing-view-versus-copy\n",
      "/Users/danielastepanov/miniconda3/envs/ds/lib/python3.6/site-packages/ipykernel_launcher.py:23: SettingWithCopyWarning: \n",
      "A value is trying to be set on a copy of a slice from a DataFrame.\n",
      "Try using .loc[row_indexer,col_indexer] = value instead\n",
      "\n",
      "See the caveats in the documentation: http://pandas.pydata.org/pandas-docs/stable/indexing.html#indexing-view-versus-copy\n"
     ]
    }
   ],
   "source": [
    "   \n",
    "\n",
    "sharable_foods = [\n",
    "    \"pizza\", \"cake\", \"hot pot\", \"nachos\", \"guac\", \"wings\", \"Focaccia\", \"bread\", \"fries\", \"pretzels\",\n",
    "\"quesadilla\", \"nuts\", \"fondue\", \"calamari\", \"fingers sauced\",\"chicken fingers\", \"chkn fingers\", \"quesa stack\" \n",
    "]\n",
    "\n",
    "def find_sharable(title):\n",
    "    title = \" \".join(title.lower().split(\".\"))\n",
    "    for s in sharable_foods:\n",
    "        if s in title:\n",
    "            return 1\n",
    "    return 0\n",
    "\n",
    "data[\"sharable\"] = data.title.apply(lambda x: find_sharable(x))\n",
    "\n",
    "\n",
    "\n",
    "\n",
    "# meal with kids\n",
    "data[\"kids_meal\"] = data.title.apply(lambda x: 1 if 'kid' in x else 0)\n",
    "# birthday\n",
    "data[\"birthday\"] = data.title.apply(lambda x: 1 if 'birthday' in x else 0)\n"
   ]
  },
  {
   "cell_type": "code",
   "execution_count": 202,
   "metadata": {},
   "outputs": [],
   "source": [
    "data[\"order_minute\"] = data.order_time.apply(lambda ticket: ticket.minute)\n",
    "data[\"order_item_minute\"] = data.order_item_time.apply(lambda ticket: ticket.minute)\n",
    "data[\"order_item_hour\"] = data.order_item_time.apply(lambda ticket: ticket.hour)\n",
    "data[\"order_close_minute\"] = data.order_time_closed.apply(lambda ticket: ticket.minute)\n",
    "data[\"order_close_hour\"] = data.order_time_closed.apply(lambda ticket: ticket.hour)"
   ]
  },
  {
   "cell_type": "code",
   "execution_count": 86,
   "metadata": {},
   "outputs": [
    {
     "data": {
      "text/plain": [
       "Timestamp('2019-04-16 12:01:00')"
      ]
     },
     "execution_count": 86,
     "metadata": {},
     "output_type": "execute_result"
    }
   ],
   "source": [
    "data.order_time[1]"
   ]
  },
  {
   "cell_type": "code",
   "execution_count": 95,
   "metadata": {},
   "outputs": [],
   "source": [
    "d = (data.order_time[14] - data.order_time[1])"
   ]
  },
  {
   "cell_type": "code",
   "execution_count": 101,
   "metadata": {},
   "outputs": [
    {
     "data": {
      "text/plain": [
       "49"
      ]
     },
     "execution_count": 101,
     "metadata": {},
     "output_type": "execute_result"
    }
   ],
   "source": [
    "d.components.minutes"
   ]
  },
  {
   "cell_type": "code",
   "execution_count": 97,
   "metadata": {},
   "outputs": [
    {
     "data": {
      "text/plain": [
       "7.816666666666666"
      ]
     },
     "execution_count": 97,
     "metadata": {},
     "output_type": "execute_result"
    }
   ],
   "source": [
    "d / pd.Timedelta('1 hour')"
   ]
  },
  {
   "cell_type": "code",
   "execution_count": 246,
   "metadata": {},
   "outputs": [],
   "source": [
    "import math\n",
    "\n",
    "def find_total_time(data):\n",
    "    order_ids = list(data.order_id.value_counts().keys())\n",
    "    total_dict = {}\n",
    "    for order in order_ids:\n",
    "        total_dict[order] = {}\n",
    "        df_order = data[data.order_id == order]\n",
    "        #print()\n",
    "        #Calculating total time\n",
    "        closing_time = list(df_order.order_time_closed)[0]\n",
    "        #print(\"closing time \", closing_time)\n",
    "        item_times = list(df_order.order_item_time.sort_values())\n",
    "        earliest_ordering_time = item_times[0]\n",
    "        order_time = list(df_order.order_time)[0]\n",
    "        if order_time < earliest_ordering_time: \n",
    "            total_time = closing_time - order_time\n",
    "        else: total_time = closing_time - earliest_ordering_time\n",
    "        #print(\"total time before, \",total_time)\n",
    "        total_dict[order][\"total_time\"] = total_time / pd.Timedelta('1 hour')\n",
    "        #print(\"total time \", total_dict[order][\"total_time\"])\n",
    "        #print()\n",
    "        #Calculating mealflow\n",
    "        prev = 0\n",
    "        prev_meal_flow_step = 0\n",
    "        total_dict[order][\"meal_step\"] = {}\n",
    "        total_dict[order][\"meal_flow\"] = {}\n",
    "        total_steps = 0\n",
    "        for i,item in enumerate(item_times):\n",
    "            #print(\"First item \", item)\n",
    "            if item not in total_dict[order][\"meal_step\"]: total_dict[order][\"meal_step\"][item] = i\n",
    "            \n",
    "            if prev == 0:\n",
    "                diff = (item - order_time)\n",
    "                flow_step = math.ceil(((diff.components.hours*60) + diff.components.minutes) /4)\n",
    "                prev_meal_flow_step = flow_step\n",
    "                total_dict[order][\"meal_flow\"][item] = flow_step\n",
    "                total_dict[order][\"meal_flow_beginning\"] = flow_step\n",
    "                prev = item\n",
    "                #print(\"Prev item \", prev)\n",
    "                #print(\"flow step \", flow_step)\n",
    "                continue\n",
    "\n",
    "            #print(\"Prev item \", prev)\n",
    "            if item == prev:\n",
    "                continue\n",
    "\n",
    "            diff = item - prev\n",
    "            flow_step = math.ceil(((diff.components.hours*60) + diff.components.minutes) /4) + prev_meal_flow_step\n",
    "            #print(\"current meal flow step \", flow_step)\n",
    "            #print(\"previous flow step \", prev_meal_flow_step)\n",
    "            total_dict[order][\"meal_flow\"][item] = flow_step\n",
    "            prev_meal_flow_step = flow_step \n",
    "            prev = item\n",
    "        \n",
    "        diff = closing_time - item_times[-1]\n",
    "        last_flow_step = math.ceil(((diff.components.hours*60) + diff.components.minutes) /4)\n",
    "        total_steps = last_flow_step + prev_meal_flow_step\n",
    "        #print(\"last flow step \", diff)\n",
    "        total_dict[order][\"meal_flow_last_to_close\"] = last_flow_step\n",
    "        total_dict[order][\"total_meal_flow_steps\"] = total_steps\n",
    "        #print(\"total flow steps \", last_flow_step)\n",
    "     \n",
    "    return total_dict\n",
    "  \n",
    "total_dict = find_total_time(data)"
   ]
  },
  {
   "cell_type": "code",
   "execution_count": 247,
   "metadata": {},
   "outputs": [],
   "source": [
    "data[\"total_order_time\"] = data.order_id.apply(lambda x: total_dict[x][\"total_time\"])"
   ]
  },
  {
   "cell_type": "code",
   "execution_count": null,
   "metadata": {},
   "outputs": [],
   "source": []
  },
  {
   "cell_type": "code",
   "execution_count": 248,
   "metadata": {},
   "outputs": [],
   "source": [
    "data[\"meal_step\"] = data.apply(lambda x: total_dict[x.order_id][\"meal_step\"][x.order_item_time], axis=1)"
   ]
  },
  {
   "cell_type": "code",
   "execution_count": 251,
   "metadata": {},
   "outputs": [],
   "source": [
    "data[\"meal_flow_last_to_close\"] = data.apply(lambda x: total_dict[x.order_id][\"meal_flow_last_to_close\"], axis=1)"
   ]
  },
  {
   "cell_type": "code",
   "execution_count": 252,
   "metadata": {},
   "outputs": [],
   "source": [
    "data[\"total_meal_flow_steps\"] = data.order_id.apply(lambda x: total_dict[x][\"total_meal_flow_steps\"])"
   ]
  },
  {
   "cell_type": "code",
   "execution_count": 253,
   "metadata": {},
   "outputs": [],
   "source": [
    "data[\"meal_flow_step\"] = data.apply(lambda x: total_dict[x.order_id][\"meal_flow\"][x.order_item_time], axis=1)"
   ]
  },
  {
   "cell_type": "code",
   "execution_count": 181,
   "metadata": {},
   "outputs": [],
   "source": [
    "#data.to_csv(\"hoc_features.csv\", index=False)"
   ]
  },
  {
   "cell_type": "code",
   "execution_count": 184,
   "metadata": {},
   "outputs": [
    {
     "data": {
      "text/plain": [
       "Index(['bar_id', 'order_id', 'order_time', 'order_time_closed',\n",
       "       'order_item_time', 'order_item_id', 'item_qty', 'sales_before_tax',\n",
       "       'sales_inc_tax', 'guest_count', 'title', 'category_id', 'beer_brand_id',\n",
       "       'beer_serving_type_id', 'beer_volume', 'category_id_1.0',\n",
       "       'category_id_2.0', 'category_id_3.0', 'category_id_4.0',\n",
       "       'category_id_5.0', 'category_id_6.0', 'total_orders_category_id_1.0',\n",
       "       'total_orders_category_id_2.0', 'total_orders_category_id_3.0',\n",
       "       'total_orders_category_id_4.0', 'total_orders_category_id_5.0',\n",
       "       'total_orders_category_id_6.0', 'total_orders', 'order_day_of_week',\n",
       "       'order_hour', 'period_of_day', 'is_weekend', 'sharable', 'kids_meal',\n",
       "       'birthday', 'order_minute', 'order_item_minute', 'order_item_hour',\n",
       "       'order_close_minute', 'order_close_hour', 'total_order_time',\n",
       "       'meal_step', 'meal_flow_step', 'last_step'],\n",
       "      dtype='object')"
      ]
     },
     "execution_count": 184,
     "metadata": {},
     "output_type": "execute_result"
    }
   ],
   "source": [
    "data.columns"
   ]
  },
  {
   "cell_type": "code",
   "execution_count": 255,
   "metadata": {},
   "outputs": [
    {
     "data": {
      "text/html": [
       "<div>\n",
       "<style scoped>\n",
       "    .dataframe tbody tr th:only-of-type {\n",
       "        vertical-align: middle;\n",
       "    }\n",
       "\n",
       "    .dataframe tbody tr th {\n",
       "        vertical-align: top;\n",
       "    }\n",
       "\n",
       "    .dataframe thead th {\n",
       "        text-align: right;\n",
       "    }\n",
       "</style>\n",
       "<table border=\"1\" class=\"dataframe\">\n",
       "  <thead>\n",
       "    <tr style=\"text-align: right;\">\n",
       "      <th></th>\n",
       "      <th>order_time</th>\n",
       "      <th>order_time_closed</th>\n",
       "      <th>order_item_time</th>\n",
       "      <th>item_qty</th>\n",
       "      <th>guest_count</th>\n",
       "      <th>title</th>\n",
       "      <th>total_order_time</th>\n",
       "      <th>meal_step</th>\n",
       "      <th>meal_flow_step</th>\n",
       "      <th>last_step</th>\n",
       "      <th>total_meal_flow_steps</th>\n",
       "      <th>meal_flow_last_to_close</th>\n",
       "    </tr>\n",
       "  </thead>\n",
       "  <tbody>\n",
       "    <tr>\n",
       "      <th>640153</th>\n",
       "      <td>2019-04-20 11:58:00</td>\n",
       "      <td>2019-04-20 14:20:05</td>\n",
       "      <td>2019-04-20 12:57:12</td>\n",
       "      <td>1.0</td>\n",
       "      <td>4</td>\n",
       "      <td>$Swt.pot.fries$</td>\n",
       "      <td>2.368056</td>\n",
       "      <td>1</td>\n",
       "      <td>15</td>\n",
       "      <td>2019-04-20 12:57:12</td>\n",
       "      <td>36</td>\n",
       "      <td>21</td>\n",
       "    </tr>\n",
       "    <tr>\n",
       "      <th>640154</th>\n",
       "      <td>2019-04-20 11:58:00</td>\n",
       "      <td>2019-04-20 14:20:05</td>\n",
       "      <td>2019-04-20 12:57:12</td>\n",
       "      <td>1.0</td>\n",
       "      <td>4</td>\n",
       "      <td>KIDBEV</td>\n",
       "      <td>2.368056</td>\n",
       "      <td>1</td>\n",
       "      <td>15</td>\n",
       "      <td>2019-04-20 12:57:12</td>\n",
       "      <td>36</td>\n",
       "      <td>21</td>\n",
       "    </tr>\n",
       "    <tr>\n",
       "      <th>640156</th>\n",
       "      <td>2019-04-20 11:58:00</td>\n",
       "      <td>2019-04-20 14:20:05</td>\n",
       "      <td>2019-04-20 12:57:12</td>\n",
       "      <td>1.0</td>\n",
       "      <td>4</td>\n",
       "      <td>KIDS BURGER</td>\n",
       "      <td>2.368056</td>\n",
       "      <td>1</td>\n",
       "      <td>15</td>\n",
       "      <td>2019-04-20 12:57:12</td>\n",
       "      <td>36</td>\n",
       "      <td>21</td>\n",
       "    </tr>\n",
       "    <tr>\n",
       "      <th>640157</th>\n",
       "      <td>2019-04-20 11:58:00</td>\n",
       "      <td>2019-04-20 14:20:05</td>\n",
       "      <td>2019-04-20 12:57:12</td>\n",
       "      <td>1.0</td>\n",
       "      <td>4</td>\n",
       "      <td>CHEESE.BURGER</td>\n",
       "      <td>2.368056</td>\n",
       "      <td>1</td>\n",
       "      <td>15</td>\n",
       "      <td>2019-04-20 12:57:12</td>\n",
       "      <td>36</td>\n",
       "      <td>21</td>\n",
       "    </tr>\n",
       "    <tr>\n",
       "      <th>640158</th>\n",
       "      <td>2019-04-20 11:58:00</td>\n",
       "      <td>2019-04-20 14:20:05</td>\n",
       "      <td>2019-04-20 12:41:12</td>\n",
       "      <td>1.0</td>\n",
       "      <td>4</td>\n",
       "      <td>MILL ST ORG.XL</td>\n",
       "      <td>2.368056</td>\n",
       "      <td>0</td>\n",
       "      <td>11</td>\n",
       "      <td>2019-04-20 12:57:12</td>\n",
       "      <td>36</td>\n",
       "      <td>21</td>\n",
       "    </tr>\n",
       "    <tr>\n",
       "      <th>640159</th>\n",
       "      <td>2019-04-20 11:58:00</td>\n",
       "      <td>2019-04-20 14:20:05</td>\n",
       "      <td>2019-04-20 12:57:12</td>\n",
       "      <td>1.0</td>\n",
       "      <td>4</td>\n",
       "      <td>KIDS BURGER</td>\n",
       "      <td>2.368056</td>\n",
       "      <td>1</td>\n",
       "      <td>15</td>\n",
       "      <td>2019-04-20 12:57:12</td>\n",
       "      <td>36</td>\n",
       "      <td>21</td>\n",
       "    </tr>\n",
       "    <tr>\n",
       "      <th>640160</th>\n",
       "      <td>2019-04-20 11:58:00</td>\n",
       "      <td>2019-04-20 14:20:05</td>\n",
       "      <td>2019-04-20 12:57:12</td>\n",
       "      <td>1.0</td>\n",
       "      <td>4</td>\n",
       "      <td>CHKN.COBB.SALAD</td>\n",
       "      <td>2.368056</td>\n",
       "      <td>1</td>\n",
       "      <td>15</td>\n",
       "      <td>2019-04-20 12:57:12</td>\n",
       "      <td>36</td>\n",
       "      <td>21</td>\n",
       "    </tr>\n",
       "    <tr>\n",
       "      <th>640162</th>\n",
       "      <td>2019-04-20 11:58:00</td>\n",
       "      <td>2019-04-20 14:20:05</td>\n",
       "      <td>2019-04-20 12:57:12</td>\n",
       "      <td>1.0</td>\n",
       "      <td>4</td>\n",
       "      <td>CAESAR.APP</td>\n",
       "      <td>2.368056</td>\n",
       "      <td>1</td>\n",
       "      <td>15</td>\n",
       "      <td>2019-04-20 12:57:12</td>\n",
       "      <td>36</td>\n",
       "      <td>21</td>\n",
       "    </tr>\n",
       "  </tbody>\n",
       "</table>\n",
       "</div>"
      ],
      "text/plain": [
       "                order_time   order_time_closed     order_item_time  item_qty  \\\n",
       "640153 2019-04-20 11:58:00 2019-04-20 14:20:05 2019-04-20 12:57:12       1.0   \n",
       "640154 2019-04-20 11:58:00 2019-04-20 14:20:05 2019-04-20 12:57:12       1.0   \n",
       "640156 2019-04-20 11:58:00 2019-04-20 14:20:05 2019-04-20 12:57:12       1.0   \n",
       "640157 2019-04-20 11:58:00 2019-04-20 14:20:05 2019-04-20 12:57:12       1.0   \n",
       "640158 2019-04-20 11:58:00 2019-04-20 14:20:05 2019-04-20 12:41:12       1.0   \n",
       "640159 2019-04-20 11:58:00 2019-04-20 14:20:05 2019-04-20 12:57:12       1.0   \n",
       "640160 2019-04-20 11:58:00 2019-04-20 14:20:05 2019-04-20 12:57:12       1.0   \n",
       "640162 2019-04-20 11:58:00 2019-04-20 14:20:05 2019-04-20 12:57:12       1.0   \n",
       "\n",
       "        guest_count            title  total_order_time  meal_step  \\\n",
       "640153            4  $Swt.pot.fries$          2.368056          1   \n",
       "640154            4           KIDBEV          2.368056          1   \n",
       "640156            4      KIDS BURGER          2.368056          1   \n",
       "640157            4    CHEESE.BURGER          2.368056          1   \n",
       "640158            4   MILL ST ORG.XL          2.368056          0   \n",
       "640159            4      KIDS BURGER          2.368056          1   \n",
       "640160            4  CHKN.COBB.SALAD          2.368056          1   \n",
       "640162            4       CAESAR.APP          2.368056          1   \n",
       "\n",
       "        meal_flow_step           last_step  total_meal_flow_steps  \\\n",
       "640153              15 2019-04-20 12:57:12                     36   \n",
       "640154              15 2019-04-20 12:57:12                     36   \n",
       "640156              15 2019-04-20 12:57:12                     36   \n",
       "640157              15 2019-04-20 12:57:12                     36   \n",
       "640158              11 2019-04-20 12:57:12                     36   \n",
       "640159              15 2019-04-20 12:57:12                     36   \n",
       "640160              15 2019-04-20 12:57:12                     36   \n",
       "640162              15 2019-04-20 12:57:12                     36   \n",
       "\n",
       "        meal_flow_last_to_close  \n",
       "640153                       21  \n",
       "640154                       21  \n",
       "640156                       21  \n",
       "640157                       21  \n",
       "640158                       21  \n",
       "640159                       21  \n",
       "640160                       21  \n",
       "640162                       21  "
      ]
     },
     "execution_count": 255,
     "metadata": {},
     "output_type": "execute_result"
    }
   ],
   "source": [
    "data[data.order_id == 523327445][['order_time', 'order_time_closed',\n",
    "       'order_item_time','item_qty','guest_count', 'title', \n",
    "      'total_order_time',\n",
    "       'meal_step', 'meal_flow_step', 'last_step', 'total_meal_flow_steps', \"meal_flow_last_to_close\"]]"
   ]
  },
  {
   "cell_type": "code",
   "execution_count": 229,
   "metadata": {},
   "outputs": [
    {
     "data": {
      "text/plain": [
       "Timestamp('2019-04-20 14:20:05')"
      ]
     },
     "execution_count": 229,
     "metadata": {},
     "output_type": "execute_result"
    }
   ],
   "source": [
    "data.order_time_closed[640160]"
   ]
  },
  {
   "cell_type": "code",
   "execution_count": 238,
   "metadata": {},
   "outputs": [
    {
     "data": {
      "text/plain": [
       "Timestamp('2019-04-20 12:41:12')"
      ]
     },
     "execution_count": 238,
     "metadata": {},
     "output_type": "execute_result"
    }
   ],
   "source": [
    "data.order_item_time[640160]"
   ]
  },
  {
   "cell_type": "code",
   "execution_count": 244,
   "metadata": {},
   "outputs": [
    {
     "data": {
      "text/plain": [
       "16"
      ]
     },
     "execution_count": 244,
     "metadata": {},
     "output_type": "execute_result"
    }
   ],
   "source": [
    "((data.order_item_time[640160] - data.order_item_time[640158]).components.minutes)"
   ]
  }
 ],
 "metadata": {
  "kernelspec": {
   "display_name": "Python 3",
   "language": "python",
   "name": "python3"
  },
  "language_info": {
   "codemirror_mode": {
    "name": "ipython",
    "version": 3
   },
   "file_extension": ".py",
   "mimetype": "text/x-python",
   "name": "python",
   "nbconvert_exporter": "python",
   "pygments_lexer": "ipython3",
   "version": "3.6.8"
  }
 },
 "nbformat": 4,
 "nbformat_minor": 2
}
