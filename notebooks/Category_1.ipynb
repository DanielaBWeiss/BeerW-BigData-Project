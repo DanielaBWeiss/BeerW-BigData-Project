{
 "cells": [
  {
   "cell_type": "code",
   "execution_count": 1,
   "metadata": {},
   "outputs": [],
   "source": [
    "import pandas as pd"
   ]
  },
  {
   "cell_type": "code",
   "execution_count": 3,
   "metadata": {},
   "outputs": [],
   "source": [
    "data = pd.read_csv(\"../data_cleaning/df_per_item_august.csv\")\n",
    "table = pd.read_csv(\"../data_cleaning/df_per_table_august.csv\")\n",
    "best_bars = pd.read_csv(\"../data/best_bars_35.csv\")"
   ]
  },
  {
   "cell_type": "code",
   "execution_count": 2,
   "metadata": {},
   "outputs": [
    {
     "ename": "NameError",
     "evalue": "name 'data' is not defined",
     "output_type": "error",
     "traceback": [
      "\u001b[0;31m---------------------------------------------------------------------------\u001b[0m",
      "\u001b[0;31mNameError\u001b[0m                                 Traceback (most recent call last)",
      "\u001b[0;32m<ipython-input-2-366882a6b4dc>\u001b[0m in \u001b[0;36m<module>\u001b[0;34m\u001b[0m\n\u001b[0;32m----> 1\u001b[0;31m \u001b[0mbdata\u001b[0m \u001b[0;34m=\u001b[0m \u001b[0mdata\u001b[0m\u001b[0;34m[\u001b[0m\u001b[0mdata\u001b[0m\u001b[0;34m.\u001b[0m\u001b[0mbar_id\u001b[0m\u001b[0;34m.\u001b[0m\u001b[0misin\u001b[0m\u001b[0;34m(\u001b[0m\u001b[0mbest_bars\u001b[0m\u001b[0;34m.\u001b[0m\u001b[0mbar_id\u001b[0m\u001b[0;34m)\u001b[0m\u001b[0;34m]\u001b[0m\u001b[0;34m\u001b[0m\u001b[0;34m\u001b[0m\u001b[0m\n\u001b[0m\u001b[1;32m      2\u001b[0m \u001b[0mbtable\u001b[0m \u001b[0;34m=\u001b[0m \u001b[0mtable\u001b[0m\u001b[0;34m[\u001b[0m\u001b[0mtable\u001b[0m\u001b[0;34m.\u001b[0m\u001b[0mbar_id\u001b[0m\u001b[0;34m.\u001b[0m\u001b[0misin\u001b[0m\u001b[0;34m(\u001b[0m\u001b[0mbest_bars\u001b[0m\u001b[0;34m.\u001b[0m\u001b[0mbar_id\u001b[0m\u001b[0;34m)\u001b[0m\u001b[0;34m]\u001b[0m\u001b[0;34m\u001b[0m\u001b[0;34m\u001b[0m\u001b[0m\n",
      "\u001b[0;31mNameError\u001b[0m: name 'data' is not defined"
     ]
    }
   ],
   "source": [
    "bdata = data[data.bar_id.isin(best_bars.bar_id)]\n",
    "btable = table[table.bar_id.isin(best_bars.bar_id)]\n"
   ]
  },
  {
   "cell_type": "code",
   "execution_count": 6,
   "metadata": {},
   "outputs": [
    {
     "data": {
      "text/plain": [
       "132851"
      ]
     },
     "execution_count": 6,
     "metadata": {},
     "output_type": "execute_result"
    }
   ],
   "source": [
    "len(bdata)"
   ]
  },
  {
   "cell_type": "code",
   "execution_count": 7,
   "metadata": {},
   "outputs": [
    {
     "data": {
      "text/plain": [
       "31636"
      ]
     },
     "execution_count": 7,
     "metadata": {},
     "output_type": "execute_result"
    }
   ],
   "source": [
    "len(btable)"
   ]
  },
  {
   "cell_type": "code",
   "execution_count": 16,
   "metadata": {},
   "outputs": [
    {
     "data": {
      "text/plain": [
       " 1     0.608579\n",
       " 2     0.275541\n",
       " 3     0.053958\n",
       " 4     0.035908\n",
       " 5     0.009135\n",
       " 0     0.006195\n",
       " 6     0.004931\n",
       " 7     0.001833\n",
       " 8     0.001422\n",
       " 9     0.000948\n",
       " 10    0.000632\n",
       " 14    0.000190\n",
       " 11    0.000158\n",
       " 13    0.000158\n",
       " 12    0.000126\n",
       " 16    0.000063\n",
       " 17    0.000032\n",
       "-1     0.000032\n",
       " 18    0.000032\n",
       " 19    0.000032\n",
       " 20    0.000032\n",
       " 25    0.000032\n",
       " 21    0.000032\n",
       "Name: guest_count, dtype: float64"
      ]
     },
     "execution_count": 16,
     "metadata": {},
     "output_type": "execute_result"
    }
   ],
   "source": [
    "btable.guest_count.value_counts(normalize=True)"
   ]
  },
  {
   "cell_type": "code",
   "execution_count": 9,
   "metadata": {},
   "outputs": [],
   "source": [
    "btbl_cat_1 = btable[btable.guest_count == 1]"
   ]
  },
  {
   "cell_type": "code",
   "execution_count": 10,
   "metadata": {},
   "outputs": [],
   "source": [
    "bdata_cat_1 = bdata[bdata.guest_count == 1]"
   ]
  },
  {
   "cell_type": "code",
   "execution_count": 17,
   "metadata": {},
   "outputs": [
    {
     "data": {
      "text/plain": [
       "19253"
      ]
     },
     "execution_count": 17,
     "metadata": {},
     "output_type": "execute_result"
    }
   ],
   "source": [
    "len(btbl_cat_1)"
   ]
  },
  {
   "cell_type": "code",
   "execution_count": 18,
   "metadata": {},
   "outputs": [
    {
     "data": {
      "text/html": [
       "<div>\n",
       "<style scoped>\n",
       "    .dataframe tbody tr th:only-of-type {\n",
       "        vertical-align: middle;\n",
       "    }\n",
       "\n",
       "    .dataframe tbody tr th {\n",
       "        vertical-align: top;\n",
       "    }\n",
       "\n",
       "    .dataframe thead th {\n",
       "        text-align: right;\n",
       "    }\n",
       "</style>\n",
       "<table border=\"1\" class=\"dataframe\">\n",
       "  <thead>\n",
       "    <tr style=\"text-align: right;\">\n",
       "      <th></th>\n",
       "      <th>order_id</th>\n",
       "      <th>bar_id</th>\n",
       "      <th>order_time</th>\n",
       "      <th>sales_inc_tax</th>\n",
       "      <th>guest_count</th>\n",
       "      <th>bar_type_id</th>\n",
       "      <th>total_orders</th>\n",
       "      <th>item_qty</th>\n",
       "      <th>total_orders_category_id_1.0</th>\n",
       "      <th>total_orders_category_id_2.0</th>\n",
       "      <th>total_orders_category_id_3.0</th>\n",
       "      <th>total_orders_category_id_4.0</th>\n",
       "      <th>total_orders_category_id_5.0</th>\n",
       "      <th>total_orders_category_id_6.0</th>\n",
       "      <th>kids_meal</th>\n",
       "      <th>birthday</th>\n",
       "      <th>beer_volume</th>\n",
       "      <th>order_day_of_week</th>\n",
       "      <th>order_hour</th>\n",
       "      <th>num_drinks</th>\n",
       "    </tr>\n",
       "  </thead>\n",
       "  <tbody>\n",
       "    <tr>\n",
       "      <th>36</th>\n",
       "      <td>646942345</td>\n",
       "      <td>1042</td>\n",
       "      <td>2019-07-14 08:18:14</td>\n",
       "      <td>2.86</td>\n",
       "      <td>1</td>\n",
       "      <td>16</td>\n",
       "      <td>1</td>\n",
       "      <td>1.0</td>\n",
       "      <td>0</td>\n",
       "      <td>0</td>\n",
       "      <td>0</td>\n",
       "      <td>1</td>\n",
       "      <td>0</td>\n",
       "      <td>0</td>\n",
       "      <td>0</td>\n",
       "      <td>0</td>\n",
       "      <td>0.0</td>\n",
       "      <td>7</td>\n",
       "      <td>8</td>\n",
       "      <td>1</td>\n",
       "    </tr>\n",
       "    <tr>\n",
       "      <th>37</th>\n",
       "      <td>646942916</td>\n",
       "      <td>3539</td>\n",
       "      <td>2019-07-14 08:05:33</td>\n",
       "      <td>8.63</td>\n",
       "      <td>1</td>\n",
       "      <td>0</td>\n",
       "      <td>16</td>\n",
       "      <td>4.0</td>\n",
       "      <td>0</td>\n",
       "      <td>4</td>\n",
       "      <td>0</td>\n",
       "      <td>0</td>\n",
       "      <td>0</td>\n",
       "      <td>0</td>\n",
       "      <td>0</td>\n",
       "      <td>0</td>\n",
       "      <td>0.0</td>\n",
       "      <td>7</td>\n",
       "      <td>8</td>\n",
       "      <td>0</td>\n",
       "    </tr>\n",
       "    <tr>\n",
       "      <th>86</th>\n",
       "      <td>646950222</td>\n",
       "      <td>1042</td>\n",
       "      <td>2019-07-14 08:18:32</td>\n",
       "      <td>5.69</td>\n",
       "      <td>1</td>\n",
       "      <td>16</td>\n",
       "      <td>3</td>\n",
       "      <td>3.0</td>\n",
       "      <td>0</td>\n",
       "      <td>1</td>\n",
       "      <td>0</td>\n",
       "      <td>0</td>\n",
       "      <td>2</td>\n",
       "      <td>0</td>\n",
       "      <td>0</td>\n",
       "      <td>0</td>\n",
       "      <td>0.0</td>\n",
       "      <td>7</td>\n",
       "      <td>8</td>\n",
       "      <td>0</td>\n",
       "    </tr>\n",
       "    <tr>\n",
       "      <th>91</th>\n",
       "      <td>646950361</td>\n",
       "      <td>3539</td>\n",
       "      <td>2019-07-14 08:02:01</td>\n",
       "      <td>15.53</td>\n",
       "      <td>1</td>\n",
       "      <td>0</td>\n",
       "      <td>80</td>\n",
       "      <td>11.0</td>\n",
       "      <td>0</td>\n",
       "      <td>8</td>\n",
       "      <td>0</td>\n",
       "      <td>0</td>\n",
       "      <td>2</td>\n",
       "      <td>0</td>\n",
       "      <td>0</td>\n",
       "      <td>0</td>\n",
       "      <td>0.0</td>\n",
       "      <td>7</td>\n",
       "      <td>8</td>\n",
       "      <td>0</td>\n",
       "    </tr>\n",
       "    <tr>\n",
       "      <th>93</th>\n",
       "      <td>646950831</td>\n",
       "      <td>3539</td>\n",
       "      <td>2019-07-14 08:10:42</td>\n",
       "      <td>8.63</td>\n",
       "      <td>1</td>\n",
       "      <td>0</td>\n",
       "      <td>20</td>\n",
       "      <td>5.0</td>\n",
       "      <td>0</td>\n",
       "      <td>4</td>\n",
       "      <td>0</td>\n",
       "      <td>0</td>\n",
       "      <td>1</td>\n",
       "      <td>0</td>\n",
       "      <td>0</td>\n",
       "      <td>0</td>\n",
       "      <td>0.0</td>\n",
       "      <td>7</td>\n",
       "      <td>8</td>\n",
       "      <td>0</td>\n",
       "    </tr>\n",
       "  </tbody>\n",
       "</table>\n",
       "</div>"
      ],
      "text/plain": [
       "     order_id  bar_id           order_time  sales_inc_tax  guest_count  \\\n",
       "36  646942345    1042  2019-07-14 08:18:14           2.86            1   \n",
       "37  646942916    3539  2019-07-14 08:05:33           8.63            1   \n",
       "86  646950222    1042  2019-07-14 08:18:32           5.69            1   \n",
       "91  646950361    3539  2019-07-14 08:02:01          15.53            1   \n",
       "93  646950831    3539  2019-07-14 08:10:42           8.63            1   \n",
       "\n",
       "    bar_type_id  total_orders  item_qty  total_orders_category_id_1.0  \\\n",
       "36           16             1       1.0                             0   \n",
       "37            0            16       4.0                             0   \n",
       "86           16             3       3.0                             0   \n",
       "91            0            80      11.0                             0   \n",
       "93            0            20       5.0                             0   \n",
       "\n",
       "    total_orders_category_id_2.0  total_orders_category_id_3.0  \\\n",
       "36                             0                             0   \n",
       "37                             4                             0   \n",
       "86                             1                             0   \n",
       "91                             8                             0   \n",
       "93                             4                             0   \n",
       "\n",
       "    total_orders_category_id_4.0  total_orders_category_id_5.0  \\\n",
       "36                             1                             0   \n",
       "37                             0                             0   \n",
       "86                             0                             2   \n",
       "91                             0                             2   \n",
       "93                             0                             1   \n",
       "\n",
       "    total_orders_category_id_6.0  kids_meal  birthday  beer_volume  \\\n",
       "36                             0          0         0          0.0   \n",
       "37                             0          0         0          0.0   \n",
       "86                             0          0         0          0.0   \n",
       "91                             0          0         0          0.0   \n",
       "93                             0          0         0          0.0   \n",
       "\n",
       "    order_day_of_week  order_hour  num_drinks  \n",
       "36                  7           8           1  \n",
       "37                  7           8           0  \n",
       "86                  7           8           0  \n",
       "91                  7           8           0  \n",
       "93                  7           8           0  "
      ]
     },
     "execution_count": 18,
     "metadata": {},
     "output_type": "execute_result"
    }
   ],
   "source": [
    "btbl_cat_1.head()"
   ]
  },
  {
   "cell_type": "code",
   "execution_count": 19,
   "metadata": {},
   "outputs": [
    {
     "data": {
      "text/html": [
       "<div>\n",
       "<style scoped>\n",
       "    .dataframe tbody tr th:only-of-type {\n",
       "        vertical-align: middle;\n",
       "    }\n",
       "\n",
       "    .dataframe tbody tr th {\n",
       "        vertical-align: top;\n",
       "    }\n",
       "\n",
       "    .dataframe thead th {\n",
       "        text-align: right;\n",
       "    }\n",
       "</style>\n",
       "<table border=\"1\" class=\"dataframe\">\n",
       "  <thead>\n",
       "    <tr style=\"text-align: right;\">\n",
       "      <th></th>\n",
       "      <th>order_id</th>\n",
       "      <th>bar_id</th>\n",
       "      <th>order_time</th>\n",
       "      <th>sales_inc_tax</th>\n",
       "      <th>guest_count</th>\n",
       "      <th>bar_type_id</th>\n",
       "      <th>total_orders</th>\n",
       "      <th>item_qty</th>\n",
       "      <th>total_orders_category_id_1.0</th>\n",
       "      <th>total_orders_category_id_2.0</th>\n",
       "      <th>total_orders_category_id_3.0</th>\n",
       "      <th>total_orders_category_id_4.0</th>\n",
       "      <th>total_orders_category_id_5.0</th>\n",
       "      <th>total_orders_category_id_6.0</th>\n",
       "      <th>kids_meal</th>\n",
       "      <th>birthday</th>\n",
       "      <th>beer_volume</th>\n",
       "      <th>order_day_of_week</th>\n",
       "      <th>order_hour</th>\n",
       "      <th>num_drinks</th>\n",
       "    </tr>\n",
       "  </thead>\n",
       "  <tbody>\n",
       "    <tr>\n",
       "      <th>36</th>\n",
       "      <td>646942345</td>\n",
       "      <td>1042</td>\n",
       "      <td>2019-07-14 08:18:14</td>\n",
       "      <td>2.86</td>\n",
       "      <td>1</td>\n",
       "      <td>16</td>\n",
       "      <td>1</td>\n",
       "      <td>1.0</td>\n",
       "      <td>0</td>\n",
       "      <td>0</td>\n",
       "      <td>0</td>\n",
       "      <td>1</td>\n",
       "      <td>0</td>\n",
       "      <td>0</td>\n",
       "      <td>0</td>\n",
       "      <td>0</td>\n",
       "      <td>0.0</td>\n",
       "      <td>7</td>\n",
       "      <td>8</td>\n",
       "      <td>1</td>\n",
       "    </tr>\n",
       "  </tbody>\n",
       "</table>\n",
       "</div>"
      ],
      "text/plain": [
       "     order_id  bar_id           order_time  sales_inc_tax  guest_count  \\\n",
       "36  646942345    1042  2019-07-14 08:18:14           2.86            1   \n",
       "\n",
       "    bar_type_id  total_orders  item_qty  total_orders_category_id_1.0  \\\n",
       "36           16             1       1.0                             0   \n",
       "\n",
       "    total_orders_category_id_2.0  total_orders_category_id_3.0  \\\n",
       "36                             0                             0   \n",
       "\n",
       "    total_orders_category_id_4.0  total_orders_category_id_5.0  \\\n",
       "36                             1                             0   \n",
       "\n",
       "    total_orders_category_id_6.0  kids_meal  birthday  beer_volume  \\\n",
       "36                             0          0         0          0.0   \n",
       "\n",
       "    order_day_of_week  order_hour  num_drinks  \n",
       "36                  7           8           1  "
      ]
     },
     "execution_count": 19,
     "metadata": {},
     "output_type": "execute_result"
    }
   ],
   "source": [
    "btbl_cat_1[btbl_cat_1.order_id == 646942345]"
   ]
  }
 ],
 "metadata": {
  "kernelspec": {
   "display_name": "Python 3",
   "language": "python",
   "name": "python3"
  },
  "language_info": {
   "codemirror_mode": {
    "name": "ipython",
    "version": 3
   },
   "file_extension": ".py",
   "mimetype": "text/x-python",
   "name": "python",
   "nbconvert_exporter": "python",
   "pygments_lexer": "ipython3",
   "version": "3.6.8"
  }
 },
 "nbformat": 4,
 "nbformat_minor": 2
}
