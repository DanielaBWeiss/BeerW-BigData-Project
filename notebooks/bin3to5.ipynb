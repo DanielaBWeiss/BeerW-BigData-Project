{
 "cells": [
  {
   "cell_type": "markdown",
   "metadata": {},
   "source": [
    "# Bin 3-5 (Guest Count)"
   ]
  },
  {
   "cell_type": "markdown",
   "metadata": {},
   "source": [
    "Let's get a better understanding of the different `guest_count` bins.  \n",
    "This time, the 3-5 guests bin:"
   ]
  },
  {
   "cell_type": "code",
   "execution_count": 1,
   "metadata": {},
   "outputs": [],
   "source": [
    "import pandas as pd\n",
    "import seaborn as sns\n",
    "import matplotlib.pyplot as plt"
   ]
  },
  {
   "cell_type": "code",
   "execution_count": 2,
   "metadata": {},
   "outputs": [],
   "source": [
    "data_map = {\n",
    "    \"hockey\"    : \"../data/hockey_3_text_processed.csv\",\n",
    "    \"valentine\" : \"../data/valentine_3_text_processed.csv\",\n",
    "    \"silvester\" : \"../data/silvester_3_text_processed.csv\"\n",
    "}"
   ]
  },
  {
   "cell_type": "code",
   "execution_count": 3,
   "metadata": {},
   "outputs": [],
   "source": [
    "df = {}\n",
    "for table in data_map.keys():\n",
    "    df[table] = pd.read_csv(data_map[table])\n",
    "\n",
    "df = pd.concat([df[table] for table in data_map.keys()])"
   ]
  },
  {
   "cell_type": "code",
   "execution_count": 4,
   "metadata": {},
   "outputs": [
    {
     "data": {
      "text/html": [
       "<div>\n",
       "<style scoped>\n",
       "    .dataframe tbody tr th:only-of-type {\n",
       "        vertical-align: middle;\n",
       "    }\n",
       "\n",
       "    .dataframe tbody tr th {\n",
       "        vertical-align: top;\n",
       "    }\n",
       "\n",
       "    .dataframe thead th {\n",
       "        text-align: right;\n",
       "    }\n",
       "</style>\n",
       "<table border=\"1\" class=\"dataframe\">\n",
       "  <thead>\n",
       "    <tr style=\"text-align: right;\">\n",
       "      <th></th>\n",
       "      <th>bar_id</th>\n",
       "      <th>order_id</th>\n",
       "      <th>order_time</th>\n",
       "      <th>order_time_closed</th>\n",
       "      <th>order_item_time</th>\n",
       "      <th>order_item_id</th>\n",
       "      <th>item_qty</th>\n",
       "      <th>sales_before_tax</th>\n",
       "      <th>sales_inc_tax</th>\n",
       "      <th>guest_count</th>\n",
       "      <th>...</th>\n",
       "      <th>first_to_second_order</th>\n",
       "      <th>avg_time_between_steps</th>\n",
       "      <th>sit_to_order</th>\n",
       "      <th>max_items_per_step</th>\n",
       "      <th>total_large_meals</th>\n",
       "      <th>total_small_meals</th>\n",
       "      <th>total_large_sharable_meals</th>\n",
       "      <th>total_small_sharable_meals</th>\n",
       "      <th>total_sales_before_tax</th>\n",
       "      <th>total_sales_inc_tax</th>\n",
       "    </tr>\n",
       "  </thead>\n",
       "  <tbody>\n",
       "    <tr>\n",
       "      <th>0</th>\n",
       "      <td>1177</td>\n",
       "      <td>520008106</td>\n",
       "      <td>2019-04-16 12:01:00</td>\n",
       "      <td>2019-04-16 13:15:52</td>\n",
       "      <td>2019-04-16 12:13:26</td>\n",
       "      <td>52000810601</td>\n",
       "      <td>1.0</td>\n",
       "      <td>2.97</td>\n",
       "      <td>3.425081</td>\n",
       "      <td>1</td>\n",
       "      <td>...</td>\n",
       "      <td>0</td>\n",
       "      <td>13.00</td>\n",
       "      <td>13</td>\n",
       "      <td>2</td>\n",
       "      <td>1.0</td>\n",
       "      <td>1.0</td>\n",
       "      <td>1.0</td>\n",
       "      <td>0.0</td>\n",
       "      <td>19.84</td>\n",
       "      <td>22.88</td>\n",
       "    </tr>\n",
       "    <tr>\n",
       "      <th>1</th>\n",
       "      <td>1177</td>\n",
       "      <td>520008106</td>\n",
       "      <td>2019-04-16 12:01:00</td>\n",
       "      <td>2019-04-16 13:15:52</td>\n",
       "      <td>2019-04-16 12:13:26</td>\n",
       "      <td>52000810600</td>\n",
       "      <td>1.0</td>\n",
       "      <td>16.87</td>\n",
       "      <td>19.454919</td>\n",
       "      <td>1</td>\n",
       "      <td>...</td>\n",
       "      <td>0</td>\n",
       "      <td>13.00</td>\n",
       "      <td>13</td>\n",
       "      <td>2</td>\n",
       "      <td>1.0</td>\n",
       "      <td>1.0</td>\n",
       "      <td>1.0</td>\n",
       "      <td>0.0</td>\n",
       "      <td>19.84</td>\n",
       "      <td>22.88</td>\n",
       "    </tr>\n",
       "    <tr>\n",
       "      <th>2</th>\n",
       "      <td>1177</td>\n",
       "      <td>520008105</td>\n",
       "      <td>2019-04-16 12:01:00</td>\n",
       "      <td>2019-04-16 13:11:55</td>\n",
       "      <td>2019-04-16 12:18:25</td>\n",
       "      <td>52000810502</td>\n",
       "      <td>1.0</td>\n",
       "      <td>8.99</td>\n",
       "      <td>10.368399</td>\n",
       "      <td>1</td>\n",
       "      <td>...</td>\n",
       "      <td>4</td>\n",
       "      <td>8.50</td>\n",
       "      <td>13</td>\n",
       "      <td>1</td>\n",
       "      <td>2.0</td>\n",
       "      <td>0.0</td>\n",
       "      <td>1.0</td>\n",
       "      <td>0.0</td>\n",
       "      <td>26.61</td>\n",
       "      <td>30.69</td>\n",
       "    </tr>\n",
       "    <tr>\n",
       "      <th>3</th>\n",
       "      <td>1177</td>\n",
       "      <td>520008105</td>\n",
       "      <td>2019-04-16 12:01:00</td>\n",
       "      <td>2019-04-16 13:11:55</td>\n",
       "      <td>2019-04-16 12:13:26</td>\n",
       "      <td>52000810500</td>\n",
       "      <td>1.0</td>\n",
       "      <td>17.62</td>\n",
       "      <td>20.321601</td>\n",
       "      <td>1</td>\n",
       "      <td>...</td>\n",
       "      <td>4</td>\n",
       "      <td>8.50</td>\n",
       "      <td>13</td>\n",
       "      <td>1</td>\n",
       "      <td>2.0</td>\n",
       "      <td>0.0</td>\n",
       "      <td>1.0</td>\n",
       "      <td>0.0</td>\n",
       "      <td>26.61</td>\n",
       "      <td>30.69</td>\n",
       "    </tr>\n",
       "    <tr>\n",
       "      <th>4</th>\n",
       "      <td>1177</td>\n",
       "      <td>520253565</td>\n",
       "      <td>2019-04-16 19:35:00</td>\n",
       "      <td>2019-04-16 22:39:18</td>\n",
       "      <td>2019-04-16 20:56:13</td>\n",
       "      <td>52025356502</td>\n",
       "      <td>1.0</td>\n",
       "      <td>7.62</td>\n",
       "      <td>8.610000</td>\n",
       "      <td>0</td>\n",
       "      <td>...</td>\n",
       "      <td>40</td>\n",
       "      <td>32.25</td>\n",
       "      <td>1</td>\n",
       "      <td>1</td>\n",
       "      <td>0.0</td>\n",
       "      <td>0.0</td>\n",
       "      <td>0.0</td>\n",
       "      <td>0.0</td>\n",
       "      <td>30.48</td>\n",
       "      <td>34.44</td>\n",
       "    </tr>\n",
       "  </tbody>\n",
       "</table>\n",
       "<p>5 rows × 50 columns</p>\n",
       "</div>"
      ],
      "text/plain": [
       "   bar_id   order_id           order_time    order_time_closed  \\\n",
       "0    1177  520008106  2019-04-16 12:01:00  2019-04-16 13:15:52   \n",
       "1    1177  520008106  2019-04-16 12:01:00  2019-04-16 13:15:52   \n",
       "2    1177  520008105  2019-04-16 12:01:00  2019-04-16 13:11:55   \n",
       "3    1177  520008105  2019-04-16 12:01:00  2019-04-16 13:11:55   \n",
       "4    1177  520253565  2019-04-16 19:35:00  2019-04-16 22:39:18   \n",
       "\n",
       "       order_item_time  order_item_id  item_qty  sales_before_tax  \\\n",
       "0  2019-04-16 12:13:26    52000810601       1.0              2.97   \n",
       "1  2019-04-16 12:13:26    52000810600       1.0             16.87   \n",
       "2  2019-04-16 12:18:25    52000810502       1.0              8.99   \n",
       "3  2019-04-16 12:13:26    52000810500       1.0             17.62   \n",
       "4  2019-04-16 20:56:13    52025356502       1.0              7.62   \n",
       "\n",
       "   sales_inc_tax  guest_count         ...          first_to_second_order  \\\n",
       "0       3.425081            1         ...                              0   \n",
       "1      19.454919            1         ...                              0   \n",
       "2      10.368399            1         ...                              4   \n",
       "3      20.321601            1         ...                              4   \n",
       "4       8.610000            0         ...                             40   \n",
       "\n",
       "   avg_time_between_steps  sit_to_order  max_items_per_step  \\\n",
       "0                   13.00            13                   2   \n",
       "1                   13.00            13                   2   \n",
       "2                    8.50            13                   1   \n",
       "3                    8.50            13                   1   \n",
       "4                   32.25             1                   1   \n",
       "\n",
       "   total_large_meals  total_small_meals  total_large_sharable_meals  \\\n",
       "0                1.0                1.0                         1.0   \n",
       "1                1.0                1.0                         1.0   \n",
       "2                2.0                0.0                         1.0   \n",
       "3                2.0                0.0                         1.0   \n",
       "4                0.0                0.0                         0.0   \n",
       "\n",
       "   total_small_sharable_meals  total_sales_before_tax  total_sales_inc_tax  \n",
       "0                         0.0                   19.84                22.88  \n",
       "1                         0.0                   19.84                22.88  \n",
       "2                         0.0                   26.61                30.69  \n",
       "3                         0.0                   26.61                30.69  \n",
       "4                         0.0                   30.48                34.44  \n",
       "\n",
       "[5 rows x 50 columns]"
      ]
     },
     "execution_count": 4,
     "metadata": {},
     "output_type": "execute_result"
    }
   ],
   "source": [
    "df.head()"
   ]
  },
  {
   "cell_type": "markdown",
   "metadata": {},
   "source": [
    "Recall our features:"
   ]
  },
  {
   "cell_type": "code",
   "execution_count": 5,
   "metadata": {},
   "outputs": [
    {
     "name": "stdout",
     "output_type": "stream",
     "text": [
      "<class 'pandas.core.frame.DataFrame'>\n",
      "Int64Index: 1151862 entries, 0 to 445493\n",
      "Data columns (total 50 columns):\n",
      "bar_id                          1151862 non-null int64\n",
      "order_id                        1151862 non-null int64\n",
      "order_time                      1151862 non-null object\n",
      "order_time_closed               1151862 non-null object\n",
      "order_item_time                 1151862 non-null object\n",
      "order_item_id                   1151862 non-null int64\n",
      "item_qty                        1151862 non-null float64\n",
      "sales_before_tax                1151862 non-null float64\n",
      "sales_inc_tax                   1151862 non-null float64\n",
      "guest_count                     1151862 non-null int64\n",
      "title                           1151862 non-null object\n",
      "category_id                     1151862 non-null float64\n",
      "beer_brand_id                   1151862 non-null int64\n",
      "beer_serving_type_id            1151862 non-null int64\n",
      "beer_volume                     1151862 non-null float64\n",
      "total_orders_category_id_1.0    1151862 non-null float64\n",
      "total_orders_category_id_2.0    1151862 non-null float64\n",
      "total_orders_category_id_3.0    1151862 non-null float64\n",
      "total_orders_category_id_4.0    1151862 non-null float64\n",
      "total_orders_category_id_5.0    1151862 non-null float64\n",
      "total_orders_category_id_6.0    1151862 non-null float64\n",
      "total_orders                    1151862 non-null int64\n",
      "order_day_of_week               1151862 non-null object\n",
      "is_weekend                      1151862 non-null bool\n",
      "sharable                        1151862 non-null int64\n",
      "kids_meal                       1151862 non-null int64\n",
      "birthday                        1151862 non-null int64\n",
      "order_hour                      1151862 non-null int64\n",
      "period_of_day                   1151862 non-null object\n",
      "order_minute                    1151862 non-null int64\n",
      "order_item_minute               1151862 non-null int64\n",
      "order_item_hour                 1151862 non-null int64\n",
      "order_close_minute              1151862 non-null int64\n",
      "order_close_hour                1151862 non-null int64\n",
      "dwell_time                      1151862 non-null float64\n",
      "meal_step                       1151862 non-null int64\n",
      "meal_flow_last_to_close         1151862 non-null int64\n",
      "total_flow_steps                1151862 non-null int64\n",
      "meal_flow_step                  1151862 non-null int64\n",
      "total_meal_steps                1151862 non-null int64\n",
      "first_to_second_order           1151862 non-null int64\n",
      "avg_time_between_steps          1151862 non-null float64\n",
      "sit_to_order                    1151862 non-null int64\n",
      "max_items_per_step              1151862 non-null int64\n",
      "total_large_meals               1151862 non-null float64\n",
      "total_small_meals               1151862 non-null float64\n",
      "total_large_sharable_meals      1151862 non-null float64\n",
      "total_small_sharable_meals      1151862 non-null float64\n",
      "total_sales_before_tax          1151862 non-null float64\n",
      "total_sales_inc_tax             1151862 non-null float64\n",
      "dtypes: bool(1), float64(19), int64(24), object(6)\n",
      "memory usage: 440.5+ MB\n"
     ]
    }
   ],
   "source": [
    "df.info()"
   ]
  },
  {
   "cell_type": "markdown",
   "metadata": {},
   "source": [
    "**Recall we care about 3-5 guest_count tables only**"
   ]
  },
  {
   "cell_type": "code",
   "execution_count": 6,
   "metadata": {},
   "outputs": [
    {
     "data": {
      "text/plain": [
       "1151862"
      ]
     },
     "execution_count": 6,
     "metadata": {},
     "output_type": "execute_result"
    }
   ],
   "source": [
    "old_len = len(df)\n",
    "old_len"
   ]
  },
  {
   "cell_type": "code",
   "execution_count": 7,
   "metadata": {},
   "outputs": [],
   "source": [
    "df = df[(df[\"guest_count\"] >= 3) & (df[\"guest_count\"] <= 5)]"
   ]
  },
  {
   "cell_type": "code",
   "execution_count": 8,
   "metadata": {},
   "outputs": [
    {
     "data": {
      "text/plain": [
       "275891"
      ]
     },
     "execution_count": 8,
     "metadata": {},
     "output_type": "execute_result"
    }
   ],
   "source": [
    "len(df)"
   ]
  },
  {
   "cell_type": "code",
   "execution_count": 9,
   "metadata": {},
   "outputs": [
    {
     "name": "stdout",
     "output_type": "stream",
     "text": [
      "We're left with 23.95% of the original data.\n"
     ]
    }
   ],
   "source": [
    "print(\"We're left with {0:.2f}% of the original data.\".format(100 * float(len(df)) / old_len))"
   ]
  },
  {
   "cell_type": "markdown",
   "metadata": {},
   "source": [
    "Create tables:"
   ]
  },
  {
   "cell_type": "code",
   "execution_count": 10,
   "metadata": {},
   "outputs": [],
   "source": [
    "def shrink_orders_to_table(data):\n",
    "    # use `min` wherever the feature is fixed for the entire table\n",
    "    # use `max` for booleans (we take the value of True whenever there exists at least 1 truthy order_item of the feature)\n",
    "    \n",
    "    data = data.groupby(\"order_id\", as_index=False).agg({\n",
    "        \"order_time\": \"min\",\n",
    "        \"order_time_closed\": \"min\",\n",
    "        \"order_hour\": \"min\",\n",
    "        \"order_minute\": \"min\",\n",
    "        \"order_close_hour\": \"min\",\n",
    "        \"order_close_minute\": \"min\",\n",
    "        \"period_of_day\": \"min\",\n",
    "        \"order_day_of_week\": \"min\",\n",
    "        \"is_weekend\": \"min\",\n",
    "        \n",
    "        \"item_qty\": \"sum\",\n",
    "        \"beer_volume\": \"sum\",\n",
    "        \"guest_count\": \"min\",\n",
    "        \n",
    "        \"total_orders_category_id_1.0\": \"min\",\n",
    "        \"total_orders_category_id_2.0\": \"min\",\n",
    "        \"total_orders_category_id_3.0\": \"min\",\n",
    "        \"total_orders_category_id_4.0\": \"min\",\n",
    "        \"total_orders_category_id_5.0\": \"min\",\n",
    "        \"total_orders_category_id_6.0\": \"min\",\n",
    "        \"total_orders\": \"min\",\n",
    "        \"total_large_meals\":\"min\",\n",
    "        \"total_small_meals\":\"min\",\n",
    "        \"total_large_sharable_meals\":\"min\",\n",
    "        \"total_small_sharable_meals\":\"min\",\n",
    "        \n",
    "        \"sharable\": \"max\",\n",
    "        \"kids_meal\": \"max\",\n",
    "        \"birthday\": \"max\",\n",
    "        \n",
    "        \"dwell_time\": \"min\",\n",
    "        \"meal_flow_last_to_close\": \"min\",\n",
    "        \"total_flow_steps\": \"min\",\n",
    "        \"total_meal_steps\":\"min\",\n",
    "        \"avg_time_between_steps\":\"min\",\n",
    "        \"sit_to_order\":\"min\",\n",
    "        \"max_items_per_step\":\"min\",\n",
    "        \n",
    "        \"total_sales_before_tax\": \"min\",\n",
    "        \"total_sales_inc_tax\": \"min\"\n",
    "    })\n",
    "    \n",
    "    data.set_index(\"order_id\", inplace=True)\n",
    "    return data"
   ]
  },
  {
   "cell_type": "code",
   "execution_count": 11,
   "metadata": {},
   "outputs": [],
   "source": [
    "df = shrink_orders_to_table(df)"
   ]
  },
  {
   "cell_type": "code",
   "execution_count": 12,
   "metadata": {},
   "outputs": [
    {
     "data": {
      "text/html": [
       "<div>\n",
       "<style scoped>\n",
       "    .dataframe tbody tr th:only-of-type {\n",
       "        vertical-align: middle;\n",
       "    }\n",
       "\n",
       "    .dataframe tbody tr th {\n",
       "        vertical-align: top;\n",
       "    }\n",
       "\n",
       "    .dataframe thead th {\n",
       "        text-align: right;\n",
       "    }\n",
       "</style>\n",
       "<table border=\"1\" class=\"dataframe\">\n",
       "  <thead>\n",
       "    <tr style=\"text-align: right;\">\n",
       "      <th></th>\n",
       "      <th>order_time</th>\n",
       "      <th>order_time_closed</th>\n",
       "      <th>order_hour</th>\n",
       "      <th>order_minute</th>\n",
       "      <th>order_close_hour</th>\n",
       "      <th>order_close_minute</th>\n",
       "      <th>period_of_day</th>\n",
       "      <th>order_day_of_week</th>\n",
       "      <th>is_weekend</th>\n",
       "      <th>item_qty</th>\n",
       "      <th>...</th>\n",
       "      <th>birthday</th>\n",
       "      <th>dwell_time</th>\n",
       "      <th>meal_flow_last_to_close</th>\n",
       "      <th>total_flow_steps</th>\n",
       "      <th>total_meal_steps</th>\n",
       "      <th>avg_time_between_steps</th>\n",
       "      <th>sit_to_order</th>\n",
       "      <th>max_items_per_step</th>\n",
       "      <th>total_sales_before_tax</th>\n",
       "      <th>total_sales_inc_tax</th>\n",
       "    </tr>\n",
       "    <tr>\n",
       "      <th>order_id</th>\n",
       "      <th></th>\n",
       "      <th></th>\n",
       "      <th></th>\n",
       "      <th></th>\n",
       "      <th></th>\n",
       "      <th></th>\n",
       "      <th></th>\n",
       "      <th></th>\n",
       "      <th></th>\n",
       "      <th></th>\n",
       "      <th></th>\n",
       "      <th></th>\n",
       "      <th></th>\n",
       "      <th></th>\n",
       "      <th></th>\n",
       "      <th></th>\n",
       "      <th></th>\n",
       "      <th></th>\n",
       "      <th></th>\n",
       "      <th></th>\n",
       "      <th></th>\n",
       "    </tr>\n",
       "  </thead>\n",
       "  <tbody>\n",
       "    <tr>\n",
       "      <th>358742274</th>\n",
       "      <td>2018-12-23 00:20:00</td>\n",
       "      <td>2018-12-23 00:40:12</td>\n",
       "      <td>0</td>\n",
       "      <td>20</td>\n",
       "      <td>0</td>\n",
       "      <td>40</td>\n",
       "      <td>night</td>\n",
       "      <td>Sunday</td>\n",
       "      <td>True</td>\n",
       "      <td>12.0</td>\n",
       "      <td>...</td>\n",
       "      <td>0</td>\n",
       "      <td>0.336667</td>\n",
       "      <td>20</td>\n",
       "      <td>363</td>\n",
       "      <td>4</td>\n",
       "      <td>343.25</td>\n",
       "      <td>1</td>\n",
       "      <td>4</td>\n",
       "      <td>101.35</td>\n",
       "      <td>114.52</td>\n",
       "    </tr>\n",
       "    <tr>\n",
       "      <th>358742546</th>\n",
       "      <td>2018-12-23 00:00:00</td>\n",
       "      <td>2018-12-23 00:57:43</td>\n",
       "      <td>0</td>\n",
       "      <td>0</td>\n",
       "      <td>0</td>\n",
       "      <td>57</td>\n",
       "      <td>night</td>\n",
       "      <td>Sunday</td>\n",
       "      <td>True</td>\n",
       "      <td>5.0</td>\n",
       "      <td>...</td>\n",
       "      <td>0</td>\n",
       "      <td>0.961944</td>\n",
       "      <td>5</td>\n",
       "      <td>13</td>\n",
       "      <td>2</td>\n",
       "      <td>16.50</td>\n",
       "      <td>1</td>\n",
       "      <td>3</td>\n",
       "      <td>50.42</td>\n",
       "      <td>56.97</td>\n",
       "    </tr>\n",
       "    <tr>\n",
       "      <th>358742547</th>\n",
       "      <td>2018-12-23 00:01:00</td>\n",
       "      <td>2018-12-23 00:50:36</td>\n",
       "      <td>0</td>\n",
       "      <td>1</td>\n",
       "      <td>0</td>\n",
       "      <td>50</td>\n",
       "      <td>night</td>\n",
       "      <td>Sunday</td>\n",
       "      <td>True</td>\n",
       "      <td>6.0</td>\n",
       "      <td>...</td>\n",
       "      <td>0</td>\n",
       "      <td>0.826667</td>\n",
       "      <td>3</td>\n",
       "      <td>11</td>\n",
       "      <td>2</td>\n",
       "      <td>16.50</td>\n",
       "      <td>1</td>\n",
       "      <td>3</td>\n",
       "      <td>34.68</td>\n",
       "      <td>39.19</td>\n",
       "    </tr>\n",
       "    <tr>\n",
       "      <th>358742549</th>\n",
       "      <td>2018-12-23 00:35:00</td>\n",
       "      <td>2018-12-23 01:02:09</td>\n",
       "      <td>0</td>\n",
       "      <td>35</td>\n",
       "      <td>1</td>\n",
       "      <td>2</td>\n",
       "      <td>night</td>\n",
       "      <td>Sunday</td>\n",
       "      <td>True</td>\n",
       "      <td>4.0</td>\n",
       "      <td>...</td>\n",
       "      <td>0</td>\n",
       "      <td>0.452500</td>\n",
       "      <td>6</td>\n",
       "      <td>6</td>\n",
       "      <td>1</td>\n",
       "      <td>1.00</td>\n",
       "      <td>1</td>\n",
       "      <td>4</td>\n",
       "      <td>44.78</td>\n",
       "      <td>50.60</td>\n",
       "    </tr>\n",
       "    <tr>\n",
       "      <th>358743095</th>\n",
       "      <td>2018-12-23 00:02:00</td>\n",
       "      <td>2018-12-23 00:41:43</td>\n",
       "      <td>0</td>\n",
       "      <td>2</td>\n",
       "      <td>0</td>\n",
       "      <td>41</td>\n",
       "      <td>night</td>\n",
       "      <td>Sunday</td>\n",
       "      <td>True</td>\n",
       "      <td>13.0</td>\n",
       "      <td>...</td>\n",
       "      <td>0</td>\n",
       "      <td>0.661944</td>\n",
       "      <td>1</td>\n",
       "      <td>9</td>\n",
       "      <td>3</td>\n",
       "      <td>11.00</td>\n",
       "      <td>1</td>\n",
       "      <td>8</td>\n",
       "      <td>53.12</td>\n",
       "      <td>60.03</td>\n",
       "    </tr>\n",
       "  </tbody>\n",
       "</table>\n",
       "<p>5 rows × 35 columns</p>\n",
       "</div>"
      ],
      "text/plain": [
       "                    order_time    order_time_closed  order_hour  order_minute  \\\n",
       "order_id                                                                        \n",
       "358742274  2018-12-23 00:20:00  2018-12-23 00:40:12           0            20   \n",
       "358742546  2018-12-23 00:00:00  2018-12-23 00:57:43           0             0   \n",
       "358742547  2018-12-23 00:01:00  2018-12-23 00:50:36           0             1   \n",
       "358742549  2018-12-23 00:35:00  2018-12-23 01:02:09           0            35   \n",
       "358743095  2018-12-23 00:02:00  2018-12-23 00:41:43           0             2   \n",
       "\n",
       "           order_close_hour  order_close_minute period_of_day  \\\n",
       "order_id                                                        \n",
       "358742274                 0                  40         night   \n",
       "358742546                 0                  57         night   \n",
       "358742547                 0                  50         night   \n",
       "358742549                 1                   2         night   \n",
       "358743095                 0                  41         night   \n",
       "\n",
       "          order_day_of_week  is_weekend  item_qty         ...           \\\n",
       "order_id                                                  ...            \n",
       "358742274            Sunday        True      12.0         ...            \n",
       "358742546            Sunday        True       5.0         ...            \n",
       "358742547            Sunday        True       6.0         ...            \n",
       "358742549            Sunday        True       4.0         ...            \n",
       "358743095            Sunday        True      13.0         ...            \n",
       "\n",
       "           birthday  dwell_time  meal_flow_last_to_close  total_flow_steps  \\\n",
       "order_id                                                                     \n",
       "358742274         0    0.336667                       20               363   \n",
       "358742546         0    0.961944                        5                13   \n",
       "358742547         0    0.826667                        3                11   \n",
       "358742549         0    0.452500                        6                 6   \n",
       "358743095         0    0.661944                        1                 9   \n",
       "\n",
       "           total_meal_steps  avg_time_between_steps  sit_to_order  \\\n",
       "order_id                                                            \n",
       "358742274                 4                  343.25             1   \n",
       "358742546                 2                   16.50             1   \n",
       "358742547                 2                   16.50             1   \n",
       "358742549                 1                    1.00             1   \n",
       "358743095                 3                   11.00             1   \n",
       "\n",
       "           max_items_per_step  total_sales_before_tax  total_sales_inc_tax  \n",
       "order_id                                                                    \n",
       "358742274                   4                  101.35               114.52  \n",
       "358742546                   3                   50.42                56.97  \n",
       "358742547                   3                   34.68                39.19  \n",
       "358742549                   4                   44.78                50.60  \n",
       "358743095                   8                   53.12                60.03  \n",
       "\n",
       "[5 rows x 35 columns]"
      ]
     },
     "execution_count": 12,
     "metadata": {},
     "output_type": "execute_result"
    }
   ],
   "source": [
    "df.head()"
   ]
  },
  {
   "cell_type": "markdown",
   "metadata": {},
   "source": [
    "Our table features are:"
   ]
  },
  {
   "cell_type": "code",
   "execution_count": 13,
   "metadata": {},
   "outputs": [
    {
     "name": "stdout",
     "output_type": "stream",
     "text": [
      "<class 'pandas.core.frame.DataFrame'>\n",
      "Int64Index: 32742 entries, 358742274 to 526414752\n",
      "Data columns (total 35 columns):\n",
      "order_time                      32742 non-null object\n",
      "order_time_closed               32742 non-null object\n",
      "order_hour                      32742 non-null int64\n",
      "order_minute                    32742 non-null int64\n",
      "order_close_hour                32742 non-null int64\n",
      "order_close_minute              32742 non-null int64\n",
      "period_of_day                   32742 non-null object\n",
      "order_day_of_week               32742 non-null object\n",
      "is_weekend                      32742 non-null bool\n",
      "item_qty                        32742 non-null float64\n",
      "beer_volume                     32742 non-null float64\n",
      "guest_count                     32742 non-null int64\n",
      "total_orders_category_id_1.0    32742 non-null float64\n",
      "total_orders_category_id_2.0    32742 non-null float64\n",
      "total_orders_category_id_3.0    32742 non-null float64\n",
      "total_orders_category_id_4.0    32742 non-null float64\n",
      "total_orders_category_id_5.0    32742 non-null float64\n",
      "total_orders_category_id_6.0    32742 non-null float64\n",
      "total_orders                    32742 non-null int64\n",
      "total_large_meals               32742 non-null float64\n",
      "total_small_meals               32742 non-null float64\n",
      "total_large_sharable_meals      32742 non-null float64\n",
      "total_small_sharable_meals      32742 non-null float64\n",
      "sharable                        32742 non-null int64\n",
      "kids_meal                       32742 non-null int64\n",
      "birthday                        32742 non-null int64\n",
      "dwell_time                      32742 non-null float64\n",
      "meal_flow_last_to_close         32742 non-null int64\n",
      "total_flow_steps                32742 non-null int64\n",
      "total_meal_steps                32742 non-null int64\n",
      "avg_time_between_steps          32742 non-null float64\n",
      "sit_to_order                    32742 non-null int64\n",
      "max_items_per_step              32742 non-null int64\n",
      "total_sales_before_tax          32742 non-null float64\n",
      "total_sales_inc_tax             32742 non-null float64\n",
      "dtypes: bool(1), float64(16), int64(14), object(4)\n",
      "memory usage: 8.8+ MB\n"
     ]
    }
   ],
   "source": [
    "df.info()"
   ]
  },
  {
   "cell_type": "markdown",
   "metadata": {},
   "source": [
    "Total of 35 features (not counting the index - `order_id`)"
   ]
  },
  {
   "cell_type": "markdown",
   "metadata": {},
   "source": [
    "### Exploration"
   ]
  },
  {
   "cell_type": "markdown",
   "metadata": {},
   "source": [
    "Let's split these to categories:"
   ]
  },
  {
   "cell_type": "markdown",
   "metadata": {},
   "source": [
    "#### 1. Times (6 + 3 + 1 = 10)\n",
    "\n",
    "- `order_time`\n",
    "- `order_time_closed`\n",
    "- `order_hour`\n",
    "- `order_minute`\n",
    "- `order_close_hour`\n",
    "- `order_close_minute`\n",
    "\n",
    "\n",
    "- `period_of_day`\n",
    "- `order_day_of_week`\n",
    "- `is_weekend`\n",
    "\n",
    "\n",
    "- `dwell_time`"
   ]
  },
  {
   "cell_type": "code",
   "execution_count": 14,
   "metadata": {},
   "outputs": [
    {
     "data": {
      "text/plain": [
       "<matplotlib.axes._subplots.AxesSubplot at 0x2228458e048>"
      ]
     },
     "execution_count": 14,
     "metadata": {},
     "output_type": "execute_result"
    },
    {
     "data": {
      "image/png": "[encoded data removed]",
      "text/plain": [
       "<Figure size 432x288 with 1 Axes>"
      ]
     },
     "metadata": {
      "needs_background": "light"
     },
     "output_type": "display_data"
    }
   ],
   "source": [
    "sns.countplot(x='order_hour', data=df)"
   ]
  },
  {
   "cell_type": "code",
   "execution_count": 15,
   "metadata": {},
   "outputs": [
    {
     "data": {
      "text/plain": [
       "<matplotlib.axes._subplots.AxesSubplot at 0x22280ef2eb8>"
      ]
     },
     "execution_count": 15,
     "metadata": {},
     "output_type": "execute_result"
    },
    {
     "data": {
      "image/png": "[encoded data removed]",
      "text/plain": [
       "<Figure size 432x288 with 1 Axes>"
      ]
     },
     "metadata": {
      "needs_background": "light"
     },
     "output_type": "display_data"
    }
   ],
   "source": [
    "sns.countplot(x='period_of_day', data=df)"
   ]
  },
  {
   "cell_type": "code",
   "execution_count": 16,
   "metadata": {},
   "outputs": [
    {
     "data": {
      "text/plain": [
       "<matplotlib.axes._subplots.AxesSubplot at 0x222803d7588>"
      ]
     },
     "execution_count": 16,
     "metadata": {},
     "output_type": "execute_result"
    },
    {
     "data": {
      "image/png": "[encoded data removed]",
      "text/plain": [
       "<Figure size 432x288 with 1 Axes>"
      ]
     },
     "metadata": {
      "needs_background": "light"
     },
     "output_type": "display_data"
    }
   ],
   "source": [
    "sns.countplot(x='order_day_of_week', data=df)"
   ]
  },
  {
   "cell_type": "code",
   "execution_count": 17,
   "metadata": {},
   "outputs": [
    {
     "data": {
      "text/plain": [
       "<matplotlib.axes._subplots.AxesSubplot at 0x222f5d56748>"
      ]
     },
     "execution_count": 17,
     "metadata": {},
     "output_type": "execute_result"
    },
    {
     "data": {
      "image/png": "[encoded data removed]",
      "text/plain": [
       "<Figure size 432x288 with 1 Axes>"
      ]
     },
     "metadata": {
      "needs_background": "light"
     },
     "output_type": "display_data"
    }
   ],
   "source": [
    "sns.countplot(x='is_weekend', data=df)"
   ]
  },
  {
   "cell_type": "code",
   "execution_count": 18,
   "metadata": {},
   "outputs": [
    {
     "name": "stderr",
     "output_type": "stream",
     "text": [
      "C:\\Users\\Ronni\\Anaconda3\\lib\\site-packages\\scipy\\stats\\stats.py:1713: FutureWarning: Using a non-tuple sequence for multidimensional indexing is deprecated; use `arr[tuple(seq)]` instead of `arr[seq]`. In the future this will be interpreted as an array index, `arr[np.array(seq)]`, which will result either in an error or a different result.\n",
      "  return np.add.reduce(sorted[indexer] * weights, axis=axis) / sumval\n"
     ]
    },
    {
     "data": {
      "text/plain": [
       "(0, 5)"
      ]
     },
     "execution_count": 18,
     "metadata": {},
     "output_type": "execute_result"
    },
    {
     "data": {
      "image/png": "[encoded data removed]",
      "text/plain": [
       "<Figure size 432x288 with 1 Axes>"
      ]
     },
     "metadata": {
      "needs_background": "light"
     },
     "output_type": "display_data"
    }
   ],
   "source": [
    "sns.distplot(df['dwell_time'], bins=500)\n",
    "plt.xlim(0, 5)"
   ]
  },
  {
   "cell_type": "markdown",
   "metadata": {},
   "source": [
    "#### 2. Counts (3 + 11 + 2 = 16)\n",
    "\n",
    "- `item_qty`\n",
    "- `beer_volume`\n",
    "- `guest_count`\n",
    "\n",
    "\n",
    "- `total_orders_category_id_1.0`\n",
    "- `total_orders_category_id_2.0`\n",
    "- `total_orders_category_id_3.0`\n",
    "- `total_orders_category_id_4.0`\n",
    "- `total_orders_category_id_5.0`\n",
    "- `total_orders_category_id_6.0`\n",
    "- `total_orders`\n",
    "- `total_large_meals`\n",
    "- `total_small_meals`\n",
    "- `total_large_sharable_meals`\n",
    "- `total_small_sharable_meals`\n",
    "\n",
    "\n",
    "- `total_sales_before_tax`\n",
    "- `total_sales_inc_tax`"
   ]
  },
  {
   "cell_type": "code",
   "execution_count": 19,
   "metadata": {},
   "outputs": [
    {
     "data": {
      "text/plain": [
       "<matplotlib.axes._subplots.AxesSubplot at 0x222f5d56e80>"
      ]
     },
     "execution_count": 19,
     "metadata": {},
     "output_type": "execute_result"
    },
    {
     "data": {
      "image/png": "[encoded data removed]",
      "text/plain": [
       "<Figure size 432x288 with 1 Axes>"
      ]
     },
     "metadata": {
      "needs_background": "light"
     },
     "output_type": "display_data"
    }
   ],
   "source": [
    "sns.countplot(x='item_qty', data=df)"
   ]
  },
  {
   "cell_type": "code",
   "execution_count": 20,
   "metadata": {},
   "outputs": [
    {
     "data": {
      "text/plain": [
       "6.00      0.117708\n",
       "7.00      0.100788\n",
       "5.00      0.100513\n",
       "8.00      0.091809\n",
       "4.00      0.088724\n",
       "9.00      0.080233\n",
       "3.00      0.070582\n",
       "10.00     0.065482\n",
       "11.00     0.054639\n",
       "12.00     0.046424\n",
       "13.00     0.033627\n",
       "14.00     0.025533\n",
       "15.00     0.021776\n",
       "16.00     0.014507\n",
       "2.00      0.012492\n",
       "17.00     0.011514\n",
       "18.00     0.008430\n",
       "19.00     0.006628\n",
       "20.00     0.005284\n",
       "1.00      0.005009\n",
       "21.00     0.003299\n",
       "23.00     0.002901\n",
       "22.00     0.002199\n",
       "25.00     0.001283\n",
       "24.00     0.001191\n",
       "26.00     0.000977\n",
       "10.67     0.000794\n",
       "12.67     0.000764\n",
       "13.67     0.000672\n",
       "11.67     0.000641\n",
       "            ...   \n",
       "32.02     0.000031\n",
       "18.68     0.000031\n",
       "33.80     0.000031\n",
       "265.05    0.000031\n",
       "30.51     0.000031\n",
       "54.34     0.000031\n",
       "18.33     0.000031\n",
       "25.03     0.000031\n",
       "26.76     0.000031\n",
       "9.66      0.000031\n",
       "63.00     0.000031\n",
       "11.00     0.000031\n",
       "30.34     0.000031\n",
       "19.50     0.000031\n",
       "49.00     0.000031\n",
       "7.17      0.000031\n",
       "53.00     0.000031\n",
       "25.01     0.000031\n",
       "13.66     0.000031\n",
       "20.34     0.000031\n",
       "25.25     0.000031\n",
       "17.99     0.000031\n",
       "11.68     0.000031\n",
       "9.60      0.000031\n",
       "36.67     0.000031\n",
       "14.01     0.000031\n",
       "9.00      0.000031\n",
       "6.25      0.000031\n",
       "42.67     0.000031\n",
       "29.67     0.000031\n",
       "Name: item_qty, Length: 272, dtype: float64"
      ]
     },
     "execution_count": 20,
     "metadata": {},
     "output_type": "execute_result"
    }
   ],
   "source": [
    "df.item_qty.value_counts(normalize=True)"
   ]
  },
  {
   "cell_type": "markdown",
   "metadata": {},
   "source": [
    "> 66% of the tables order 3-9 items"
   ]
  },
  {
   "cell_type": "code",
   "execution_count": 21,
   "metadata": {},
   "outputs": [
    {
     "data": {
      "text/plain": [
       "(0, 3)"
      ]
     },
     "execution_count": 21,
     "metadata": {},
     "output_type": "execute_result"
    },
    {
     "data": {
      "image/png": "[encoded data removed]",
      "text/plain": [
       "<Figure size 432x288 with 1 Axes>"
      ]
     },
     "metadata": {
      "needs_background": "light"
     },
     "output_type": "display_data"
    }
   ],
   "source": [
    "sns.distplot(df['beer_volume'], bins=200)\n",
    "plt.xlim(0, 3)"
   ]
  },
  {
   "cell_type": "code",
   "execution_count": 22,
   "metadata": {},
   "outputs": [
    {
     "data": {
      "text/plain": [
       "<matplotlib.axes._subplots.AxesSubplot at 0x222f36e75c0>"
      ]
     },
     "execution_count": 22,
     "metadata": {},
     "output_type": "execute_result"
    },
    {
     "data": {
      "image/png": "[encoded data removed]",
      "text/plain": [
       "<Figure size 432x288 with 1 Axes>"
      ]
     },
     "metadata": {
      "needs_background": "light"
     },
     "output_type": "display_data"
    }
   ],
   "source": [
    "sns.countplot(x='guest_count', data=df)"
   ]
  },
  {
   "cell_type": "code",
   "execution_count": 23,
   "metadata": {},
   "outputs": [
    {
     "data": {
      "text/plain": [
       "<matplotlib.axes._subplots.AxesSubplot at 0x222841a5c88>"
      ]
     },
     "execution_count": 23,
     "metadata": {},
     "output_type": "execute_result"
    },
    {
     "data": {
      "image/png": "[encoded data removed]",
      "text/plain": [
       "<Figure size 432x288 with 1 Axes>"
      ]
     },
     "metadata": {
      "needs_background": "light"
     },
     "output_type": "display_data"
    }
   ],
   "source": [
    "sns.countplot(x='total_orders_category_id_1.0', data=df)"
   ]
  },
  {
   "cell_type": "code",
   "execution_count": 24,
   "metadata": {},
   "outputs": [
    {
     "data": {
      "text/plain": [
       "<matplotlib.axes._subplots.AxesSubplot at 0x222f93b4828>"
      ]
     },
     "execution_count": 24,
     "metadata": {},
     "output_type": "execute_result"
    },
    {
     "data": {
      "image/png": "[encoded data removed]",
      "text/plain": [
       "<Figure size 432x288 with 1 Axes>"
      ]
     },
     "metadata": {
      "needs_background": "light"
     },
     "output_type": "display_data"
    }
   ],
   "source": [
    "sns.countplot(x='total_orders_category_id_2.0', data=df)"
   ]
  },
  {
   "cell_type": "code",
   "execution_count": 25,
   "metadata": {},
   "outputs": [
    {
     "data": {
      "text/plain": [
       "<matplotlib.axes._subplots.AxesSubplot at 0x22284649048>"
      ]
     },
     "execution_count": 25,
     "metadata": {},
     "output_type": "execute_result"
    },
    {
     "data": {
      "image/png": "[encoded data removed]",
      "text/plain": [
       "<Figure size 432x288 with 1 Axes>"
      ]
     },
     "metadata": {
      "needs_background": "light"
     },
     "output_type": "display_data"
    }
   ],
   "source": [
    "sns.countplot(x='total_orders_category_id_3.0', data=df)"
   ]
  },
  {
   "cell_type": "code",
   "execution_count": 26,
   "metadata": {},
   "outputs": [
    {
     "data": {
      "text/plain": [
       "<matplotlib.axes._subplots.AxesSubplot at 0x222801f52b0>"
      ]
     },
     "execution_count": 26,
     "metadata": {},
     "output_type": "execute_result"
    },
    {
     "data": {
      "image/png": "[encoded data removed]",
      "text/plain": [
       "<Figure size 432x288 with 1 Axes>"
      ]
     },
     "metadata": {
      "needs_background": "light"
     },
     "output_type": "display_data"
    }
   ],
   "source": [
    "sns.countplot(x='total_orders_category_id_4.0', data=df)"
   ]
  },
  {
   "cell_type": "code",
   "execution_count": 27,
   "metadata": {},
   "outputs": [
    {
     "data": {
      "text/plain": [
       "<matplotlib.axes._subplots.AxesSubplot at 0x222ea883ac8>"
      ]
     },
     "execution_count": 27,
     "metadata": {},
     "output_type": "execute_result"
    },
    {
     "data": {
      "image/png": "[encoded data removed]",
      "text/plain": [
       "<Figure size 432x288 with 1 Axes>"
      ]
     },
     "metadata": {
      "needs_background": "light"
     },
     "output_type": "display_data"
    }
   ],
   "source": [
    "sns.countplot(x='total_orders_category_id_5.0', data=df)"
   ]
  },
  {
   "cell_type": "code",
   "execution_count": 28,
   "metadata": {},
   "outputs": [
    {
     "data": {
      "text/plain": [
       "<matplotlib.axes._subplots.AxesSubplot at 0x222ea64cfd0>"
      ]
     },
     "execution_count": 28,
     "metadata": {},
     "output_type": "execute_result"
    },
    {
     "data": {
      "image/png": "[encoded data removed]",
      "text/plain": [
       "<Figure size 432x288 with 1 Axes>"
      ]
     },
     "metadata": {
      "needs_background": "light"
     },
     "output_type": "display_data"
    }
   ],
   "source": [
    "sns.countplot(x='total_orders_category_id_6.0', data=df)"
   ]
  },
  {
   "cell_type": "code",
   "execution_count": 29,
   "metadata": {},
   "outputs": [
    {
     "data": {
      "text/plain": [
       "<matplotlib.axes._subplots.AxesSubplot at 0x222ea883588>"
      ]
     },
     "execution_count": 29,
     "metadata": {},
     "output_type": "execute_result"
    },
    {
     "data": {
      "image/png": "[encoded data removed]",
      "text/plain": [
       "<Figure size 432x288 with 1 Axes>"
      ]
     },
     "metadata": {
      "needs_background": "light"
     },
     "output_type": "display_data"
    }
   ],
   "source": [
    "sns.countplot(x='total_orders', data=df)"
   ]
  },
  {
   "cell_type": "code",
   "execution_count": 30,
   "metadata": {},
   "outputs": [
    {
     "data": {
      "text/plain": [
       "<matplotlib.axes._subplots.AxesSubplot at 0x222814b4e80>"
      ]
     },
     "execution_count": 30,
     "metadata": {},
     "output_type": "execute_result"
    },
    {
     "data": {
      "image/png": "[encoded data removed]",
      "text/plain": [
       "<Figure size 432x288 with 1 Axes>"
      ]
     },
     "metadata": {
      "needs_background": "light"
     },
     "output_type": "display_data"
    }
   ],
   "source": [
    "sns.countplot(x='total_large_meals', data=df)"
   ]
  },
  {
   "cell_type": "code",
   "execution_count": 31,
   "metadata": {},
   "outputs": [
    {
     "data": {
      "text/plain": [
       "<matplotlib.axes._subplots.AxesSubplot at 0x222f82ee0f0>"
      ]
     },
     "execution_count": 31,
     "metadata": {},
     "output_type": "execute_result"
    },
    {
     "data": {
      "image/png": "[encoded data removed]",
      "text/plain": [
       "<Figure size 432x288 with 1 Axes>"
      ]
     },
     "metadata": {
      "needs_background": "light"
     },
     "output_type": "display_data"
    }
   ],
   "source": [
    "sns.countplot(x='total_small_meals', data=df)"
   ]
  },
  {
   "cell_type": "code",
   "execution_count": 32,
   "metadata": {},
   "outputs": [
    {
     "data": {
      "text/plain": [
       "<matplotlib.axes._subplots.AxesSubplot at 0x222ea4d9828>"
      ]
     },
     "execution_count": 32,
     "metadata": {},
     "output_type": "execute_result"
    },
    {
     "data": {
      "image/png": "[encoded data removed]",
      "text/plain": [
       "<Figure size 432x288 with 1 Axes>"
      ]
     },
     "metadata": {
      "needs_background": "light"
     },
     "output_type": "display_data"
    }
   ],
   "source": [
    "sns.countplot(x='total_large_sharable_meals', data=df)"
   ]
  },
  {
   "cell_type": "code",
   "execution_count": 33,
   "metadata": {},
   "outputs": [
    {
     "data": {
      "text/plain": [
       "<matplotlib.axes._subplots.AxesSubplot at 0x222825d7f28>"
      ]
     },
     "execution_count": 33,
     "metadata": {},
     "output_type": "execute_result"
    },
    {
     "data": {
      "image/png": "[encoded data removed]",
      "text/plain": [
       "<Figure size 432x288 with 1 Axes>"
      ]
     },
     "metadata": {
      "needs_background": "light"
     },
     "output_type": "display_data"
    }
   ],
   "source": [
    "sns.countplot(x='total_small_sharable_meals', data=df)"
   ]
  },
  {
   "cell_type": "code",
   "execution_count": 34,
   "metadata": {},
   "outputs": [
    {
     "data": {
      "text/plain": [
       "(0, 1000)"
      ]
     },
     "execution_count": 34,
     "metadata": {},
     "output_type": "execute_result"
    },
    {
     "data": {
      "image/png": "[encoded data removed]",
      "text/plain": [
       "<Figure size 432x288 with 1 Axes>"
      ]
     },
     "metadata": {
      "needs_background": "light"
     },
     "output_type": "display_data"
    }
   ],
   "source": [
    "sns.distplot(df['total_sales_before_tax'], bins=1000)\n",
    "plt.xlim(0, 1000)"
   ]
  },
  {
   "cell_type": "code",
   "execution_count": 35,
   "metadata": {},
   "outputs": [
    {
     "data": {
      "text/plain": [
       "(0, 1000)"
      ]
     },
     "execution_count": 35,
     "metadata": {},
     "output_type": "execute_result"
    },
    {
     "data": {
      "image/png": "[encoded data removed]",
      "text/plain": [
       "<Figure size 432x288 with 1 Axes>"
      ]
     },
     "metadata": {
      "needs_background": "light"
     },
     "output_type": "display_data"
    }
   ],
   "source": [
    "sns.distplot(df['total_sales_inc_tax'], bins=1000)\n",
    "plt.xlim(0, 1000)"
   ]
  },
  {
   "cell_type": "markdown",
   "metadata": {},
   "source": [
    "#### 3. General (3)\n",
    "\n",
    "- `sharable`\n",
    "- `kids_meal`\n",
    "- `birthday`"
   ]
  },
  {
   "cell_type": "code",
   "execution_count": 36,
   "metadata": {},
   "outputs": [
    {
     "data": {
      "text/plain": [
       "<matplotlib.axes._subplots.AxesSubplot at 0x222802ce400>"
      ]
     },
     "execution_count": 36,
     "metadata": {},
     "output_type": "execute_result"
    },
    {
     "data": {
      "image/png": "[encoded data removed]",
      "text/plain": [
       "<Figure size 432x288 with 1 Axes>"
      ]
     },
     "metadata": {
      "needs_background": "light"
     },
     "output_type": "display_data"
    }
   ],
   "source": [
    "sns.countplot(x='sharable', data=df)"
   ]
  },
  {
   "cell_type": "code",
   "execution_count": 37,
   "metadata": {},
   "outputs": [
    {
     "data": {
      "text/plain": [
       "<matplotlib.axes._subplots.AxesSubplot at 0x2228063eac8>"
      ]
     },
     "execution_count": 37,
     "metadata": {},
     "output_type": "execute_result"
    },
    {
     "data": {
      "image/png": "[encoded data removed]",
      "text/plain": [
       "<Figure size 432x288 with 1 Axes>"
      ]
     },
     "metadata": {
      "needs_background": "light"
     },
     "output_type": "display_data"
    }
   ],
   "source": [
    "sns.countplot(x='kids_meal', data=df)"
   ]
  },
  {
   "cell_type": "code",
   "execution_count": 38,
   "metadata": {},
   "outputs": [
    {
     "data": {
      "text/plain": [
       "<matplotlib.axes._subplots.AxesSubplot at 0x2228082c748>"
      ]
     },
     "execution_count": 38,
     "metadata": {},
     "output_type": "execute_result"
    },
    {
     "data": {
      "image/png": "[encoded data removed]",
      "text/plain": [
       "<Figure size 432x288 with 1 Axes>"
      ]
     },
     "metadata": {
      "needs_background": "light"
     },
     "output_type": "display_data"
    }
   ],
   "source": [
    "sns.countplot(x='birthday', data=df)"
   ]
  },
  {
   "cell_type": "markdown",
   "metadata": {},
   "source": [
    "#### 4. Not Relevant (6)\n",
    "\n",
    "- `meal_flow_last_to_close`\n",
    "- `total_flow_steps`\n",
    "- `total_meal_steps`\n",
    "- `avg_time_between_steps`\n",
    "- `sit_to_order`\n",
    "- `max_items_per_step`"
   ]
  }
 ],
 "metadata": {
  "kernelspec": {
   "display_name": "Python 3",
   "language": "python",
   "name": "python3"
  },
  "language_info": {
   "codemirror_mode": {
    "name": "ipython",
    "version": 3
   },
   "file_extension": ".py",
   "mimetype": "text/x-python",
   "name": "python",
   "nbconvert_exporter": "python",
   "pygments_lexer": "ipython3",
   "version": "3.7.1"
  }
 },
 "nbformat": 4,
 "nbformat_minor": 2
}
