{
 "cells": [
  {
   "cell_type": "markdown",
   "metadata": {},
   "source": [
    "# Bars Menu Creation"
   ]
  },
  {
   "cell_type": "markdown",
   "metadata": {},
   "source": [
    "Being able to detect price drop throughout the day in a specific bar would be of much help for calculating the `happy_hour` feature.\n",
    "\n",
    "Note that prices for an item (`title`) may vary with `bar_id`, `order_time` (`day_of_week` and `time_of_day`).  \n",
    "Events may interfere, we're assuming no event occurred during the period of July 14-21 2019."
   ]
  },
  {
   "cell_type": "code",
   "execution_count": 1,
   "metadata": {},
   "outputs": [],
   "source": [
    "import numpy as np\n",
    "import pandas as pd\n",
    "import seaborn as sns\n",
    "import matplotlib.pyplot as plt"
   ]
  },
  {
   "cell_type": "code",
   "execution_count": 2,
   "metadata": {},
   "outputs": [],
   "source": [
    "df = pd.read_csv(\"../data/original_data.csv\")"
   ]
  },
  {
   "cell_type": "markdown",
   "metadata": {},
   "source": [
    "---------------"
   ]
  },
  {
   "cell_type": "code",
   "execution_count": 3,
   "metadata": {},
   "outputs": [
    {
     "name": "stdout",
     "output_type": "stream",
     "text": [
      "<class 'pandas.core.frame.DataFrame'>\n",
      "RangeIndex: 1754466 entries, 0 to 1754465\n",
      "Data columns (total 26 columns):\n",
      "city                           object\n",
      "bar_id                         int64\n",
      "order_id                       int64\n",
      "order_time                     object\n",
      "order_item_id                  int64\n",
      "title                          object\n",
      "category_id                    float64\n",
      "beer_brand_id                  int64\n",
      "beer_serving_type_id           int64\n",
      "beer_volume                    float64\n",
      "item_qty                       float64\n",
      "sales_before_tax               float64\n",
      "sales_inc_tax                  float64\n",
      "guest_count                    int64\n",
      "waiter_id                      float64\n",
      "country                        object\n",
      "country_id                     int64\n",
      "state                          object\n",
      "state_id                       int64\n",
      "timezone                       object\n",
      "bar_type_id                    int64\n",
      "status                         int64\n",
      "last_status                    int64\n",
      "is_bulk                        int64\n",
      "bar_type                       object\n",
      "data_availability_status_id    int64\n",
      "dtypes: float64(6), int64(13), object(7)\n",
      "memory usage: 348.0+ MB\n"
     ]
    }
   ],
   "source": [
    "df.info()"
   ]
  },
  {
   "cell_type": "code",
   "execution_count": 4,
   "metadata": {},
   "outputs": [],
   "source": [
    "df.drop(['order_id', 'order_item_id', 'sales_inc_tax', 'guest_count', 'waiter_id', 'country_id', 'state_id', 'timezone',\n",
    "         'bar_type_id', 'status', 'last_status', 'is_bulk', 'data_availability_status_id'], axis=1, inplace=True)"
   ]
  },
  {
   "cell_type": "code",
   "execution_count": 5,
   "metadata": {},
   "outputs": [],
   "source": [
    "df['order_time'] = pd.to_datetime(df['order_time'], format='%Y-%m-%d %H:%M:%S.%f')"
   ]
  },
  {
   "cell_type": "code",
   "execution_count": 6,
   "metadata": {},
   "outputs": [],
   "source": [
    "df['day_of_week'] = df.order_time.apply(lambda ticket: ticket.day_name())\n",
    "df['time_of_day'] = df.order_time.apply(lambda ticket: ticket.time())"
   ]
  },
  {
   "cell_type": "code",
   "execution_count": 7,
   "metadata": {},
   "outputs": [
    {
     "name": "stdout",
     "output_type": "stream",
     "text": [
      "<class 'pandas.core.frame.DataFrame'>\n",
      "RangeIndex: 1754466 entries, 0 to 1754465\n",
      "Data columns (total 15 columns):\n",
      "city                    object\n",
      "bar_id                  int64\n",
      "order_time              datetime64[ns]\n",
      "title                   object\n",
      "category_id             float64\n",
      "beer_brand_id           int64\n",
      "beer_serving_type_id    int64\n",
      "beer_volume             float64\n",
      "item_qty                float64\n",
      "sales_before_tax        float64\n",
      "country                 object\n",
      "state                   object\n",
      "bar_type                object\n",
      "day_of_week             object\n",
      "time_of_day             object\n",
      "dtypes: datetime64[ns](1), float64(4), int64(3), object(7)\n",
      "memory usage: 200.8+ MB\n"
     ]
    }
   ],
   "source": [
    "df.info()"
   ]
  },
  {
   "cell_type": "code",
   "execution_count": 8,
   "metadata": {},
   "outputs": [
    {
     "data": {
      "text/html": [
       "<div>\n",
       "<style scoped>\n",
       "    .dataframe tbody tr th:only-of-type {\n",
       "        vertical-align: middle;\n",
       "    }\n",
       "\n",
       "    .dataframe tbody tr th {\n",
       "        vertical-align: top;\n",
       "    }\n",
       "\n",
       "    .dataframe thead th {\n",
       "        text-align: right;\n",
       "    }\n",
       "</style>\n",
       "<table border=\"1\" class=\"dataframe\">\n",
       "  <thead>\n",
       "    <tr style=\"text-align: right;\">\n",
       "      <th></th>\n",
       "      <th>city</th>\n",
       "      <th>bar_id</th>\n",
       "      <th>order_time</th>\n",
       "      <th>title</th>\n",
       "      <th>category_id</th>\n",
       "      <th>beer_brand_id</th>\n",
       "      <th>beer_serving_type_id</th>\n",
       "      <th>beer_volume</th>\n",
       "      <th>item_qty</th>\n",
       "      <th>sales_before_tax</th>\n",
       "      <th>country</th>\n",
       "      <th>state</th>\n",
       "      <th>bar_type</th>\n",
       "      <th>day_of_week</th>\n",
       "      <th>time_of_day</th>\n",
       "    </tr>\n",
       "  </thead>\n",
       "  <tbody>\n",
       "    <tr>\n",
       "      <th>0</th>\n",
       "      <td>Trois-Rivières</td>\n",
       "      <td>2182</td>\n",
       "      <td>2019-07-18 09:12:44</td>\n",
       "      <td>BACON</td>\n",
       "      <td>2.0</td>\n",
       "      <td>0</td>\n",
       "      <td>0</td>\n",
       "      <td>0.0</td>\n",
       "      <td>1.0</td>\n",
       "      <td>0.00</td>\n",
       "      <td>Canada</td>\n",
       "      <td>Québec</td>\n",
       "      <td>Casual Dining</td>\n",
       "      <td>Thursday</td>\n",
       "      <td>09:12:44</td>\n",
       "    </tr>\n",
       "    <tr>\n",
       "      <th>1</th>\n",
       "      <td>Trois-Rivières</td>\n",
       "      <td>2182</td>\n",
       "      <td>2019-07-18 09:12:44</td>\n",
       "      <td>PAIN BLANC</td>\n",
       "      <td>2.0</td>\n",
       "      <td>0</td>\n",
       "      <td>0</td>\n",
       "      <td>0.0</td>\n",
       "      <td>1.0</td>\n",
       "      <td>0.00</td>\n",
       "      <td>Canada</td>\n",
       "      <td>Québec</td>\n",
       "      <td>Casual Dining</td>\n",
       "      <td>Thursday</td>\n",
       "      <td>09:12:44</td>\n",
       "    </tr>\n",
       "    <tr>\n",
       "      <th>2</th>\n",
       "      <td>Trois-Rivières</td>\n",
       "      <td>2182</td>\n",
       "      <td>2019-07-18 09:12:44</td>\n",
       "      <td>GRASSE MATINEE</td>\n",
       "      <td>5.0</td>\n",
       "      <td>0</td>\n",
       "      <td>0</td>\n",
       "      <td>0.0</td>\n",
       "      <td>1.0</td>\n",
       "      <td>6.50</td>\n",
       "      <td>Canada</td>\n",
       "      <td>Québec</td>\n",
       "      <td>Casual Dining</td>\n",
       "      <td>Thursday</td>\n",
       "      <td>09:12:44</td>\n",
       "    </tr>\n",
       "    <tr>\n",
       "      <th>3</th>\n",
       "      <td>Trois-Rivières</td>\n",
       "      <td>2182</td>\n",
       "      <td>2019-07-18 09:12:44</td>\n",
       "      <td>BROUILLÉ</td>\n",
       "      <td>2.0</td>\n",
       "      <td>0</td>\n",
       "      <td>0</td>\n",
       "      <td>0.0</td>\n",
       "      <td>1.0</td>\n",
       "      <td>0.00</td>\n",
       "      <td>Canada</td>\n",
       "      <td>Québec</td>\n",
       "      <td>Casual Dining</td>\n",
       "      <td>Thursday</td>\n",
       "      <td>09:12:44</td>\n",
       "    </tr>\n",
       "    <tr>\n",
       "      <th>4</th>\n",
       "      <td>Port Stanley</td>\n",
       "      <td>3383</td>\n",
       "      <td>2019-07-18 12:19:29</td>\n",
       "      <td>Pickeral &amp; Chips</td>\n",
       "      <td>2.0</td>\n",
       "      <td>0</td>\n",
       "      <td>0</td>\n",
       "      <td>0.0</td>\n",
       "      <td>1.0</td>\n",
       "      <td>17.99</td>\n",
       "      <td>Canada</td>\n",
       "      <td>Ontario</td>\n",
       "      <td>Bar/Pub</td>\n",
       "      <td>Thursday</td>\n",
       "      <td>12:19:29</td>\n",
       "    </tr>\n",
       "  </tbody>\n",
       "</table>\n",
       "</div>"
      ],
      "text/plain": [
       "             city  bar_id          order_time             title  category_id  \\\n",
       "0  Trois-Rivières    2182 2019-07-18 09:12:44             BACON          2.0   \n",
       "1  Trois-Rivières    2182 2019-07-18 09:12:44        PAIN BLANC          2.0   \n",
       "2  Trois-Rivières    2182 2019-07-18 09:12:44    GRASSE MATINEE          5.0   \n",
       "3  Trois-Rivières    2182 2019-07-18 09:12:44          BROUILLÉ          2.0   \n",
       "4    Port Stanley    3383 2019-07-18 12:19:29  Pickeral & Chips          2.0   \n",
       "\n",
       "   beer_brand_id  beer_serving_type_id  beer_volume  item_qty  \\\n",
       "0              0                     0          0.0       1.0   \n",
       "1              0                     0          0.0       1.0   \n",
       "2              0                     0          0.0       1.0   \n",
       "3              0                     0          0.0       1.0   \n",
       "4              0                     0          0.0       1.0   \n",
       "\n",
       "   sales_before_tax country    state       bar_type day_of_week time_of_day  \n",
       "0              0.00  Canada   Québec  Casual Dining    Thursday    09:12:44  \n",
       "1              0.00  Canada   Québec  Casual Dining    Thursday    09:12:44  \n",
       "2              6.50  Canada   Québec  Casual Dining    Thursday    09:12:44  \n",
       "3              0.00  Canada   Québec  Casual Dining    Thursday    09:12:44  \n",
       "4             17.99  Canada  Ontario        Bar/Pub    Thursday    12:19:29  "
      ]
     },
     "execution_count": 8,
     "metadata": {},
     "output_type": "execute_result"
    }
   ],
   "source": [
    "df.head()"
   ]
  },
  {
   "cell_type": "markdown",
   "metadata": {},
   "source": [
    "Remove \"free\" dishes:"
   ]
  },
  {
   "cell_type": "code",
   "execution_count": 9,
   "metadata": {},
   "outputs": [],
   "source": [
    "before_size = len(df)"
   ]
  },
  {
   "cell_type": "code",
   "execution_count": 10,
   "metadata": {},
   "outputs": [],
   "source": [
    "df.drop(df[df['sales_before_tax'] <= 0].index, inplace=True)"
   ]
  },
  {
   "cell_type": "code",
   "execution_count": 11,
   "metadata": {},
   "outputs": [],
   "source": [
    "after_size = len(df)"
   ]
  },
  {
   "cell_type": "code",
   "execution_count": 12,
   "metadata": {},
   "outputs": [
    {
     "data": {
      "text/plain": [
       "0.8097979670167447"
      ]
     },
     "execution_count": 12,
     "metadata": {},
     "output_type": "execute_result"
    }
   ],
   "source": [
    "float(after_size) / before_size"
   ]
  },
  {
   "cell_type": "code",
   "execution_count": 13,
   "metadata": {},
   "outputs": [
    {
     "name": "stdout",
     "output_type": "stream",
     "text": [
      "Got rid of 19.02% of the entries\n"
     ]
    }
   ],
   "source": [
    "print(\"Got rid of {0:.2f}% of the entries\".format(100 * (1 - float(after_size) / before_size)))"
   ]
  },
  {
   "cell_type": "markdown",
   "metadata": {},
   "source": [
    "Fix each entry to have `item_qty` of 1:\n",
    "- Divide `beer_volume` by `item_qty`\n",
    "- Divide `sales_before_tax` by `item_qty`"
   ]
  },
  {
   "cell_type": "markdown",
   "metadata": {},
   "source": [
    "Remove entries with `item_qty` <= 0:"
   ]
  },
  {
   "cell_type": "code",
   "execution_count": 14,
   "metadata": {},
   "outputs": [],
   "source": [
    "df.drop(df[df['item_qty'] <= 0].index, inplace=True)"
   ]
  },
  {
   "cell_type": "code",
   "execution_count": 15,
   "metadata": {},
   "outputs": [],
   "source": [
    "df['beer_volume'] = df['beer_volume'] / df['item_qty']\n",
    "df['sales_before_tax'] = df['sales_before_tax'] / df['item_qty']\n",
    "df['item_qty'] = 1"
   ]
  },
  {
   "cell_type": "code",
   "execution_count": 16,
   "metadata": {},
   "outputs": [
    {
     "data": {
      "text/html": [
       "<div>\n",
       "<style scoped>\n",
       "    .dataframe tbody tr th:only-of-type {\n",
       "        vertical-align: middle;\n",
       "    }\n",
       "\n",
       "    .dataframe tbody tr th {\n",
       "        vertical-align: top;\n",
       "    }\n",
       "\n",
       "    .dataframe thead th {\n",
       "        text-align: right;\n",
       "    }\n",
       "</style>\n",
       "<table border=\"1\" class=\"dataframe\">\n",
       "  <thead>\n",
       "    <tr style=\"text-align: right;\">\n",
       "      <th></th>\n",
       "      <th>city</th>\n",
       "      <th>bar_id</th>\n",
       "      <th>order_time</th>\n",
       "      <th>title</th>\n",
       "      <th>category_id</th>\n",
       "      <th>beer_brand_id</th>\n",
       "      <th>beer_serving_type_id</th>\n",
       "      <th>beer_volume</th>\n",
       "      <th>item_qty</th>\n",
       "      <th>sales_before_tax</th>\n",
       "      <th>country</th>\n",
       "      <th>state</th>\n",
       "      <th>bar_type</th>\n",
       "      <th>day_of_week</th>\n",
       "      <th>time_of_day</th>\n",
       "    </tr>\n",
       "  </thead>\n",
       "  <tbody>\n",
       "    <tr>\n",
       "      <th>2</th>\n",
       "      <td>Trois-Rivières</td>\n",
       "      <td>2182</td>\n",
       "      <td>2019-07-18 09:12:44</td>\n",
       "      <td>GRASSE MATINEE</td>\n",
       "      <td>5.0</td>\n",
       "      <td>0</td>\n",
       "      <td>0</td>\n",
       "      <td>0.00</td>\n",
       "      <td>1</td>\n",
       "      <td>6.50</td>\n",
       "      <td>Canada</td>\n",
       "      <td>Québec</td>\n",
       "      <td>Casual Dining</td>\n",
       "      <td>Thursday</td>\n",
       "      <td>09:12:44</td>\n",
       "    </tr>\n",
       "    <tr>\n",
       "      <th>4</th>\n",
       "      <td>Port Stanley</td>\n",
       "      <td>3383</td>\n",
       "      <td>2019-07-18 12:19:29</td>\n",
       "      <td>Pickeral &amp; Chips</td>\n",
       "      <td>2.0</td>\n",
       "      <td>0</td>\n",
       "      <td>0</td>\n",
       "      <td>0.00</td>\n",
       "      <td>1</td>\n",
       "      <td>17.99</td>\n",
       "      <td>Canada</td>\n",
       "      <td>Ontario</td>\n",
       "      <td>Bar/Pub</td>\n",
       "      <td>Thursday</td>\n",
       "      <td>12:19:29</td>\n",
       "    </tr>\n",
       "    <tr>\n",
       "      <th>5</th>\n",
       "      <td>Port Stanley</td>\n",
       "      <td>3383</td>\n",
       "      <td>2019-07-18 12:19:29</td>\n",
       "      <td>Lun Steak Sandwich</td>\n",
       "      <td>2.0</td>\n",
       "      <td>0</td>\n",
       "      <td>0</td>\n",
       "      <td>0.00</td>\n",
       "      <td>1</td>\n",
       "      <td>12.99</td>\n",
       "      <td>Canada</td>\n",
       "      <td>Ontario</td>\n",
       "      <td>Bar/Pub</td>\n",
       "      <td>Thursday</td>\n",
       "      <td>12:19:29</td>\n",
       "    </tr>\n",
       "    <tr>\n",
       "      <th>6</th>\n",
       "      <td>Port Stanley</td>\n",
       "      <td>3383</td>\n",
       "      <td>2019-07-18 12:19:29</td>\n",
       "      <td>Canadian</td>\n",
       "      <td>1.0</td>\n",
       "      <td>183</td>\n",
       "      <td>1</td>\n",
       "      <td>0.34</td>\n",
       "      <td>1</td>\n",
       "      <td>4.92</td>\n",
       "      <td>Canada</td>\n",
       "      <td>Ontario</td>\n",
       "      <td>Bar/Pub</td>\n",
       "      <td>Thursday</td>\n",
       "      <td>12:19:29</td>\n",
       "    </tr>\n",
       "    <tr>\n",
       "      <th>8</th>\n",
       "      <td>Saint-Jean-sur-Richelieu</td>\n",
       "      <td>5130</td>\n",
       "      <td>2019-07-18 12:06:00</td>\n",
       "      <td>BAVETTE BISTRO</td>\n",
       "      <td>2.0</td>\n",
       "      <td>0</td>\n",
       "      <td>0</td>\n",
       "      <td>0.00</td>\n",
       "      <td>1</td>\n",
       "      <td>20.00</td>\n",
       "      <td>Canada</td>\n",
       "      <td>Québec</td>\n",
       "      <td>Restaurant</td>\n",
       "      <td>Thursday</td>\n",
       "      <td>12:06:00</td>\n",
       "    </tr>\n",
       "  </tbody>\n",
       "</table>\n",
       "</div>"
      ],
      "text/plain": [
       "                       city  bar_id          order_time               title  \\\n",
       "2            Trois-Rivières    2182 2019-07-18 09:12:44      GRASSE MATINEE   \n",
       "4              Port Stanley    3383 2019-07-18 12:19:29    Pickeral & Chips   \n",
       "5              Port Stanley    3383 2019-07-18 12:19:29  Lun Steak Sandwich   \n",
       "6              Port Stanley    3383 2019-07-18 12:19:29            Canadian   \n",
       "8  Saint-Jean-sur-Richelieu    5130 2019-07-18 12:06:00      BAVETTE BISTRO   \n",
       "\n",
       "   category_id  beer_brand_id  beer_serving_type_id  beer_volume  item_qty  \\\n",
       "2          5.0              0                     0         0.00         1   \n",
       "4          2.0              0                     0         0.00         1   \n",
       "5          2.0              0                     0         0.00         1   \n",
       "6          1.0            183                     1         0.34         1   \n",
       "8          2.0              0                     0         0.00         1   \n",
       "\n",
       "   sales_before_tax country    state       bar_type day_of_week time_of_day  \n",
       "2              6.50  Canada   Québec  Casual Dining    Thursday    09:12:44  \n",
       "4             17.99  Canada  Ontario        Bar/Pub    Thursday    12:19:29  \n",
       "5             12.99  Canada  Ontario        Bar/Pub    Thursday    12:19:29  \n",
       "6              4.92  Canada  Ontario        Bar/Pub    Thursday    12:19:29  \n",
       "8             20.00  Canada   Québec     Restaurant    Thursday    12:06:00  "
      ]
     },
     "execution_count": 16,
     "metadata": {},
     "output_type": "execute_result"
    }
   ],
   "source": [
    "df.head()"
   ]
  },
  {
   "cell_type": "markdown",
   "metadata": {},
   "source": [
    "----------"
   ]
  },
  {
   "cell_type": "markdown",
   "metadata": {},
   "source": [
    "## Food Price Calculation"
   ]
  },
  {
   "cell_type": "markdown",
   "metadata": {},
   "source": [
    "We start off with calculating a list of prices per title for a bar.  \n",
    "Having this list, we'd decide on the official price (probably the highest)."
   ]
  },
  {
   "cell_type": "code",
   "execution_count": 17,
   "metadata": {},
   "outputs": [],
   "source": [
    "from collections import defaultdict"
   ]
  },
  {
   "cell_type": "code",
   "execution_count": 18,
   "metadata": {},
   "outputs": [],
   "source": [
    "prices = defaultdict(list)"
   ]
  },
  {
   "cell_type": "code",
   "execution_count": 19,
   "metadata": {},
   "outputs": [],
   "source": [
    "bars = list(set(df['bar_id']))"
   ]
  },
  {
   "cell_type": "code",
   "execution_count": 20,
   "metadata": {},
   "outputs": [],
   "source": [
    "for bar in bars:\n",
    "    prices[bar] = defaultdict(list)"
   ]
  },
  {
   "cell_type": "code",
   "execution_count": 21,
   "metadata": {},
   "outputs": [],
   "source": [
    "for index, order in df.iterrows():\n",
    "    prices[order['bar_id']][order['title']].append(order['sales_before_tax'])"
   ]
  },
  {
   "cell_type": "code",
   "execution_count": 22,
   "metadata": {},
   "outputs": [],
   "source": [
    "for bar in bars:\n",
    "    for item in prices[bar]:\n",
    "        prices[bar][item] = max(prices[bar][item])"
   ]
  },
  {
   "cell_type": "code",
   "execution_count": 23,
   "metadata": {},
   "outputs": [
    {
     "name": "stdout",
     "output_type": "stream",
     "text": [
      "Bar: 2054, Item: ROULEAUX IMPERIAUX, Price: 6.0\n",
      "Bar: 2054, Item: MAKI-PRINTANIER, Price: 21.95\n",
      "Bar: 2054, Item: TATAKI, Price: 8.75\n",
      "Bar: 2054, Item: SOUPE MISO, Price: 3.0\n",
      "Bar: 2054, Item: POKE SAUMON, Price: 13.0\n",
      "Bar: 2054, Item: PETONCLE/MANGUE, Price: 8.0\n",
      "Bar: 2054, Item: SANGRIA PICHET, Price: 17.575757575757574\n",
      "Bar: 2054, Item: EXTRA SCE L'UNIQUE, Price: 1.0\n",
      "Bar: 2054, Item: CB TOUR DE LA GASPESIE, Price: 42.96\n",
      "Bar: 2054, Item: CREVETTE TEMPURA, Price: 7.95\n",
      "Bar: 2054, Item: SEPT-ÎLES EPICE, Price: 8.09090909090909\n",
      "Bar: 2054, Item: CB PORTE ENFER, Price: 25.95\n",
      "Bar: 2054, Item: SUSHI PIZZA, Price: 9.333333333333334\n",
      "Bar: 2054, Item: ROULEAU HOMARD, Price: 8.95\n",
      "Bar: 2054, Item: SALADE SAUMON, Price: 17.0\n",
      "Bar: 2054, Item: CREVETTE COCO, Price: 8.5\n",
      "Bar: 2054, Item: SANTA, Price: 27.93939393939394\n",
      "Bar: 2054, Item: ROULEAU TATAKI, Price: 7.95\n",
      "Bar: 2054, Item: TART SAUMON PLAT, Price: 20.0\n",
      "Bar: 2054, Item: BAVAROIS LYCHEES, Price: 5.0\n",
      "Bar: 2054, Item: LIMOMADE, Price: 2.63\n",
      "Bar: 2054, Item: BLANCHE 20 OZ, Price: 6.74\n",
      "Bar: 2054, Item: PORCINET, Price: 7.75\n",
      "Bar: 2054, Item: TART.BOEUF ENT, Price: 13.0\n",
      "Bar: 2054, Item: NIPON, Price: 7.95\n",
      "Bar: 2054, Item: CB LE DICTATEUR, Price: 24.95\n",
      "Bar: 2054, Item: RUFFLE BBQ, Price: 9.333333333333334\n",
      "Bar: 2054, Item: VERRE ALLERG, Price: 6.0\n",
      "Bar: 2054, Item: GEISHA, Price: 8.848484848484848\n",
      "Bar: 2054, Item: CREV POP CORN, Price: 8.575757575757576\n",
      "Bar: 2054, Item: LE THAI, Price: 10.060606060606059\n",
      "Bar: 2054, Item: CRABE DES NEIGES, Price: 12.06060606060606\n",
      "Bar: 2054, Item: EXTRA MAKI FRIT, Price: 1.0\n",
      "Bar: 2054, Item: ATLANTIQUE SUCRE, Price: 8.0\n",
      "Bar: 2054, Item: DRAGON ROLL, Price: 8.95\n",
      "Bar: 2054, Item: CALMAR FRIT, Price: 8.0\n",
      "Bar: 2054, Item: VERRE LEON, Price: 7.0\n",
      "Bar: 2054, Item: SENSEI, Price: 9.5\n",
      "Bar: 2054, Item: ALTERNATIF, Price: 10.060606060606059\n",
      "Bar: 2054, Item: PETONCLE YUZU, Price: 9.5\n",
      "Bar: 2054, Item: COMBO CRABE, Price: 31.0\n",
      "Bar: 2054, Item: LE FIGUE, Price: 8.95\n",
      "Bar: 2054, Item: SALADE DE CALMAR, Price: 7.0\n",
      "Bar: 2054, Item: POKE CRABE, Price: 20.0\n",
      "Bar: 2054, Item: LEGUME TEMPURA, Price: 7.0\n",
      "Bar: 2054, Item: LIQUEUR, Price: 2.63\n",
      "Bar: 2054, Item: CB GRAND FLEUVE, Price: 37.5\n",
      "Bar: 2054, Item: LITCHINI, Price: 6.09\n",
      "Bar: 2054, Item: VIRGIN CEASAR, Price: 3.48\n",
      "Bar: 2054, Item: FORT 1, Price: 5.22\n",
      "Bar: 2054, Item: TART.SAUMON ENT, Price: 12.0\n",
      "Bar: 2054, Item: BIG APPLE, Price: 8.26\n",
      "Bar: 2054, Item: SAMOURAI, Price: 8.95\n",
      "Bar: 2054, Item: SAUMON THAI, Price: 8.0\n",
      "Bar: 2054, Item: ARC EN CIEL, Price: 9.0\n",
      "Bar: 2054, Item: MAKIONLY 30, Price: 40.96\n",
      "Bar: 2054, Item: LE JARDINIER, Price: 7.5\n",
      "Bar: 2054, Item: JADE, Price: 6.95\n",
      "Bar: 2054, Item: SEPT-ILES SESAME, Price: 8.09090909090909\n",
      "Bar: 2054, Item: WILM, Price: 25.393939393939394\n",
      "Bar: 2054, Item: DRY MARTINI, Price: 6.52\n",
      "Bar: 2054, Item: LE HOMARDIER, Price: 11.950000000000001\n",
      "Bar: 2054, Item: GIN TONIC, Price: 5.22\n",
      "Bar: 2054, Item: HOSOMAKIS AVOCAT, Price: 6.0\n",
      "Bar: 2054, Item: FUT 20 OZ SAPPORO, Price: 6.74\n",
      "Bar: 2054, Item: FUT STELLA 20, Price: 6.96\n",
      "Bar: 2054, Item: ROUGE PIQUANT, Price: 7.95\n",
      "Bar: 2054, Item: TERIYAKI, Price: 7.95\n",
      "Bar: 2054, Item: MAKIONLY 15, Price: 20.95\n",
      "Bar: 2054, Item: POKE CREVETTES, Price: 14.0\n",
      "Bar: 2054, Item: SUSHI BURGER, Price: 9.09090909090909\n",
      "Bar: 2054, Item: NORD EST, Price: 8.05\n",
      "Bar: 2054, Item: SUSHI VOL 25 $, Price: 25.0\n",
      "Bar: 2054, Item: MAKI 50, Price: 60.0\n",
      "Bar: 2054, Item: VERRE SANGRIA, Price: 6.22\n",
      "Bar: 2054, Item: TART.THON ENT, Price: 13.0\n",
      "Bar: 2054, Item: KANIKAMA ET POUSSE, Price: 5.5\n",
      "Bar: 2054, Item: POMME SAUMON FUMÉ, Price: 7.76\n",
      "Bar: 2054, Item: CHIPIE 20 OZ, Price: 6.74\n",
      "Bar: 2054, Item: CAFE, Price: 1.75\n",
      "Bar: 2054, Item: THE/TISANE, Price: 1.75\n",
      "Bar: 2054, Item: CALIFORNIA ROLL, Price: 7.5\n",
      "Bar: 2054, Item: FEUILLE NORI, Price: 0.2\n",
      "Bar: 2054, Item: HOSOMAKI CONCOMBRE, Price: 5.0\n",
      "Bar: 2054, Item: BLOODY CESAR, Price: 6.52\n",
      "Bar: 2054, Item: VERRE SANTA, Price: 7.0\n",
      "Bar: 2054, Item: NIERPOORT, Price: 25.36\n",
      "Bar: 2054, Item: HOSOMAKIS SAUMON, Price: 7.0\n",
      "Bar: 2054, Item: NIGIRIS CREVETTE SUCREE, Price: 4.0\n",
      "Bar: 2054, Item: PICHET, Price: 18.26\n",
      "Bar: 2054, Item: EXTRA UNIQUE 2, Price: 1.0\n",
      "Bar: 2054, Item: VERRE SANG BL, Price: 6.22\n",
      "Bar: 2054, Item: LE DUO, Price: 25.0\n",
      "Bar: 2054, Item: PETONCLES YUZU, Price: 9.0\n",
      "Bar: 2054, Item: POULET PISTACHE, Price: 7.75\n",
      "Bar: 2054, Item: VERRE SANG RG, Price: 6.22\n",
      "Bar: 2054, Item: COMBO 8, Price: 11.99\n",
      "Bar: 2054, Item: SAUMON CHÈVRE, Price: 9.0\n",
      "Bar: 2054, Item: ANTU, Price: 28.16\n",
      "Bar: 2054, Item: CREVETTE ROATAN, Price: 8.0\n",
      "Bar: 2054, Item: RELAX, Price: 23.4\n",
      "Bar: 2054, Item: SOUPE HEBDO, Price: 3.0\n",
      "Bar: 2054, Item: DYNAMITE ROLL, Price: 7.95\n",
      "Bar: 2054, Item: DIVERS NOURRITURE, Price: 3.0\n",
      "Bar: 2054, Item: LA TABLE D'HOTE, Price: 34.0\n",
      "Bar: 2054, Item: KAMIKAZE, Price: 8.09090909090909\n",
      "Bar: 2054, Item: PETONCLE MANGUES, Price: 9.0\n",
      "Bar: 2054, Item: THON THAI, Price: 8.26\n",
      "Bar: 2054, Item: ROULEAU CRABE, Price: 11.95\n",
      "Bar: 2054, Item: SALADE CREVETTE, Price: 18.0\n",
      "Bar: 2054, Item: SANCERRE, Price: 34.56\n",
      "Bar: 2054, Item: CREV ET LEGUME TEMPURA, Price: 8.09090909090909\n",
      "Bar: 2054, Item: GUNKAN CRABE, Price: 8.0\n",
      "Bar: 2054, Item: COMBO 12, Price: 13.99\n",
      "Bar: 2054, Item: MAKIONLY 12, Price: 15.99\n",
      "Bar: 2054, Item: DESSERT DU JOUR, Price: 2.5\n",
      "Bar: 2054, Item: 1 $ SUSHI RESTANT, Price: 1.0\n",
      "Bar: 2054, Item: VERRE CHABLIS, Price: 8.0\n",
      "Bar: 2054, Item: VERRE NIERPOORT, Price: 6.0\n",
      "Bar: 2054, Item: A TOUT LE MONDE, Price: 7.17\n",
      "Bar: 2054, Item: GATEAU FROMAGE ET POMME, Price: 5.0\n",
      "Bar: 2054, Item: TARTARE DE SAUMON, Price: 12.0\n",
      "Bar: 2054, Item: CREV ET LEGUMES TEMPURA, Price: 7.5\n",
      "Bar: 2054, Item: COMBO 16, Price: 18.99\n",
      "Bar: 2054, Item: VINCENZO, Price: 26.2\n",
      "Bar: 2054, Item: EXOTIQUE, Price: 5.0\n",
      "Bar: 2054, Item: FEUILLE SOJA, Price: 2.0\n",
      "Bar: 2054, Item: NIGIRIS THON BLANC, Price: 4.75\n",
      "Bar: 2054, Item: VERRE ANTU, Price: 7.0\n",
      "Bar: 2054, Item: VERRE WILM, Price: 6.0\n",
      "Bar: 2054, Item: RENE BOUVIER, Price: 33.0\n",
      "Bar: 2054, Item: TART BOEUF PLAT, Price: 20.0\n",
      "Bar: 2054, Item: Matante, Price: 6.09\n",
      "Bar: 2054, Item: PETITE BIERE, Price: 4.3500000000000005\n",
      "Bar: 2054, Item: NIGIRIS SAUMON, Price: 4.0\n",
      "Bar: 2054, Item: HOSO CREVETTE TEMPURA, Price: 7.0\n",
      "Bar: 2054, Item: VEGETARIEN, Price: 7.5\n",
      "Bar: 2054, Item: CARAFE DE SAKE, Price: 11.0\n",
      "Bar: 2054, Item: L'ÉQUIPAGE, Price: 75.0\n",
      "Bar: 2054, Item: LEON BEYER, Price: 28.25\n",
      "Bar: 2054, Item: BECK'S SANS ALCOOL, Price: 4.35\n",
      "Bar: 2054, Item: COTO IMAZ, Price: 31.2\n",
      "Bar: 2054, Item: VODKA CANNEBERGES, Price: 5.0\n",
      "Bar: 2054, Item: FUT STELLA 12, Price: 5.22\n",
      "Bar: 2054, Item: COSMOPOLITAIN, Price: 6.0\n",
      "Bar: 2054, Item: RHUM COKE, Price: 5.22\n",
      "Bar: 2054, Item: EAU GAZEIFIÉ, Price: 3.27\n",
      "Bar: 2054, Item: MAKIONLY 8, Price: 12.99\n",
      "Bar: 2054, Item: SASHIMIS SAUMON FUME, Price: 4.75\n",
      "Bar: 2054, Item: SAKE HAKUTSURU, Price: 24.0\n",
      "Bar: 2054, Item: POKE VEGE, Price: 15.0\n",
      "Bar: 2054, Item: MAKI ONLY 15, Price: 19.99\n",
      "Bar: 2054, Item: ALLERGRINI, Price: 25.6\n",
      "Bar: 2054, Item: NIGIRIS THON ROUGE, Price: 4.75\n",
      "Bar: 2054, Item: NIGIRIS PIEUVRE, Price: 5.0\n",
      "Bar: 2054, Item: CAFE COUR BOIS, Price: 6.96\n",
      "Bar: 2054, Item: NIGIRIS ESCOLAR, Price: 4.75\n",
      "Bar: 2054, Item: SALADE POULET, Price: 12.0\n",
      "Bar: 2054, Item: HOSOMAKIS THON ROUGE, Price: 7.0\n",
      "Bar: 2054, Item: CHEREAU, Price: 24.35\n",
      "Bar: 2054, Item: NIGIRIS SAUMON FUME, Price: 4.75\n",
      "Bar: 2054, Item: NIGIRIS PETONCLE, Price: 5.0\n",
      "Bar: 2054, Item: CALMARS FRITS, Price: 8.0\n"
     ]
    }
   ],
   "source": [
    "# for bar in bars:\n",
    "#     for item in prices[bar]:\n",
    "#         print(\"Bar: {}, Item: {}, Price: {}\".format(bar, item, prices[bar][item]))\n",
    "#     break"
   ]
  },
  {
   "cell_type": "markdown",
   "metadata": {},
   "source": [
    "-------------"
   ]
  },
  {
   "cell_type": "markdown",
   "metadata": {},
   "source": [
    "## Beer Price Calculation"
   ]
  },
  {
   "cell_type": "markdown",
   "metadata": {},
   "source": [
    "As a starter, we'll start with beers (getting warmer)."
   ]
  },
  {
   "cell_type": "code",
   "execution_count": 24,
   "metadata": {},
   "outputs": [],
   "source": [
    "# basically all features except `city`, `country`, `state`\n",
    "beer_columns = ['bar_id', 'order_time', 'day_of_week', 'time_of_day', 'title', 'beer_brand_id',\n",
    "                'beer_serving_type_id', 'beer_volume', 'item_qty', 'sales_before_tax', 'bar_type']\n",
    "\n",
    "beers = df[df['category_id'] == 1]\n",
    "beers = beers[beer_columns]\n",
    "beers.sort_values(by='bar_id', inplace=True)\n",
    "beers.reset_index(drop=True, inplace=True)"
   ]
  }
 ],
 "metadata": {
  "kernelspec": {
   "display_name": "Python 3",
   "language": "python",
   "name": "python3"
  },
  "language_info": {
   "codemirror_mode": {
    "name": "ipython",
    "version": 3
   },
   "file_extension": ".py",
   "mimetype": "text/x-python",
   "name": "python",
   "nbconvert_exporter": "python",
   "pygments_lexer": "ipython3",
   "version": "3.7.1"
  }
 },
 "nbformat": 4,
 "nbformat_minor": 2
}
