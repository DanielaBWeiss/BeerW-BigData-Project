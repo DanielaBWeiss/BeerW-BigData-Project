{
 "cells": [
  {
   "cell_type": "markdown",
   "metadata": {},
   "source": [
    "# Cities\n",
    "\n",
    "Create metadata about the different cities (across Canada)."
   ]
  },
  {
   "cell_type": "code",
   "execution_count": 1,
   "metadata": {},
   "outputs": [],
   "source": [
    "import numpy as np\n",
    "import pandas as pd\n",
    "import seaborn as sns\n",
    "import matplotlib.pyplot as plt"
   ]
  },
  {
   "cell_type": "code",
   "execution_count": 2,
   "metadata": {},
   "outputs": [],
   "source": [
    "df = pd.read_csv('../data/original_data.csv')"
   ]
  },
  {
   "cell_type": "code",
   "execution_count": 3,
   "metadata": {},
   "outputs": [],
   "source": [
    "states = list(df.state.unique())"
   ]
  },
  {
   "cell_type": "code",
   "execution_count": 4,
   "metadata": {},
   "outputs": [
    {
     "name": "stdout",
     "output_type": "stream",
     "text": [
      "We have 9 states across Canada\n"
     ]
    }
   ],
   "source": [
    "print(\"We have {} states across Canada\".format(len(states)))"
   ]
  },
  {
   "cell_type": "code",
   "execution_count": 5,
   "metadata": {},
   "outputs": [
    {
     "name": "stdout",
     "output_type": "stream",
     "text": [
      "['Québec', 'Ontario', 'British Columbia', 'Alberta', 'Manitoba', 'Saskatchewan', 'New Brunswick', 'Quebec', 'Nova Scotia']\n"
     ]
    }
   ],
   "source": [
    "print(states)"
   ]
  },
  {
   "cell_type": "markdown",
   "metadata": {},
   "source": [
    "----------"
   ]
  },
  {
   "cell_type": "code",
   "execution_count": 6,
   "metadata": {},
   "outputs": [],
   "source": [
    "cities = list(df.city.unique())"
   ]
  },
  {
   "cell_type": "code",
   "execution_count": 7,
   "metadata": {},
   "outputs": [
    {
     "name": "stdout",
     "output_type": "stream",
     "text": [
      "We have 84 cities across Canada\n"
     ]
    }
   ],
   "source": [
    "print(\"We have {} cities across Canada\".format(len(cities)))"
   ]
  },
  {
   "cell_type": "code",
   "execution_count": 8,
   "metadata": {},
   "outputs": [
    {
     "name": "stdout",
     "output_type": "stream",
     "text": [
      "['Trois-Rivières', 'Port Stanley', 'Saint-Jean-sur-Richelieu', 'Toronto', 'London', 'Saint-Georges', 'Ottawa', 'Gatineau', 'Lavaltrie', 'Vaudreuil-Dorion', 'Vancouver', 'Richmond', 'Saint-Jérôme', 'Calgary', 'Québec', 'Montreal', 'Delta', 'Huntsville', 'Winnipeg', 'Saskatoon', 'Abbotsford', 'Saint-Romuald', 'Lévis', 'Rimouski', 'Burlington', 'Victoria', 'Chatham-Kent', 'Mississauga', 'Newmarket', 'Brockville', 'Chicoutimi', 'Whitby', 'Kelowna', 'Duncan', 'Mirabel', 'Vaughan', 'Matane', 'Brampton', 'Kenora', 'Sainte-Adèle', 'Drummondville', 'North Vancouver', 'Goderich', 'Cornwall', 'Sarnia', 'Cowansville', 'Kanata', 'Saguenay', 'Longueuil', 'Prince George', 'Brandon', 'Mont-Tremblant', 'Vernon', 'Richmond Hill', 'Saint-Eustache', 'Sorel-Tracy', 'Kingston', 'Port Dover', 'St. Catharines', 'Burnaby', 'Laval', 'Saint John', 'Barrie', 'Chilliwack', 'Sherbrooke', 'Shawinigan', 'Windsor', 'Saint Thomas', 'Granby', 'Repentigny', 'Markham', 'Thunder Bay', 'Langley', 'Kitchener', 'Chambly', 'Pickering', 'Cambridge', 'Joliette', 'Orleans', 'Halifax', 'Surrey', 'Terrebonne', 'Hamilton', 'Blainville']\n"
     ]
    }
   ],
   "source": [
    "print(cities)"
   ]
  },
  {
   "cell_type": "markdown",
   "metadata": {},
   "source": [
    "----"
   ]
  },
  {
   "cell_type": "markdown",
   "metadata": {},
   "source": [
    "## French Speaking States & Cities"
   ]
  },
  {
   "cell_type": "markdown",
   "metadata": {},
   "source": [
    "Classify each one as a French-Speaking country (1) or non (0):"
   ]
  },
  {
   "cell_type": "markdown",
   "metadata": {},
   "source": [
    "Use Wikipedia: https://en.wikipedia.org/wiki/French_language_in_Canada"
   ]
  },
  {
   "cell_type": "code",
   "execution_count": 9,
   "metadata": {},
   "outputs": [],
   "source": [
    "french_states = ['Québec', 'Quebec']\n",
    "non_french_states = [state for state in states if state not in french_states]"
   ]
  },
  {
   "cell_type": "code",
   "execution_count": 10,
   "metadata": {},
   "outputs": [
    {
     "name": "stdout",
     "output_type": "stream",
     "text": [
      "French speaking states are ['Québec', 'Quebec']\n",
      "Non-French speaking states are ['Ontario', 'British Columbia', 'Alberta', 'Manitoba', 'Saskatchewan', 'New Brunswick', 'Nova Scotia']\n"
     ]
    }
   ],
   "source": [
    "print(\"French speaking states are {}\".format(french_states))\n",
    "print(\"Non-French speaking states are {}\".format(non_french_states))"
   ]
  },
  {
   "cell_type": "markdown",
   "metadata": {},
   "source": [
    "Quebec is **GUILTY**!"
   ]
  },
  {
   "cell_type": "markdown",
   "metadata": {},
   "source": [
    "Find all cities in Quebec:"
   ]
  },
  {
   "cell_type": "code",
   "execution_count": 11,
   "metadata": {},
   "outputs": [],
   "source": [
    "french_cities = list(df[df['state'].isin(french_states)].city.unique())"
   ]
  },
  {
   "cell_type": "code",
   "execution_count": 12,
   "metadata": {},
   "outputs": [
    {
     "name": "stdout",
     "output_type": "stream",
     "text": [
      "French speaking cities are ['Trois-Rivières', 'Saint-Jean-sur-Richelieu', 'Saint-Georges', 'Gatineau', 'Lavaltrie', 'Vaudreuil-Dorion', 'Saint-Jérôme', 'Québec', 'Montreal', 'Saint-Romuald', 'Lévis', 'Rimouski', 'Chicoutimi', 'Mirabel', 'Matane', 'Sainte-Adèle', 'Drummondville', 'Cowansville', 'Saguenay', 'Longueuil', 'Mont-Tremblant', 'Saint-Eustache', 'Sorel-Tracy', 'Laval', 'Sherbrooke', 'Shawinigan', 'Granby', 'Repentigny', 'Chambly', 'Joliette', 'Terrebonne', 'Blainville']\n"
     ]
    }
   ],
   "source": [
    "print(\"French speaking cities are {}\".format(french_cities))"
   ]
  }
 ],
 "metadata": {
  "kernelspec": {
   "display_name": "Python 3",
   "language": "python",
   "name": "python3"
  },
  "language_info": {
   "codemirror_mode": {
    "name": "ipython",
    "version": 3
   },
   "file_extension": ".py",
   "mimetype": "text/x-python",
   "name": "python",
   "nbconvert_exporter": "python",
   "pygments_lexer": "ipython3",
   "version": "3.7.1"
  }
 },
 "nbformat": 4,
 "nbformat_minor": 2
}
