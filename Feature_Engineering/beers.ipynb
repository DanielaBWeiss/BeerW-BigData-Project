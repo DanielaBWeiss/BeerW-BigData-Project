{
 "cells": [
  {
   "cell_type": "markdown",
   "metadata": {},
   "source": [
    "# Beers\n",
    "\n",
    "(Try to) Map beer ids to beer names (`beer_brand_id` <-> `title`)."
   ]
  },
  {
   "cell_type": "code",
   "execution_count": 1,
   "metadata": {},
   "outputs": [],
   "source": [
    "import numpy as np\n",
    "import pandas as pd\n",
    "import seaborn as sns\n",
    "import matplotlib.pyplot as plt"
   ]
  },
  {
   "cell_type": "code",
   "execution_count": 2,
   "metadata": {},
   "outputs": [],
   "source": [
    "df = pd.read_csv(\"../data/original_data.csv\")"
   ]
  },
  {
   "cell_type": "markdown",
   "metadata": {},
   "source": [
    "----------"
   ]
  },
  {
   "cell_type": "code",
   "execution_count": 3,
   "metadata": {},
   "outputs": [],
   "source": [
    "NO_BEER_ID = 0"
   ]
  },
  {
   "cell_type": "code",
   "execution_count": 4,
   "metadata": {},
   "outputs": [],
   "source": [
    "beer_brand_ids = list(df.beer_brand_id.unique())\n",
    "beer_brand_ids.remove(NO_BEER_ID) # remove 0 id (no beer)"
   ]
  },
  {
   "cell_type": "code",
   "execution_count": 5,
   "metadata": {},
   "outputs": [
    {
     "name": "stdout",
     "output_type": "stream",
     "text": [
      "Number of Beer Brands: 1145\n",
      "Beer IDs: [183, 267, 324, 15, 4394, 44, 200, 217, 10269, 223, 5831, 988, 133, 71, 347, 280, 128, 828, 397, 3271, 84, 181, 440, 26, 191, 281, 350, 2726, 4661, 270, 5607, 254, 12951, 964, 59, 962, 1517, 11598, 2819, 3, 14513, 14164, 14306, 14298, 8461, 400, 5599, 14520, 1781, 2381, 991, 3293, 1294, 27897, 2392, 2796, 25862, 215, 1036, 285, 180, 399, 6186, 2980, 185, 18, 2400, 2370, 27899, 27961, 1544, 1750, 2420, 26627, 27428, 8201, 930, 975, 1319, 5027, 1121, 203, 1705, 214, 1053, 595, 2398, 897, 5598, 893, 63, 2548, 299, 437, 255, 890, 1120, 439, 2821, 4915, 26980, 442, 3327, 219, 283, 2368, 894, 2666, 43, 405, 237, 892, 129, 52, 2655, 14843, 1271, 8502, 26698, 401, 2414, 26697, 3205, 2566, 14844, 2, 4321, 111, 719, 1703, 13818, 2959, 13365, 13230, 351, 8454, 3182, 16207, 16208, 16204, 1058, 82, 2433, 13646, 81, 414, 269, 395, 1560, 4191, 2520, 3785, 262, 261, 188, 841, 28987, 1430, 26348, 1550, 2388, 14782, 2728, 2752, 2971, 398, 1684, 4423, 1648, 273, 24603, 4677, 8695, 1028, 28215, 2721, 6980, 13837, 1022, 14301, 1240, 3276, 16219, 3244, 325, 2482, 3529, 1509, 2745, 14427, 3231, 2650, 6023, 1854, 727, 2499, 2380, 7896, 4297, 21048, 2393, 1379, 13328, 284, 2712, 428, 3452, 1485, 187, 854, 295, 3812, 8218, 24317, 2524, 2523, 1450, 4785, 8664, 557, 233, 363, 1524, 601, 4299, 14926, 14783, 7420, 5350, 12616, 5927, 21050, 21049, 1532, 153, 1262, 28804, 7710, 3749, 2596, 22244, 2565, 16147, 7181, 2729, 244, 5526, 271, 1321, 2961, 14925, 2698, 5148, 17695, 235, 2474, 21937, 4704, 4810, 8433, 24914, 27776, 28669, 22989, 3278, 22986, 282, 1175, 61, 6141, 22979, 14850, 22982, 1032, 1478, 1537, 6228, 16206, 13438, 1903, 2375, 2639, 5519, 13265, 9192, 3594, 1170, 26949, 2704, 6185, 4642, 6183, 6077, 327, 853, 22983, 14011, 22980, 22981, 855, 1693, 2034, 1037, 22988, 22985, 24991, 2558, 1146, 8196, 276, 3593, 2608, 3462, 412, 28350, 512, 14857, 207, 26563, 2373, 8775, 14534, 2782, 2619, 26758, 720, 8295, 5948, 14045, 826, 60, 4695, 4900, 1815, 630, 2369, 7998, 8375, 26357, 6324, 2387, 1242, 15361, 2374, 5256, 1918, 8226, 333, 534, 1991, 26336, 12132, 1671, 7658, 2886, 895, 14496, 26091, 26821, 2864, 16197, 22355, 2552, 3346, 14423, 3291, 12048, 26276, 25226, 28638, 14057, 26325, 16718, 24605, 201, 5095, 28639, 3281, 1453, 2595, 12248, 12592, 5915, 4694, 2553, 13058, 28781, 2129, 16796, 15971, 17103, 17102, 1530, 12533, 1466, 18577, 12491, 8024, 146, 4787, 17105, 12541, 28637, 15090, 7072, 27851, 2578, 2501, 16406, 8235, 2662, 13254, 256, 238, 18867, 2498, 1899, 8334, 5936, 1946, 2371, 3440, 28015, 22987, 644, 2382, 8436, 4631, 5501, 4296, 4964, 4301, 27981, 2627, 929, 15467, 1153, 18601, 7036, 247, 2458, 25938, 2928, 28560, 14524, 12254, 3211, 1906, 2407, 1511, 8231, 4637, 26429, 556, 1237, 2972, 2488, 17617, 6289, 2411, 1064, 5893, 2805, 2806, 3508, 2437, 859, 8336, 1193, 1534, 14501, 14403, 3213, 2693, 17582, 2913, 3296, 216, 28114, 279, 2133, 7690, 1454, 252, 22116, 783, 5, 8801, 246, 2377, 20062, 1142, 5978, 2438, 1293, 2834, 182, 1976, 17435, 8814, 8367, 2493, 4636, 3482, 2777, 535, 26704, 206, 10344, 1545, 25552, 1513, 3120, 15369, 2671, 771, 152, 2861, 7000, 1384, 26797, 28453, 7693, 8505, 323, 6291, 14245, 3218, 2646, 26151, 4103, 10012, 28668, 3639, 6221, 18605, 15574, 1830, 6057, 236, 5500, 8423, 10149, 22343, 19888, 8966, 5891, 8656, 2468, 6374, 2807, 5712, 157, 6025, 1975, 2573, 2620, 7267, 4582, 4766, 96, 28115, 28116, 17007, 16486, 13187, 762, 764, 7708, 1730, 102, 5592, 8, 1259, 786, 3294, 4307, 9575, 27965, 16956, 16904, 8227, 8670, 986, 20330, 2892, 2490, 2534, 9202, 2394, 3268, 8228, 4322, 532, 5508, 2404, 12762, 2781, 8420, 12760, 2544, 12763, 6945, 1518, 18600, 3347, 26355, 18595, 5516, 7776, 4919, 3242, 266, 12114, 9285, 3446, 376, 15374, 5951, 4723, 202, 1551, 1559, 4916, 2440, 1961, 16594, 7565, 4960, 2827, 334, 992, 2665, 26796, 1507, 13273, 1460, 7703, 1523, 4092, 11578, 28834, 5390, 16937, 7300, 2500, 15354, 12229, 4782, 16946, 16917, 927, 27982, 1828, 15333, 27875, 11634, 28, 8366, 16926, 11926, 13258, 2605, 10, 27803, 16076, 2804, 1892, 7474, 2419, 5119, 18636, 6181, 1422, 5002, 15305, 1459, 2516, 6130, 27969, 14532, 8660, 2611, 1138, 1024, 17116, 9578, 1701, 27812, 1038, 19175, 6227, 724, 113, 4937, 8716, 18918, 4610, 1695, 2004, 2809, 8698, 28172, 8195, 709, 3136, 5875, 7833, 782, 1091, 2848, 3708, 13482, 13364, 3618, 17040, 22202, 3051, 13275, 28557, 1178, 5129, 3474, 4248, 2683, 23576, 6008, 2495, 815, 1521, 15745, 5348, 3748, 15299, 2496, 8462, 4177, 2858, 6022, 8191, 18924, 2870, 5131, 1996, 212, 26326, 27919, 1805, 4434, 4743, 24312, 251, 27990, 8192, 8773, 20870, 8197, 523, 6106, 5824, 3214, 4768, 2751, 3542, 5138, 1184, 577, 604, 961, 27096, 26406, 15785, 12020, 26309, 27648, 16211, 7638, 6020, 5966, 9195, 27406, 1622, 12251, 2379, 11, 1443, 2635, 8248, 161, 4783, 4598, 2518, 2645, 5074, 2564, 20079, 7705, 889, 3439, 643, 1116, 2879, 9294, 5094, 20716, 3997, 3372, 12761, 5062, 131, 1364, 3083, 3485, 1179, 16690, 14617, 27962, 204, 8350, 6418, 1426, 3743, 42, 27718, 234, 1455, 20001, 1051, 2634, 715, 28859, 31, 17038, 4929, 16793, 6330, 11576, 1697, 533, 21026, 2077, 4104, 250, 9919, 25, 6313, 1995, 27971, 14001, 1289, 12907, 581, 4607, 1589, 4575, 652, 1241, 5471, 3082, 27786, 6325, 268, 24741, 26782, 6834, 19191, 16292, 3012, 3887, 4555, 19590, 1055, 8833, 13697, 4722, 1067, 14537, 4340, 972, 6345, 15358, 322, 13063, 16947, 1094, 12228, 472, 13607, 2691, 950, 1, 1676, 4396, 6173, 20088, 1474, 2570, 28802, 5970, 14553, 1065, 4703, 107, 14051, 24634, 5245, 22978, 13475, 2810, 5710, 1360, 2789, 3046, 4562, 7520, 2686, 26622, 12889, 4308, 4540, 860, 21365, 14424, 5506, 5098, 1882, 97, 1056, 2734, 2735, 20882, 14544, 16434, 10211, 3156, 1057, 27457, 4734, 259, 1994, 28837, 28805, 3788, 7828, 13276, 8706, 3873, 5527, 600, 8700, 765, 1075, 22344, 21056, 16941, 2677, 2002, 5092, 12539, 759, 5769, 12255, 2372, 2473, 20827, 6084, 5206, 8247, 6570, 13175, 2850, 3534, 16978, 2543, 5373, 4874, 22328, 2680, 24612, 13305, 8221, 1981, 6024, 3295, 2663, 2733, 26431, 28989, 2036, 16654, 2640, 9505, 7698, 4189, 11746, 5827, 1108, 14508, 3279, 3802, 4371, 18594, 3488, 18939, 2867, 26428, 15366, 1035, 3380, 4692, 13, 10824, 14174, 3063, 4784, 26404, 26624, 25235, 25236, 2597, 2962, 8270, 4375, 2874, 1881, 5749, 4597, 8253, 260, 4560, 15335, 2894, 7473, 4032, 1860, 990, 1562, 5930, 33, 430, 24362, 8739, 10352, 1356, 28112, 51, 13232, 21037, 4487, 8774, 1152, 4267, 1905, 650, 378, 4823, 5130, 11192, 16929, 28609, 4963, 3729, 1497, 4486, 28790, 98, 1668, 550, 3789, 6045, 38, 5452, 1061, 12538, 17125, 582, 4572, 278, 8938, 23759, 14615, 14646, 6246, 12499, 22192, 4471, 4390, 14842, 7758, 1069, 16228, 11579, 2866, 7478, 8026, 15504, 16928, 5578, 6131, 4805, 22231, 16915, 24808, 1446, 2059, 6327, 23580, 2555, 6768, 18592, 6090, 16931, 8703, 8269, 2914, 16924, 20038, 6531, 1416, 763, 39, 16920, 2999, 3103, 8809, 924, 3515, 1514, 833, 824, 3443, 2880, 229, 5238, 17022, 14682, 1049, 4605, 1660, 8399, 26768, 900, 11824, 26427, 8896]\n"
     ]
    }
   ],
   "source": [
    "print(\"Number of Beer Brands: {}\".format(len(beer_brand_ids)))\n",
    "print(\"Beer IDs: {}\".format(beer_brand_ids))"
   ]
  },
  {
   "cell_type": "markdown",
   "metadata": {},
   "source": [
    "--------"
   ]
  },
  {
   "cell_type": "code",
   "execution_count": 6,
   "metadata": {},
   "outputs": [],
   "source": [
    "beer_map = { beer_brand_id: set() for beer_brand_id in beer_brand_ids }\n",
    "\n",
    "for index, order in df.iterrows():\n",
    "    if order.beer_brand_id != NO_BEER_ID:\n",
    "        beer_map[order.beer_brand_id].add(order.title)\n",
    "\n",
    "for beer_brand_id in beer_brand_ids:\n",
    "    beer_map[beer_brand_id] = list(beer_map[beer_brand_id])"
   ]
  },
  {
   "cell_type": "code",
   "execution_count": 7,
   "metadata": {},
   "outputs": [
    {
     "name": "stdout",
     "output_type": "stream",
     "text": [
      "The titles for beer brand id 183 are: ['PREMIUM BEER', 'CANADIAN', 'MOLSON CANADIAN BTL', '*Pint Canadian', 'Quart Canadian', 'Btl Canadian', 'CANADIAN.4z', 'MOLSON PINT', 'Happy Hour Beer', '22oz CANADIAN', '*DOM BOTTLE*', '60oz CANADIAN', 'LRG CANADIAN', 'CANADIAN.Pt', 'DOMESTIC BUCKET', 'Sun Canadian', 'Btl. Canadian', 'MICHELADA', 'TALL CANADIAN', 'MONDAY CANADIAN', 'Canadian PINT', 'CANADIAN BT', 'CANADIAN BTL', 'TUES TALL CANADIAN', 'LD BTL CANADIAN', 'MOLSON JUG', 'CANADIAN BOTTLE', 'Canadian - 30oz', 'DOMESTIC CAN', 'BT MOLSON CANADIAN', 'CANADIAN.PICHET', 'Canadian Large', 'CANADIAN.XL', 'CANADIAN-DRFT', 'CANADIAN.PINT', 'Sm Canadian', 'Canadian TB', 'Canadian 60oz Jug', 'JUG CANADIAN', 'Canadian - 20oz', 'Canadian - 60oz', 'WEDNESDAY CANADIAN', 'Canadian Jug', 'Canadian GLASS', 'MUG CDN', 'CANADIAN DRAFT', 'MINI JUG CANADIAN', 'OFS CANADIAN', 'CAN CANADIAN reg', 'CANADIAN GLS', '16oz CANADIAN', '23 OZ MOLSON CANADIAN', 'CANADIAN PINT', 'Canadian', 'PNT CANADIAN', 'Canadian PITCHER', 'GLS CANADIAN', 'H Canadian btl', 'Lg Dom', 'CANADIAN PTCHR', '12oz CANADIAN', 'PT CANADIAN SESSION', 'PR0M0 DRAFT', 'Domestic Staff', 'DOMESTIC BOTTLE', 'Bucket Canadian', 'GLS CDN', '6PK CANADIAN', 'HH BEER_PRE', '14oz Canadian SP', 'H/H MOLSON', 'Canadian Bottle', '1/2 Canadian', 'Canadian SLEEVE', '60 OZ. CANADIAN', 'CANADIAN JUG', 'Staff Canadian', '1/2 CANADIAN', 'Canadian Pint', 'CANADIAN CAN', 'CAN', 'BTL CDN', 'Mini Pitch Canadian', 'CANADIAN-HAPPY', 'Gls Canadian', 'CANADIAN-BOTL', 'RG CANADIAN', '16OZ MOLSON CANADIAN', 'Canadian Btl.', '5.50 CANDIAN', 'SS CANADIAN', 'BTL CANADIAN', 'Canadian 1/2 Pint', 'Canadian Quart', 'TALLBOYS', 'TB CANADIAN', 'HH BEER', 'JUG DOMESTIC', 'Canadian 20oz', '16 oz. CDN CAN', 'Canadian Btl', 'Pitcher Canadian', 'Domestic Draft Thursday', '60 oz CANADIAN', '32 oz CANADIAN', 'HH domestic btl', 'PINT CANADIAN', 'Lg Canadian', 'MUG CANADIAN', 'MOLSON 1/2 PINT', 'Mini Jug', 'Tall Canadian', 'Tuesday Canadian', 'MINI CANADIAN', 'LG CANADIAN', '20oz CANADIAN', 'STN CANADIAN', 'Domestic Bottle', 'DC ST CANADIAN BTL', 'CANADIAN GLASS', '20oz Canadian', 'BEER', '20 CANADAIN', 'MOLSON CANADIAN', 'CANADIAN.Jg', 'DOMESTIC PINT', 'Canadian Pitcher', 'JUG Dom', 'HH Molson', '20 oz CANADIAN', 'CANADIAN.Mg', '==>Canadian', '12 oz CANADIAN', 'DOMESTIC PITCHER', '30oz Canadian', 'SM CANADIAN', '16oz Canadian', 'CANADIAN HLF', 'TNK CANADIAN', 'Canadian BTL', '14oz Canadian', '60 OZ CANADIAN', 'Canadian bottle', 'TB Canadian', 'CANADIAN (BOTTLE)', 'MGMT DOM Btl', 'CANADIAN PNT', '$4.75 BOTTLE FRIDAYS', 'CANADIAN SLV', 'Beer', 'Pint Canadian', 'BTL Canadian', '1/2 JUG CANADIAN', 'HH CANADIAN SLV', 'LARGE CANADIAN']\n"
     ]
    }
   ],
   "source": [
    "beer_brand_id = beer_brand_ids[0]\n",
    "print(\"The titles for beer brand id {} are: {}\".format(beer_brand_id, beer_map[beer_brand_id]))"
   ]
  },
  {
   "cell_type": "code",
   "execution_count": 8,
   "metadata": {},
   "outputs": [
    {
     "name": "stdout",
     "output_type": "stream",
     "text": [
      "The titles for beer brand id 267 are: ['Lg Shock', 'SHOCK TOP PINT', 'F SL SHOCKTOP', '20 ONCES SHOCK TOP', 'PINTE SHOK TOP', 'Small Shocktop Draft', '20oz.SHOCK TOP', '20oz SHOCKTOP', 'FUT WHITE 10oz', '14oz SHOCKTOP', 'Shocktop 20 oz', 'Can Shock Top', 'VERRE SHOCK TOP', 'PT SHOCK TOP WHT', 'SHOCK TOP 20 OZ t', '4.00 BEERS', '12oz Shocktop', 'SHOCK TOP(m)', '20 OZ  SHOCK TOP', '20 oz SHOCK', 'P. SHOCK TOP', 'SHOCK TOP (PICHET)', 'Regular Shocktop', 'MAN MUG SHOCK TOP', 'P SHOCKTOP', 'FLIGHT', '$4 14 OZ DRAFT', 'PETIT POT BLANCHE', '16oz SHOCK TOP', '*Pint Shock Top', 'SHOCKTOP 60oz JUG', '1/2 SHOCK TOP', 'SHOCKTOP PINT', '*SHOCK TOP PICHET', '60 oz SHOCK TOP', '$6 Shock Top', 'Shock Top', '20 OZ SHOCK TOP', 'SHOCK TOP 20 oz FUT', 'LG/SHOCK TOP', 'shock top 20 oz', 'TNK SHOCK TOP', 'SHOCKTOP 60OZ PITCHER', 'SHOCK TOP PT', 'JUG SHOCKTOP', 'Lg Shocktop', '32oz SHOCKTOP', 'H.H SHOCK TOP', 'PETITE SHOCK TOP FU', 'SHOCKTOP 20OZ MUG', 'BUCK SHOCK TOP', 'FUT WHITE 20oz', 'Shock top', 'Shock Top Pichet', 'Shock Top 12oz', 'POT ALEX SHOCK TOP', 'SHOCK TOP 12 OZ', 'Shock Top - 20oz', '20 oz SHOCK TOP', 'TASTER ROTATING 1', 'Shock Top Draught', 'SHOCK TOP JUG', '20oz Shock Top', 'SHOCK 20', 'WHITE VELVET', 'SHOCK TOP PINTE 4/7', '16OZ SHOCKTOP', 'Shock Top Pitcher', 'DRAFT PINTE SHOCK-TO', '10 oz SHOCK TOP', 'MUG SHOCKTOP', 'SHOCK TOP TALL BOY', 'PITCHR SHOCK TOP', '20 OZ F-SHOCKTOP', 'STAFF LRG SHOCKTOP', 'Shock Top PINT', '$5 SHOCK TOP', 'Wed. Bottle', 'PNT SHOCK TOP', 'BTL SHOCKTOP', 'bierre combo', 'SHOCKTOP', 'PT SHOCK TOP', 'PITCHER SHOCK TOP', '18oz SHOCKTOP', 'SLV SHOCK TOP', 'BIERE 10 ONCE', '20 OZ SHOCK TOP FUT', 'SLV ROTATING', 'SHOCK TOP (PINTE)', 'Lg ShokTop', 'Pichet shock top', 'SHOCKTOP CAN', 'SHOCK.TOP.XL', 'Shock Top PITCHER', 'SHOCK TOP 20 OZ', 'BR SHOCK TOP', 'SHOCK TOP PICHET', 'DRAFT GLSS SPEC', 'PINT SHOCK TOP', 'Pt Shocktop', 'PITCH. SHOCKTOP', 'shock top 10', 'SHOCKTOP 16oz.', 'Lg. Shock Top', '2O SHOCKTOP', '12 oz SHOCK TOP', 'TASTER ROTATING 3', '6.00 SHOCK TOP', 'SHOCK TOP PICTHER', 'FUT SHOCK.TOP 20', 'MAS SHOCK TOP', 'PT Jiao blonde', 'MIDI FUT WHITE 20oz', 'SHOCK-TOP G VERRE', '20oz CECILE', 'SHOCK TOP PINTE', 'PINT WHITE VELVET', 'Shok Top 1/2 Pint', 'PINTSHOCK TOP', 'SM DRFT SHOCK TP', 'SHOCKTOP 12 MIDI', 'LRG SHOCK TOP', 'SHOCK.TOP.Pt', 'TKEG SHOCKTOP', 'ROTATING TAP', 'DC SHOCKTOP GL', 'Lg Shock Top', 'PINTE SHOCKTOP FUT', 'SM/SHOCK TOP', '20 oz SHOCKTOP', 'SHOCK TOP  20oz', 'SHOCK TOP 10 oz FUT', 'SHOCK-TOP P VERRE', 'F ShockTop Pint', 'PINT SHOCKTOP', 'SHOCK TOP12oz', 'STN SHOCK TOP', 'BIERE DIVERS', '12oz CECILE', 'PICHET SHOCK TOP', 'SHOCK TOP 1/2 PICH', 'PICHET SHOCK TOP t', 'SM SHOCK TOP', 'SHOCK TOP 1/2', 'SHOCK TOP', 'Shock top Tallboy', '10 oz SHOCKTOP', 'SHOCKTOP 20', 'SHOCKTOP PNT', '16 SHOCKTOP', '20oz Shocktop', 'SHOCK TOP 20oz', 'shock top 20 OZ', 'SHOCK TOP VERRE', 'shock top 20', 'Jug of Shock', 'DRAFT PTCHR SPEC', '*SHOCK TOP 20 OZ', 'HH PINT SHOCK TOP', 'BOSS SHOCKTOP', 'PINTE SHOCK TOP', 'Shock Top SLEEVE', '14oz. SHOCK TOP', 'SHOCK TOP 15 OZ FUT', 'PT SHOCK TOP  SESS', '12oz SHOCK TOP', 'SHOCK TOP TAP', 'SML SHOCK TOP', '12 OZ  SHOCK TOP', 'SLV ROTAT PREM', '$5 BEER', '48 oz SHOCK TOP', 'JUMBO SHOCKTOP', 'MUG SHOCK TOP', '60oz SHOCK TOP', 'BULL SIZE SHOCK TOP', 'PITCH/SHOCK TOP', 'Sm Shock Top', 'PT Shock Top', 'Shock Top 20oz', 'SHOCKTOP GLASS', 'Shock Top Glass', 'SP SHOCK TOP', '20OZ SHOCK TOP', 'DRAFT SAMPLE', 'Shock Top LARGE', '12 OZ SHOCK TOP', 'BYO Shocktop', 'SHOCK 20oz', 'S SL SHOCKTOP', 'SHOCK TOP FUT', 'DRAFT SHOCK TOP', 'SL SHOCK TOP', 'Pint Shocktop', 'LG SHOCK TOP', 'shock top PICHET', 'PITCHER SHOCKTOP', 'JUG SHOCK TOP', 'BUD PINTE', 'T SHOCKTOP', 'PT Ftr Beer', 'HH Shocktop', 'PICHET SHOCK']\n"
     ]
    }
   ],
   "source": [
    "beer_brand_id = beer_brand_ids[1]\n",
    "print(\"The titles for beer brand id {} are: {}\".format(beer_brand_id, beer_map[beer_brand_id]))"
   ]
  }
 ],
 "metadata": {
  "kernelspec": {
   "display_name": "Python 3",
   "language": "python",
   "name": "python3"
  },
  "language_info": {
   "codemirror_mode": {
    "name": "ipython",
    "version": 3
   },
   "file_extension": ".py",
   "mimetype": "text/x-python",
   "name": "python",
   "nbconvert_exporter": "python",
   "pygments_lexer": "ipython3",
   "version": "3.7.1"
  }
 },
 "nbformat": 4,
 "nbformat_minor": 2
}
