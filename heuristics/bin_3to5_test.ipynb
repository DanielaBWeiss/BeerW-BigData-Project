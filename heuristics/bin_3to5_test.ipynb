{
 "cells": [
  {
   "cell_type": "markdown",
   "metadata": {},
   "source": [
    "# Measure The 3-5 Bin Heuristics Accuracy"
   ]
  },
  {
   "cell_type": "markdown",
   "metadata": {},
   "source": [
    "As a refresher, these are our occasions for the 3-5 bin:"
   ]
  },
  {
   "cell_type": "markdown",
   "metadata": {},
   "source": [
    "1. `Family Event`\n",
    "2. `Drinking`\n",
    "3. `Breakfast`\n",
    "4. `Lunch`\n",
    "5. `Dinner`\n",
    "6. `Social Gathering`\n",
    "7. `After Work`"
   ]
  },
  {
   "cell_type": "code",
   "execution_count": 1,
   "metadata": {},
   "outputs": [],
   "source": [
    "labels = [\n",
    "    \"FAMILY-EVENT\",\n",
    "    \"DRINKING\",\n",
    "    \"BREAKFAST\",\n",
    "    \"LUNCH\",\n",
    "    \"DINNER\",\n",
    "    \"SOCIAL-GATHERING\",\n",
    "    \"AFTER-WORK\"\n",
    "]"
   ]
  },
  {
   "cell_type": "markdown",
   "metadata": {},
   "source": [
    "We're going to pick specific labeled tables, and see how our heuristics is doing."
   ]
  },
  {
   "cell_type": "code",
   "execution_count": 2,
   "metadata": {},
   "outputs": [],
   "source": [
    "data_map = {\n",
    "    \"hockey\"    : \"../data/hockey_3_text_processed.csv\",\n",
    "    \"valentine\" : \"../data/valentine_3_text_processed.csv\",\n",
    "    \"silvester\" : \"../data/silvester_3_text_processed.csv\"\n",
    "}"
   ]
  },
  {
   "cell_type": "markdown",
   "metadata": {},
   "source": [
    "The following are taken from the *annotations/occasions_annotations_bin3to5* notebook."
   ]
  },
  {
   "cell_type": "code",
   "execution_count": 3,
   "metadata": {},
   "outputs": [],
   "source": [
    "labeled_tables_map = {\n",
    "    \"hockey\": [\n",
    "        (520803608, \"LUNCH\"),\n",
    "        (523294848, \"FAMILY-EVENT\"),\n",
    "        (514583822, \"SOCIAL-GATHERING\"),\n",
    "        (524421347, \"FAMILY-EVENT\"),\n",
    "        (521095118, \"DRINKING\"),\n",
    "        (522574215, \"FAMILY-EVENT\"),\n",
    "        (522779155, \"SOCIAL-GATHERING\"),\n",
    "        (515363895, \"BREAKFAST\"),\n",
    "        (519501788, \"FAMILY-EVENT\"),\n",
    "        (514529424, \"SOCIAL-GATHERING\")\n",
    "    ],\n",
    "    \"valentine\": [\n",
    "        (447441456, \"FAMILY-EVENT\"),\n",
    "        (435005397, \"SOCIAL-GATHERING\"),\n",
    "        (435011399, \"LUNCH\"),\n",
    "        (447381509, \"LUNCH\"),\n",
    "        (446744761, \"LUNCH\"),\n",
    "        (447079489, \"DINNER\"),\n",
    "        (434609975, \"FAMILY-EVENT\"),\n",
    "        (448041560, \"DINNER\"),\n",
    "        (447074978, \"AFTER-WORK\"),\n",
    "        (434603220, \"LUNCH\")\n",
    "    ],\n",
    "    \"silvester\": [\n",
    "        (362939931, \"AFTER-WORK\"),\n",
    "        (361304992, \"FAMILY-EVENT\"),\n",
    "        (363233153, \"LUNCH\"),\n",
    "        (360790021, \"LUNCH\"),\n",
    "        (362924064, \"AFTER-WORK\"),\n",
    "        (361776660, \"DINNER\"),\n",
    "        (361815160, \"DINNER\"),\n",
    "        (360000762, \"DINNER\"),\n",
    "        (360402335, \"DINNER\"),\n",
    "        (361369624, \"FAMILY-EVENT\")\n",
    "    ]\n",
    "}"
   ]
  },
  {
   "cell_type": "markdown",
   "metadata": {},
   "source": [
    "------"
   ]
  },
  {
   "cell_type": "code",
   "execution_count": 4,
   "metadata": {},
   "outputs": [],
   "source": [
    "import pandas as pd\n",
    "import seaborn as sns\n",
    "import matplotlib.pyplot as plt\n",
    "from sklearn.metrics import confusion_matrix\n",
    "from sklearn.metrics import classification_report"
   ]
  },
  {
   "cell_type": "markdown",
   "metadata": {},
   "source": [
    "Import the classifier function `3to5 Classifier`:"
   ]
  },
  {
   "cell_type": "code",
   "execution_count": 5,
   "metadata": {},
   "outputs": [],
   "source": [
    "from bin_3to5 import Bin3to5Classifier as Classifier"
   ]
  },
  {
   "cell_type": "code",
   "execution_count": 6,
   "metadata": {},
   "outputs": [],
   "source": [
    "classifier = Classifier()"
   ]
  },
  {
   "cell_type": "markdown",
   "metadata": {},
   "source": [
    "-----"
   ]
  },
  {
   "cell_type": "markdown",
   "metadata": {},
   "source": [
    "### Results per Table:"
   ]
  },
  {
   "cell_type": "code",
   "execution_count": 7,
   "metadata": {},
   "outputs": [],
   "source": [
    "tables = [\"hockey\", \"valentine\", \"silvester\"]"
   ]
  },
  {
   "cell_type": "code",
   "execution_count": 8,
   "metadata": {},
   "outputs": [],
   "source": [
    "results = {}"
   ]
  },
  {
   "cell_type": "code",
   "execution_count": 9,
   "metadata": {},
   "outputs": [],
   "source": [
    "from occasion_classifier import shrink_orders_to_table"
   ]
  },
  {
   "cell_type": "code",
   "execution_count": 10,
   "metadata": {},
   "outputs": [
    {
     "name": "stdout",
     "output_type": "stream",
     "text": [
      "Running hockey\n",
      "Running valentine\n",
      "Running silvester\n"
     ]
    }
   ],
   "source": [
    "for table in tables:\n",
    "    print(\"Running\", table)\n",
    "    df_path = data_map[table]\n",
    "    df = pd.read_csv(df_path)\n",
    "    labeled_tables = labeled_tables_map[table]\n",
    "    \n",
    "    results[table] = []\n",
    "    for order_id, true_ocassion in labeled_tables:\n",
    "        orders = df[df.order_id == order_id]\n",
    "        orders = shrink_orders_to_table(orders)\n",
    "        pred_occasion = classifier.classify(orders)\n",
    "        results[table].append((order_id, true_ocassion, pred_occasion))"
   ]
  },
  {
   "cell_type": "markdown",
   "metadata": {},
   "source": [
    "#### Show the results:"
   ]
  },
  {
   "cell_type": "code",
   "execution_count": 11,
   "metadata": {},
   "outputs": [],
   "source": [
    "columns = [\"order_id\", \"true_occasion\", \"pred_occasion\"]"
   ]
  },
  {
   "cell_type": "code",
   "execution_count": 12,
   "metadata": {},
   "outputs": [],
   "source": [
    "def color(data):\n",
    "    correct = data[\"true_occasion\"] == data[\"pred_occasion\"]\n",
    "    if correct:\n",
    "        color = \"#58f200\"\n",
    "    else:\n",
    "        color = \"#ee1300\"\n",
    "\n",
    "    return [\"background-color: %s\" % color] * len(data.values)"
   ]
  },
  {
   "cell_type": "code",
   "execution_count": 13,
   "metadata": {},
   "outputs": [
    {
     "data": {
      "text/html": [
       "<style  type=\"text/css\" >\n",
       "    #T_3c67ef7e_e28e_11e9_980b_b8ca3adca094row0_col0 {\n",
       "            background-color:  #58f200;\n",
       "        }    #T_3c67ef7e_e28e_11e9_980b_b8ca3adca094row0_col1 {\n",
       "            background-color:  #58f200;\n",
       "        }    #T_3c67ef7e_e28e_11e9_980b_b8ca3adca094row0_col2 {\n",
       "            background-color:  #58f200;\n",
       "        }    #T_3c67ef7e_e28e_11e9_980b_b8ca3adca094row1_col0 {\n",
       "            background-color:  #58f200;\n",
       "        }    #T_3c67ef7e_e28e_11e9_980b_b8ca3adca094row1_col1 {\n",
       "            background-color:  #58f200;\n",
       "        }    #T_3c67ef7e_e28e_11e9_980b_b8ca3adca094row1_col2 {\n",
       "            background-color:  #58f200;\n",
       "        }    #T_3c67ef7e_e28e_11e9_980b_b8ca3adca094row2_col0 {\n",
       "            background-color:  #ee1300;\n",
       "        }    #T_3c67ef7e_e28e_11e9_980b_b8ca3adca094row2_col1 {\n",
       "            background-color:  #ee1300;\n",
       "        }    #T_3c67ef7e_e28e_11e9_980b_b8ca3adca094row2_col2 {\n",
       "            background-color:  #ee1300;\n",
       "        }    #T_3c67ef7e_e28e_11e9_980b_b8ca3adca094row3_col0 {\n",
       "            background-color:  #58f200;\n",
       "        }    #T_3c67ef7e_e28e_11e9_980b_b8ca3adca094row3_col1 {\n",
       "            background-color:  #58f200;\n",
       "        }    #T_3c67ef7e_e28e_11e9_980b_b8ca3adca094row3_col2 {\n",
       "            background-color:  #58f200;\n",
       "        }    #T_3c67ef7e_e28e_11e9_980b_b8ca3adca094row4_col0 {\n",
       "            background-color:  #58f200;\n",
       "        }    #T_3c67ef7e_e28e_11e9_980b_b8ca3adca094row4_col1 {\n",
       "            background-color:  #58f200;\n",
       "        }    #T_3c67ef7e_e28e_11e9_980b_b8ca3adca094row4_col2 {\n",
       "            background-color:  #58f200;\n",
       "        }    #T_3c67ef7e_e28e_11e9_980b_b8ca3adca094row5_col0 {\n",
       "            background-color:  #58f200;\n",
       "        }    #T_3c67ef7e_e28e_11e9_980b_b8ca3adca094row5_col1 {\n",
       "            background-color:  #58f200;\n",
       "        }    #T_3c67ef7e_e28e_11e9_980b_b8ca3adca094row5_col2 {\n",
       "            background-color:  #58f200;\n",
       "        }    #T_3c67ef7e_e28e_11e9_980b_b8ca3adca094row6_col0 {\n",
       "            background-color:  #ee1300;\n",
       "        }    #T_3c67ef7e_e28e_11e9_980b_b8ca3adca094row6_col1 {\n",
       "            background-color:  #ee1300;\n",
       "        }    #T_3c67ef7e_e28e_11e9_980b_b8ca3adca094row6_col2 {\n",
       "            background-color:  #ee1300;\n",
       "        }    #T_3c67ef7e_e28e_11e9_980b_b8ca3adca094row7_col0 {\n",
       "            background-color:  #58f200;\n",
       "        }    #T_3c67ef7e_e28e_11e9_980b_b8ca3adca094row7_col1 {\n",
       "            background-color:  #58f200;\n",
       "        }    #T_3c67ef7e_e28e_11e9_980b_b8ca3adca094row7_col2 {\n",
       "            background-color:  #58f200;\n",
       "        }    #T_3c67ef7e_e28e_11e9_980b_b8ca3adca094row8_col0 {\n",
       "            background-color:  #58f200;\n",
       "        }    #T_3c67ef7e_e28e_11e9_980b_b8ca3adca094row8_col1 {\n",
       "            background-color:  #58f200;\n",
       "        }    #T_3c67ef7e_e28e_11e9_980b_b8ca3adca094row8_col2 {\n",
       "            background-color:  #58f200;\n",
       "        }    #T_3c67ef7e_e28e_11e9_980b_b8ca3adca094row9_col0 {\n",
       "            background-color:  #58f200;\n",
       "        }    #T_3c67ef7e_e28e_11e9_980b_b8ca3adca094row9_col1 {\n",
       "            background-color:  #58f200;\n",
       "        }    #T_3c67ef7e_e28e_11e9_980b_b8ca3adca094row9_col2 {\n",
       "            background-color:  #58f200;\n",
       "        }</style>  \n",
       "<table id=\"T_3c67ef7e_e28e_11e9_980b_b8ca3adca094\" > \n",
       "<thead>    <tr> \n",
       "        <th class=\"blank level0\" ></th> \n",
       "        <th class=\"col_heading level0 col0\" >order_id</th> \n",
       "        <th class=\"col_heading level0 col1\" >true_occasion</th> \n",
       "        <th class=\"col_heading level0 col2\" >pred_occasion</th> \n",
       "    </tr></thead> \n",
       "<tbody>    <tr> \n",
       "        <th id=\"T_3c67ef7e_e28e_11e9_980b_b8ca3adca094level0_row0\" class=\"row_heading level0 row0\" >1</th> \n",
       "        <td id=\"T_3c67ef7e_e28e_11e9_980b_b8ca3adca094row0_col0\" class=\"data row0 col0\" >520803608</td> \n",
       "        <td id=\"T_3c67ef7e_e28e_11e9_980b_b8ca3adca094row0_col1\" class=\"data row0 col1\" >LUNCH</td> \n",
       "        <td id=\"T_3c67ef7e_e28e_11e9_980b_b8ca3adca094row0_col2\" class=\"data row0 col2\" >LUNCH</td> \n",
       "    </tr>    <tr> \n",
       "        <th id=\"T_3c67ef7e_e28e_11e9_980b_b8ca3adca094level0_row1\" class=\"row_heading level0 row1\" >2</th> \n",
       "        <td id=\"T_3c67ef7e_e28e_11e9_980b_b8ca3adca094row1_col0\" class=\"data row1 col0\" >523294848</td> \n",
       "        <td id=\"T_3c67ef7e_e28e_11e9_980b_b8ca3adca094row1_col1\" class=\"data row1 col1\" >FAMILY-EVENT</td> \n",
       "        <td id=\"T_3c67ef7e_e28e_11e9_980b_b8ca3adca094row1_col2\" class=\"data row1 col2\" >FAMILY-EVENT</td> \n",
       "    </tr>    <tr> \n",
       "        <th id=\"T_3c67ef7e_e28e_11e9_980b_b8ca3adca094level0_row2\" class=\"row_heading level0 row2\" >3</th> \n",
       "        <td id=\"T_3c67ef7e_e28e_11e9_980b_b8ca3adca094row2_col0\" class=\"data row2 col0\" >514583822</td> \n",
       "        <td id=\"T_3c67ef7e_e28e_11e9_980b_b8ca3adca094row2_col1\" class=\"data row2 col1\" >SOCIAL-GATHERING</td> \n",
       "        <td id=\"T_3c67ef7e_e28e_11e9_980b_b8ca3adca094row2_col2\" class=\"data row2 col2\" >DINNER</td> \n",
       "    </tr>    <tr> \n",
       "        <th id=\"T_3c67ef7e_e28e_11e9_980b_b8ca3adca094level0_row3\" class=\"row_heading level0 row3\" >4</th> \n",
       "        <td id=\"T_3c67ef7e_e28e_11e9_980b_b8ca3adca094row3_col0\" class=\"data row3 col0\" >524421347</td> \n",
       "        <td id=\"T_3c67ef7e_e28e_11e9_980b_b8ca3adca094row3_col1\" class=\"data row3 col1\" >FAMILY-EVENT</td> \n",
       "        <td id=\"T_3c67ef7e_e28e_11e9_980b_b8ca3adca094row3_col2\" class=\"data row3 col2\" >FAMILY-EVENT</td> \n",
       "    </tr>    <tr> \n",
       "        <th id=\"T_3c67ef7e_e28e_11e9_980b_b8ca3adca094level0_row4\" class=\"row_heading level0 row4\" >5</th> \n",
       "        <td id=\"T_3c67ef7e_e28e_11e9_980b_b8ca3adca094row4_col0\" class=\"data row4 col0\" >521095118</td> \n",
       "        <td id=\"T_3c67ef7e_e28e_11e9_980b_b8ca3adca094row4_col1\" class=\"data row4 col1\" >DRINKING</td> \n",
       "        <td id=\"T_3c67ef7e_e28e_11e9_980b_b8ca3adca094row4_col2\" class=\"data row4 col2\" >DRINKING</td> \n",
       "    </tr>    <tr> \n",
       "        <th id=\"T_3c67ef7e_e28e_11e9_980b_b8ca3adca094level0_row5\" class=\"row_heading level0 row5\" >6</th> \n",
       "        <td id=\"T_3c67ef7e_e28e_11e9_980b_b8ca3adca094row5_col0\" class=\"data row5 col0\" >522574215</td> \n",
       "        <td id=\"T_3c67ef7e_e28e_11e9_980b_b8ca3adca094row5_col1\" class=\"data row5 col1\" >FAMILY-EVENT</td> \n",
       "        <td id=\"T_3c67ef7e_e28e_11e9_980b_b8ca3adca094row5_col2\" class=\"data row5 col2\" >FAMILY-EVENT</td> \n",
       "    </tr>    <tr> \n",
       "        <th id=\"T_3c67ef7e_e28e_11e9_980b_b8ca3adca094level0_row6\" class=\"row_heading level0 row6\" >7</th> \n",
       "        <td id=\"T_3c67ef7e_e28e_11e9_980b_b8ca3adca094row6_col0\" class=\"data row6 col0\" >522779155</td> \n",
       "        <td id=\"T_3c67ef7e_e28e_11e9_980b_b8ca3adca094row6_col1\" class=\"data row6 col1\" >SOCIAL-GATHERING</td> \n",
       "        <td id=\"T_3c67ef7e_e28e_11e9_980b_b8ca3adca094row6_col2\" class=\"data row6 col2\" >DRINKING</td> \n",
       "    </tr>    <tr> \n",
       "        <th id=\"T_3c67ef7e_e28e_11e9_980b_b8ca3adca094level0_row7\" class=\"row_heading level0 row7\" >8</th> \n",
       "        <td id=\"T_3c67ef7e_e28e_11e9_980b_b8ca3adca094row7_col0\" class=\"data row7 col0\" >515363895</td> \n",
       "        <td id=\"T_3c67ef7e_e28e_11e9_980b_b8ca3adca094row7_col1\" class=\"data row7 col1\" >BREAKFAST</td> \n",
       "        <td id=\"T_3c67ef7e_e28e_11e9_980b_b8ca3adca094row7_col2\" class=\"data row7 col2\" >BREAKFAST</td> \n",
       "    </tr>    <tr> \n",
       "        <th id=\"T_3c67ef7e_e28e_11e9_980b_b8ca3adca094level0_row8\" class=\"row_heading level0 row8\" >9</th> \n",
       "        <td id=\"T_3c67ef7e_e28e_11e9_980b_b8ca3adca094row8_col0\" class=\"data row8 col0\" >519501788</td> \n",
       "        <td id=\"T_3c67ef7e_e28e_11e9_980b_b8ca3adca094row8_col1\" class=\"data row8 col1\" >FAMILY-EVENT</td> \n",
       "        <td id=\"T_3c67ef7e_e28e_11e9_980b_b8ca3adca094row8_col2\" class=\"data row8 col2\" >FAMILY-EVENT</td> \n",
       "    </tr>    <tr> \n",
       "        <th id=\"T_3c67ef7e_e28e_11e9_980b_b8ca3adca094level0_row9\" class=\"row_heading level0 row9\" >10</th> \n",
       "        <td id=\"T_3c67ef7e_e28e_11e9_980b_b8ca3adca094row9_col0\" class=\"data row9 col0\" >514529424</td> \n",
       "        <td id=\"T_3c67ef7e_e28e_11e9_980b_b8ca3adca094row9_col1\" class=\"data row9 col1\" >SOCIAL-GATHERING</td> \n",
       "        <td id=\"T_3c67ef7e_e28e_11e9_980b_b8ca3adca094row9_col2\" class=\"data row9 col2\" >SOCIAL-GATHERING</td> \n",
       "    </tr></tbody> \n",
       "</table> "
      ],
      "text/plain": [
       "<pandas.io.formats.style.Styler at 0x1f564dec588>"
      ]
     },
     "execution_count": 13,
     "metadata": {},
     "output_type": "execute_result"
    }
   ],
   "source": [
    "table = \"hockey\"\n",
    "\n",
    "df = pd.DataFrame(results[table], columns=columns)\n",
    "df.index += 1\n",
    "df.style.apply(color, axis=1)\n",
    "# df[table].to_csv(str(table) + \"_3to5_test_results.csv\", index=False)"
   ]
  },
  {
   "cell_type": "code",
   "execution_count": 14,
   "metadata": {},
   "outputs": [
    {
     "data": {
      "text/plain": [
       "(array([0.5, 1.5, 2.5, 3.5, 4.5, 5.5, 6.5]),\n",
       " <a list of 7 Text xticklabel objects>)"
      ]
     },
     "execution_count": 14,
     "metadata": {},
     "output_type": "execute_result"
    },
    {
     "data": {
      "image/png": "[encoded data removed]",
      "text/plain": [
       "<Figure size 432x288 with 2 Axes>"
      ]
     },
     "metadata": {
      "needs_background": "light"
     },
     "output_type": "display_data"
    }
   ],
   "source": [
    "matrix = confusion_matrix(df[\"true_occasion\"], df[\"pred_occasion\"], labels)\n",
    "sns.heatmap(matrix, xticklabels=labels, yticklabels=labels, annot=True)\n",
    "plt.xticks(rotation=45)"
   ]
  },
  {
   "cell_type": "code",
   "execution_count": 15,
   "metadata": {},
   "outputs": [
    {
     "data": {
      "text/html": [
       "<style  type=\"text/css\" >\n",
       "    #T_3ccfcc08_e28e_11e9_90f4_b8ca3adca094row0_col0 {\n",
       "            background-color:  #58f200;\n",
       "        }    #T_3ccfcc08_e28e_11e9_90f4_b8ca3adca094row0_col1 {\n",
       "            background-color:  #58f200;\n",
       "        }    #T_3ccfcc08_e28e_11e9_90f4_b8ca3adca094row0_col2 {\n",
       "            background-color:  #58f200;\n",
       "        }    #T_3ccfcc08_e28e_11e9_90f4_b8ca3adca094row1_col0 {\n",
       "            background-color:  #ee1300;\n",
       "        }    #T_3ccfcc08_e28e_11e9_90f4_b8ca3adca094row1_col1 {\n",
       "            background-color:  #ee1300;\n",
       "        }    #T_3ccfcc08_e28e_11e9_90f4_b8ca3adca094row1_col2 {\n",
       "            background-color:  #ee1300;\n",
       "        }    #T_3ccfcc08_e28e_11e9_90f4_b8ca3adca094row2_col0 {\n",
       "            background-color:  #58f200;\n",
       "        }    #T_3ccfcc08_e28e_11e9_90f4_b8ca3adca094row2_col1 {\n",
       "            background-color:  #58f200;\n",
       "        }    #T_3ccfcc08_e28e_11e9_90f4_b8ca3adca094row2_col2 {\n",
       "            background-color:  #58f200;\n",
       "        }    #T_3ccfcc08_e28e_11e9_90f4_b8ca3adca094row3_col0 {\n",
       "            background-color:  #58f200;\n",
       "        }    #T_3ccfcc08_e28e_11e9_90f4_b8ca3adca094row3_col1 {\n",
       "            background-color:  #58f200;\n",
       "        }    #T_3ccfcc08_e28e_11e9_90f4_b8ca3adca094row3_col2 {\n",
       "            background-color:  #58f200;\n",
       "        }    #T_3ccfcc08_e28e_11e9_90f4_b8ca3adca094row4_col0 {\n",
       "            background-color:  #58f200;\n",
       "        }    #T_3ccfcc08_e28e_11e9_90f4_b8ca3adca094row4_col1 {\n",
       "            background-color:  #58f200;\n",
       "        }    #T_3ccfcc08_e28e_11e9_90f4_b8ca3adca094row4_col2 {\n",
       "            background-color:  #58f200;\n",
       "        }    #T_3ccfcc08_e28e_11e9_90f4_b8ca3adca094row5_col0 {\n",
       "            background-color:  #58f200;\n",
       "        }    #T_3ccfcc08_e28e_11e9_90f4_b8ca3adca094row5_col1 {\n",
       "            background-color:  #58f200;\n",
       "        }    #T_3ccfcc08_e28e_11e9_90f4_b8ca3adca094row5_col2 {\n",
       "            background-color:  #58f200;\n",
       "        }    #T_3ccfcc08_e28e_11e9_90f4_b8ca3adca094row6_col0 {\n",
       "            background-color:  #58f200;\n",
       "        }    #T_3ccfcc08_e28e_11e9_90f4_b8ca3adca094row6_col1 {\n",
       "            background-color:  #58f200;\n",
       "        }    #T_3ccfcc08_e28e_11e9_90f4_b8ca3adca094row6_col2 {\n",
       "            background-color:  #58f200;\n",
       "        }    #T_3ccfcc08_e28e_11e9_90f4_b8ca3adca094row7_col0 {\n",
       "            background-color:  #58f200;\n",
       "        }    #T_3ccfcc08_e28e_11e9_90f4_b8ca3adca094row7_col1 {\n",
       "            background-color:  #58f200;\n",
       "        }    #T_3ccfcc08_e28e_11e9_90f4_b8ca3adca094row7_col2 {\n",
       "            background-color:  #58f200;\n",
       "        }    #T_3ccfcc08_e28e_11e9_90f4_b8ca3adca094row8_col0 {\n",
       "            background-color:  #ee1300;\n",
       "        }    #T_3ccfcc08_e28e_11e9_90f4_b8ca3adca094row8_col1 {\n",
       "            background-color:  #ee1300;\n",
       "        }    #T_3ccfcc08_e28e_11e9_90f4_b8ca3adca094row8_col2 {\n",
       "            background-color:  #ee1300;\n",
       "        }    #T_3ccfcc08_e28e_11e9_90f4_b8ca3adca094row9_col0 {\n",
       "            background-color:  #58f200;\n",
       "        }    #T_3ccfcc08_e28e_11e9_90f4_b8ca3adca094row9_col1 {\n",
       "            background-color:  #58f200;\n",
       "        }    #T_3ccfcc08_e28e_11e9_90f4_b8ca3adca094row9_col2 {\n",
       "            background-color:  #58f200;\n",
       "        }</style>  \n",
       "<table id=\"T_3ccfcc08_e28e_11e9_90f4_b8ca3adca094\" > \n",
       "<thead>    <tr> \n",
       "        <th class=\"blank level0\" ></th> \n",
       "        <th class=\"col_heading level0 col0\" >order_id</th> \n",
       "        <th class=\"col_heading level0 col1\" >true_occasion</th> \n",
       "        <th class=\"col_heading level0 col2\" >pred_occasion</th> \n",
       "    </tr></thead> \n",
       "<tbody>    <tr> \n",
       "        <th id=\"T_3ccfcc08_e28e_11e9_90f4_b8ca3adca094level0_row0\" class=\"row_heading level0 row0\" >1</th> \n",
       "        <td id=\"T_3ccfcc08_e28e_11e9_90f4_b8ca3adca094row0_col0\" class=\"data row0 col0\" >447441456</td> \n",
       "        <td id=\"T_3ccfcc08_e28e_11e9_90f4_b8ca3adca094row0_col1\" class=\"data row0 col1\" >FAMILY-EVENT</td> \n",
       "        <td id=\"T_3ccfcc08_e28e_11e9_90f4_b8ca3adca094row0_col2\" class=\"data row0 col2\" >FAMILY-EVENT</td> \n",
       "    </tr>    <tr> \n",
       "        <th id=\"T_3ccfcc08_e28e_11e9_90f4_b8ca3adca094level0_row1\" class=\"row_heading level0 row1\" >2</th> \n",
       "        <td id=\"T_3ccfcc08_e28e_11e9_90f4_b8ca3adca094row1_col0\" class=\"data row1 col0\" >435005397</td> \n",
       "        <td id=\"T_3ccfcc08_e28e_11e9_90f4_b8ca3adca094row1_col1\" class=\"data row1 col1\" >SOCIAL-GATHERING</td> \n",
       "        <td id=\"T_3ccfcc08_e28e_11e9_90f4_b8ca3adca094row1_col2\" class=\"data row1 col2\" >LUNCH</td> \n",
       "    </tr>    <tr> \n",
       "        <th id=\"T_3ccfcc08_e28e_11e9_90f4_b8ca3adca094level0_row2\" class=\"row_heading level0 row2\" >3</th> \n",
       "        <td id=\"T_3ccfcc08_e28e_11e9_90f4_b8ca3adca094row2_col0\" class=\"data row2 col0\" >435011399</td> \n",
       "        <td id=\"T_3ccfcc08_e28e_11e9_90f4_b8ca3adca094row2_col1\" class=\"data row2 col1\" >LUNCH</td> \n",
       "        <td id=\"T_3ccfcc08_e28e_11e9_90f4_b8ca3adca094row2_col2\" class=\"data row2 col2\" >LUNCH</td> \n",
       "    </tr>    <tr> \n",
       "        <th id=\"T_3ccfcc08_e28e_11e9_90f4_b8ca3adca094level0_row3\" class=\"row_heading level0 row3\" >4</th> \n",
       "        <td id=\"T_3ccfcc08_e28e_11e9_90f4_b8ca3adca094row3_col0\" class=\"data row3 col0\" >447381509</td> \n",
       "        <td id=\"T_3ccfcc08_e28e_11e9_90f4_b8ca3adca094row3_col1\" class=\"data row3 col1\" >LUNCH</td> \n",
       "        <td id=\"T_3ccfcc08_e28e_11e9_90f4_b8ca3adca094row3_col2\" class=\"data row3 col2\" >LUNCH</td> \n",
       "    </tr>    <tr> \n",
       "        <th id=\"T_3ccfcc08_e28e_11e9_90f4_b8ca3adca094level0_row4\" class=\"row_heading level0 row4\" >5</th> \n",
       "        <td id=\"T_3ccfcc08_e28e_11e9_90f4_b8ca3adca094row4_col0\" class=\"data row4 col0\" >446744761</td> \n",
       "        <td id=\"T_3ccfcc08_e28e_11e9_90f4_b8ca3adca094row4_col1\" class=\"data row4 col1\" >LUNCH</td> \n",
       "        <td id=\"T_3ccfcc08_e28e_11e9_90f4_b8ca3adca094row4_col2\" class=\"data row4 col2\" >LUNCH</td> \n",
       "    </tr>    <tr> \n",
       "        <th id=\"T_3ccfcc08_e28e_11e9_90f4_b8ca3adca094level0_row5\" class=\"row_heading level0 row5\" >6</th> \n",
       "        <td id=\"T_3ccfcc08_e28e_11e9_90f4_b8ca3adca094row5_col0\" class=\"data row5 col0\" >447079489</td> \n",
       "        <td id=\"T_3ccfcc08_e28e_11e9_90f4_b8ca3adca094row5_col1\" class=\"data row5 col1\" >DINNER</td> \n",
       "        <td id=\"T_3ccfcc08_e28e_11e9_90f4_b8ca3adca094row5_col2\" class=\"data row5 col2\" >DINNER</td> \n",
       "    </tr>    <tr> \n",
       "        <th id=\"T_3ccfcc08_e28e_11e9_90f4_b8ca3adca094level0_row6\" class=\"row_heading level0 row6\" >7</th> \n",
       "        <td id=\"T_3ccfcc08_e28e_11e9_90f4_b8ca3adca094row6_col0\" class=\"data row6 col0\" >434609975</td> \n",
       "        <td id=\"T_3ccfcc08_e28e_11e9_90f4_b8ca3adca094row6_col1\" class=\"data row6 col1\" >FAMILY-EVENT</td> \n",
       "        <td id=\"T_3ccfcc08_e28e_11e9_90f4_b8ca3adca094row6_col2\" class=\"data row6 col2\" >FAMILY-EVENT</td> \n",
       "    </tr>    <tr> \n",
       "        <th id=\"T_3ccfcc08_e28e_11e9_90f4_b8ca3adca094level0_row7\" class=\"row_heading level0 row7\" >8</th> \n",
       "        <td id=\"T_3ccfcc08_e28e_11e9_90f4_b8ca3adca094row7_col0\" class=\"data row7 col0\" >448041560</td> \n",
       "        <td id=\"T_3ccfcc08_e28e_11e9_90f4_b8ca3adca094row7_col1\" class=\"data row7 col1\" >DINNER</td> \n",
       "        <td id=\"T_3ccfcc08_e28e_11e9_90f4_b8ca3adca094row7_col2\" class=\"data row7 col2\" >DINNER</td> \n",
       "    </tr>    <tr> \n",
       "        <th id=\"T_3ccfcc08_e28e_11e9_90f4_b8ca3adca094level0_row8\" class=\"row_heading level0 row8\" >9</th> \n",
       "        <td id=\"T_3ccfcc08_e28e_11e9_90f4_b8ca3adca094row8_col0\" class=\"data row8 col0\" >447074978</td> \n",
       "        <td id=\"T_3ccfcc08_e28e_11e9_90f4_b8ca3adca094row8_col1\" class=\"data row8 col1\" >AFTER-WORK</td> \n",
       "        <td id=\"T_3ccfcc08_e28e_11e9_90f4_b8ca3adca094row8_col2\" class=\"data row8 col2\" >DINNER</td> \n",
       "    </tr>    <tr> \n",
       "        <th id=\"T_3ccfcc08_e28e_11e9_90f4_b8ca3adca094level0_row9\" class=\"row_heading level0 row9\" >10</th> \n",
       "        <td id=\"T_3ccfcc08_e28e_11e9_90f4_b8ca3adca094row9_col0\" class=\"data row9 col0\" >434603220</td> \n",
       "        <td id=\"T_3ccfcc08_e28e_11e9_90f4_b8ca3adca094row9_col1\" class=\"data row9 col1\" >LUNCH</td> \n",
       "        <td id=\"T_3ccfcc08_e28e_11e9_90f4_b8ca3adca094row9_col2\" class=\"data row9 col2\" >LUNCH</td> \n",
       "    </tr></tbody> \n",
       "</table> "
      ],
      "text/plain": [
       "<pandas.io.formats.style.Styler at 0x1f55f19dcf8>"
      ]
     },
     "execution_count": 15,
     "metadata": {},
     "output_type": "execute_result"
    }
   ],
   "source": [
    "table = \"valentine\"\n",
    "\n",
    "df = pd.DataFrame(results[table], columns=columns)\n",
    "df.index += 1\n",
    "df.style.apply(color, axis=1)\n",
    "# df[table].to_csv(str(table) + \"_3to5_test_results.csv\", index=False)"
   ]
  },
  {
   "cell_type": "code",
   "execution_count": 16,
   "metadata": {},
   "outputs": [
    {
     "data": {
      "text/plain": [
       "(array([0.5, 1.5, 2.5, 3.5, 4.5, 5.5, 6.5]),\n",
       " <a list of 7 Text xticklabel objects>)"
      ]
     },
     "execution_count": 16,
     "metadata": {},
     "output_type": "execute_result"
    },
    {
     "data": {
      "image/png": "[encoded data removed]",
      "text/plain": [
       "<Figure size 432x288 with 2 Axes>"
      ]
     },
     "metadata": {
      "needs_background": "light"
     },
     "output_type": "display_data"
    }
   ],
   "source": [
    "matrix = confusion_matrix(df[\"true_occasion\"], df[\"pred_occasion\"], labels)\n",
    "sns.heatmap(matrix, xticklabels=labels, yticklabels=labels, annot=True)\n",
    "plt.xticks(rotation=45)"
   ]
  },
  {
   "cell_type": "code",
   "execution_count": 17,
   "metadata": {},
   "outputs": [
    {
     "data": {
      "text/html": [
       "<style  type=\"text/css\" >\n",
       "    #T_3d2e5758_e28e_11e9_bf58_b8ca3adca094row0_col0 {\n",
       "            background-color:  #ee1300;\n",
       "        }    #T_3d2e5758_e28e_11e9_bf58_b8ca3adca094row0_col1 {\n",
       "            background-color:  #ee1300;\n",
       "        }    #T_3d2e5758_e28e_11e9_bf58_b8ca3adca094row0_col2 {\n",
       "            background-color:  #ee1300;\n",
       "        }    #T_3d2e5758_e28e_11e9_bf58_b8ca3adca094row1_col0 {\n",
       "            background-color:  #58f200;\n",
       "        }    #T_3d2e5758_e28e_11e9_bf58_b8ca3adca094row1_col1 {\n",
       "            background-color:  #58f200;\n",
       "        }    #T_3d2e5758_e28e_11e9_bf58_b8ca3adca094row1_col2 {\n",
       "            background-color:  #58f200;\n",
       "        }    #T_3d2e5758_e28e_11e9_bf58_b8ca3adca094row2_col0 {\n",
       "            background-color:  #58f200;\n",
       "        }    #T_3d2e5758_e28e_11e9_bf58_b8ca3adca094row2_col1 {\n",
       "            background-color:  #58f200;\n",
       "        }    #T_3d2e5758_e28e_11e9_bf58_b8ca3adca094row2_col2 {\n",
       "            background-color:  #58f200;\n",
       "        }    #T_3d2e5758_e28e_11e9_bf58_b8ca3adca094row3_col0 {\n",
       "            background-color:  #58f200;\n",
       "        }    #T_3d2e5758_e28e_11e9_bf58_b8ca3adca094row3_col1 {\n",
       "            background-color:  #58f200;\n",
       "        }    #T_3d2e5758_e28e_11e9_bf58_b8ca3adca094row3_col2 {\n",
       "            background-color:  #58f200;\n",
       "        }    #T_3d2e5758_e28e_11e9_bf58_b8ca3adca094row4_col0 {\n",
       "            background-color:  #58f200;\n",
       "        }    #T_3d2e5758_e28e_11e9_bf58_b8ca3adca094row4_col1 {\n",
       "            background-color:  #58f200;\n",
       "        }    #T_3d2e5758_e28e_11e9_bf58_b8ca3adca094row4_col2 {\n",
       "            background-color:  #58f200;\n",
       "        }    #T_3d2e5758_e28e_11e9_bf58_b8ca3adca094row5_col0 {\n",
       "            background-color:  #58f200;\n",
       "        }    #T_3d2e5758_e28e_11e9_bf58_b8ca3adca094row5_col1 {\n",
       "            background-color:  #58f200;\n",
       "        }    #T_3d2e5758_e28e_11e9_bf58_b8ca3adca094row5_col2 {\n",
       "            background-color:  #58f200;\n",
       "        }    #T_3d2e5758_e28e_11e9_bf58_b8ca3adca094row6_col0 {\n",
       "            background-color:  #58f200;\n",
       "        }    #T_3d2e5758_e28e_11e9_bf58_b8ca3adca094row6_col1 {\n",
       "            background-color:  #58f200;\n",
       "        }    #T_3d2e5758_e28e_11e9_bf58_b8ca3adca094row6_col2 {\n",
       "            background-color:  #58f200;\n",
       "        }    #T_3d2e5758_e28e_11e9_bf58_b8ca3adca094row7_col0 {\n",
       "            background-color:  #58f200;\n",
       "        }    #T_3d2e5758_e28e_11e9_bf58_b8ca3adca094row7_col1 {\n",
       "            background-color:  #58f200;\n",
       "        }    #T_3d2e5758_e28e_11e9_bf58_b8ca3adca094row7_col2 {\n",
       "            background-color:  #58f200;\n",
       "        }    #T_3d2e5758_e28e_11e9_bf58_b8ca3adca094row8_col0 {\n",
       "            background-color:  #58f200;\n",
       "        }    #T_3d2e5758_e28e_11e9_bf58_b8ca3adca094row8_col1 {\n",
       "            background-color:  #58f200;\n",
       "        }    #T_3d2e5758_e28e_11e9_bf58_b8ca3adca094row8_col2 {\n",
       "            background-color:  #58f200;\n",
       "        }    #T_3d2e5758_e28e_11e9_bf58_b8ca3adca094row9_col0 {\n",
       "            background-color:  #58f200;\n",
       "        }    #T_3d2e5758_e28e_11e9_bf58_b8ca3adca094row9_col1 {\n",
       "            background-color:  #58f200;\n",
       "        }    #T_3d2e5758_e28e_11e9_bf58_b8ca3adca094row9_col2 {\n",
       "            background-color:  #58f200;\n",
       "        }</style>  \n",
       "<table id=\"T_3d2e5758_e28e_11e9_bf58_b8ca3adca094\" > \n",
       "<thead>    <tr> \n",
       "        <th class=\"blank level0\" ></th> \n",
       "        <th class=\"col_heading level0 col0\" >order_id</th> \n",
       "        <th class=\"col_heading level0 col1\" >true_occasion</th> \n",
       "        <th class=\"col_heading level0 col2\" >pred_occasion</th> \n",
       "    </tr></thead> \n",
       "<tbody>    <tr> \n",
       "        <th id=\"T_3d2e5758_e28e_11e9_bf58_b8ca3adca094level0_row0\" class=\"row_heading level0 row0\" >1</th> \n",
       "        <td id=\"T_3d2e5758_e28e_11e9_bf58_b8ca3adca094row0_col0\" class=\"data row0 col0\" >362939931</td> \n",
       "        <td id=\"T_3d2e5758_e28e_11e9_bf58_b8ca3adca094row0_col1\" class=\"data row0 col1\" >AFTER-WORK</td> \n",
       "        <td id=\"T_3d2e5758_e28e_11e9_bf58_b8ca3adca094row0_col2\" class=\"data row0 col2\" >UNKNOWN</td> \n",
       "    </tr>    <tr> \n",
       "        <th id=\"T_3d2e5758_e28e_11e9_bf58_b8ca3adca094level0_row1\" class=\"row_heading level0 row1\" >2</th> \n",
       "        <td id=\"T_3d2e5758_e28e_11e9_bf58_b8ca3adca094row1_col0\" class=\"data row1 col0\" >361304992</td> \n",
       "        <td id=\"T_3d2e5758_e28e_11e9_bf58_b8ca3adca094row1_col1\" class=\"data row1 col1\" >FAMILY-EVENT</td> \n",
       "        <td id=\"T_3d2e5758_e28e_11e9_bf58_b8ca3adca094row1_col2\" class=\"data row1 col2\" >FAMILY-EVENT</td> \n",
       "    </tr>    <tr> \n",
       "        <th id=\"T_3d2e5758_e28e_11e9_bf58_b8ca3adca094level0_row2\" class=\"row_heading level0 row2\" >3</th> \n",
       "        <td id=\"T_3d2e5758_e28e_11e9_bf58_b8ca3adca094row2_col0\" class=\"data row2 col0\" >363233153</td> \n",
       "        <td id=\"T_3d2e5758_e28e_11e9_bf58_b8ca3adca094row2_col1\" class=\"data row2 col1\" >LUNCH</td> \n",
       "        <td id=\"T_3d2e5758_e28e_11e9_bf58_b8ca3adca094row2_col2\" class=\"data row2 col2\" >LUNCH</td> \n",
       "    </tr>    <tr> \n",
       "        <th id=\"T_3d2e5758_e28e_11e9_bf58_b8ca3adca094level0_row3\" class=\"row_heading level0 row3\" >4</th> \n",
       "        <td id=\"T_3d2e5758_e28e_11e9_bf58_b8ca3adca094row3_col0\" class=\"data row3 col0\" >360790021</td> \n",
       "        <td id=\"T_3d2e5758_e28e_11e9_bf58_b8ca3adca094row3_col1\" class=\"data row3 col1\" >LUNCH</td> \n",
       "        <td id=\"T_3d2e5758_e28e_11e9_bf58_b8ca3adca094row3_col2\" class=\"data row3 col2\" >LUNCH</td> \n",
       "    </tr>    <tr> \n",
       "        <th id=\"T_3d2e5758_e28e_11e9_bf58_b8ca3adca094level0_row4\" class=\"row_heading level0 row4\" >5</th> \n",
       "        <td id=\"T_3d2e5758_e28e_11e9_bf58_b8ca3adca094row4_col0\" class=\"data row4 col0\" >362924064</td> \n",
       "        <td id=\"T_3d2e5758_e28e_11e9_bf58_b8ca3adca094row4_col1\" class=\"data row4 col1\" >AFTER-WORK</td> \n",
       "        <td id=\"T_3d2e5758_e28e_11e9_bf58_b8ca3adca094row4_col2\" class=\"data row4 col2\" >AFTER-WORK</td> \n",
       "    </tr>    <tr> \n",
       "        <th id=\"T_3d2e5758_e28e_11e9_bf58_b8ca3adca094level0_row5\" class=\"row_heading level0 row5\" >6</th> \n",
       "        <td id=\"T_3d2e5758_e28e_11e9_bf58_b8ca3adca094row5_col0\" class=\"data row5 col0\" >361776660</td> \n",
       "        <td id=\"T_3d2e5758_e28e_11e9_bf58_b8ca3adca094row5_col1\" class=\"data row5 col1\" >DINNER</td> \n",
       "        <td id=\"T_3d2e5758_e28e_11e9_bf58_b8ca3adca094row5_col2\" class=\"data row5 col2\" >DINNER</td> \n",
       "    </tr>    <tr> \n",
       "        <th id=\"T_3d2e5758_e28e_11e9_bf58_b8ca3adca094level0_row6\" class=\"row_heading level0 row6\" >7</th> \n",
       "        <td id=\"T_3d2e5758_e28e_11e9_bf58_b8ca3adca094row6_col0\" class=\"data row6 col0\" >361815160</td> \n",
       "        <td id=\"T_3d2e5758_e28e_11e9_bf58_b8ca3adca094row6_col1\" class=\"data row6 col1\" >DINNER</td> \n",
       "        <td id=\"T_3d2e5758_e28e_11e9_bf58_b8ca3adca094row6_col2\" class=\"data row6 col2\" >DINNER</td> \n",
       "    </tr>    <tr> \n",
       "        <th id=\"T_3d2e5758_e28e_11e9_bf58_b8ca3adca094level0_row7\" class=\"row_heading level0 row7\" >8</th> \n",
       "        <td id=\"T_3d2e5758_e28e_11e9_bf58_b8ca3adca094row7_col0\" class=\"data row7 col0\" >360000762</td> \n",
       "        <td id=\"T_3d2e5758_e28e_11e9_bf58_b8ca3adca094row7_col1\" class=\"data row7 col1\" >DINNER</td> \n",
       "        <td id=\"T_3d2e5758_e28e_11e9_bf58_b8ca3adca094row7_col2\" class=\"data row7 col2\" >DINNER</td> \n",
       "    </tr>    <tr> \n",
       "        <th id=\"T_3d2e5758_e28e_11e9_bf58_b8ca3adca094level0_row8\" class=\"row_heading level0 row8\" >9</th> \n",
       "        <td id=\"T_3d2e5758_e28e_11e9_bf58_b8ca3adca094row8_col0\" class=\"data row8 col0\" >360402335</td> \n",
       "        <td id=\"T_3d2e5758_e28e_11e9_bf58_b8ca3adca094row8_col1\" class=\"data row8 col1\" >DINNER</td> \n",
       "        <td id=\"T_3d2e5758_e28e_11e9_bf58_b8ca3adca094row8_col2\" class=\"data row8 col2\" >DINNER</td> \n",
       "    </tr>    <tr> \n",
       "        <th id=\"T_3d2e5758_e28e_11e9_bf58_b8ca3adca094level0_row9\" class=\"row_heading level0 row9\" >10</th> \n",
       "        <td id=\"T_3d2e5758_e28e_11e9_bf58_b8ca3adca094row9_col0\" class=\"data row9 col0\" >361369624</td> \n",
       "        <td id=\"T_3d2e5758_e28e_11e9_bf58_b8ca3adca094row9_col1\" class=\"data row9 col1\" >FAMILY-EVENT</td> \n",
       "        <td id=\"T_3d2e5758_e28e_11e9_bf58_b8ca3adca094row9_col2\" class=\"data row9 col2\" >FAMILY-EVENT</td> \n",
       "    </tr></tbody> \n",
       "</table> "
      ],
      "text/plain": [
       "<pandas.io.formats.style.Styler at 0x1f560251048>"
      ]
     },
     "execution_count": 17,
     "metadata": {},
     "output_type": "execute_result"
    }
   ],
   "source": [
    "table = \"silvester\"\n",
    "\n",
    "df = pd.DataFrame(results[table], columns=columns)\n",
    "df.index += 1\n",
    "df.style.apply(color, axis=1)\n",
    "# df[table].to_csv(str(table) + \"_3to5_test_results.csv\", index=False)"
   ]
  },
  {
   "cell_type": "code",
   "execution_count": 18,
   "metadata": {},
   "outputs": [
    {
     "data": {
      "text/plain": [
       "(array([0.5, 1.5, 2.5, 3.5, 4.5, 5.5, 6.5]),\n",
       " <a list of 7 Text xticklabel objects>)"
      ]
     },
     "execution_count": 18,
     "metadata": {},
     "output_type": "execute_result"
    },
    {
     "data": {
      "image/png": "[encoded data removed]",
      "text/plain": [
       "<Figure size 432x288 with 2 Axes>"
      ]
     },
     "metadata": {
      "needs_background": "light"
     },
     "output_type": "display_data"
    }
   ],
   "source": [
    "matrix = confusion_matrix(df[\"true_occasion\"], df[\"pred_occasion\"], labels)\n",
    "sns.heatmap(matrix, xticklabels=labels, yticklabels=labels, annot=True)\n",
    "plt.xticks(rotation=45)"
   ]
  },
  {
   "cell_type": "markdown",
   "metadata": {},
   "source": [
    "----------"
   ]
  },
  {
   "cell_type": "markdown",
   "metadata": {},
   "source": [
    "## Measures Overall"
   ]
  },
  {
   "cell_type": "markdown",
   "metadata": {},
   "source": [
    "Let's check once again the confusion-matrix for all the tables combined."
   ]
  },
  {
   "cell_type": "code",
   "execution_count": 19,
   "metadata": {},
   "outputs": [],
   "source": [
    "results_overall = []\n",
    "\n",
    "for table in tables:\n",
    "    for order_id, true_occasion, pred_occasion in results[table]:\n",
    "        results_overall.append((true_occasion, pred_occasion))"
   ]
  },
  {
   "cell_type": "code",
   "execution_count": 20,
   "metadata": {},
   "outputs": [],
   "source": [
    "columns = [\"true_occasion\", \"pred_occasion\"]"
   ]
  },
  {
   "cell_type": "code",
   "execution_count": 21,
   "metadata": {},
   "outputs": [
    {
     "data": {
      "text/html": [
       "<style  type=\"text/css\" >\n",
       "    #T_3dbd8d6c_e28e_11e9_b876_b8ca3adca094row0_col0 {\n",
       "            background-color:  #58f200;\n",
       "        }    #T_3dbd8d6c_e28e_11e9_b876_b8ca3adca094row0_col1 {\n",
       "            background-color:  #58f200;\n",
       "        }    #T_3dbd8d6c_e28e_11e9_b876_b8ca3adca094row1_col0 {\n",
       "            background-color:  #58f200;\n",
       "        }    #T_3dbd8d6c_e28e_11e9_b876_b8ca3adca094row1_col1 {\n",
       "            background-color:  #58f200;\n",
       "        }    #T_3dbd8d6c_e28e_11e9_b876_b8ca3adca094row2_col0 {\n",
       "            background-color:  #ee1300;\n",
       "        }    #T_3dbd8d6c_e28e_11e9_b876_b8ca3adca094row2_col1 {\n",
       "            background-color:  #ee1300;\n",
       "        }    #T_3dbd8d6c_e28e_11e9_b876_b8ca3adca094row3_col0 {\n",
       "            background-color:  #58f200;\n",
       "        }    #T_3dbd8d6c_e28e_11e9_b876_b8ca3adca094row3_col1 {\n",
       "            background-color:  #58f200;\n",
       "        }    #T_3dbd8d6c_e28e_11e9_b876_b8ca3adca094row4_col0 {\n",
       "            background-color:  #58f200;\n",
       "        }    #T_3dbd8d6c_e28e_11e9_b876_b8ca3adca094row4_col1 {\n",
       "            background-color:  #58f200;\n",
       "        }    #T_3dbd8d6c_e28e_11e9_b876_b8ca3adca094row5_col0 {\n",
       "            background-color:  #58f200;\n",
       "        }    #T_3dbd8d6c_e28e_11e9_b876_b8ca3adca094row5_col1 {\n",
       "            background-color:  #58f200;\n",
       "        }    #T_3dbd8d6c_e28e_11e9_b876_b8ca3adca094row6_col0 {\n",
       "            background-color:  #ee1300;\n",
       "        }    #T_3dbd8d6c_e28e_11e9_b876_b8ca3adca094row6_col1 {\n",
       "            background-color:  #ee1300;\n",
       "        }    #T_3dbd8d6c_e28e_11e9_b876_b8ca3adca094row7_col0 {\n",
       "            background-color:  #58f200;\n",
       "        }    #T_3dbd8d6c_e28e_11e9_b876_b8ca3adca094row7_col1 {\n",
       "            background-color:  #58f200;\n",
       "        }    #T_3dbd8d6c_e28e_11e9_b876_b8ca3adca094row8_col0 {\n",
       "            background-color:  #58f200;\n",
       "        }    #T_3dbd8d6c_e28e_11e9_b876_b8ca3adca094row8_col1 {\n",
       "            background-color:  #58f200;\n",
       "        }    #T_3dbd8d6c_e28e_11e9_b876_b8ca3adca094row9_col0 {\n",
       "            background-color:  #58f200;\n",
       "        }    #T_3dbd8d6c_e28e_11e9_b876_b8ca3adca094row9_col1 {\n",
       "            background-color:  #58f200;\n",
       "        }    #T_3dbd8d6c_e28e_11e9_b876_b8ca3adca094row10_col0 {\n",
       "            background-color:  #58f200;\n",
       "        }    #T_3dbd8d6c_e28e_11e9_b876_b8ca3adca094row10_col1 {\n",
       "            background-color:  #58f200;\n",
       "        }    #T_3dbd8d6c_e28e_11e9_b876_b8ca3adca094row11_col0 {\n",
       "            background-color:  #ee1300;\n",
       "        }    #T_3dbd8d6c_e28e_11e9_b876_b8ca3adca094row11_col1 {\n",
       "            background-color:  #ee1300;\n",
       "        }    #T_3dbd8d6c_e28e_11e9_b876_b8ca3adca094row12_col0 {\n",
       "            background-color:  #58f200;\n",
       "        }    #T_3dbd8d6c_e28e_11e9_b876_b8ca3adca094row12_col1 {\n",
       "            background-color:  #58f200;\n",
       "        }    #T_3dbd8d6c_e28e_11e9_b876_b8ca3adca094row13_col0 {\n",
       "            background-color:  #58f200;\n",
       "        }    #T_3dbd8d6c_e28e_11e9_b876_b8ca3adca094row13_col1 {\n",
       "            background-color:  #58f200;\n",
       "        }    #T_3dbd8d6c_e28e_11e9_b876_b8ca3adca094row14_col0 {\n",
       "            background-color:  #58f200;\n",
       "        }    #T_3dbd8d6c_e28e_11e9_b876_b8ca3adca094row14_col1 {\n",
       "            background-color:  #58f200;\n",
       "        }    #T_3dbd8d6c_e28e_11e9_b876_b8ca3adca094row15_col0 {\n",
       "            background-color:  #58f200;\n",
       "        }    #T_3dbd8d6c_e28e_11e9_b876_b8ca3adca094row15_col1 {\n",
       "            background-color:  #58f200;\n",
       "        }    #T_3dbd8d6c_e28e_11e9_b876_b8ca3adca094row16_col0 {\n",
       "            background-color:  #58f200;\n",
       "        }    #T_3dbd8d6c_e28e_11e9_b876_b8ca3adca094row16_col1 {\n",
       "            background-color:  #58f200;\n",
       "        }    #T_3dbd8d6c_e28e_11e9_b876_b8ca3adca094row17_col0 {\n",
       "            background-color:  #58f200;\n",
       "        }    #T_3dbd8d6c_e28e_11e9_b876_b8ca3adca094row17_col1 {\n",
       "            background-color:  #58f200;\n",
       "        }    #T_3dbd8d6c_e28e_11e9_b876_b8ca3adca094row18_col0 {\n",
       "            background-color:  #ee1300;\n",
       "        }    #T_3dbd8d6c_e28e_11e9_b876_b8ca3adca094row18_col1 {\n",
       "            background-color:  #ee1300;\n",
       "        }    #T_3dbd8d6c_e28e_11e9_b876_b8ca3adca094row19_col0 {\n",
       "            background-color:  #58f200;\n",
       "        }    #T_3dbd8d6c_e28e_11e9_b876_b8ca3adca094row19_col1 {\n",
       "            background-color:  #58f200;\n",
       "        }    #T_3dbd8d6c_e28e_11e9_b876_b8ca3adca094row20_col0 {\n",
       "            background-color:  #ee1300;\n",
       "        }    #T_3dbd8d6c_e28e_11e9_b876_b8ca3adca094row20_col1 {\n",
       "            background-color:  #ee1300;\n",
       "        }    #T_3dbd8d6c_e28e_11e9_b876_b8ca3adca094row21_col0 {\n",
       "            background-color:  #58f200;\n",
       "        }    #T_3dbd8d6c_e28e_11e9_b876_b8ca3adca094row21_col1 {\n",
       "            background-color:  #58f200;\n",
       "        }    #T_3dbd8d6c_e28e_11e9_b876_b8ca3adca094row22_col0 {\n",
       "            background-color:  #58f200;\n",
       "        }    #T_3dbd8d6c_e28e_11e9_b876_b8ca3adca094row22_col1 {\n",
       "            background-color:  #58f200;\n",
       "        }    #T_3dbd8d6c_e28e_11e9_b876_b8ca3adca094row23_col0 {\n",
       "            background-color:  #58f200;\n",
       "        }    #T_3dbd8d6c_e28e_11e9_b876_b8ca3adca094row23_col1 {\n",
       "            background-color:  #58f200;\n",
       "        }    #T_3dbd8d6c_e28e_11e9_b876_b8ca3adca094row24_col0 {\n",
       "            background-color:  #58f200;\n",
       "        }    #T_3dbd8d6c_e28e_11e9_b876_b8ca3adca094row24_col1 {\n",
       "            background-color:  #58f200;\n",
       "        }    #T_3dbd8d6c_e28e_11e9_b876_b8ca3adca094row25_col0 {\n",
       "            background-color:  #58f200;\n",
       "        }    #T_3dbd8d6c_e28e_11e9_b876_b8ca3adca094row25_col1 {\n",
       "            background-color:  #58f200;\n",
       "        }    #T_3dbd8d6c_e28e_11e9_b876_b8ca3adca094row26_col0 {\n",
       "            background-color:  #58f200;\n",
       "        }    #T_3dbd8d6c_e28e_11e9_b876_b8ca3adca094row26_col1 {\n",
       "            background-color:  #58f200;\n",
       "        }    #T_3dbd8d6c_e28e_11e9_b876_b8ca3adca094row27_col0 {\n",
       "            background-color:  #58f200;\n",
       "        }    #T_3dbd8d6c_e28e_11e9_b876_b8ca3adca094row27_col1 {\n",
       "            background-color:  #58f200;\n",
       "        }    #T_3dbd8d6c_e28e_11e9_b876_b8ca3adca094row28_col0 {\n",
       "            background-color:  #58f200;\n",
       "        }    #T_3dbd8d6c_e28e_11e9_b876_b8ca3adca094row28_col1 {\n",
       "            background-color:  #58f200;\n",
       "        }    #T_3dbd8d6c_e28e_11e9_b876_b8ca3adca094row29_col0 {\n",
       "            background-color:  #58f200;\n",
       "        }    #T_3dbd8d6c_e28e_11e9_b876_b8ca3adca094row29_col1 {\n",
       "            background-color:  #58f200;\n",
       "        }</style>  \n",
       "<table id=\"T_3dbd8d6c_e28e_11e9_b876_b8ca3adca094\" > \n",
       "<thead>    <tr> \n",
       "        <th class=\"blank level0\" ></th> \n",
       "        <th class=\"col_heading level0 col0\" >true_occasion</th> \n",
       "        <th class=\"col_heading level0 col1\" >pred_occasion</th> \n",
       "    </tr></thead> \n",
       "<tbody>    <tr> \n",
       "        <th id=\"T_3dbd8d6c_e28e_11e9_b876_b8ca3adca094level0_row0\" class=\"row_heading level0 row0\" >1</th> \n",
       "        <td id=\"T_3dbd8d6c_e28e_11e9_b876_b8ca3adca094row0_col0\" class=\"data row0 col0\" >LUNCH</td> \n",
       "        <td id=\"T_3dbd8d6c_e28e_11e9_b876_b8ca3adca094row0_col1\" class=\"data row0 col1\" >LUNCH</td> \n",
       "    </tr>    <tr> \n",
       "        <th id=\"T_3dbd8d6c_e28e_11e9_b876_b8ca3adca094level0_row1\" class=\"row_heading level0 row1\" >2</th> \n",
       "        <td id=\"T_3dbd8d6c_e28e_11e9_b876_b8ca3adca094row1_col0\" class=\"data row1 col0\" >FAMILY-EVENT</td> \n",
       "        <td id=\"T_3dbd8d6c_e28e_11e9_b876_b8ca3adca094row1_col1\" class=\"data row1 col1\" >FAMILY-EVENT</td> \n",
       "    </tr>    <tr> \n",
       "        <th id=\"T_3dbd8d6c_e28e_11e9_b876_b8ca3adca094level0_row2\" class=\"row_heading level0 row2\" >3</th> \n",
       "        <td id=\"T_3dbd8d6c_e28e_11e9_b876_b8ca3adca094row2_col0\" class=\"data row2 col0\" >SOCIAL-GATHERING</td> \n",
       "        <td id=\"T_3dbd8d6c_e28e_11e9_b876_b8ca3adca094row2_col1\" class=\"data row2 col1\" >DINNER</td> \n",
       "    </tr>    <tr> \n",
       "        <th id=\"T_3dbd8d6c_e28e_11e9_b876_b8ca3adca094level0_row3\" class=\"row_heading level0 row3\" >4</th> \n",
       "        <td id=\"T_3dbd8d6c_e28e_11e9_b876_b8ca3adca094row3_col0\" class=\"data row3 col0\" >FAMILY-EVENT</td> \n",
       "        <td id=\"T_3dbd8d6c_e28e_11e9_b876_b8ca3adca094row3_col1\" class=\"data row3 col1\" >FAMILY-EVENT</td> \n",
       "    </tr>    <tr> \n",
       "        <th id=\"T_3dbd8d6c_e28e_11e9_b876_b8ca3adca094level0_row4\" class=\"row_heading level0 row4\" >5</th> \n",
       "        <td id=\"T_3dbd8d6c_e28e_11e9_b876_b8ca3adca094row4_col0\" class=\"data row4 col0\" >DRINKING</td> \n",
       "        <td id=\"T_3dbd8d6c_e28e_11e9_b876_b8ca3adca094row4_col1\" class=\"data row4 col1\" >DRINKING</td> \n",
       "    </tr>    <tr> \n",
       "        <th id=\"T_3dbd8d6c_e28e_11e9_b876_b8ca3adca094level0_row5\" class=\"row_heading level0 row5\" >6</th> \n",
       "        <td id=\"T_3dbd8d6c_e28e_11e9_b876_b8ca3adca094row5_col0\" class=\"data row5 col0\" >FAMILY-EVENT</td> \n",
       "        <td id=\"T_3dbd8d6c_e28e_11e9_b876_b8ca3adca094row5_col1\" class=\"data row5 col1\" >FAMILY-EVENT</td> \n",
       "    </tr>    <tr> \n",
       "        <th id=\"T_3dbd8d6c_e28e_11e9_b876_b8ca3adca094level0_row6\" class=\"row_heading level0 row6\" >7</th> \n",
       "        <td id=\"T_3dbd8d6c_e28e_11e9_b876_b8ca3adca094row6_col0\" class=\"data row6 col0\" >SOCIAL-GATHERING</td> \n",
       "        <td id=\"T_3dbd8d6c_e28e_11e9_b876_b8ca3adca094row6_col1\" class=\"data row6 col1\" >DRINKING</td> \n",
       "    </tr>    <tr> \n",
       "        <th id=\"T_3dbd8d6c_e28e_11e9_b876_b8ca3adca094level0_row7\" class=\"row_heading level0 row7\" >8</th> \n",
       "        <td id=\"T_3dbd8d6c_e28e_11e9_b876_b8ca3adca094row7_col0\" class=\"data row7 col0\" >BREAKFAST</td> \n",
       "        <td id=\"T_3dbd8d6c_e28e_11e9_b876_b8ca3adca094row7_col1\" class=\"data row7 col1\" >BREAKFAST</td> \n",
       "    </tr>    <tr> \n",
       "        <th id=\"T_3dbd8d6c_e28e_11e9_b876_b8ca3adca094level0_row8\" class=\"row_heading level0 row8\" >9</th> \n",
       "        <td id=\"T_3dbd8d6c_e28e_11e9_b876_b8ca3adca094row8_col0\" class=\"data row8 col0\" >FAMILY-EVENT</td> \n",
       "        <td id=\"T_3dbd8d6c_e28e_11e9_b876_b8ca3adca094row8_col1\" class=\"data row8 col1\" >FAMILY-EVENT</td> \n",
       "    </tr>    <tr> \n",
       "        <th id=\"T_3dbd8d6c_e28e_11e9_b876_b8ca3adca094level0_row9\" class=\"row_heading level0 row9\" >10</th> \n",
       "        <td id=\"T_3dbd8d6c_e28e_11e9_b876_b8ca3adca094row9_col0\" class=\"data row9 col0\" >SOCIAL-GATHERING</td> \n",
       "        <td id=\"T_3dbd8d6c_e28e_11e9_b876_b8ca3adca094row9_col1\" class=\"data row9 col1\" >SOCIAL-GATHERING</td> \n",
       "    </tr>    <tr> \n",
       "        <th id=\"T_3dbd8d6c_e28e_11e9_b876_b8ca3adca094level0_row10\" class=\"row_heading level0 row10\" >11</th> \n",
       "        <td id=\"T_3dbd8d6c_e28e_11e9_b876_b8ca3adca094row10_col0\" class=\"data row10 col0\" >FAMILY-EVENT</td> \n",
       "        <td id=\"T_3dbd8d6c_e28e_11e9_b876_b8ca3adca094row10_col1\" class=\"data row10 col1\" >FAMILY-EVENT</td> \n",
       "    </tr>    <tr> \n",
       "        <th id=\"T_3dbd8d6c_e28e_11e9_b876_b8ca3adca094level0_row11\" class=\"row_heading level0 row11\" >12</th> \n",
       "        <td id=\"T_3dbd8d6c_e28e_11e9_b876_b8ca3adca094row11_col0\" class=\"data row11 col0\" >SOCIAL-GATHERING</td> \n",
       "        <td id=\"T_3dbd8d6c_e28e_11e9_b876_b8ca3adca094row11_col1\" class=\"data row11 col1\" >LUNCH</td> \n",
       "    </tr>    <tr> \n",
       "        <th id=\"T_3dbd8d6c_e28e_11e9_b876_b8ca3adca094level0_row12\" class=\"row_heading level0 row12\" >13</th> \n",
       "        <td id=\"T_3dbd8d6c_e28e_11e9_b876_b8ca3adca094row12_col0\" class=\"data row12 col0\" >LUNCH</td> \n",
       "        <td id=\"T_3dbd8d6c_e28e_11e9_b876_b8ca3adca094row12_col1\" class=\"data row12 col1\" >LUNCH</td> \n",
       "    </tr>    <tr> \n",
       "        <th id=\"T_3dbd8d6c_e28e_11e9_b876_b8ca3adca094level0_row13\" class=\"row_heading level0 row13\" >14</th> \n",
       "        <td id=\"T_3dbd8d6c_e28e_11e9_b876_b8ca3adca094row13_col0\" class=\"data row13 col0\" >LUNCH</td> \n",
       "        <td id=\"T_3dbd8d6c_e28e_11e9_b876_b8ca3adca094row13_col1\" class=\"data row13 col1\" >LUNCH</td> \n",
       "    </tr>    <tr> \n",
       "        <th id=\"T_3dbd8d6c_e28e_11e9_b876_b8ca3adca094level0_row14\" class=\"row_heading level0 row14\" >15</th> \n",
       "        <td id=\"T_3dbd8d6c_e28e_11e9_b876_b8ca3adca094row14_col0\" class=\"data row14 col0\" >LUNCH</td> \n",
       "        <td id=\"T_3dbd8d6c_e28e_11e9_b876_b8ca3adca094row14_col1\" class=\"data row14 col1\" >LUNCH</td> \n",
       "    </tr>    <tr> \n",
       "        <th id=\"T_3dbd8d6c_e28e_11e9_b876_b8ca3adca094level0_row15\" class=\"row_heading level0 row15\" >16</th> \n",
       "        <td id=\"T_3dbd8d6c_e28e_11e9_b876_b8ca3adca094row15_col0\" class=\"data row15 col0\" >DINNER</td> \n",
       "        <td id=\"T_3dbd8d6c_e28e_11e9_b876_b8ca3adca094row15_col1\" class=\"data row15 col1\" >DINNER</td> \n",
       "    </tr>    <tr> \n",
       "        <th id=\"T_3dbd8d6c_e28e_11e9_b876_b8ca3adca094level0_row16\" class=\"row_heading level0 row16\" >17</th> \n",
       "        <td id=\"T_3dbd8d6c_e28e_11e9_b876_b8ca3adca094row16_col0\" class=\"data row16 col0\" >FAMILY-EVENT</td> \n",
       "        <td id=\"T_3dbd8d6c_e28e_11e9_b876_b8ca3adca094row16_col1\" class=\"data row16 col1\" >FAMILY-EVENT</td> \n",
       "    </tr>    <tr> \n",
       "        <th id=\"T_3dbd8d6c_e28e_11e9_b876_b8ca3adca094level0_row17\" class=\"row_heading level0 row17\" >18</th> \n",
       "        <td id=\"T_3dbd8d6c_e28e_11e9_b876_b8ca3adca094row17_col0\" class=\"data row17 col0\" >DINNER</td> \n",
       "        <td id=\"T_3dbd8d6c_e28e_11e9_b876_b8ca3adca094row17_col1\" class=\"data row17 col1\" >DINNER</td> \n",
       "    </tr>    <tr> \n",
       "        <th id=\"T_3dbd8d6c_e28e_11e9_b876_b8ca3adca094level0_row18\" class=\"row_heading level0 row18\" >19</th> \n",
       "        <td id=\"T_3dbd8d6c_e28e_11e9_b876_b8ca3adca094row18_col0\" class=\"data row18 col0\" >AFTER-WORK</td> \n",
       "        <td id=\"T_3dbd8d6c_e28e_11e9_b876_b8ca3adca094row18_col1\" class=\"data row18 col1\" >DINNER</td> \n",
       "    </tr>    <tr> \n",
       "        <th id=\"T_3dbd8d6c_e28e_11e9_b876_b8ca3adca094level0_row19\" class=\"row_heading level0 row19\" >20</th> \n",
       "        <td id=\"T_3dbd8d6c_e28e_11e9_b876_b8ca3adca094row19_col0\" class=\"data row19 col0\" >LUNCH</td> \n",
       "        <td id=\"T_3dbd8d6c_e28e_11e9_b876_b8ca3adca094row19_col1\" class=\"data row19 col1\" >LUNCH</td> \n",
       "    </tr>    <tr> \n",
       "        <th id=\"T_3dbd8d6c_e28e_11e9_b876_b8ca3adca094level0_row20\" class=\"row_heading level0 row20\" >21</th> \n",
       "        <td id=\"T_3dbd8d6c_e28e_11e9_b876_b8ca3adca094row20_col0\" class=\"data row20 col0\" >AFTER-WORK</td> \n",
       "        <td id=\"T_3dbd8d6c_e28e_11e9_b876_b8ca3adca094row20_col1\" class=\"data row20 col1\" >UNKNOWN</td> \n",
       "    </tr>    <tr> \n",
       "        <th id=\"T_3dbd8d6c_e28e_11e9_b876_b8ca3adca094level0_row21\" class=\"row_heading level0 row21\" >22</th> \n",
       "        <td id=\"T_3dbd8d6c_e28e_11e9_b876_b8ca3adca094row21_col0\" class=\"data row21 col0\" >FAMILY-EVENT</td> \n",
       "        <td id=\"T_3dbd8d6c_e28e_11e9_b876_b8ca3adca094row21_col1\" class=\"data row21 col1\" >FAMILY-EVENT</td> \n",
       "    </tr>    <tr> \n",
       "        <th id=\"T_3dbd8d6c_e28e_11e9_b876_b8ca3adca094level0_row22\" class=\"row_heading level0 row22\" >23</th> \n",
       "        <td id=\"T_3dbd8d6c_e28e_11e9_b876_b8ca3adca094row22_col0\" class=\"data row22 col0\" >LUNCH</td> \n",
       "        <td id=\"T_3dbd8d6c_e28e_11e9_b876_b8ca3adca094row22_col1\" class=\"data row22 col1\" >LUNCH</td> \n",
       "    </tr>    <tr> \n",
       "        <th id=\"T_3dbd8d6c_e28e_11e9_b876_b8ca3adca094level0_row23\" class=\"row_heading level0 row23\" >24</th> \n",
       "        <td id=\"T_3dbd8d6c_e28e_11e9_b876_b8ca3adca094row23_col0\" class=\"data row23 col0\" >LUNCH</td> \n",
       "        <td id=\"T_3dbd8d6c_e28e_11e9_b876_b8ca3adca094row23_col1\" class=\"data row23 col1\" >LUNCH</td> \n",
       "    </tr>    <tr> \n",
       "        <th id=\"T_3dbd8d6c_e28e_11e9_b876_b8ca3adca094level0_row24\" class=\"row_heading level0 row24\" >25</th> \n",
       "        <td id=\"T_3dbd8d6c_e28e_11e9_b876_b8ca3adca094row24_col0\" class=\"data row24 col0\" >AFTER-WORK</td> \n",
       "        <td id=\"T_3dbd8d6c_e28e_11e9_b876_b8ca3adca094row24_col1\" class=\"data row24 col1\" >AFTER-WORK</td> \n",
       "    </tr>    <tr> \n",
       "        <th id=\"T_3dbd8d6c_e28e_11e9_b876_b8ca3adca094level0_row25\" class=\"row_heading level0 row25\" >26</th> \n",
       "        <td id=\"T_3dbd8d6c_e28e_11e9_b876_b8ca3adca094row25_col0\" class=\"data row25 col0\" >DINNER</td> \n",
       "        <td id=\"T_3dbd8d6c_e28e_11e9_b876_b8ca3adca094row25_col1\" class=\"data row25 col1\" >DINNER</td> \n",
       "    </tr>    <tr> \n",
       "        <th id=\"T_3dbd8d6c_e28e_11e9_b876_b8ca3adca094level0_row26\" class=\"row_heading level0 row26\" >27</th> \n",
       "        <td id=\"T_3dbd8d6c_e28e_11e9_b876_b8ca3adca094row26_col0\" class=\"data row26 col0\" >DINNER</td> \n",
       "        <td id=\"T_3dbd8d6c_e28e_11e9_b876_b8ca3adca094row26_col1\" class=\"data row26 col1\" >DINNER</td> \n",
       "    </tr>    <tr> \n",
       "        <th id=\"T_3dbd8d6c_e28e_11e9_b876_b8ca3adca094level0_row27\" class=\"row_heading level0 row27\" >28</th> \n",
       "        <td id=\"T_3dbd8d6c_e28e_11e9_b876_b8ca3adca094row27_col0\" class=\"data row27 col0\" >DINNER</td> \n",
       "        <td id=\"T_3dbd8d6c_e28e_11e9_b876_b8ca3adca094row27_col1\" class=\"data row27 col1\" >DINNER</td> \n",
       "    </tr>    <tr> \n",
       "        <th id=\"T_3dbd8d6c_e28e_11e9_b876_b8ca3adca094level0_row28\" class=\"row_heading level0 row28\" >29</th> \n",
       "        <td id=\"T_3dbd8d6c_e28e_11e9_b876_b8ca3adca094row28_col0\" class=\"data row28 col0\" >DINNER</td> \n",
       "        <td id=\"T_3dbd8d6c_e28e_11e9_b876_b8ca3adca094row28_col1\" class=\"data row28 col1\" >DINNER</td> \n",
       "    </tr>    <tr> \n",
       "        <th id=\"T_3dbd8d6c_e28e_11e9_b876_b8ca3adca094level0_row29\" class=\"row_heading level0 row29\" >30</th> \n",
       "        <td id=\"T_3dbd8d6c_e28e_11e9_b876_b8ca3adca094row29_col0\" class=\"data row29 col0\" >FAMILY-EVENT</td> \n",
       "        <td id=\"T_3dbd8d6c_e28e_11e9_b876_b8ca3adca094row29_col1\" class=\"data row29 col1\" >FAMILY-EVENT</td> \n",
       "    </tr></tbody> \n",
       "</table> "
      ],
      "text/plain": [
       "<pandas.io.formats.style.Styler at 0x1f5556f9320>"
      ]
     },
     "execution_count": 21,
     "metadata": {},
     "output_type": "execute_result"
    }
   ],
   "source": [
    "df = pd.DataFrame(results_overall, columns=columns)\n",
    "df.index += 1\n",
    "df.style.apply(color, axis=1)"
   ]
  },
  {
   "cell_type": "code",
   "execution_count": 22,
   "metadata": {},
   "outputs": [
    {
     "data": {
      "text/plain": [
       "(array([0.5, 1.5, 2.5, 3.5, 4.5, 5.5, 6.5]),\n",
       " <a list of 7 Text xticklabel objects>)"
      ]
     },
     "execution_count": 22,
     "metadata": {},
     "output_type": "execute_result"
    },
    {
     "data": {
      "image/png": "[encoded data removed]",
      "text/plain": [
       "<Figure size 432x288 with 2 Axes>"
      ]
     },
     "metadata": {
      "needs_background": "light"
     },
     "output_type": "display_data"
    }
   ],
   "source": [
    "matrix = confusion_matrix(df[\"true_occasion\"], df[\"pred_occasion\"], labels)\n",
    "sns.heatmap(matrix, xticklabels=labels, yticklabels=labels, annot=True)\n",
    "plt.xticks(rotation=45)"
   ]
  },
  {
   "cell_type": "code",
   "execution_count": 23,
   "metadata": {},
   "outputs": [],
   "source": [
    "import warnings\n",
    "warnings.filterwarnings(\"ignore\")"
   ]
  },
  {
   "cell_type": "code",
   "execution_count": 24,
   "metadata": {},
   "outputs": [
    {
     "name": "stdout",
     "output_type": "stream",
     "text": [
      "                  precision    recall  f1-score   support\n",
      "\n",
      "    FAMILY-EVENT       1.00      1.00      1.00         8\n",
      "        DRINKING       0.50      1.00      0.67         1\n",
      "       BREAKFAST       1.00      1.00      1.00         1\n",
      "           LUNCH       0.88      1.00      0.93         7\n",
      "          DINNER       0.75      1.00      0.86         6\n",
      "SOCIAL-GATHERING       1.00      0.25      0.40         4\n",
      "      AFTER-WORK       1.00      0.33      0.50         3\n",
      "\n",
      "       micro avg       0.86      0.83      0.85        30\n",
      "       macro avg       0.88      0.80      0.77        30\n",
      "    weighted avg       0.90      0.83      0.81        30\n",
      "\n"
     ]
    }
   ],
   "source": [
    "print(classification_report(df[\"true_occasion\"], df[\"pred_occasion\"], labels=labels))"
   ]
  },
  {
   "cell_type": "markdown",
   "metadata": {},
   "source": [
    "----"
   ]
  },
  {
   "attachments": {},
   "cell_type": "markdown",
   "metadata": {},
   "source": [
    "### Notes\n",
    "\n",
    "1. The model often confuses `FAMILY-EVENT` occasions with meals (`BREAKFAST` / `LUNCH` / `DINNER`).  \n",
    "    This is because the `kids_meal` needs an update (performs quite bad).  \n",
    "    Recheck when update is done.  \n",
    "    **UPDATE**: ✅\n",
    "2. The model often confuses `SOCIAL-GATHERING` / `AFTER-WORK` occasions with meals.  \n",
    "    This is because a `main_dish` feature is necessary.  \n",
    "    Once this one is added, we could easily distinguish main dishes from shareable ones.  "
   ]
  },
  {
   "cell_type": "markdown",
   "metadata": {},
   "source": [
    "----"
   ]
  },
  {
   "cell_type": "markdown",
   "metadata": {},
   "source": [
    "Maybe:\n",
    "    - use the `total_large_meals` and adjust the `sharable` feature to be a counter rather than boolean.  \n",
    "        this way, we could subtract the number of sharable dishes from the total_large_meals and gain the count of main_dishes.\n",
    "    - Do not use 6 as the threshold for large meals as it is very cheap."
   ]
  }
 ],
 "metadata": {
  "kernelspec": {
   "display_name": "Python 3",
   "language": "python",
   "name": "python3"
  },
  "language_info": {
   "codemirror_mode": {
    "name": "ipython",
    "version": 3
   },
   "file_extension": ".py",
   "mimetype": "text/x-python",
   "name": "python",
   "nbconvert_exporter": "python",
   "pygments_lexer": "ipython3",
   "version": "3.7.1"
  }
 },
 "nbformat": 4,
 "nbformat_minor": 2
}
