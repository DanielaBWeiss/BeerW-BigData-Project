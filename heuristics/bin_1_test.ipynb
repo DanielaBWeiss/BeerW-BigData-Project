{
 "cells": [
  {
   "cell_type": "markdown",
   "metadata": {},
   "source": [
    "# Measure Bin Guest Count 1 Heuristics Accuracy"
   ]
  },
  {
   "cell_type": "markdown",
   "metadata": {},
   "source": [
    "Our occasions for bin 1:"
   ]
  },
  {
   "cell_type": "markdown",
   "metadata": {},
   "source": [
    "1. `Lunch`\n",
    "2. `Dinner`\n",
    "3. `Casual Drink and Meal`\n",
    "4. `Drinking`\n",
    "5. `Not 1`\n",
    "6. `Unknown`"
   ]
  },
  {
   "cell_type": "markdown",
   "metadata": {},
   "source": [
    "We're going to pick specific labeled tables, and see how our heuristics is doing."
   ]
  },
  {
   "cell_type": "code",
   "execution_count": 1,
   "metadata": {},
   "outputs": [],
   "source": [
    "data_map = {\n",
    "    \"hockey\": \"../data/hockey_3_text_processed.csv\",\n",
    "    \"valentine\": \"../data/valentine_3_text_processed.csv\",\n",
    "    \"silvester\": \"../data/silvester_3_text_processed.csv\"\n",
    "}"
   ]
  },
  {
   "cell_type": "code",
   "execution_count": 2,
   "metadata": {},
   "outputs": [],
   "source": [
    "LUNCH = \"Lunch\"\n",
    "DINNER = \"Dinner\"\n",
    "DRINKING = \"Drinking\"\n",
    "CASUAL_DRINK_MEAL = \"Casual Drink and Meal\"\n",
    "NOT_1 = \"Not Category 1\"\n",
    "UNK = \"Unknown\""
   ]
  },
  {
   "cell_type": "markdown",
   "metadata": {},
   "source": [
    "The following are taken from the *annotations/occasions_annotations_bin1 notebook.\n",
    "\n",
    "The annotations are split between dev and test."
   ]
  },
  {
   "cell_type": "markdown",
   "metadata": {},
   "source": [
    "### Dev"
   ]
  },
  {
   "cell_type": "code",
   "execution_count": 3,
   "metadata": {},
   "outputs": [],
   "source": [
    "labeled_tables_dev_map = {\n",
    "    \"hockey\": [\n",
    "        (512690383, CASUAL_DRINK_MEAL),\n",
    "        (521702519, DRINKING),\n",
    "        (521093892, DRINKING),\n",
    "        (520105316, NOT_1),\n",
    "        (521783372, DINNER),\n",
    "        (521769692, CASUAL_DRINK_MEAL),\n",
    "        (512852707, CASUAL_DRINK_MEAL),\n",
    "        (525538989, CASUAL_DRINK_MEAL)\n",
    "    ],\n",
    "    \"valentine\": [\n",
    "        (434780854,DRINKING),\n",
    "        (434753224,DINNER),\n",
    "        (447023765,LUNCH),\n",
    "        (434766693,CASUAL_DRINK_MEAL),\n",
    "        (446799837,DINNER)\n",
    "    ],\n",
    "    \"silvester\": [\n",
    "        (363436344,DINNER),\n",
    "        (361891515,DINNER),\n",
    "        (361024418,DINNER),\n",
    "        (360026487,DINNER),\n",
    "        (359644172,DRINKING) \n",
    "    ]\n",
    "}"
   ]
  },
  {
   "cell_type": "markdown",
   "metadata": {},
   "source": [
    "### Test"
   ]
  },
  {
   "cell_type": "code",
   "execution_count": 4,
   "metadata": {},
   "outputs": [],
   "source": [
    "labeled_tables_test_map = {\n",
    "    \"hockey\": [\n",
    "        (520256354,DRINKING),\n",
    "        (514474566,CASUAL_DRINK_MEAL),\n",
    "        (522554624,NOT_1),\n",
    "        (522777463,DRINKING),\n",
    "        (519619252,CASUAL_DRINK_MEAL),\n",
    "        (519598706,DINNER),\n",
    "        (512856854,DRINKING),\n",
    "        (520171895,DINNER)\n",
    "    ]\n",
    "}"
   ]
  },
  {
   "cell_type": "markdown",
   "metadata": {},
   "source": [
    "------"
   ]
  },
  {
   "cell_type": "code",
   "execution_count": 5,
   "metadata": {},
   "outputs": [],
   "source": [
    "import pandas as pd"
   ]
  },
  {
   "cell_type": "markdown",
   "metadata": {},
   "source": [
    "Import the classifier function `1 Classifier`:"
   ]
  },
  {
   "cell_type": "code",
   "execution_count": 7,
   "metadata": {},
   "outputs": [],
   "source": [
    "from bin_1 import Bin1Classifier as Classifier\n",
    "classifier = Classifier()"
   ]
  },
  {
   "cell_type": "markdown",
   "metadata": {},
   "source": [
    "-----"
   ]
  },
  {
   "cell_type": "markdown",
   "metadata": {},
   "source": [
    "### Results per Table:"
   ]
  },
  {
   "cell_type": "code",
   "execution_count": 8,
   "metadata": {},
   "outputs": [],
   "source": [
    "tables = [\"hockey\", \"valentine\", \"silvester\"]"
   ]
  },
  {
   "cell_type": "code",
   "execution_count": 9,
   "metadata": {},
   "outputs": [],
   "source": [
    "results = {}\n",
    "results_new = {}"
   ]
  },
  {
   "cell_type": "code",
   "execution_count": 10,
   "metadata": {},
   "outputs": [],
   "source": [
    "from occasion_classifier import shrink_orders_to_table"
   ]
  },
  {
   "cell_type": "code",
   "execution_count": 11,
   "metadata": {},
   "outputs": [
    {
     "name": "stdout",
     "output_type": "stream",
     "text": [
      "Running for hockey\n",
      "Running for valentine\n",
      "Running for silvester\n"
     ]
    }
   ],
   "source": [
    "for table in tables:\n",
    "    print(\"Running for\", table)\n",
    "    df_path = data_map[table]\n",
    "    df = pd.read_csv(df_path)\n",
    "    labeled_tables = labeled_tables_dev_map[table]\n",
    "    \n",
    "    results[table] = []\n",
    "    for order_id, true_ocassion in labeled_tables:\n",
    "        orders = df[df.order_id == order_id]\n",
    "        orders = shrink_orders_to_table(orders)\n",
    "        pred_occasion, pred_times = classifier.classify(orders)\n",
    "        results[table].append((order_id, true_ocassion, pred_occasion, \",\".join(pred_times)))"
   ]
  },
  {
   "cell_type": "markdown",
   "metadata": {},
   "source": [
    "#### Show the results:"
   ]
  },
  {
   "cell_type": "code",
   "execution_count": 12,
   "metadata": {},
   "outputs": [],
   "source": [
    "columns = [\"order_id\", \"true_occasion\", \"pred_occasion\", \"pred_times\"]"
   ]
  },
  {
   "cell_type": "code",
   "execution_count": 13,
   "metadata": {},
   "outputs": [],
   "source": [
    "def color(data):\n",
    "    correct = data[\"true_occasion\"] in data[\"pred_occasion\"]\n",
    "    if correct:\n",
    "        color = \"#58f200\"\n",
    "    else:\n",
    "        color = \"#ee1300\"\n",
    "\n",
    "    return [\"background-color: %s\" % color] * len(data.values)"
   ]
  },
  {
   "cell_type": "code",
   "execution_count": 14,
   "metadata": {},
   "outputs": [
    {
     "data": {
      "text/html": [
       "<style  type=\"text/css\" >\n",
       "    #T_0833cf5e_e223_11e9_a73a_acde48001122row0_col0 {\n",
       "            background-color:  #58f200;\n",
       "        }    #T_0833cf5e_e223_11e9_a73a_acde48001122row0_col1 {\n",
       "            background-color:  #58f200;\n",
       "        }    #T_0833cf5e_e223_11e9_a73a_acde48001122row0_col2 {\n",
       "            background-color:  #58f200;\n",
       "        }    #T_0833cf5e_e223_11e9_a73a_acde48001122row0_col3 {\n",
       "            background-color:  #58f200;\n",
       "        }    #T_0833cf5e_e223_11e9_a73a_acde48001122row1_col0 {\n",
       "            background-color:  #58f200;\n",
       "        }    #T_0833cf5e_e223_11e9_a73a_acde48001122row1_col1 {\n",
       "            background-color:  #58f200;\n",
       "        }    #T_0833cf5e_e223_11e9_a73a_acde48001122row1_col2 {\n",
       "            background-color:  #58f200;\n",
       "        }    #T_0833cf5e_e223_11e9_a73a_acde48001122row1_col3 {\n",
       "            background-color:  #58f200;\n",
       "        }    #T_0833cf5e_e223_11e9_a73a_acde48001122row2_col0 {\n",
       "            background-color:  #58f200;\n",
       "        }    #T_0833cf5e_e223_11e9_a73a_acde48001122row2_col1 {\n",
       "            background-color:  #58f200;\n",
       "        }    #T_0833cf5e_e223_11e9_a73a_acde48001122row2_col2 {\n",
       "            background-color:  #58f200;\n",
       "        }    #T_0833cf5e_e223_11e9_a73a_acde48001122row2_col3 {\n",
       "            background-color:  #58f200;\n",
       "        }    #T_0833cf5e_e223_11e9_a73a_acde48001122row3_col0 {\n",
       "            background-color:  #ee1300;\n",
       "        }    #T_0833cf5e_e223_11e9_a73a_acde48001122row3_col1 {\n",
       "            background-color:  #ee1300;\n",
       "        }    #T_0833cf5e_e223_11e9_a73a_acde48001122row3_col2 {\n",
       "            background-color:  #ee1300;\n",
       "        }    #T_0833cf5e_e223_11e9_a73a_acde48001122row3_col3 {\n",
       "            background-color:  #ee1300;\n",
       "        }    #T_0833cf5e_e223_11e9_a73a_acde48001122row4_col0 {\n",
       "            background-color:  #ee1300;\n",
       "        }    #T_0833cf5e_e223_11e9_a73a_acde48001122row4_col1 {\n",
       "            background-color:  #ee1300;\n",
       "        }    #T_0833cf5e_e223_11e9_a73a_acde48001122row4_col2 {\n",
       "            background-color:  #ee1300;\n",
       "        }    #T_0833cf5e_e223_11e9_a73a_acde48001122row4_col3 {\n",
       "            background-color:  #ee1300;\n",
       "        }    #T_0833cf5e_e223_11e9_a73a_acde48001122row5_col0 {\n",
       "            background-color:  #58f200;\n",
       "        }    #T_0833cf5e_e223_11e9_a73a_acde48001122row5_col1 {\n",
       "            background-color:  #58f200;\n",
       "        }    #T_0833cf5e_e223_11e9_a73a_acde48001122row5_col2 {\n",
       "            background-color:  #58f200;\n",
       "        }    #T_0833cf5e_e223_11e9_a73a_acde48001122row5_col3 {\n",
       "            background-color:  #58f200;\n",
       "        }    #T_0833cf5e_e223_11e9_a73a_acde48001122row6_col0 {\n",
       "            background-color:  #58f200;\n",
       "        }    #T_0833cf5e_e223_11e9_a73a_acde48001122row6_col1 {\n",
       "            background-color:  #58f200;\n",
       "        }    #T_0833cf5e_e223_11e9_a73a_acde48001122row6_col2 {\n",
       "            background-color:  #58f200;\n",
       "        }    #T_0833cf5e_e223_11e9_a73a_acde48001122row6_col3 {\n",
       "            background-color:  #58f200;\n",
       "        }    #T_0833cf5e_e223_11e9_a73a_acde48001122row7_col0 {\n",
       "            background-color:  #58f200;\n",
       "        }    #T_0833cf5e_e223_11e9_a73a_acde48001122row7_col1 {\n",
       "            background-color:  #58f200;\n",
       "        }    #T_0833cf5e_e223_11e9_a73a_acde48001122row7_col2 {\n",
       "            background-color:  #58f200;\n",
       "        }    #T_0833cf5e_e223_11e9_a73a_acde48001122row7_col3 {\n",
       "            background-color:  #58f200;\n",
       "        }</style><table id=\"T_0833cf5e_e223_11e9_a73a_acde48001122\" ><thead>    <tr>        <th class=\"blank level0\" ></th>        <th class=\"col_heading level0 col0\" >order_id</th>        <th class=\"col_heading level0 col1\" >true_occasion</th>        <th class=\"col_heading level0 col2\" >pred_occasion</th>        <th class=\"col_heading level0 col3\" >pred_times</th>    </tr></thead><tbody>\n",
       "                <tr>\n",
       "                        <th id=\"T_0833cf5e_e223_11e9_a73a_acde48001122level0_row0\" class=\"row_heading level0 row0\" >1</th>\n",
       "                        <td id=\"T_0833cf5e_e223_11e9_a73a_acde48001122row0_col0\" class=\"data row0 col0\" >512690383</td>\n",
       "                        <td id=\"T_0833cf5e_e223_11e9_a73a_acde48001122row0_col1\" class=\"data row0 col1\" >Casual Drink and Meal</td>\n",
       "                        <td id=\"T_0833cf5e_e223_11e9_a73a_acde48001122row0_col2\" class=\"data row0 col2\" >Casual Drink and Meal</td>\n",
       "                        <td id=\"T_0833cf5e_e223_11e9_a73a_acde48001122row0_col3\" class=\"data row0 col3\" >afternoon</td>\n",
       "            </tr>\n",
       "            <tr>\n",
       "                        <th id=\"T_0833cf5e_e223_11e9_a73a_acde48001122level0_row1\" class=\"row_heading level0 row1\" >2</th>\n",
       "                        <td id=\"T_0833cf5e_e223_11e9_a73a_acde48001122row1_col0\" class=\"data row1 col0\" >521702519</td>\n",
       "                        <td id=\"T_0833cf5e_e223_11e9_a73a_acde48001122row1_col1\" class=\"data row1 col1\" >Drinking</td>\n",
       "                        <td id=\"T_0833cf5e_e223_11e9_a73a_acde48001122row1_col2\" class=\"data row1 col2\" >Drinking</td>\n",
       "                        <td id=\"T_0833cf5e_e223_11e9_a73a_acde48001122row1_col3\" class=\"data row1 col3\" >afternoon</td>\n",
       "            </tr>\n",
       "            <tr>\n",
       "                        <th id=\"T_0833cf5e_e223_11e9_a73a_acde48001122level0_row2\" class=\"row_heading level0 row2\" >3</th>\n",
       "                        <td id=\"T_0833cf5e_e223_11e9_a73a_acde48001122row2_col0\" class=\"data row2 col0\" >521093892</td>\n",
       "                        <td id=\"T_0833cf5e_e223_11e9_a73a_acde48001122row2_col1\" class=\"data row2 col1\" >Drinking</td>\n",
       "                        <td id=\"T_0833cf5e_e223_11e9_a73a_acde48001122row2_col2\" class=\"data row2 col2\" >Drinking</td>\n",
       "                        <td id=\"T_0833cf5e_e223_11e9_a73a_acde48001122row2_col3\" class=\"data row2 col3\" >late_night</td>\n",
       "            </tr>\n",
       "            <tr>\n",
       "                        <th id=\"T_0833cf5e_e223_11e9_a73a_acde48001122level0_row3\" class=\"row_heading level0 row3\" >4</th>\n",
       "                        <td id=\"T_0833cf5e_e223_11e9_a73a_acde48001122row3_col0\" class=\"data row3 col0\" >517505343</td>\n",
       "                        <td id=\"T_0833cf5e_e223_11e9_a73a_acde48001122row3_col1\" class=\"data row3 col1\" >Not Category 1</td>\n",
       "                        <td id=\"T_0833cf5e_e223_11e9_a73a_acde48001122row3_col2\" class=\"data row3 col2\" >Casual Drink and Meal</td>\n",
       "                        <td id=\"T_0833cf5e_e223_11e9_a73a_acde48001122row3_col3\" class=\"data row3 col3\" >dinner</td>\n",
       "            </tr>\n",
       "            <tr>\n",
       "                        <th id=\"T_0833cf5e_e223_11e9_a73a_acde48001122level0_row4\" class=\"row_heading level0 row4\" >5</th>\n",
       "                        <td id=\"T_0833cf5e_e223_11e9_a73a_acde48001122row4_col0\" class=\"data row4 col0\" >521783372</td>\n",
       "                        <td id=\"T_0833cf5e_e223_11e9_a73a_acde48001122row4_col1\" class=\"data row4 col1\" >Dinner</td>\n",
       "                        <td id=\"T_0833cf5e_e223_11e9_a73a_acde48001122row4_col2\" class=\"data row4 col2\" >Unknown</td>\n",
       "                        <td id=\"T_0833cf5e_e223_11e9_a73a_acde48001122row4_col3\" class=\"data row4 col3\" ></td>\n",
       "            </tr>\n",
       "            <tr>\n",
       "                        <th id=\"T_0833cf5e_e223_11e9_a73a_acde48001122level0_row5\" class=\"row_heading level0 row5\" >6</th>\n",
       "                        <td id=\"T_0833cf5e_e223_11e9_a73a_acde48001122row5_col0\" class=\"data row5 col0\" >521769692</td>\n",
       "                        <td id=\"T_0833cf5e_e223_11e9_a73a_acde48001122row5_col1\" class=\"data row5 col1\" >Casual Drink and Meal</td>\n",
       "                        <td id=\"T_0833cf5e_e223_11e9_a73a_acde48001122row5_col2\" class=\"data row5 col2\" >Casual Drink and Meal</td>\n",
       "                        <td id=\"T_0833cf5e_e223_11e9_a73a_acde48001122row5_col3\" class=\"data row5 col3\" >dinner</td>\n",
       "            </tr>\n",
       "            <tr>\n",
       "                        <th id=\"T_0833cf5e_e223_11e9_a73a_acde48001122level0_row6\" class=\"row_heading level0 row6\" >7</th>\n",
       "                        <td id=\"T_0833cf5e_e223_11e9_a73a_acde48001122row6_col0\" class=\"data row6 col0\" >512852707</td>\n",
       "                        <td id=\"T_0833cf5e_e223_11e9_a73a_acde48001122row6_col1\" class=\"data row6 col1\" >Casual Drink and Meal</td>\n",
       "                        <td id=\"T_0833cf5e_e223_11e9_a73a_acde48001122row6_col2\" class=\"data row6 col2\" >Casual Drink and Meal</td>\n",
       "                        <td id=\"T_0833cf5e_e223_11e9_a73a_acde48001122row6_col3\" class=\"data row6 col3\" >late_night</td>\n",
       "            </tr>\n",
       "            <tr>\n",
       "                        <th id=\"T_0833cf5e_e223_11e9_a73a_acde48001122level0_row7\" class=\"row_heading level0 row7\" >8</th>\n",
       "                        <td id=\"T_0833cf5e_e223_11e9_a73a_acde48001122row7_col0\" class=\"data row7 col0\" >525538989</td>\n",
       "                        <td id=\"T_0833cf5e_e223_11e9_a73a_acde48001122row7_col1\" class=\"data row7 col1\" >Casual Drink and Meal</td>\n",
       "                        <td id=\"T_0833cf5e_e223_11e9_a73a_acde48001122row7_col2\" class=\"data row7 col2\" >Casual Drink and Meal</td>\n",
       "                        <td id=\"T_0833cf5e_e223_11e9_a73a_acde48001122row7_col3\" class=\"data row7 col3\" >afternoon</td>\n",
       "            </tr>\n",
       "    </tbody></table>"
      ],
      "text/plain": [
       "<pandas.io.formats.style.Styler at 0x11dd8ff60>"
      ]
     },
     "execution_count": 14,
     "metadata": {},
     "output_type": "execute_result"
    }
   ],
   "source": [
    "table = \"hockey\"\n",
    "\n",
    "df = pd.DataFrame(results[table], columns=columns)\n",
    "df.index += 1\n",
    "df.style.apply(color, axis=1)\n",
    "# df.to_csv(str(table) + \"_3to5_test_results.csv\", index=False)"
   ]
  },
  {
   "cell_type": "code",
   "execution_count": 15,
   "metadata": {},
   "outputs": [
    {
     "data": {
      "text/html": [
       "<style  type=\"text/css\" >\n",
       "    #T_0dda8ae2_e223_11e9_8c03_acde48001122row0_col0 {\n",
       "            background-color:  #ee1300;\n",
       "        }    #T_0dda8ae2_e223_11e9_8c03_acde48001122row0_col1 {\n",
       "            background-color:  #ee1300;\n",
       "        }    #T_0dda8ae2_e223_11e9_8c03_acde48001122row0_col2 {\n",
       "            background-color:  #ee1300;\n",
       "        }    #T_0dda8ae2_e223_11e9_8c03_acde48001122row0_col3 {\n",
       "            background-color:  #ee1300;\n",
       "        }    #T_0dda8ae2_e223_11e9_8c03_acde48001122row1_col0 {\n",
       "            background-color:  #ee1300;\n",
       "        }    #T_0dda8ae2_e223_11e9_8c03_acde48001122row1_col1 {\n",
       "            background-color:  #ee1300;\n",
       "        }    #T_0dda8ae2_e223_11e9_8c03_acde48001122row1_col2 {\n",
       "            background-color:  #ee1300;\n",
       "        }    #T_0dda8ae2_e223_11e9_8c03_acde48001122row1_col3 {\n",
       "            background-color:  #ee1300;\n",
       "        }    #T_0dda8ae2_e223_11e9_8c03_acde48001122row2_col0 {\n",
       "            background-color:  #ee1300;\n",
       "        }    #T_0dda8ae2_e223_11e9_8c03_acde48001122row2_col1 {\n",
       "            background-color:  #ee1300;\n",
       "        }    #T_0dda8ae2_e223_11e9_8c03_acde48001122row2_col2 {\n",
       "            background-color:  #ee1300;\n",
       "        }    #T_0dda8ae2_e223_11e9_8c03_acde48001122row2_col3 {\n",
       "            background-color:  #ee1300;\n",
       "        }    #T_0dda8ae2_e223_11e9_8c03_acde48001122row3_col0 {\n",
       "            background-color:  #58f200;\n",
       "        }    #T_0dda8ae2_e223_11e9_8c03_acde48001122row3_col1 {\n",
       "            background-color:  #58f200;\n",
       "        }    #T_0dda8ae2_e223_11e9_8c03_acde48001122row3_col2 {\n",
       "            background-color:  #58f200;\n",
       "        }    #T_0dda8ae2_e223_11e9_8c03_acde48001122row3_col3 {\n",
       "            background-color:  #58f200;\n",
       "        }    #T_0dda8ae2_e223_11e9_8c03_acde48001122row4_col0 {\n",
       "            background-color:  #ee1300;\n",
       "        }    #T_0dda8ae2_e223_11e9_8c03_acde48001122row4_col1 {\n",
       "            background-color:  #ee1300;\n",
       "        }    #T_0dda8ae2_e223_11e9_8c03_acde48001122row4_col2 {\n",
       "            background-color:  #ee1300;\n",
       "        }    #T_0dda8ae2_e223_11e9_8c03_acde48001122row4_col3 {\n",
       "            background-color:  #ee1300;\n",
       "        }</style><table id=\"T_0dda8ae2_e223_11e9_8c03_acde48001122\" ><thead>    <tr>        <th class=\"blank level0\" ></th>        <th class=\"col_heading level0 col0\" >order_id</th>        <th class=\"col_heading level0 col1\" >true_occasion</th>        <th class=\"col_heading level0 col2\" >pred_occasion</th>        <th class=\"col_heading level0 col3\" >pred_times</th>    </tr></thead><tbody>\n",
       "                <tr>\n",
       "                        <th id=\"T_0dda8ae2_e223_11e9_8c03_acde48001122level0_row0\" class=\"row_heading level0 row0\" >1</th>\n",
       "                        <td id=\"T_0dda8ae2_e223_11e9_8c03_acde48001122row0_col0\" class=\"data row0 col0\" >434780854</td>\n",
       "                        <td id=\"T_0dda8ae2_e223_11e9_8c03_acde48001122row0_col1\" class=\"data row0 col1\" >Drinking</td>\n",
       "                        <td id=\"T_0dda8ae2_e223_11e9_8c03_acde48001122row0_col2\" class=\"data row0 col2\" >Casual Drink and Meal</td>\n",
       "                        <td id=\"T_0dda8ae2_e223_11e9_8c03_acde48001122row0_col3\" class=\"data row0 col3\" >afternoon</td>\n",
       "            </tr>\n",
       "            <tr>\n",
       "                        <th id=\"T_0dda8ae2_e223_11e9_8c03_acde48001122level0_row1\" class=\"row_heading level0 row1\" >2</th>\n",
       "                        <td id=\"T_0dda8ae2_e223_11e9_8c03_acde48001122row1_col0\" class=\"data row1 col0\" >434753224</td>\n",
       "                        <td id=\"T_0dda8ae2_e223_11e9_8c03_acde48001122row1_col1\" class=\"data row1 col1\" >Dinner</td>\n",
       "                        <td id=\"T_0dda8ae2_e223_11e9_8c03_acde48001122row1_col2\" class=\"data row1 col2\" >Unknown</td>\n",
       "                        <td id=\"T_0dda8ae2_e223_11e9_8c03_acde48001122row1_col3\" class=\"data row1 col3\" ></td>\n",
       "            </tr>\n",
       "            <tr>\n",
       "                        <th id=\"T_0dda8ae2_e223_11e9_8c03_acde48001122level0_row2\" class=\"row_heading level0 row2\" >3</th>\n",
       "                        <td id=\"T_0dda8ae2_e223_11e9_8c03_acde48001122row2_col0\" class=\"data row2 col0\" >447023765</td>\n",
       "                        <td id=\"T_0dda8ae2_e223_11e9_8c03_acde48001122row2_col1\" class=\"data row2 col1\" >Lunch</td>\n",
       "                        <td id=\"T_0dda8ae2_e223_11e9_8c03_acde48001122row2_col2\" class=\"data row2 col2\" >Unknown</td>\n",
       "                        <td id=\"T_0dda8ae2_e223_11e9_8c03_acde48001122row2_col3\" class=\"data row2 col3\" ></td>\n",
       "            </tr>\n",
       "            <tr>\n",
       "                        <th id=\"T_0dda8ae2_e223_11e9_8c03_acde48001122level0_row3\" class=\"row_heading level0 row3\" >4</th>\n",
       "                        <td id=\"T_0dda8ae2_e223_11e9_8c03_acde48001122row3_col0\" class=\"data row3 col0\" >434766693</td>\n",
       "                        <td id=\"T_0dda8ae2_e223_11e9_8c03_acde48001122row3_col1\" class=\"data row3 col1\" >Casual Drink and Meal</td>\n",
       "                        <td id=\"T_0dda8ae2_e223_11e9_8c03_acde48001122row3_col2\" class=\"data row3 col2\" >Casual Drink and Meal</td>\n",
       "                        <td id=\"T_0dda8ae2_e223_11e9_8c03_acde48001122row3_col3\" class=\"data row3 col3\" >late_night</td>\n",
       "            </tr>\n",
       "            <tr>\n",
       "                        <th id=\"T_0dda8ae2_e223_11e9_8c03_acde48001122level0_row4\" class=\"row_heading level0 row4\" >5</th>\n",
       "                        <td id=\"T_0dda8ae2_e223_11e9_8c03_acde48001122row4_col0\" class=\"data row4 col0\" >446799837</td>\n",
       "                        <td id=\"T_0dda8ae2_e223_11e9_8c03_acde48001122row4_col1\" class=\"data row4 col1\" >Dinner</td>\n",
       "                        <td id=\"T_0dda8ae2_e223_11e9_8c03_acde48001122row4_col2\" class=\"data row4 col2\" >Casual Drink and Meal</td>\n",
       "                        <td id=\"T_0dda8ae2_e223_11e9_8c03_acde48001122row4_col3\" class=\"data row4 col3\" >dinner</td>\n",
       "            </tr>\n",
       "    </tbody></table>"
      ],
      "text/plain": [
       "<pandas.io.formats.style.Styler at 0x120884438>"
      ]
     },
     "execution_count": 15,
     "metadata": {},
     "output_type": "execute_result"
    }
   ],
   "source": [
    "table = \"valentine\"\n",
    "\n",
    "df = pd.DataFrame(results[table], columns=columns)\n",
    "df.index += 1\n",
    "df.style.apply(color, axis=1)\n",
    "# df.to_csv(str(table) + \"_3to5_test_results.csv\", index=False)"
   ]
  },
  {
   "cell_type": "code",
   "execution_count": 16,
   "metadata": {},
   "outputs": [
    {
     "data": {
      "text/html": [
       "<style  type=\"text/css\" >\n",
       "    #T_15bfd06e_e223_11e9_9453_acde48001122row0_col0 {\n",
       "            background-color:  #ee1300;\n",
       "        }    #T_15bfd06e_e223_11e9_9453_acde48001122row0_col1 {\n",
       "            background-color:  #ee1300;\n",
       "        }    #T_15bfd06e_e223_11e9_9453_acde48001122row0_col2 {\n",
       "            background-color:  #ee1300;\n",
       "        }    #T_15bfd06e_e223_11e9_9453_acde48001122row0_col3 {\n",
       "            background-color:  #ee1300;\n",
       "        }    #T_15bfd06e_e223_11e9_9453_acde48001122row1_col0 {\n",
       "            background-color:  #ee1300;\n",
       "        }    #T_15bfd06e_e223_11e9_9453_acde48001122row1_col1 {\n",
       "            background-color:  #ee1300;\n",
       "        }    #T_15bfd06e_e223_11e9_9453_acde48001122row1_col2 {\n",
       "            background-color:  #ee1300;\n",
       "        }    #T_15bfd06e_e223_11e9_9453_acde48001122row1_col3 {\n",
       "            background-color:  #ee1300;\n",
       "        }    #T_15bfd06e_e223_11e9_9453_acde48001122row2_col0 {\n",
       "            background-color:  #ee1300;\n",
       "        }    #T_15bfd06e_e223_11e9_9453_acde48001122row2_col1 {\n",
       "            background-color:  #ee1300;\n",
       "        }    #T_15bfd06e_e223_11e9_9453_acde48001122row2_col2 {\n",
       "            background-color:  #ee1300;\n",
       "        }    #T_15bfd06e_e223_11e9_9453_acde48001122row2_col3 {\n",
       "            background-color:  #ee1300;\n",
       "        }    #T_15bfd06e_e223_11e9_9453_acde48001122row3_col0 {\n",
       "            background-color:  #ee1300;\n",
       "        }    #T_15bfd06e_e223_11e9_9453_acde48001122row3_col1 {\n",
       "            background-color:  #ee1300;\n",
       "        }    #T_15bfd06e_e223_11e9_9453_acde48001122row3_col2 {\n",
       "            background-color:  #ee1300;\n",
       "        }    #T_15bfd06e_e223_11e9_9453_acde48001122row3_col3 {\n",
       "            background-color:  #ee1300;\n",
       "        }    #T_15bfd06e_e223_11e9_9453_acde48001122row4_col0 {\n",
       "            background-color:  #ee1300;\n",
       "        }    #T_15bfd06e_e223_11e9_9453_acde48001122row4_col1 {\n",
       "            background-color:  #ee1300;\n",
       "        }    #T_15bfd06e_e223_11e9_9453_acde48001122row4_col2 {\n",
       "            background-color:  #ee1300;\n",
       "        }    #T_15bfd06e_e223_11e9_9453_acde48001122row4_col3 {\n",
       "            background-color:  #ee1300;\n",
       "        }</style><table id=\"T_15bfd06e_e223_11e9_9453_acde48001122\" ><thead>    <tr>        <th class=\"blank level0\" ></th>        <th class=\"col_heading level0 col0\" >order_id</th>        <th class=\"col_heading level0 col1\" >true_occasion</th>        <th class=\"col_heading level0 col2\" >pred_occasion</th>        <th class=\"col_heading level0 col3\" >pred_times</th>    </tr></thead><tbody>\n",
       "                <tr>\n",
       "                        <th id=\"T_15bfd06e_e223_11e9_9453_acde48001122level0_row0\" class=\"row_heading level0 row0\" >1</th>\n",
       "                        <td id=\"T_15bfd06e_e223_11e9_9453_acde48001122row0_col0\" class=\"data row0 col0\" >363436344</td>\n",
       "                        <td id=\"T_15bfd06e_e223_11e9_9453_acde48001122row0_col1\" class=\"data row0 col1\" >Dinner</td>\n",
       "                        <td id=\"T_15bfd06e_e223_11e9_9453_acde48001122row0_col2\" class=\"data row0 col2\" >Unknown</td>\n",
       "                        <td id=\"T_15bfd06e_e223_11e9_9453_acde48001122row0_col3\" class=\"data row0 col3\" ></td>\n",
       "            </tr>\n",
       "            <tr>\n",
       "                        <th id=\"T_15bfd06e_e223_11e9_9453_acde48001122level0_row1\" class=\"row_heading level0 row1\" >2</th>\n",
       "                        <td id=\"T_15bfd06e_e223_11e9_9453_acde48001122row1_col0\" class=\"data row1 col0\" >361891515</td>\n",
       "                        <td id=\"T_15bfd06e_e223_11e9_9453_acde48001122row1_col1\" class=\"data row1 col1\" >Dinner</td>\n",
       "                        <td id=\"T_15bfd06e_e223_11e9_9453_acde48001122row1_col2\" class=\"data row1 col2\" >Not Category 1</td>\n",
       "                        <td id=\"T_15bfd06e_e223_11e9_9453_acde48001122row1_col3\" class=\"data row1 col3\" ></td>\n",
       "            </tr>\n",
       "            <tr>\n",
       "                        <th id=\"T_15bfd06e_e223_11e9_9453_acde48001122level0_row2\" class=\"row_heading level0 row2\" >3</th>\n",
       "                        <td id=\"T_15bfd06e_e223_11e9_9453_acde48001122row2_col0\" class=\"data row2 col0\" >361024418</td>\n",
       "                        <td id=\"T_15bfd06e_e223_11e9_9453_acde48001122row2_col1\" class=\"data row2 col1\" >Dinner</td>\n",
       "                        <td id=\"T_15bfd06e_e223_11e9_9453_acde48001122row2_col2\" class=\"data row2 col2\" >Casual Drink and Meal</td>\n",
       "                        <td id=\"T_15bfd06e_e223_11e9_9453_acde48001122row2_col3\" class=\"data row2 col3\" >late_night</td>\n",
       "            </tr>\n",
       "            <tr>\n",
       "                        <th id=\"T_15bfd06e_e223_11e9_9453_acde48001122level0_row3\" class=\"row_heading level0 row3\" >4</th>\n",
       "                        <td id=\"T_15bfd06e_e223_11e9_9453_acde48001122row3_col0\" class=\"data row3 col0\" >360026487</td>\n",
       "                        <td id=\"T_15bfd06e_e223_11e9_9453_acde48001122row3_col1\" class=\"data row3 col1\" >Dinner</td>\n",
       "                        <td id=\"T_15bfd06e_e223_11e9_9453_acde48001122row3_col2\" class=\"data row3 col2\" >Unknown</td>\n",
       "                        <td id=\"T_15bfd06e_e223_11e9_9453_acde48001122row3_col3\" class=\"data row3 col3\" ></td>\n",
       "            </tr>\n",
       "            <tr>\n",
       "                        <th id=\"T_15bfd06e_e223_11e9_9453_acde48001122level0_row4\" class=\"row_heading level0 row4\" >5</th>\n",
       "                        <td id=\"T_15bfd06e_e223_11e9_9453_acde48001122row4_col0\" class=\"data row4 col0\" >359644172</td>\n",
       "                        <td id=\"T_15bfd06e_e223_11e9_9453_acde48001122row4_col1\" class=\"data row4 col1\" >Drinking</td>\n",
       "                        <td id=\"T_15bfd06e_e223_11e9_9453_acde48001122row4_col2\" class=\"data row4 col2\" >Casual Drink and Meal</td>\n",
       "                        <td id=\"T_15bfd06e_e223_11e9_9453_acde48001122row4_col3\" class=\"data row4 col3\" >dinner</td>\n",
       "            </tr>\n",
       "    </tbody></table>"
      ],
      "text/plain": [
       "<pandas.io.formats.style.Styler at 0x120884be0>"
      ]
     },
     "execution_count": 16,
     "metadata": {},
     "output_type": "execute_result"
    }
   ],
   "source": [
    "table = \"silvester\"\n",
    "\n",
    "df = pd.DataFrame(results[table], columns=columns)\n",
    "df.index += 1\n",
    "df.style.apply(color, axis=1)\n",
    "# df.to_csv(str(table) + \"_3to5_test_results.csv\", index=False)"
   ]
  },
  {
   "cell_type": "markdown",
   "metadata": {},
   "source": [
    "# TEST"
   ]
  },
  {
   "cell_type": "code",
   "execution_count": 24,
   "metadata": {},
   "outputs": [
    {
     "name": "stdout",
     "output_type": "stream",
     "text": [
      "Running for hockey\n"
     ]
    }
   ],
   "source": [
    "tables = [\"hockey\"]\n",
    "results = {}\n",
    "results_new = {}\n",
    "for table in tables:\n",
    "    print(\"Running for\", table)\n",
    "    df_path = data_map[table]\n",
    "    df = pd.read_csv(df_path)\n",
    "    labeled_tables = labeled_tables_test_map[table]\n",
    "    \n",
    "    results[table] = []\n",
    "    for order_id, true_ocassion in labeled_tables:\n",
    "        orders = df[df.order_id == order_id]\n",
    "        orders = shrink_orders_to_table(orders)\n",
    "        pred_occasion, pred_times = classifier.classify(orders)\n",
    "        results[table].append((order_id, true_ocassion, \",\".join(pred_occasion), \",\".join(pred_times)))"
   ]
  },
  {
   "cell_type": "code",
   "execution_count": 25,
   "metadata": {},
   "outputs": [
    {
     "data": {
      "text/html": [
       "<style  type=\"text/css\" >\n",
       "    #T_9cabac4c_e21c_11e9_8565_acde48001122row0_col0 {\n",
       "            background-color:  #58f200;\n",
       "        }    #T_9cabac4c_e21c_11e9_8565_acde48001122row0_col1 {\n",
       "            background-color:  #58f200;\n",
       "        }    #T_9cabac4c_e21c_11e9_8565_acde48001122row0_col2 {\n",
       "            background-color:  #58f200;\n",
       "        }    #T_9cabac4c_e21c_11e9_8565_acde48001122row0_col3 {\n",
       "            background-color:  #58f200;\n",
       "        }    #T_9cabac4c_e21c_11e9_8565_acde48001122row1_col0 {\n",
       "            background-color:  #58f200;\n",
       "        }    #T_9cabac4c_e21c_11e9_8565_acde48001122row1_col1 {\n",
       "            background-color:  #58f200;\n",
       "        }    #T_9cabac4c_e21c_11e9_8565_acde48001122row1_col2 {\n",
       "            background-color:  #58f200;\n",
       "        }    #T_9cabac4c_e21c_11e9_8565_acde48001122row1_col3 {\n",
       "            background-color:  #58f200;\n",
       "        }    #T_9cabac4c_e21c_11e9_8565_acde48001122row2_col0 {\n",
       "            background-color:  #58f200;\n",
       "        }    #T_9cabac4c_e21c_11e9_8565_acde48001122row2_col1 {\n",
       "            background-color:  #58f200;\n",
       "        }    #T_9cabac4c_e21c_11e9_8565_acde48001122row2_col2 {\n",
       "            background-color:  #58f200;\n",
       "        }    #T_9cabac4c_e21c_11e9_8565_acde48001122row2_col3 {\n",
       "            background-color:  #58f200;\n",
       "        }    #T_9cabac4c_e21c_11e9_8565_acde48001122row3_col0 {\n",
       "            background-color:  #ee1300;\n",
       "        }    #T_9cabac4c_e21c_11e9_8565_acde48001122row3_col1 {\n",
       "            background-color:  #ee1300;\n",
       "        }    #T_9cabac4c_e21c_11e9_8565_acde48001122row3_col2 {\n",
       "            background-color:  #ee1300;\n",
       "        }    #T_9cabac4c_e21c_11e9_8565_acde48001122row3_col3 {\n",
       "            background-color:  #ee1300;\n",
       "        }    #T_9cabac4c_e21c_11e9_8565_acde48001122row4_col0 {\n",
       "            background-color:  #58f200;\n",
       "        }    #T_9cabac4c_e21c_11e9_8565_acde48001122row4_col1 {\n",
       "            background-color:  #58f200;\n",
       "        }    #T_9cabac4c_e21c_11e9_8565_acde48001122row4_col2 {\n",
       "            background-color:  #58f200;\n",
       "        }    #T_9cabac4c_e21c_11e9_8565_acde48001122row4_col3 {\n",
       "            background-color:  #58f200;\n",
       "        }    #T_9cabac4c_e21c_11e9_8565_acde48001122row5_col0 {\n",
       "            background-color:  #58f200;\n",
       "        }    #T_9cabac4c_e21c_11e9_8565_acde48001122row5_col1 {\n",
       "            background-color:  #58f200;\n",
       "        }    #T_9cabac4c_e21c_11e9_8565_acde48001122row5_col2 {\n",
       "            background-color:  #58f200;\n",
       "        }    #T_9cabac4c_e21c_11e9_8565_acde48001122row5_col3 {\n",
       "            background-color:  #58f200;\n",
       "        }    #T_9cabac4c_e21c_11e9_8565_acde48001122row6_col0 {\n",
       "            background-color:  #58f200;\n",
       "        }    #T_9cabac4c_e21c_11e9_8565_acde48001122row6_col1 {\n",
       "            background-color:  #58f200;\n",
       "        }    #T_9cabac4c_e21c_11e9_8565_acde48001122row6_col2 {\n",
       "            background-color:  #58f200;\n",
       "        }    #T_9cabac4c_e21c_11e9_8565_acde48001122row6_col3 {\n",
       "            background-color:  #58f200;\n",
       "        }    #T_9cabac4c_e21c_11e9_8565_acde48001122row7_col0 {\n",
       "            background-color:  #58f200;\n",
       "        }    #T_9cabac4c_e21c_11e9_8565_acde48001122row7_col1 {\n",
       "            background-color:  #58f200;\n",
       "        }    #T_9cabac4c_e21c_11e9_8565_acde48001122row7_col2 {\n",
       "            background-color:  #58f200;\n",
       "        }    #T_9cabac4c_e21c_11e9_8565_acde48001122row7_col3 {\n",
       "            background-color:  #58f200;\n",
       "        }</style><table id=\"T_9cabac4c_e21c_11e9_8565_acde48001122\" ><thead>    <tr>        <th class=\"blank level0\" ></th>        <th class=\"col_heading level0 col0\" >order_id</th>        <th class=\"col_heading level0 col1\" >true_occasion</th>        <th class=\"col_heading level0 col2\" >pred_occasion</th>        <th class=\"col_heading level0 col3\" >pred_times</th>    </tr></thead><tbody>\n",
       "                <tr>\n",
       "                        <th id=\"T_9cabac4c_e21c_11e9_8565_acde48001122level0_row0\" class=\"row_heading level0 row0\" >1</th>\n",
       "                        <td id=\"T_9cabac4c_e21c_11e9_8565_acde48001122row0_col0\" class=\"data row0 col0\" >520256354</td>\n",
       "                        <td id=\"T_9cabac4c_e21c_11e9_8565_acde48001122row0_col1\" class=\"data row0 col1\" >Drinking</td>\n",
       "                        <td id=\"T_9cabac4c_e21c_11e9_8565_acde48001122row0_col2\" class=\"data row0 col2\" >Drinking</td>\n",
       "                        <td id=\"T_9cabac4c_e21c_11e9_8565_acde48001122row0_col3\" class=\"data row0 col3\" >dinner</td>\n",
       "            </tr>\n",
       "            <tr>\n",
       "                        <th id=\"T_9cabac4c_e21c_11e9_8565_acde48001122level0_row1\" class=\"row_heading level0 row1\" >2</th>\n",
       "                        <td id=\"T_9cabac4c_e21c_11e9_8565_acde48001122row1_col0\" class=\"data row1 col0\" >514474566</td>\n",
       "                        <td id=\"T_9cabac4c_e21c_11e9_8565_acde48001122row1_col1\" class=\"data row1 col1\" >Casual Drink and Meal</td>\n",
       "                        <td id=\"T_9cabac4c_e21c_11e9_8565_acde48001122row1_col2\" class=\"data row1 col2\" >Dinner,Casual Drink and Meal</td>\n",
       "                        <td id=\"T_9cabac4c_e21c_11e9_8565_acde48001122row1_col3\" class=\"data row1 col3\" >afternoon</td>\n",
       "            </tr>\n",
       "            <tr>\n",
       "                        <th id=\"T_9cabac4c_e21c_11e9_8565_acde48001122level0_row2\" class=\"row_heading level0 row2\" >3</th>\n",
       "                        <td id=\"T_9cabac4c_e21c_11e9_8565_acde48001122row2_col0\" class=\"data row2 col0\" >522554624</td>\n",
       "                        <td id=\"T_9cabac4c_e21c_11e9_8565_acde48001122row2_col1\" class=\"data row2 col1\" >Not Category 1</td>\n",
       "                        <td id=\"T_9cabac4c_e21c_11e9_8565_acde48001122row2_col2\" class=\"data row2 col2\" >Not Category 1,Dinner,Casual Drink and Meal</td>\n",
       "                        <td id=\"T_9cabac4c_e21c_11e9_8565_acde48001122row2_col3\" class=\"data row2 col3\" >afternoon</td>\n",
       "            </tr>\n",
       "            <tr>\n",
       "                        <th id=\"T_9cabac4c_e21c_11e9_8565_acde48001122level0_row3\" class=\"row_heading level0 row3\" >4</th>\n",
       "                        <td id=\"T_9cabac4c_e21c_11e9_8565_acde48001122row3_col0\" class=\"data row3 col0\" >522777463</td>\n",
       "                        <td id=\"T_9cabac4c_e21c_11e9_8565_acde48001122row3_col1\" class=\"data row3 col1\" >Drinking</td>\n",
       "                        <td id=\"T_9cabac4c_e21c_11e9_8565_acde48001122row3_col2\" class=\"data row3 col2\" >Casual Drink and Meal</td>\n",
       "                        <td id=\"T_9cabac4c_e21c_11e9_8565_acde48001122row3_col3\" class=\"data row3 col3\" >late_night</td>\n",
       "            </tr>\n",
       "            <tr>\n",
       "                        <th id=\"T_9cabac4c_e21c_11e9_8565_acde48001122level0_row4\" class=\"row_heading level0 row4\" >5</th>\n",
       "                        <td id=\"T_9cabac4c_e21c_11e9_8565_acde48001122row4_col0\" class=\"data row4 col0\" >519619252</td>\n",
       "                        <td id=\"T_9cabac4c_e21c_11e9_8565_acde48001122row4_col1\" class=\"data row4 col1\" >Casual Drink and Meal</td>\n",
       "                        <td id=\"T_9cabac4c_e21c_11e9_8565_acde48001122row4_col2\" class=\"data row4 col2\" >Drinking,Casual Drink and Meal</td>\n",
       "                        <td id=\"T_9cabac4c_e21c_11e9_8565_acde48001122row4_col3\" class=\"data row4 col3\" >dinner</td>\n",
       "            </tr>\n",
       "            <tr>\n",
       "                        <th id=\"T_9cabac4c_e21c_11e9_8565_acde48001122level0_row5\" class=\"row_heading level0 row5\" >6</th>\n",
       "                        <td id=\"T_9cabac4c_e21c_11e9_8565_acde48001122row5_col0\" class=\"data row5 col0\" >519598706</td>\n",
       "                        <td id=\"T_9cabac4c_e21c_11e9_8565_acde48001122row5_col1\" class=\"data row5 col1\" >Dinner</td>\n",
       "                        <td id=\"T_9cabac4c_e21c_11e9_8565_acde48001122row5_col2\" class=\"data row5 col2\" >Dinner</td>\n",
       "                        <td id=\"T_9cabac4c_e21c_11e9_8565_acde48001122row5_col3\" class=\"data row5 col3\" >late_night</td>\n",
       "            </tr>\n",
       "            <tr>\n",
       "                        <th id=\"T_9cabac4c_e21c_11e9_8565_acde48001122level0_row6\" class=\"row_heading level0 row6\" >7</th>\n",
       "                        <td id=\"T_9cabac4c_e21c_11e9_8565_acde48001122row6_col0\" class=\"data row6 col0\" >512856854</td>\n",
       "                        <td id=\"T_9cabac4c_e21c_11e9_8565_acde48001122row6_col1\" class=\"data row6 col1\" >Drinking</td>\n",
       "                        <td id=\"T_9cabac4c_e21c_11e9_8565_acde48001122row6_col2\" class=\"data row6 col2\" >Dinner,Drinking,Casual Drink and Meal</td>\n",
       "                        <td id=\"T_9cabac4c_e21c_11e9_8565_acde48001122row6_col3\" class=\"data row6 col3\" ></td>\n",
       "            </tr>\n",
       "            <tr>\n",
       "                        <th id=\"T_9cabac4c_e21c_11e9_8565_acde48001122level0_row7\" class=\"row_heading level0 row7\" >8</th>\n",
       "                        <td id=\"T_9cabac4c_e21c_11e9_8565_acde48001122row7_col0\" class=\"data row7 col0\" >520171895</td>\n",
       "                        <td id=\"T_9cabac4c_e21c_11e9_8565_acde48001122row7_col1\" class=\"data row7 col1\" >Dinner</td>\n",
       "                        <td id=\"T_9cabac4c_e21c_11e9_8565_acde48001122row7_col2\" class=\"data row7 col2\" >Dinner</td>\n",
       "                        <td id=\"T_9cabac4c_e21c_11e9_8565_acde48001122row7_col3\" class=\"data row7 col3\" >dinner</td>\n",
       "            </tr>\n",
       "    </tbody></table>"
      ],
      "text/plain": [
       "<pandas.io.formats.style.Styler at 0x1214c6b38>"
      ]
     },
     "execution_count": 25,
     "metadata": {},
     "output_type": "execute_result"
    }
   ],
   "source": [
    "table = \"hockey\"\n",
    "\n",
    "df = pd.DataFrame(results[table], columns=columns)\n",
    "df.index += 1\n",
    "df.style.apply(color, axis=1)\n",
    "# df.to_csv(str(table) + \"_3to5_test_results.csv\", index=False)"
   ]
  }
 ],
 "metadata": {
  "kernelspec": {
   "display_name": "Python 3",
   "language": "python",
   "name": "python3"
  },
  "language_info": {
   "codemirror_mode": {
    "name": "ipython",
    "version": 3
   },
   "file_extension": ".py",
   "mimetype": "text/x-python",
   "name": "python",
   "nbconvert_exporter": "python",
   "pygments_lexer": "ipython3",
   "version": "3.6.8"
  }
 },
 "nbformat": 4,
 "nbformat_minor": 2
}
