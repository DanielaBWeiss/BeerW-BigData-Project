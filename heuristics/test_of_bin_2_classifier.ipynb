{
 "cells": [
  {
   "cell_type": "markdown",
   "metadata": {},
   "source": [
    "# Measure The 2  Bin Heuristics Accuracy"
   ]
  },
  {
   "cell_type": "markdown",
   "metadata": {},
   "source": [
    "As a refresher, these are our occasions for the 3-5 bin:"
   ]
  },
  {
   "cell_type": "code",
   "execution_count": 1,
   "metadata": {},
   "outputs": [],
   "source": [
    "import numpy as np\n",
    "import pandas as pd\n",
    "import matplotlib.pyplot as plt\n",
    "import seaborn as sns\n",
    "%matplotlib inline\n",
    "from random import shuffle"
   ]
  },
  {
   "cell_type": "code",
   "execution_count": 2,
   "metadata": {},
   "outputs": [],
   "source": [
    "labels = [\n",
    "    \"FAMILY-EVENT\",\n",
    "    \"DRINKING\",\n",
    "    \"BREAKFAST\",\n",
    "    \"LUNCH\",\n",
    "    \"DINNER\",\n",
    "    \"SOCIAL-GATHERING\",\n",
    "    \"AFTER-WORK\",\n",
    "    \"MALES_ONLY\"\n",
    "]\n",
    "UNK = \"UNKNOWN\""
   ]
  },
  {
   "cell_type": "code",
   "execution_count": 3,
   "metadata": {},
   "outputs": [],
   "source": [
    "data_map = {\n",
    "    \"hockey\": \"../data/hockey_3_text_processed.csv\",\n",
    "    \"valentine\": \"../data/valentine_3_text_processed.csv\",\n",
    "    \"silvester\": \"../data/silvester_3_text_processed.csv\"\n",
    "}"
   ]
  },
  {
   "cell_type": "markdown",
   "metadata": {},
   "source": [
    "The following are taken from the *annotations/occasions_annotations_bin3to5* notebook."
   ]
  },
  {
   "cell_type": "code",
   "execution_count": 4,
   "metadata": {},
   "outputs": [],
   "source": [
    "\n",
    "labeled_tables_map = {\n",
    "        # no alcohol\n",
    "        514471619: \"LUNCH\",\n",
    "        516178269: \"NOT_2\",\n",
    "        525068808: \"DINNER\",\n",
    "        520890111: \"MALES_ONLY\",\n",
    "        520129596: UNK,\n",
    "        520253543: UNK,\n",
    "        520233357: UNK,\n",
    "        520016679: UNK,\n",
    "        512550244: UNK,\n",
    "        512676528: UNK,\n",
    "        512855467: UNK, \n",
    "        512806247: UNK,\n",
    "        512690818: UNK,\n",
    "        512855370: UNK,\n",
    "        512806230: UNK,\n",
    "        512719331: UNK,\n",
    "        512690809: UNK, \n",
    "        512561521: UNK,\n",
    "        512742361: UNK,\n",
    "        512806255: UNK,\n",
    "        512855375: UNK,\n",
    "        517827457: UNK,\n",
    "        517649320: UNK\n",
    "    }\n"
   ]
  },
  {
   "cell_type": "markdown",
   "metadata": {},
   "source": [
    "------"
   ]
  },
  {
   "cell_type": "code",
   "execution_count": 5,
   "metadata": {},
   "outputs": [],
   "source": [
    "import pandas as pd"
   ]
  },
  {
   "cell_type": "markdown",
   "metadata": {},
   "source": [
    "Import the classifier function `6Plus Classifier`:"
   ]
  },
  {
   "cell_type": "code",
   "execution_count": 6,
   "metadata": {},
   "outputs": [],
   "source": [
    "from bin_2 import Bin2Classifier as Classifier\n",
    "classifier = Classifier()"
   ]
  },
  {
   "cell_type": "markdown",
   "metadata": {},
   "source": [
    "-----"
   ]
  },
  {
   "cell_type": "markdown",
   "metadata": {},
   "source": [
    "### Results per Table:"
   ]
  },
  {
   "cell_type": "code",
   "execution_count": 7,
   "metadata": {},
   "outputs": [],
   "source": [
    "tables = [\"hockey\"]"
   ]
  },
  {
   "cell_type": "code",
   "execution_count": 8,
   "metadata": {},
   "outputs": [],
   "source": [
    "results = {}\n",
    "results_new = {}"
   ]
  },
  {
   "cell_type": "code",
   "execution_count": 9,
   "metadata": {},
   "outputs": [],
   "source": [
    "from occasion_classifier import shrink_orders_to_table"
   ]
  },
  {
   "cell_type": "code",
   "execution_count": 10,
   "metadata": {},
   "outputs": [
    {
     "name": "stdout",
     "output_type": "stream",
     "text": [
      "Running for hockey\n"
     ]
    }
   ],
   "source": [
    "for table in tables:\n",
    "    print(\"Running for\", table)\n",
    "    df_path = data_map[table]\n",
    "    df = pd.read_csv(df_path)\n",
    "    labeled_tables = labeled_tables_map\n",
    "    \n",
    "    results[table] = []\n",
    "    for order_id, true_ocassion in labeled_tables.items():\n",
    "        orders = df[df.order_id == order_id]\n",
    "        orders = shrink_orders_to_table(orders)\n",
    "        pred_occasion = classifier.classify(orders)\n",
    "        results[table].append((order_id, true_ocassion, pred_occasion))"
   ]
  },
  {
   "cell_type": "markdown",
   "metadata": {},
   "source": [
    "#### Show the results:"
   ]
  },
  {
   "cell_type": "code",
   "execution_count": 11,
   "metadata": {},
   "outputs": [],
   "source": [
    "columns = [\"order_id\", \"true_occasion\", \"pred_occasion\"]"
   ]
  },
  {
   "cell_type": "code",
   "execution_count": 12,
   "metadata": {},
   "outputs": [],
   "source": [
    "def color(data):\n",
    "    correct = data[\"true_occasion\"] == data[\"pred_occasion\"]\n",
    "    if correct:\n",
    "        color = \"#58f200\"\n",
    "    else:\n",
    "        color = \"#ee1300\"\n",
    "\n",
    "    return [\"background-color: %s\" % color] * len(data.values)"
   ]
  },
  {
   "cell_type": "code",
   "execution_count": 13,
   "metadata": {},
   "outputs": [
    {
     "data": {
      "text/html": [
       "<style  type=\"text/css\" >\n",
       "    #T_9dde50e8_e425_11e9_8568_784f436ae601row0_col0 {\n",
       "            background-color:  #ee1300;\n",
       "        }    #T_9dde50e8_e425_11e9_8568_784f436ae601row0_col1 {\n",
       "            background-color:  #ee1300;\n",
       "        }    #T_9dde50e8_e425_11e9_8568_784f436ae601row0_col2 {\n",
       "            background-color:  #ee1300;\n",
       "        }    #T_9dde50e8_e425_11e9_8568_784f436ae601row1_col0 {\n",
       "            background-color:  #58f200;\n",
       "        }    #T_9dde50e8_e425_11e9_8568_784f436ae601row1_col1 {\n",
       "            background-color:  #58f200;\n",
       "        }    #T_9dde50e8_e425_11e9_8568_784f436ae601row1_col2 {\n",
       "            background-color:  #58f200;\n",
       "        }    #T_9dde50e8_e425_11e9_8568_784f436ae601row2_col0 {\n",
       "            background-color:  #58f200;\n",
       "        }    #T_9dde50e8_e425_11e9_8568_784f436ae601row2_col1 {\n",
       "            background-color:  #58f200;\n",
       "        }    #T_9dde50e8_e425_11e9_8568_784f436ae601row2_col2 {\n",
       "            background-color:  #58f200;\n",
       "        }    #T_9dde50e8_e425_11e9_8568_784f436ae601row3_col0 {\n",
       "            background-color:  #ee1300;\n",
       "        }    #T_9dde50e8_e425_11e9_8568_784f436ae601row3_col1 {\n",
       "            background-color:  #ee1300;\n",
       "        }    #T_9dde50e8_e425_11e9_8568_784f436ae601row3_col2 {\n",
       "            background-color:  #ee1300;\n",
       "        }    #T_9dde50e8_e425_11e9_8568_784f436ae601row4_col0 {\n",
       "            background-color:  #ee1300;\n",
       "        }    #T_9dde50e8_e425_11e9_8568_784f436ae601row4_col1 {\n",
       "            background-color:  #ee1300;\n",
       "        }    #T_9dde50e8_e425_11e9_8568_784f436ae601row4_col2 {\n",
       "            background-color:  #ee1300;\n",
       "        }    #T_9dde50e8_e425_11e9_8568_784f436ae601row5_col0 {\n",
       "            background-color:  #ee1300;\n",
       "        }    #T_9dde50e8_e425_11e9_8568_784f436ae601row5_col1 {\n",
       "            background-color:  #ee1300;\n",
       "        }    #T_9dde50e8_e425_11e9_8568_784f436ae601row5_col2 {\n",
       "            background-color:  #ee1300;\n",
       "        }    #T_9dde50e8_e425_11e9_8568_784f436ae601row6_col0 {\n",
       "            background-color:  #ee1300;\n",
       "        }    #T_9dde50e8_e425_11e9_8568_784f436ae601row6_col1 {\n",
       "            background-color:  #ee1300;\n",
       "        }    #T_9dde50e8_e425_11e9_8568_784f436ae601row6_col2 {\n",
       "            background-color:  #ee1300;\n",
       "        }    #T_9dde50e8_e425_11e9_8568_784f436ae601row7_col0 {\n",
       "            background-color:  #ee1300;\n",
       "        }    #T_9dde50e8_e425_11e9_8568_784f436ae601row7_col1 {\n",
       "            background-color:  #ee1300;\n",
       "        }    #T_9dde50e8_e425_11e9_8568_784f436ae601row7_col2 {\n",
       "            background-color:  #ee1300;\n",
       "        }    #T_9dde50e8_e425_11e9_8568_784f436ae601row8_col0 {\n",
       "            background-color:  #ee1300;\n",
       "        }    #T_9dde50e8_e425_11e9_8568_784f436ae601row8_col1 {\n",
       "            background-color:  #ee1300;\n",
       "        }    #T_9dde50e8_e425_11e9_8568_784f436ae601row8_col2 {\n",
       "            background-color:  #ee1300;\n",
       "        }    #T_9dde50e8_e425_11e9_8568_784f436ae601row9_col0 {\n",
       "            background-color:  #ee1300;\n",
       "        }    #T_9dde50e8_e425_11e9_8568_784f436ae601row9_col1 {\n",
       "            background-color:  #ee1300;\n",
       "        }    #T_9dde50e8_e425_11e9_8568_784f436ae601row9_col2 {\n",
       "            background-color:  #ee1300;\n",
       "        }    #T_9dde50e8_e425_11e9_8568_784f436ae601row10_col0 {\n",
       "            background-color:  #ee1300;\n",
       "        }    #T_9dde50e8_e425_11e9_8568_784f436ae601row10_col1 {\n",
       "            background-color:  #ee1300;\n",
       "        }    #T_9dde50e8_e425_11e9_8568_784f436ae601row10_col2 {\n",
       "            background-color:  #ee1300;\n",
       "        }    #T_9dde50e8_e425_11e9_8568_784f436ae601row11_col0 {\n",
       "            background-color:  #ee1300;\n",
       "        }    #T_9dde50e8_e425_11e9_8568_784f436ae601row11_col1 {\n",
       "            background-color:  #ee1300;\n",
       "        }    #T_9dde50e8_e425_11e9_8568_784f436ae601row11_col2 {\n",
       "            background-color:  #ee1300;\n",
       "        }    #T_9dde50e8_e425_11e9_8568_784f436ae601row12_col0 {\n",
       "            background-color:  #ee1300;\n",
       "        }    #T_9dde50e8_e425_11e9_8568_784f436ae601row12_col1 {\n",
       "            background-color:  #ee1300;\n",
       "        }    #T_9dde50e8_e425_11e9_8568_784f436ae601row12_col2 {\n",
       "            background-color:  #ee1300;\n",
       "        }    #T_9dde50e8_e425_11e9_8568_784f436ae601row13_col0 {\n",
       "            background-color:  #ee1300;\n",
       "        }    #T_9dde50e8_e425_11e9_8568_784f436ae601row13_col1 {\n",
       "            background-color:  #ee1300;\n",
       "        }    #T_9dde50e8_e425_11e9_8568_784f436ae601row13_col2 {\n",
       "            background-color:  #ee1300;\n",
       "        }    #T_9dde50e8_e425_11e9_8568_784f436ae601row14_col0 {\n",
       "            background-color:  #ee1300;\n",
       "        }    #T_9dde50e8_e425_11e9_8568_784f436ae601row14_col1 {\n",
       "            background-color:  #ee1300;\n",
       "        }    #T_9dde50e8_e425_11e9_8568_784f436ae601row14_col2 {\n",
       "            background-color:  #ee1300;\n",
       "        }    #T_9dde50e8_e425_11e9_8568_784f436ae601row15_col0 {\n",
       "            background-color:  #ee1300;\n",
       "        }    #T_9dde50e8_e425_11e9_8568_784f436ae601row15_col1 {\n",
       "            background-color:  #ee1300;\n",
       "        }    #T_9dde50e8_e425_11e9_8568_784f436ae601row15_col2 {\n",
       "            background-color:  #ee1300;\n",
       "        }    #T_9dde50e8_e425_11e9_8568_784f436ae601row16_col0 {\n",
       "            background-color:  #ee1300;\n",
       "        }    #T_9dde50e8_e425_11e9_8568_784f436ae601row16_col1 {\n",
       "            background-color:  #ee1300;\n",
       "        }    #T_9dde50e8_e425_11e9_8568_784f436ae601row16_col2 {\n",
       "            background-color:  #ee1300;\n",
       "        }    #T_9dde50e8_e425_11e9_8568_784f436ae601row17_col0 {\n",
       "            background-color:  #ee1300;\n",
       "        }    #T_9dde50e8_e425_11e9_8568_784f436ae601row17_col1 {\n",
       "            background-color:  #ee1300;\n",
       "        }    #T_9dde50e8_e425_11e9_8568_784f436ae601row17_col2 {\n",
       "            background-color:  #ee1300;\n",
       "        }    #T_9dde50e8_e425_11e9_8568_784f436ae601row18_col0 {\n",
       "            background-color:  #ee1300;\n",
       "        }    #T_9dde50e8_e425_11e9_8568_784f436ae601row18_col1 {\n",
       "            background-color:  #ee1300;\n",
       "        }    #T_9dde50e8_e425_11e9_8568_784f436ae601row18_col2 {\n",
       "            background-color:  #ee1300;\n",
       "        }    #T_9dde50e8_e425_11e9_8568_784f436ae601row19_col0 {\n",
       "            background-color:  #ee1300;\n",
       "        }    #T_9dde50e8_e425_11e9_8568_784f436ae601row19_col1 {\n",
       "            background-color:  #ee1300;\n",
       "        }    #T_9dde50e8_e425_11e9_8568_784f436ae601row19_col2 {\n",
       "            background-color:  #ee1300;\n",
       "        }    #T_9dde50e8_e425_11e9_8568_784f436ae601row20_col0 {\n",
       "            background-color:  #ee1300;\n",
       "        }    #T_9dde50e8_e425_11e9_8568_784f436ae601row20_col1 {\n",
       "            background-color:  #ee1300;\n",
       "        }    #T_9dde50e8_e425_11e9_8568_784f436ae601row20_col2 {\n",
       "            background-color:  #ee1300;\n",
       "        }    #T_9dde50e8_e425_11e9_8568_784f436ae601row21_col0 {\n",
       "            background-color:  #ee1300;\n",
       "        }    #T_9dde50e8_e425_11e9_8568_784f436ae601row21_col1 {\n",
       "            background-color:  #ee1300;\n",
       "        }    #T_9dde50e8_e425_11e9_8568_784f436ae601row21_col2 {\n",
       "            background-color:  #ee1300;\n",
       "        }    #T_9dde50e8_e425_11e9_8568_784f436ae601row22_col0 {\n",
       "            background-color:  #ee1300;\n",
       "        }    #T_9dde50e8_e425_11e9_8568_784f436ae601row22_col1 {\n",
       "            background-color:  #ee1300;\n",
       "        }    #T_9dde50e8_e425_11e9_8568_784f436ae601row22_col2 {\n",
       "            background-color:  #ee1300;\n",
       "        }</style><table id=\"T_9dde50e8_e425_11e9_8568_784f436ae601\" ><thead>    <tr>        <th class=\"blank level0\" ></th>        <th class=\"col_heading level0 col0\" >order_id</th>        <th class=\"col_heading level0 col1\" >true_occasion</th>        <th class=\"col_heading level0 col2\" >pred_occasion</th>    </tr></thead><tbody>\n",
       "                <tr>\n",
       "                        <th id=\"T_9dde50e8_e425_11e9_8568_784f436ae601level0_row0\" class=\"row_heading level0 row0\" >1</th>\n",
       "                        <td id=\"T_9dde50e8_e425_11e9_8568_784f436ae601row0_col0\" class=\"data row0 col0\" >514471619</td>\n",
       "                        <td id=\"T_9dde50e8_e425_11e9_8568_784f436ae601row0_col1\" class=\"data row0 col1\" >LUNCH</td>\n",
       "                        <td id=\"T_9dde50e8_e425_11e9_8568_784f436ae601row0_col2\" class=\"data row0 col2\" >JUST_EATING</td>\n",
       "            </tr>\n",
       "            <tr>\n",
       "                        <th id=\"T_9dde50e8_e425_11e9_8568_784f436ae601level0_row1\" class=\"row_heading level0 row1\" >2</th>\n",
       "                        <td id=\"T_9dde50e8_e425_11e9_8568_784f436ae601row1_col0\" class=\"data row1 col0\" >516178269</td>\n",
       "                        <td id=\"T_9dde50e8_e425_11e9_8568_784f436ae601row1_col1\" class=\"data row1 col1\" >NOT_2</td>\n",
       "                        <td id=\"T_9dde50e8_e425_11e9_8568_784f436ae601row1_col2\" class=\"data row1 col2\" >NOT_2</td>\n",
       "            </tr>\n",
       "            <tr>\n",
       "                        <th id=\"T_9dde50e8_e425_11e9_8568_784f436ae601level0_row2\" class=\"row_heading level0 row2\" >3</th>\n",
       "                        <td id=\"T_9dde50e8_e425_11e9_8568_784f436ae601row2_col0\" class=\"data row2 col0\" >525068808</td>\n",
       "                        <td id=\"T_9dde50e8_e425_11e9_8568_784f436ae601row2_col1\" class=\"data row2 col1\" >DINNER</td>\n",
       "                        <td id=\"T_9dde50e8_e425_11e9_8568_784f436ae601row2_col2\" class=\"data row2 col2\" >DINNER</td>\n",
       "            </tr>\n",
       "            <tr>\n",
       "                        <th id=\"T_9dde50e8_e425_11e9_8568_784f436ae601level0_row3\" class=\"row_heading level0 row3\" >4</th>\n",
       "                        <td id=\"T_9dde50e8_e425_11e9_8568_784f436ae601row3_col0\" class=\"data row3 col0\" >520890111</td>\n",
       "                        <td id=\"T_9dde50e8_e425_11e9_8568_784f436ae601row3_col1\" class=\"data row3 col1\" >MALES_ONLY</td>\n",
       "                        <td id=\"T_9dde50e8_e425_11e9_8568_784f436ae601row3_col2\" class=\"data row3 col2\" >UNK</td>\n",
       "            </tr>\n",
       "            <tr>\n",
       "                        <th id=\"T_9dde50e8_e425_11e9_8568_784f436ae601level0_row4\" class=\"row_heading level0 row4\" >5</th>\n",
       "                        <td id=\"T_9dde50e8_e425_11e9_8568_784f436ae601row4_col0\" class=\"data row4 col0\" >520129596</td>\n",
       "                        <td id=\"T_9dde50e8_e425_11e9_8568_784f436ae601row4_col1\" class=\"data row4 col1\" >UNKNOWN</td>\n",
       "                        <td id=\"T_9dde50e8_e425_11e9_8568_784f436ae601row4_col2\" class=\"data row4 col2\" >DINNER</td>\n",
       "            </tr>\n",
       "            <tr>\n",
       "                        <th id=\"T_9dde50e8_e425_11e9_8568_784f436ae601level0_row5\" class=\"row_heading level0 row5\" >6</th>\n",
       "                        <td id=\"T_9dde50e8_e425_11e9_8568_784f436ae601row5_col0\" class=\"data row5 col0\" >520253543</td>\n",
       "                        <td id=\"T_9dde50e8_e425_11e9_8568_784f436ae601row5_col1\" class=\"data row5 col1\" >UNKNOWN</td>\n",
       "                        <td id=\"T_9dde50e8_e425_11e9_8568_784f436ae601row5_col2\" class=\"data row5 col2\" >DINNER</td>\n",
       "            </tr>\n",
       "            <tr>\n",
       "                        <th id=\"T_9dde50e8_e425_11e9_8568_784f436ae601level0_row6\" class=\"row_heading level0 row6\" >7</th>\n",
       "                        <td id=\"T_9dde50e8_e425_11e9_8568_784f436ae601row6_col0\" class=\"data row6 col0\" >520233357</td>\n",
       "                        <td id=\"T_9dde50e8_e425_11e9_8568_784f436ae601row6_col1\" class=\"data row6 col1\" >UNKNOWN</td>\n",
       "                        <td id=\"T_9dde50e8_e425_11e9_8568_784f436ae601row6_col2\" class=\"data row6 col2\" >ROMANTIC_DATE</td>\n",
       "            </tr>\n",
       "            <tr>\n",
       "                        <th id=\"T_9dde50e8_e425_11e9_8568_784f436ae601level0_row7\" class=\"row_heading level0 row7\" >8</th>\n",
       "                        <td id=\"T_9dde50e8_e425_11e9_8568_784f436ae601row7_col0\" class=\"data row7 col0\" >520016679</td>\n",
       "                        <td id=\"T_9dde50e8_e425_11e9_8568_784f436ae601row7_col1\" class=\"data row7 col1\" >UNKNOWN</td>\n",
       "                        <td id=\"T_9dde50e8_e425_11e9_8568_784f436ae601row7_col2\" class=\"data row7 col2\" >LUNCH</td>\n",
       "            </tr>\n",
       "            <tr>\n",
       "                        <th id=\"T_9dde50e8_e425_11e9_8568_784f436ae601level0_row8\" class=\"row_heading level0 row8\" >9</th>\n",
       "                        <td id=\"T_9dde50e8_e425_11e9_8568_784f436ae601row8_col0\" class=\"data row8 col0\" >512550244</td>\n",
       "                        <td id=\"T_9dde50e8_e425_11e9_8568_784f436ae601row8_col1\" class=\"data row8 col1\" >UNKNOWN</td>\n",
       "                        <td id=\"T_9dde50e8_e425_11e9_8568_784f436ae601row8_col2\" class=\"data row8 col2\" >LUNCH</td>\n",
       "            </tr>\n",
       "            <tr>\n",
       "                        <th id=\"T_9dde50e8_e425_11e9_8568_784f436ae601level0_row9\" class=\"row_heading level0 row9\" >10</th>\n",
       "                        <td id=\"T_9dde50e8_e425_11e9_8568_784f436ae601row9_col0\" class=\"data row9 col0\" >512676528</td>\n",
       "                        <td id=\"T_9dde50e8_e425_11e9_8568_784f436ae601row9_col1\" class=\"data row9 col1\" >UNKNOWN</td>\n",
       "                        <td id=\"T_9dde50e8_e425_11e9_8568_784f436ae601row9_col2\" class=\"data row9 col2\" >MALES_ONLY</td>\n",
       "            </tr>\n",
       "            <tr>\n",
       "                        <th id=\"T_9dde50e8_e425_11e9_8568_784f436ae601level0_row10\" class=\"row_heading level0 row10\" >11</th>\n",
       "                        <td id=\"T_9dde50e8_e425_11e9_8568_784f436ae601row10_col0\" class=\"data row10 col0\" >512855467</td>\n",
       "                        <td id=\"T_9dde50e8_e425_11e9_8568_784f436ae601row10_col1\" class=\"data row10 col1\" >UNKNOWN</td>\n",
       "                        <td id=\"T_9dde50e8_e425_11e9_8568_784f436ae601row10_col2\" class=\"data row10 col2\" >DINNER</td>\n",
       "            </tr>\n",
       "            <tr>\n",
       "                        <th id=\"T_9dde50e8_e425_11e9_8568_784f436ae601level0_row11\" class=\"row_heading level0 row11\" >12</th>\n",
       "                        <td id=\"T_9dde50e8_e425_11e9_8568_784f436ae601row11_col0\" class=\"data row11 col0\" >512806247</td>\n",
       "                        <td id=\"T_9dde50e8_e425_11e9_8568_784f436ae601row11_col1\" class=\"data row11 col1\" >UNKNOWN</td>\n",
       "                        <td id=\"T_9dde50e8_e425_11e9_8568_784f436ae601row11_col2\" class=\"data row11 col2\" >DINNER</td>\n",
       "            </tr>\n",
       "            <tr>\n",
       "                        <th id=\"T_9dde50e8_e425_11e9_8568_784f436ae601level0_row12\" class=\"row_heading level0 row12\" >13</th>\n",
       "                        <td id=\"T_9dde50e8_e425_11e9_8568_784f436ae601row12_col0\" class=\"data row12 col0\" >512690818</td>\n",
       "                        <td id=\"T_9dde50e8_e425_11e9_8568_784f436ae601row12_col1\" class=\"data row12 col1\" >UNKNOWN</td>\n",
       "                        <td id=\"T_9dde50e8_e425_11e9_8568_784f436ae601row12_col2\" class=\"data row12 col2\" >JUST_EATING</td>\n",
       "            </tr>\n",
       "            <tr>\n",
       "                        <th id=\"T_9dde50e8_e425_11e9_8568_784f436ae601level0_row13\" class=\"row_heading level0 row13\" >14</th>\n",
       "                        <td id=\"T_9dde50e8_e425_11e9_8568_784f436ae601row13_col0\" class=\"data row13 col0\" >512855370</td>\n",
       "                        <td id=\"T_9dde50e8_e425_11e9_8568_784f436ae601row13_col1\" class=\"data row13 col1\" >UNKNOWN</td>\n",
       "                        <td id=\"T_9dde50e8_e425_11e9_8568_784f436ae601row13_col2\" class=\"data row13 col2\" >UNK</td>\n",
       "            </tr>\n",
       "            <tr>\n",
       "                        <th id=\"T_9dde50e8_e425_11e9_8568_784f436ae601level0_row14\" class=\"row_heading level0 row14\" >15</th>\n",
       "                        <td id=\"T_9dde50e8_e425_11e9_8568_784f436ae601row14_col0\" class=\"data row14 col0\" >512806230</td>\n",
       "                        <td id=\"T_9dde50e8_e425_11e9_8568_784f436ae601row14_col1\" class=\"data row14 col1\" >UNKNOWN</td>\n",
       "                        <td id=\"T_9dde50e8_e425_11e9_8568_784f436ae601row14_col2\" class=\"data row14 col2\" >DINNER</td>\n",
       "            </tr>\n",
       "            <tr>\n",
       "                        <th id=\"T_9dde50e8_e425_11e9_8568_784f436ae601level0_row15\" class=\"row_heading level0 row15\" >16</th>\n",
       "                        <td id=\"T_9dde50e8_e425_11e9_8568_784f436ae601row15_col0\" class=\"data row15 col0\" >512719331</td>\n",
       "                        <td id=\"T_9dde50e8_e425_11e9_8568_784f436ae601row15_col1\" class=\"data row15 col1\" >UNKNOWN</td>\n",
       "                        <td id=\"T_9dde50e8_e425_11e9_8568_784f436ae601row15_col2\" class=\"data row15 col2\" >DINNER</td>\n",
       "            </tr>\n",
       "            <tr>\n",
       "                        <th id=\"T_9dde50e8_e425_11e9_8568_784f436ae601level0_row16\" class=\"row_heading level0 row16\" >17</th>\n",
       "                        <td id=\"T_9dde50e8_e425_11e9_8568_784f436ae601row16_col0\" class=\"data row16 col0\" >512690809</td>\n",
       "                        <td id=\"T_9dde50e8_e425_11e9_8568_784f436ae601row16_col1\" class=\"data row16 col1\" >UNKNOWN</td>\n",
       "                        <td id=\"T_9dde50e8_e425_11e9_8568_784f436ae601row16_col2\" class=\"data row16 col2\" >JUST_EATING</td>\n",
       "            </tr>\n",
       "            <tr>\n",
       "                        <th id=\"T_9dde50e8_e425_11e9_8568_784f436ae601level0_row17\" class=\"row_heading level0 row17\" >18</th>\n",
       "                        <td id=\"T_9dde50e8_e425_11e9_8568_784f436ae601row17_col0\" class=\"data row17 col0\" >512561521</td>\n",
       "                        <td id=\"T_9dde50e8_e425_11e9_8568_784f436ae601row17_col1\" class=\"data row17 col1\" >UNKNOWN</td>\n",
       "                        <td id=\"T_9dde50e8_e425_11e9_8568_784f436ae601row17_col2\" class=\"data row17 col2\" >LUNCH</td>\n",
       "            </tr>\n",
       "            <tr>\n",
       "                        <th id=\"T_9dde50e8_e425_11e9_8568_784f436ae601level0_row18\" class=\"row_heading level0 row18\" >19</th>\n",
       "                        <td id=\"T_9dde50e8_e425_11e9_8568_784f436ae601row18_col0\" class=\"data row18 col0\" >512742361</td>\n",
       "                        <td id=\"T_9dde50e8_e425_11e9_8568_784f436ae601row18_col1\" class=\"data row18 col1\" >UNKNOWN</td>\n",
       "                        <td id=\"T_9dde50e8_e425_11e9_8568_784f436ae601row18_col2\" class=\"data row18 col2\" >MALES_ONLY</td>\n",
       "            </tr>\n",
       "            <tr>\n",
       "                        <th id=\"T_9dde50e8_e425_11e9_8568_784f436ae601level0_row19\" class=\"row_heading level0 row19\" >20</th>\n",
       "                        <td id=\"T_9dde50e8_e425_11e9_8568_784f436ae601row19_col0\" class=\"data row19 col0\" >512806255</td>\n",
       "                        <td id=\"T_9dde50e8_e425_11e9_8568_784f436ae601row19_col1\" class=\"data row19 col1\" >UNKNOWN</td>\n",
       "                        <td id=\"T_9dde50e8_e425_11e9_8568_784f436ae601row19_col2\" class=\"data row19 col2\" >DRINKING</td>\n",
       "            </tr>\n",
       "            <tr>\n",
       "                        <th id=\"T_9dde50e8_e425_11e9_8568_784f436ae601level0_row20\" class=\"row_heading level0 row20\" >21</th>\n",
       "                        <td id=\"T_9dde50e8_e425_11e9_8568_784f436ae601row20_col0\" class=\"data row20 col0\" >512855375</td>\n",
       "                        <td id=\"T_9dde50e8_e425_11e9_8568_784f436ae601row20_col1\" class=\"data row20 col1\" >UNKNOWN</td>\n",
       "                        <td id=\"T_9dde50e8_e425_11e9_8568_784f436ae601row20_col2\" class=\"data row20 col2\" >JUST_EATING</td>\n",
       "            </tr>\n",
       "            <tr>\n",
       "                        <th id=\"T_9dde50e8_e425_11e9_8568_784f436ae601level0_row21\" class=\"row_heading level0 row21\" >22</th>\n",
       "                        <td id=\"T_9dde50e8_e425_11e9_8568_784f436ae601row21_col0\" class=\"data row21 col0\" >517827457</td>\n",
       "                        <td id=\"T_9dde50e8_e425_11e9_8568_784f436ae601row21_col1\" class=\"data row21 col1\" >UNKNOWN</td>\n",
       "                        <td id=\"T_9dde50e8_e425_11e9_8568_784f436ae601row21_col2\" class=\"data row21 col2\" >DINNER</td>\n",
       "            </tr>\n",
       "            <tr>\n",
       "                        <th id=\"T_9dde50e8_e425_11e9_8568_784f436ae601level0_row22\" class=\"row_heading level0 row22\" >23</th>\n",
       "                        <td id=\"T_9dde50e8_e425_11e9_8568_784f436ae601row22_col0\" class=\"data row22 col0\" >517649320</td>\n",
       "                        <td id=\"T_9dde50e8_e425_11e9_8568_784f436ae601row22_col1\" class=\"data row22 col1\" >UNKNOWN</td>\n",
       "                        <td id=\"T_9dde50e8_e425_11e9_8568_784f436ae601row22_col2\" class=\"data row22 col2\" >DINNER</td>\n",
       "            </tr>\n",
       "    </tbody></table>"
      ],
      "text/plain": [
       "<pandas.io.formats.style.Styler at 0x10f64e940>"
      ]
     },
     "execution_count": 13,
     "metadata": {},
     "output_type": "execute_result"
    }
   ],
   "source": [
    "table = \"hockey\"\n",
    "\n",
    "df = pd.DataFrame(results[table], columns=columns)\n",
    "df.index += 1\n",
    "df.style.apply(color, axis=1)\n",
    "# df.to_csv(str(table) + \"_3to5_test_results.csv\", index=False)"
   ]
  }
 ],
 "metadata": {
  "kernelspec": {
   "display_name": "Python 3",
   "language": "python",
   "name": "python3"
  },
  "language_info": {
   "codemirror_mode": {
    "name": "ipython",
    "version": 3
   },
   "file_extension": ".py",
   "mimetype": "text/x-python",
   "name": "python",
   "nbconvert_exporter": "python",
   "pygments_lexer": "ipython3",
   "version": "3.6.8"
  }
 },
 "nbformat": 4,
 "nbformat_minor": 2
}
