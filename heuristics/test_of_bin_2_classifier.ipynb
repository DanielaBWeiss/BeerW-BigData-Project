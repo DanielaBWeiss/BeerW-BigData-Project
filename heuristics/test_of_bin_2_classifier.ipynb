{
 "cells": [
  {
   "cell_type": "markdown",
   "metadata": {},
   "source": [
    "# Measure The 2  Bin Heuristics Accuracy"
   ]
  },
  {
   "cell_type": "markdown",
   "metadata": {},
   "source": [
    "As a refresher, these are our occasions for the 3-5 bin:"
   ]
  },
  {
   "cell_type": "code",
   "execution_count": 38,
   "metadata": {},
   "outputs": [],
   "source": [
    "import numpy as np\n",
    "import pandas as pd\n",
    "import matplotlib.pyplot as plt\n",
    "import seaborn as sns\n",
    "%matplotlib inline\n",
    "from random import shuffle"
   ]
  },
  {
   "cell_type": "code",
   "execution_count": 39,
   "metadata": {},
   "outputs": [],
   "source": [
    "labels = [\n",
    "    \"FAMILY-EVENT\",\n",
    "    \"DRINKING\",\n",
    "    \"BREAKFAST\",\n",
    "    \"LUNCH\",\n",
    "    \"DINNER\",\n",
    "    \"SOCIAL-GATHERING\",\n",
    "    \"AFTER-WORK\",\n",
    "    \"MALES_ONLY\"\n",
    "]\n",
    "UNK = \"UNKNOWN\""
   ]
  },
  {
   "cell_type": "code",
   "execution_count": 40,
   "metadata": {},
   "outputs": [],
   "source": [
    "data_map = {\n",
    "    \"hockey\": \"../data/hockey_3_text_processed.csv\",\n",
    "    \"valentine\": \"../data/valentine_3_text_processed.csv\",\n",
    "    \"silvester\": \"../data/silvester_3_text_processed.csv\"\n",
    "}"
   ]
  },
  {
   "cell_type": "markdown",
   "metadata": {},
   "source": [
    "The following are taken from the *annotations/occasions_annotations_bin3to5* notebook."
   ]
  },
  {
   "cell_type": "code",
   "execution_count": 41,
   "metadata": {},
   "outputs": [],
   "source": [
    "\n",
    "labeled_tables_map = {\n",
    "        # no alcohol\n",
    "        514471619: \"LUNCH\",\n",
    "        516178269: \"NOT_2\",\n",
    "        525068808: \"DINNER\",\n",
    "        520890111: \"MALES_ONLY\",\n",
    "        520129596: UNK,\n",
    "        520253543: UNK,\n",
    "        520233357: UNK,\n",
    "        520016679: UNK,\n",
    "        512550244: UNK,\n",
    "        512676528: UNK,\n",
    "        512855467: UNK, \n",
    "        512806247: UNK,\n",
    "        512690818: UNK,\n",
    "        512855370: UNK,\n",
    "        512806230: UNK,\n",
    "        512719331: UNK,\n",
    "        512690809: UNK, \n",
    "        512561521: UNK,\n",
    "        512742361: UNK,\n",
    "        512806255: UNK,\n",
    "        512855375: UNK,\n",
    "        517827457: UNK,\n",
    "        517649320: UNK\n",
    "    }\n"
   ]
  },
  {
   "cell_type": "markdown",
   "metadata": {},
   "source": [
    "------"
   ]
  },
  {
   "cell_type": "code",
   "execution_count": 42,
   "metadata": {},
   "outputs": [],
   "source": [
    "import pandas as pd"
   ]
  },
  {
   "cell_type": "markdown",
   "metadata": {},
   "source": [
    "Import the classifier function `6Plus Classifier`:"
   ]
  },
  {
   "cell_type": "code",
   "execution_count": 43,
   "metadata": {},
   "outputs": [],
   "source": [
    "from bin_2 import Bin2Classifier as Classifier\n",
    "classifier = Classifier()"
   ]
  },
  {
   "cell_type": "markdown",
   "metadata": {},
   "source": [
    "-----"
   ]
  },
  {
   "cell_type": "markdown",
   "metadata": {},
   "source": [
    "### Results per Table:"
   ]
  },
  {
   "cell_type": "code",
   "execution_count": 44,
   "metadata": {},
   "outputs": [],
   "source": [
    "tables = [\"hockey\"]"
   ]
  },
  {
   "cell_type": "code",
   "execution_count": 45,
   "metadata": {},
   "outputs": [],
   "source": [
    "results = {}\n",
    "results_new = {}"
   ]
  },
  {
   "cell_type": "code",
   "execution_count": 46,
   "metadata": {},
   "outputs": [],
   "source": [
    "from occasion_classifier import shrink_orders_to_table"
   ]
  },
  {
   "cell_type": "code",
   "execution_count": 47,
   "metadata": {},
   "outputs": [
    {
     "name": "stdout",
     "output_type": "stream",
     "text": [
      "Running for hockey\n"
     ]
    },
    {
     "ename": "KeyError",
     "evalue": "'total_meal_steps'",
     "output_type": "error",
     "traceback": [
      "\u001b[0;31m---------------------------------------------------------------------------\u001b[0m",
      "\u001b[0;31mKeyError\u001b[0m                                  Traceback (most recent call last)",
      "\u001b[0;32m~/anaconda3/lib/python3.7/site-packages/pandas/core/indexes/base.py\u001b[0m in \u001b[0;36mget_loc\u001b[0;34m(self, key, method, tolerance)\u001b[0m\n\u001b[1;32m   3077\u001b[0m             \u001b[0;32mtry\u001b[0m\u001b[0;34m:\u001b[0m\u001b[0;34m\u001b[0m\u001b[0;34m\u001b[0m\u001b[0m\n\u001b[0;32m-> 3078\u001b[0;31m                 \u001b[0;32mreturn\u001b[0m \u001b[0mself\u001b[0m\u001b[0;34m.\u001b[0m\u001b[0m_engine\u001b[0m\u001b[0;34m.\u001b[0m\u001b[0mget_loc\u001b[0m\u001b[0;34m(\u001b[0m\u001b[0mkey\u001b[0m\u001b[0;34m)\u001b[0m\u001b[0;34m\u001b[0m\u001b[0;34m\u001b[0m\u001b[0m\n\u001b[0m\u001b[1;32m   3079\u001b[0m             \u001b[0;32mexcept\u001b[0m \u001b[0mKeyError\u001b[0m\u001b[0;34m:\u001b[0m\u001b[0;34m\u001b[0m\u001b[0;34m\u001b[0m\u001b[0m\n",
      "\u001b[0;32mpandas/_libs/index.pyx\u001b[0m in \u001b[0;36mpandas._libs.index.IndexEngine.get_loc\u001b[0;34m()\u001b[0m\n",
      "\u001b[0;32mpandas/_libs/index.pyx\u001b[0m in \u001b[0;36mpandas._libs.index.IndexEngine.get_loc\u001b[0;34m()\u001b[0m\n",
      "\u001b[0;32mpandas/_libs/hashtable_class_helper.pxi\u001b[0m in \u001b[0;36mpandas._libs.hashtable.PyObjectHashTable.get_item\u001b[0;34m()\u001b[0m\n",
      "\u001b[0;32mpandas/_libs/hashtable_class_helper.pxi\u001b[0m in \u001b[0;36mpandas._libs.hashtable.PyObjectHashTable.get_item\u001b[0;34m()\u001b[0m\n",
      "\u001b[0;31mKeyError\u001b[0m: 'total_meal_steps'",
      "\nDuring handling of the above exception, another exception occurred:\n",
      "\u001b[0;31mKeyError\u001b[0m                                  Traceback (most recent call last)",
      "\u001b[0;32m<ipython-input-47-82b7012a8ff5>\u001b[0m in \u001b[0;36m<module>\u001b[0;34m\u001b[0m\n\u001b[1;32m      8\u001b[0m     \u001b[0;32mfor\u001b[0m \u001b[0morder_id\u001b[0m\u001b[0;34m,\u001b[0m \u001b[0mtrue_ocassion\u001b[0m \u001b[0;32min\u001b[0m \u001b[0mlabeled_tables\u001b[0m\u001b[0;34m.\u001b[0m\u001b[0mitems\u001b[0m\u001b[0;34m(\u001b[0m\u001b[0;34m)\u001b[0m\u001b[0;34m:\u001b[0m\u001b[0;34m\u001b[0m\u001b[0;34m\u001b[0m\u001b[0m\n\u001b[1;32m      9\u001b[0m         \u001b[0morders\u001b[0m \u001b[0;34m=\u001b[0m \u001b[0mdf\u001b[0m\u001b[0;34m[\u001b[0m\u001b[0mdf\u001b[0m\u001b[0;34m.\u001b[0m\u001b[0morder_id\u001b[0m \u001b[0;34m==\u001b[0m \u001b[0morder_id\u001b[0m\u001b[0;34m]\u001b[0m\u001b[0;34m\u001b[0m\u001b[0;34m\u001b[0m\u001b[0m\n\u001b[0;32m---> 10\u001b[0;31m         \u001b[0morders\u001b[0m \u001b[0;34m=\u001b[0m \u001b[0mshrink_orders_to_table\u001b[0m\u001b[0;34m(\u001b[0m\u001b[0morders\u001b[0m\u001b[0;34m)\u001b[0m\u001b[0;34m\u001b[0m\u001b[0;34m\u001b[0m\u001b[0m\n\u001b[0m\u001b[1;32m     11\u001b[0m         \u001b[0mpred_occasion\u001b[0m \u001b[0;34m=\u001b[0m \u001b[0mclassifier\u001b[0m\u001b[0;34m.\u001b[0m\u001b[0mclassify\u001b[0m\u001b[0;34m(\u001b[0m\u001b[0morders\u001b[0m\u001b[0;34m)\u001b[0m\u001b[0;34m\u001b[0m\u001b[0;34m\u001b[0m\u001b[0m\n\u001b[1;32m     12\u001b[0m         \u001b[0mresults\u001b[0m\u001b[0;34m[\u001b[0m\u001b[0mtable\u001b[0m\u001b[0;34m]\u001b[0m\u001b[0;34m.\u001b[0m\u001b[0mappend\u001b[0m\u001b[0;34m(\u001b[0m\u001b[0;34m(\u001b[0m\u001b[0morder_id\u001b[0m\u001b[0;34m,\u001b[0m \u001b[0mtrue_ocassion\u001b[0m\u001b[0;34m,\u001b[0m \u001b[0mpred_occasion\u001b[0m\u001b[0;34m)\u001b[0m\u001b[0;34m)\u001b[0m\u001b[0;34m\u001b[0m\u001b[0;34m\u001b[0m\u001b[0m\n",
      "\u001b[0;32m~/PycharmProjects/BeerW-BigData-Project/heuristics/occasion_classifier.py\u001b[0m in \u001b[0;36mshrink_orders_to_table\u001b[0;34m(data)\u001b[0m\n\u001b[1;32m     65\u001b[0m         \u001b[0;34m\"total_flow_steps\"\u001b[0m\u001b[0;34m:\u001b[0m \u001b[0;34m\"min\"\u001b[0m\u001b[0;34m,\u001b[0m\u001b[0;34m\u001b[0m\u001b[0;34m\u001b[0m\u001b[0m\n\u001b[1;32m     66\u001b[0m         \u001b[0;34m\"total_sales_before_tax\"\u001b[0m\u001b[0;34m:\u001b[0m \u001b[0;34m\"min\"\u001b[0m\u001b[0;34m,\u001b[0m\u001b[0;34m\u001b[0m\u001b[0;34m\u001b[0m\u001b[0m\n\u001b[0;32m---> 67\u001b[0;31m         \u001b[0;34m\"total_sales_inc_tax\"\u001b[0m\u001b[0;34m:\u001b[0m \u001b[0;34m\"min\"\u001b[0m\u001b[0;34m\u001b[0m\u001b[0;34m\u001b[0m\u001b[0m\n\u001b[0m\u001b[1;32m     68\u001b[0m     })\n\u001b[1;32m     69\u001b[0m \u001b[0;34m\u001b[0m\u001b[0m\n",
      "\u001b[0;32m~/anaconda3/lib/python3.7/site-packages/pandas/core/groupby/groupby.py\u001b[0m in \u001b[0;36maggregate\u001b[0;34m(self, arg, *args, **kwargs)\u001b[0m\n\u001b[1;32m   4654\u001b[0m         axis=''))\n\u001b[1;32m   4655\u001b[0m     \u001b[0;32mdef\u001b[0m \u001b[0maggregate\u001b[0m\u001b[0;34m(\u001b[0m\u001b[0mself\u001b[0m\u001b[0;34m,\u001b[0m \u001b[0marg\u001b[0m\u001b[0;34m,\u001b[0m \u001b[0;34m*\u001b[0m\u001b[0margs\u001b[0m\u001b[0;34m,\u001b[0m \u001b[0;34m**\u001b[0m\u001b[0mkwargs\u001b[0m\u001b[0;34m)\u001b[0m\u001b[0;34m:\u001b[0m\u001b[0;34m\u001b[0m\u001b[0;34m\u001b[0m\u001b[0m\n\u001b[0;32m-> 4656\u001b[0;31m         \u001b[0;32mreturn\u001b[0m \u001b[0msuper\u001b[0m\u001b[0;34m(\u001b[0m\u001b[0mDataFrameGroupBy\u001b[0m\u001b[0;34m,\u001b[0m \u001b[0mself\u001b[0m\u001b[0;34m)\u001b[0m\u001b[0;34m.\u001b[0m\u001b[0maggregate\u001b[0m\u001b[0;34m(\u001b[0m\u001b[0marg\u001b[0m\u001b[0;34m,\u001b[0m \u001b[0;34m*\u001b[0m\u001b[0margs\u001b[0m\u001b[0;34m,\u001b[0m \u001b[0;34m**\u001b[0m\u001b[0mkwargs\u001b[0m\u001b[0;34m)\u001b[0m\u001b[0;34m\u001b[0m\u001b[0;34m\u001b[0m\u001b[0m\n\u001b[0m\u001b[1;32m   4657\u001b[0m \u001b[0;34m\u001b[0m\u001b[0m\n\u001b[1;32m   4658\u001b[0m     \u001b[0magg\u001b[0m \u001b[0;34m=\u001b[0m \u001b[0maggregate\u001b[0m\u001b[0;34m\u001b[0m\u001b[0;34m\u001b[0m\u001b[0m\n",
      "\u001b[0;32m~/anaconda3/lib/python3.7/site-packages/pandas/core/groupby/groupby.py\u001b[0m in \u001b[0;36maggregate\u001b[0;34m(self, arg, *args, **kwargs)\u001b[0m\n\u001b[1;32m   4085\u001b[0m \u001b[0;34m\u001b[0m\u001b[0m\n\u001b[1;32m   4086\u001b[0m         \u001b[0m_level\u001b[0m \u001b[0;34m=\u001b[0m \u001b[0mkwargs\u001b[0m\u001b[0;34m.\u001b[0m\u001b[0mpop\u001b[0m\u001b[0;34m(\u001b[0m\u001b[0;34m'_level'\u001b[0m\u001b[0;34m,\u001b[0m \u001b[0;32mNone\u001b[0m\u001b[0;34m)\u001b[0m\u001b[0;34m\u001b[0m\u001b[0;34m\u001b[0m\u001b[0m\n\u001b[0;32m-> 4087\u001b[0;31m         \u001b[0mresult\u001b[0m\u001b[0;34m,\u001b[0m \u001b[0mhow\u001b[0m \u001b[0;34m=\u001b[0m \u001b[0mself\u001b[0m\u001b[0;34m.\u001b[0m\u001b[0m_aggregate\u001b[0m\u001b[0;34m(\u001b[0m\u001b[0marg\u001b[0m\u001b[0;34m,\u001b[0m \u001b[0m_level\u001b[0m\u001b[0;34m=\u001b[0m\u001b[0m_level\u001b[0m\u001b[0;34m,\u001b[0m \u001b[0;34m*\u001b[0m\u001b[0margs\u001b[0m\u001b[0;34m,\u001b[0m \u001b[0;34m**\u001b[0m\u001b[0mkwargs\u001b[0m\u001b[0;34m)\u001b[0m\u001b[0;34m\u001b[0m\u001b[0;34m\u001b[0m\u001b[0m\n\u001b[0m\u001b[1;32m   4088\u001b[0m         \u001b[0;32mif\u001b[0m \u001b[0mhow\u001b[0m \u001b[0;32mis\u001b[0m \u001b[0;32mNone\u001b[0m\u001b[0;34m:\u001b[0m\u001b[0;34m\u001b[0m\u001b[0;34m\u001b[0m\u001b[0m\n\u001b[1;32m   4089\u001b[0m             \u001b[0;32mreturn\u001b[0m \u001b[0mresult\u001b[0m\u001b[0;34m\u001b[0m\u001b[0;34m\u001b[0m\u001b[0m\n",
      "\u001b[0;32m~/anaconda3/lib/python3.7/site-packages/pandas/core/base.py\u001b[0m in \u001b[0;36m_aggregate\u001b[0;34m(self, arg, *args, **kwargs)\u001b[0m\n\u001b[1;32m    488\u001b[0m \u001b[0;34m\u001b[0m\u001b[0m\n\u001b[1;32m    489\u001b[0m                 \u001b[0;32mtry\u001b[0m\u001b[0;34m:\u001b[0m\u001b[0;34m\u001b[0m\u001b[0;34m\u001b[0m\u001b[0m\n\u001b[0;32m--> 490\u001b[0;31m                     \u001b[0mresult\u001b[0m \u001b[0;34m=\u001b[0m \u001b[0m_agg\u001b[0m\u001b[0;34m(\u001b[0m\u001b[0marg\u001b[0m\u001b[0;34m,\u001b[0m \u001b[0m_agg_1dim\u001b[0m\u001b[0;34m)\u001b[0m\u001b[0;34m\u001b[0m\u001b[0;34m\u001b[0m\u001b[0m\n\u001b[0m\u001b[1;32m    491\u001b[0m                 \u001b[0;32mexcept\u001b[0m \u001b[0mSpecificationError\u001b[0m\u001b[0;34m:\u001b[0m\u001b[0;34m\u001b[0m\u001b[0;34m\u001b[0m\u001b[0m\n\u001b[1;32m    492\u001b[0m \u001b[0;34m\u001b[0m\u001b[0m\n",
      "\u001b[0;32m~/anaconda3/lib/python3.7/site-packages/pandas/core/base.py\u001b[0m in \u001b[0;36m_agg\u001b[0;34m(arg, func)\u001b[0m\n\u001b[1;32m    439\u001b[0m                 \u001b[0mresult\u001b[0m \u001b[0;34m=\u001b[0m \u001b[0mcompat\u001b[0m\u001b[0;34m.\u001b[0m\u001b[0mOrderedDict\u001b[0m\u001b[0;34m(\u001b[0m\u001b[0;34m)\u001b[0m\u001b[0;34m\u001b[0m\u001b[0;34m\u001b[0m\u001b[0m\n\u001b[1;32m    440\u001b[0m                 \u001b[0;32mfor\u001b[0m \u001b[0mfname\u001b[0m\u001b[0;34m,\u001b[0m \u001b[0magg_how\u001b[0m \u001b[0;32min\u001b[0m \u001b[0mcompat\u001b[0m\u001b[0;34m.\u001b[0m\u001b[0miteritems\u001b[0m\u001b[0;34m(\u001b[0m\u001b[0marg\u001b[0m\u001b[0;34m)\u001b[0m\u001b[0;34m:\u001b[0m\u001b[0;34m\u001b[0m\u001b[0;34m\u001b[0m\u001b[0m\n\u001b[0;32m--> 441\u001b[0;31m                     \u001b[0mresult\u001b[0m\u001b[0;34m[\u001b[0m\u001b[0mfname\u001b[0m\u001b[0;34m]\u001b[0m \u001b[0;34m=\u001b[0m \u001b[0mfunc\u001b[0m\u001b[0;34m(\u001b[0m\u001b[0mfname\u001b[0m\u001b[0;34m,\u001b[0m \u001b[0magg_how\u001b[0m\u001b[0;34m)\u001b[0m\u001b[0;34m\u001b[0m\u001b[0;34m\u001b[0m\u001b[0m\n\u001b[0m\u001b[1;32m    442\u001b[0m                 \u001b[0;32mreturn\u001b[0m \u001b[0mresult\u001b[0m\u001b[0;34m\u001b[0m\u001b[0;34m\u001b[0m\u001b[0m\n\u001b[1;32m    443\u001b[0m \u001b[0;34m\u001b[0m\u001b[0m\n",
      "\u001b[0;32m~/anaconda3/lib/python3.7/site-packages/pandas/core/base.py\u001b[0m in \u001b[0;36m_agg_1dim\u001b[0;34m(name, how, subset)\u001b[0m\n\u001b[1;32m    418\u001b[0m                 \u001b[0maggregate\u001b[0m \u001b[0ma\u001b[0m \u001b[0;36m1\u001b[0m\u001b[0;34m-\u001b[0m\u001b[0mdim\u001b[0m \u001b[0;32mwith\u001b[0m \u001b[0mhow\u001b[0m\u001b[0;34m\u001b[0m\u001b[0;34m\u001b[0m\u001b[0m\n\u001b[1;32m    419\u001b[0m                 \"\"\"\n\u001b[0;32m--> 420\u001b[0;31m                 \u001b[0mcolg\u001b[0m \u001b[0;34m=\u001b[0m \u001b[0mself\u001b[0m\u001b[0;34m.\u001b[0m\u001b[0m_gotitem\u001b[0m\u001b[0;34m(\u001b[0m\u001b[0mname\u001b[0m\u001b[0;34m,\u001b[0m \u001b[0mndim\u001b[0m\u001b[0;34m=\u001b[0m\u001b[0;36m1\u001b[0m\u001b[0;34m,\u001b[0m \u001b[0msubset\u001b[0m\u001b[0;34m=\u001b[0m\u001b[0msubset\u001b[0m\u001b[0;34m)\u001b[0m\u001b[0;34m\u001b[0m\u001b[0;34m\u001b[0m\u001b[0m\n\u001b[0m\u001b[1;32m    421\u001b[0m                 \u001b[0;32mif\u001b[0m \u001b[0mcolg\u001b[0m\u001b[0;34m.\u001b[0m\u001b[0mndim\u001b[0m \u001b[0;34m!=\u001b[0m \u001b[0;36m1\u001b[0m\u001b[0;34m:\u001b[0m\u001b[0;34m\u001b[0m\u001b[0;34m\u001b[0m\u001b[0m\n\u001b[1;32m    422\u001b[0m                     raise SpecificationError(\"nested dictionary is ambiguous \"\n",
      "\u001b[0;32m~/anaconda3/lib/python3.7/site-packages/pandas/core/groupby/groupby.py\u001b[0m in \u001b[0;36m_gotitem\u001b[0;34m(self, key, ndim, subset)\u001b[0m\n\u001b[1;32m   4681\u001b[0m         \u001b[0;32melif\u001b[0m \u001b[0mndim\u001b[0m \u001b[0;34m==\u001b[0m \u001b[0;36m1\u001b[0m\u001b[0;34m:\u001b[0m\u001b[0;34m\u001b[0m\u001b[0;34m\u001b[0m\u001b[0m\n\u001b[1;32m   4682\u001b[0m             \u001b[0;32mif\u001b[0m \u001b[0msubset\u001b[0m \u001b[0;32mis\u001b[0m \u001b[0;32mNone\u001b[0m\u001b[0;34m:\u001b[0m\u001b[0;34m\u001b[0m\u001b[0;34m\u001b[0m\u001b[0m\n\u001b[0;32m-> 4683\u001b[0;31m                 \u001b[0msubset\u001b[0m \u001b[0;34m=\u001b[0m \u001b[0mself\u001b[0m\u001b[0;34m.\u001b[0m\u001b[0mobj\u001b[0m\u001b[0;34m[\u001b[0m\u001b[0mkey\u001b[0m\u001b[0;34m]\u001b[0m\u001b[0;34m\u001b[0m\u001b[0;34m\u001b[0m\u001b[0m\n\u001b[0m\u001b[1;32m   4684\u001b[0m             return SeriesGroupBy(subset, selection=key,\n\u001b[1;32m   4685\u001b[0m                                  grouper=self.grouper)\n",
      "\u001b[0;32m~/anaconda3/lib/python3.7/site-packages/pandas/core/frame.py\u001b[0m in \u001b[0;36m__getitem__\u001b[0;34m(self, key)\u001b[0m\n\u001b[1;32m   2686\u001b[0m             \u001b[0;32mreturn\u001b[0m \u001b[0mself\u001b[0m\u001b[0;34m.\u001b[0m\u001b[0m_getitem_multilevel\u001b[0m\u001b[0;34m(\u001b[0m\u001b[0mkey\u001b[0m\u001b[0;34m)\u001b[0m\u001b[0;34m\u001b[0m\u001b[0;34m\u001b[0m\u001b[0m\n\u001b[1;32m   2687\u001b[0m         \u001b[0;32melse\u001b[0m\u001b[0;34m:\u001b[0m\u001b[0;34m\u001b[0m\u001b[0;34m\u001b[0m\u001b[0m\n\u001b[0;32m-> 2688\u001b[0;31m             \u001b[0;32mreturn\u001b[0m \u001b[0mself\u001b[0m\u001b[0;34m.\u001b[0m\u001b[0m_getitem_column\u001b[0m\u001b[0;34m(\u001b[0m\u001b[0mkey\u001b[0m\u001b[0;34m)\u001b[0m\u001b[0;34m\u001b[0m\u001b[0;34m\u001b[0m\u001b[0m\n\u001b[0m\u001b[1;32m   2689\u001b[0m \u001b[0;34m\u001b[0m\u001b[0m\n\u001b[1;32m   2690\u001b[0m     \u001b[0;32mdef\u001b[0m \u001b[0m_getitem_column\u001b[0m\u001b[0;34m(\u001b[0m\u001b[0mself\u001b[0m\u001b[0;34m,\u001b[0m \u001b[0mkey\u001b[0m\u001b[0;34m)\u001b[0m\u001b[0;34m:\u001b[0m\u001b[0;34m\u001b[0m\u001b[0;34m\u001b[0m\u001b[0m\n",
      "\u001b[0;32m~/anaconda3/lib/python3.7/site-packages/pandas/core/frame.py\u001b[0m in \u001b[0;36m_getitem_column\u001b[0;34m(self, key)\u001b[0m\n\u001b[1;32m   2693\u001b[0m         \u001b[0;31m# get column\u001b[0m\u001b[0;34m\u001b[0m\u001b[0;34m\u001b[0m\u001b[0;34m\u001b[0m\u001b[0m\n\u001b[1;32m   2694\u001b[0m         \u001b[0;32mif\u001b[0m \u001b[0mself\u001b[0m\u001b[0;34m.\u001b[0m\u001b[0mcolumns\u001b[0m\u001b[0;34m.\u001b[0m\u001b[0mis_unique\u001b[0m\u001b[0;34m:\u001b[0m\u001b[0;34m\u001b[0m\u001b[0;34m\u001b[0m\u001b[0m\n\u001b[0;32m-> 2695\u001b[0;31m             \u001b[0;32mreturn\u001b[0m \u001b[0mself\u001b[0m\u001b[0;34m.\u001b[0m\u001b[0m_get_item_cache\u001b[0m\u001b[0;34m(\u001b[0m\u001b[0mkey\u001b[0m\u001b[0;34m)\u001b[0m\u001b[0;34m\u001b[0m\u001b[0;34m\u001b[0m\u001b[0m\n\u001b[0m\u001b[1;32m   2696\u001b[0m \u001b[0;34m\u001b[0m\u001b[0m\n\u001b[1;32m   2697\u001b[0m         \u001b[0;31m# duplicate columns & possible reduce dimensionality\u001b[0m\u001b[0;34m\u001b[0m\u001b[0;34m\u001b[0m\u001b[0;34m\u001b[0m\u001b[0m\n",
      "\u001b[0;32m~/anaconda3/lib/python3.7/site-packages/pandas/core/generic.py\u001b[0m in \u001b[0;36m_get_item_cache\u001b[0;34m(self, item)\u001b[0m\n\u001b[1;32m   2487\u001b[0m         \u001b[0mres\u001b[0m \u001b[0;34m=\u001b[0m \u001b[0mcache\u001b[0m\u001b[0;34m.\u001b[0m\u001b[0mget\u001b[0m\u001b[0;34m(\u001b[0m\u001b[0mitem\u001b[0m\u001b[0;34m)\u001b[0m\u001b[0;34m\u001b[0m\u001b[0;34m\u001b[0m\u001b[0m\n\u001b[1;32m   2488\u001b[0m         \u001b[0;32mif\u001b[0m \u001b[0mres\u001b[0m \u001b[0;32mis\u001b[0m \u001b[0;32mNone\u001b[0m\u001b[0;34m:\u001b[0m\u001b[0;34m\u001b[0m\u001b[0;34m\u001b[0m\u001b[0m\n\u001b[0;32m-> 2489\u001b[0;31m             \u001b[0mvalues\u001b[0m \u001b[0;34m=\u001b[0m \u001b[0mself\u001b[0m\u001b[0;34m.\u001b[0m\u001b[0m_data\u001b[0m\u001b[0;34m.\u001b[0m\u001b[0mget\u001b[0m\u001b[0;34m(\u001b[0m\u001b[0mitem\u001b[0m\u001b[0;34m)\u001b[0m\u001b[0;34m\u001b[0m\u001b[0;34m\u001b[0m\u001b[0m\n\u001b[0m\u001b[1;32m   2490\u001b[0m             \u001b[0mres\u001b[0m \u001b[0;34m=\u001b[0m \u001b[0mself\u001b[0m\u001b[0;34m.\u001b[0m\u001b[0m_box_item_values\u001b[0m\u001b[0;34m(\u001b[0m\u001b[0mitem\u001b[0m\u001b[0;34m,\u001b[0m \u001b[0mvalues\u001b[0m\u001b[0;34m)\u001b[0m\u001b[0;34m\u001b[0m\u001b[0;34m\u001b[0m\u001b[0m\n\u001b[1;32m   2491\u001b[0m             \u001b[0mcache\u001b[0m\u001b[0;34m[\u001b[0m\u001b[0mitem\u001b[0m\u001b[0;34m]\u001b[0m \u001b[0;34m=\u001b[0m \u001b[0mres\u001b[0m\u001b[0;34m\u001b[0m\u001b[0;34m\u001b[0m\u001b[0m\n",
      "\u001b[0;32m~/anaconda3/lib/python3.7/site-packages/pandas/core/internals.py\u001b[0m in \u001b[0;36mget\u001b[0;34m(self, item, fastpath)\u001b[0m\n\u001b[1;32m   4113\u001b[0m \u001b[0;34m\u001b[0m\u001b[0m\n\u001b[1;32m   4114\u001b[0m             \u001b[0;32mif\u001b[0m \u001b[0;32mnot\u001b[0m \u001b[0misna\u001b[0m\u001b[0;34m(\u001b[0m\u001b[0mitem\u001b[0m\u001b[0;34m)\u001b[0m\u001b[0;34m:\u001b[0m\u001b[0;34m\u001b[0m\u001b[0;34m\u001b[0m\u001b[0m\n\u001b[0;32m-> 4115\u001b[0;31m                 \u001b[0mloc\u001b[0m \u001b[0;34m=\u001b[0m \u001b[0mself\u001b[0m\u001b[0;34m.\u001b[0m\u001b[0mitems\u001b[0m\u001b[0;34m.\u001b[0m\u001b[0mget_loc\u001b[0m\u001b[0;34m(\u001b[0m\u001b[0mitem\u001b[0m\u001b[0;34m)\u001b[0m\u001b[0;34m\u001b[0m\u001b[0;34m\u001b[0m\u001b[0m\n\u001b[0m\u001b[1;32m   4116\u001b[0m             \u001b[0;32melse\u001b[0m\u001b[0;34m:\u001b[0m\u001b[0;34m\u001b[0m\u001b[0;34m\u001b[0m\u001b[0m\n\u001b[1;32m   4117\u001b[0m                 \u001b[0mindexer\u001b[0m \u001b[0;34m=\u001b[0m \u001b[0mnp\u001b[0m\u001b[0;34m.\u001b[0m\u001b[0marange\u001b[0m\u001b[0;34m(\u001b[0m\u001b[0mlen\u001b[0m\u001b[0;34m(\u001b[0m\u001b[0mself\u001b[0m\u001b[0;34m.\u001b[0m\u001b[0mitems\u001b[0m\u001b[0;34m)\u001b[0m\u001b[0;34m)\u001b[0m\u001b[0;34m[\u001b[0m\u001b[0misna\u001b[0m\u001b[0;34m(\u001b[0m\u001b[0mself\u001b[0m\u001b[0;34m.\u001b[0m\u001b[0mitems\u001b[0m\u001b[0;34m)\u001b[0m\u001b[0;34m]\u001b[0m\u001b[0;34m\u001b[0m\u001b[0;34m\u001b[0m\u001b[0m\n",
      "\u001b[0;32m~/anaconda3/lib/python3.7/site-packages/pandas/core/indexes/base.py\u001b[0m in \u001b[0;36mget_loc\u001b[0;34m(self, key, method, tolerance)\u001b[0m\n\u001b[1;32m   3078\u001b[0m                 \u001b[0;32mreturn\u001b[0m \u001b[0mself\u001b[0m\u001b[0;34m.\u001b[0m\u001b[0m_engine\u001b[0m\u001b[0;34m.\u001b[0m\u001b[0mget_loc\u001b[0m\u001b[0;34m(\u001b[0m\u001b[0mkey\u001b[0m\u001b[0;34m)\u001b[0m\u001b[0;34m\u001b[0m\u001b[0;34m\u001b[0m\u001b[0m\n\u001b[1;32m   3079\u001b[0m             \u001b[0;32mexcept\u001b[0m \u001b[0mKeyError\u001b[0m\u001b[0;34m:\u001b[0m\u001b[0;34m\u001b[0m\u001b[0;34m\u001b[0m\u001b[0m\n\u001b[0;32m-> 3080\u001b[0;31m                 \u001b[0;32mreturn\u001b[0m \u001b[0mself\u001b[0m\u001b[0;34m.\u001b[0m\u001b[0m_engine\u001b[0m\u001b[0;34m.\u001b[0m\u001b[0mget_loc\u001b[0m\u001b[0;34m(\u001b[0m\u001b[0mself\u001b[0m\u001b[0;34m.\u001b[0m\u001b[0m_maybe_cast_indexer\u001b[0m\u001b[0;34m(\u001b[0m\u001b[0mkey\u001b[0m\u001b[0;34m)\u001b[0m\u001b[0;34m)\u001b[0m\u001b[0;34m\u001b[0m\u001b[0;34m\u001b[0m\u001b[0m\n\u001b[0m\u001b[1;32m   3081\u001b[0m \u001b[0;34m\u001b[0m\u001b[0m\n\u001b[1;32m   3082\u001b[0m         \u001b[0mindexer\u001b[0m \u001b[0;34m=\u001b[0m \u001b[0mself\u001b[0m\u001b[0;34m.\u001b[0m\u001b[0mget_indexer\u001b[0m\u001b[0;34m(\u001b[0m\u001b[0;34m[\u001b[0m\u001b[0mkey\u001b[0m\u001b[0;34m]\u001b[0m\u001b[0;34m,\u001b[0m \u001b[0mmethod\u001b[0m\u001b[0;34m=\u001b[0m\u001b[0mmethod\u001b[0m\u001b[0;34m,\u001b[0m \u001b[0mtolerance\u001b[0m\u001b[0;34m=\u001b[0m\u001b[0mtolerance\u001b[0m\u001b[0;34m)\u001b[0m\u001b[0;34m\u001b[0m\u001b[0;34m\u001b[0m\u001b[0m\n",
      "\u001b[0;32mpandas/_libs/index.pyx\u001b[0m in \u001b[0;36mpandas._libs.index.IndexEngine.get_loc\u001b[0;34m()\u001b[0m\n",
      "\u001b[0;32mpandas/_libs/index.pyx\u001b[0m in \u001b[0;36mpandas._libs.index.IndexEngine.get_loc\u001b[0;34m()\u001b[0m\n",
      "\u001b[0;32mpandas/_libs/hashtable_class_helper.pxi\u001b[0m in \u001b[0;36mpandas._libs.hashtable.PyObjectHashTable.get_item\u001b[0;34m()\u001b[0m\n",
      "\u001b[0;32mpandas/_libs/hashtable_class_helper.pxi\u001b[0m in \u001b[0;36mpandas._libs.hashtable.PyObjectHashTable.get_item\u001b[0;34m()\u001b[0m\n",
      "\u001b[0;31mKeyError\u001b[0m: 'total_meal_steps'"
     ]
    }
   ],
   "source": [
    "for table in tables:\n",
    "    print(\"Running for\", table)\n",
    "    df_path = data_map[table]\n",
    "    df = pd.read_csv(df_path)\n",
    "    labeled_tables = labeled_tables_map\n",
    "    \n",
    "    results[table] = []\n",
    "    for order_id, true_ocassion in labeled_tables.items():\n",
    "        orders = df[df.order_id == order_id]\n",
    "        orders = shrink_orders_to_table(orders)\n",
    "        pred_occasion = classifier.classify(orders)\n",
    "        results[table].append((order_id, true_ocassion, pred_occasion))"
   ]
  },
  {
   "cell_type": "markdown",
   "metadata": {},
   "source": [
    "#### Show the results:"
   ]
  },
  {
   "cell_type": "code",
   "execution_count": 9,
   "metadata": {},
   "outputs": [],
   "source": [
    "columns = [\"order_id\", \"true_occasion\", \"pred_occasion\"]"
   ]
  },
  {
   "cell_type": "code",
   "execution_count": 10,
   "metadata": {},
   "outputs": [],
   "source": [
    "def color(data):\n",
    "    correct = data[\"true_occasion\"] == data[\"pred_occasion\"]\n",
    "    if correct:\n",
    "        color = \"#58f200\"\n",
    "    else:\n",
    "        color = \"#ee1300\"\n",
    "\n",
    "    return [\"background-color: %s\" % color] * len(data.values)"
   ]
  },
  {
   "cell_type": "code",
   "execution_count": 11,
   "metadata": {},
   "outputs": [
    {
     "data": {
      "text/html": [
       "<style  type=\"text/css\" >\n",
       "    #T_0b071c88_e221_11e9_9f99_f218983644ffrow0_col0 {\n",
       "            background-color:  #58f200;\n",
       "        }    #T_0b071c88_e221_11e9_9f99_f218983644ffrow0_col1 {\n",
       "            background-color:  #58f200;\n",
       "        }    #T_0b071c88_e221_11e9_9f99_f218983644ffrow0_col2 {\n",
       "            background-color:  #58f200;\n",
       "        }    #T_0b071c88_e221_11e9_9f99_f218983644ffrow1_col0 {\n",
       "            background-color:  #ee1300;\n",
       "        }    #T_0b071c88_e221_11e9_9f99_f218983644ffrow1_col1 {\n",
       "            background-color:  #ee1300;\n",
       "        }    #T_0b071c88_e221_11e9_9f99_f218983644ffrow1_col2 {\n",
       "            background-color:  #ee1300;\n",
       "        }    #T_0b071c88_e221_11e9_9f99_f218983644ffrow2_col0 {\n",
       "            background-color:  #58f200;\n",
       "        }    #T_0b071c88_e221_11e9_9f99_f218983644ffrow2_col1 {\n",
       "            background-color:  #58f200;\n",
       "        }    #T_0b071c88_e221_11e9_9f99_f218983644ffrow2_col2 {\n",
       "            background-color:  #58f200;\n",
       "        }    #T_0b071c88_e221_11e9_9f99_f218983644ffrow3_col0 {\n",
       "            background-color:  #58f200;\n",
       "        }    #T_0b071c88_e221_11e9_9f99_f218983644ffrow3_col1 {\n",
       "            background-color:  #58f200;\n",
       "        }    #T_0b071c88_e221_11e9_9f99_f218983644ffrow3_col2 {\n",
       "            background-color:  #58f200;\n",
       "        }    #T_0b071c88_e221_11e9_9f99_f218983644ffrow4_col0 {\n",
       "            background-color:  #58f200;\n",
       "        }    #T_0b071c88_e221_11e9_9f99_f218983644ffrow4_col1 {\n",
       "            background-color:  #58f200;\n",
       "        }    #T_0b071c88_e221_11e9_9f99_f218983644ffrow4_col2 {\n",
       "            background-color:  #58f200;\n",
       "        }    #T_0b071c88_e221_11e9_9f99_f218983644ffrow5_col0 {\n",
       "            background-color:  #58f200;\n",
       "        }    #T_0b071c88_e221_11e9_9f99_f218983644ffrow5_col1 {\n",
       "            background-color:  #58f200;\n",
       "        }    #T_0b071c88_e221_11e9_9f99_f218983644ffrow5_col2 {\n",
       "            background-color:  #58f200;\n",
       "        }    #T_0b071c88_e221_11e9_9f99_f218983644ffrow6_col0 {\n",
       "            background-color:  #ee1300;\n",
       "        }    #T_0b071c88_e221_11e9_9f99_f218983644ffrow6_col1 {\n",
       "            background-color:  #ee1300;\n",
       "        }    #T_0b071c88_e221_11e9_9f99_f218983644ffrow6_col2 {\n",
       "            background-color:  #ee1300;\n",
       "        }    #T_0b071c88_e221_11e9_9f99_f218983644ffrow7_col0 {\n",
       "            background-color:  #58f200;\n",
       "        }    #T_0b071c88_e221_11e9_9f99_f218983644ffrow7_col1 {\n",
       "            background-color:  #58f200;\n",
       "        }    #T_0b071c88_e221_11e9_9f99_f218983644ffrow7_col2 {\n",
       "            background-color:  #58f200;\n",
       "        }</style>  \n",
       "<table id=\"T_0b071c88_e221_11e9_9f99_f218983644ff\" > \n",
       "<thead>    <tr> \n",
       "        <th class=\"blank level0\" ></th> \n",
       "        <th class=\"col_heading level0 col0\" >order_id</th> \n",
       "        <th class=\"col_heading level0 col1\" >true_occasion</th> \n",
       "        <th class=\"col_heading level0 col2\" >pred_occasion</th> \n",
       "    </tr></thead> \n",
       "<tbody>    <tr> \n",
       "        <th id=\"T_0b071c88_e221_11e9_9f99_f218983644fflevel0_row0\" class=\"row_heading level0 row0\" >1</th> \n",
       "        <td id=\"T_0b071c88_e221_11e9_9f99_f218983644ffrow0_col0\" class=\"data row0 col0\" >514594544</td> \n",
       "        <td id=\"T_0b071c88_e221_11e9_9f99_f218983644ffrow0_col1\" class=\"data row0 col1\" >DINNER</td> \n",
       "        <td id=\"T_0b071c88_e221_11e9_9f99_f218983644ffrow0_col2\" class=\"data row0 col2\" >DINNER</td> \n",
       "    </tr>    <tr> \n",
       "        <th id=\"T_0b071c88_e221_11e9_9f99_f218983644fflevel0_row1\" class=\"row_heading level0 row1\" >2</th> \n",
       "        <td id=\"T_0b071c88_e221_11e9_9f99_f218983644ffrow1_col0\" class=\"data row1 col0\" >520144566</td> \n",
       "        <td id=\"T_0b071c88_e221_11e9_9f99_f218983644ffrow1_col1\" class=\"data row1 col1\" >DINNER_PARTY</td> \n",
       "        <td id=\"T_0b071c88_e221_11e9_9f99_f218983644ffrow1_col2\" class=\"data row1 col2\" >UNKNOWN</td> \n",
       "    </tr>    <tr> \n",
       "        <th id=\"T_0b071c88_e221_11e9_9f99_f218983644fflevel0_row2\" class=\"row_heading level0 row2\" >3</th> \n",
       "        <td id=\"T_0b071c88_e221_11e9_9f99_f218983644ffrow2_col0\" class=\"data row2 col0\" >512856753</td> \n",
       "        <td id=\"T_0b071c88_e221_11e9_9f99_f218983644ffrow2_col1\" class=\"data row2 col1\" >UNKNOWN</td> \n",
       "        <td id=\"T_0b071c88_e221_11e9_9f99_f218983644ffrow2_col2\" class=\"data row2 col2\" >UNKNOWN</td> \n",
       "    </tr>    <tr> \n",
       "        <th id=\"T_0b071c88_e221_11e9_9f99_f218983644fflevel0_row3\" class=\"row_heading level0 row3\" >4</th> \n",
       "        <td id=\"T_0b071c88_e221_11e9_9f99_f218983644ffrow3_col0\" class=\"data row3 col0\" >523552965</td> \n",
       "        <td id=\"T_0b071c88_e221_11e9_9f99_f218983644ffrow3_col1\" class=\"data row3 col1\" >DINNER</td> \n",
       "        <td id=\"T_0b071c88_e221_11e9_9f99_f218983644ffrow3_col2\" class=\"data row3 col2\" >DINNER</td> \n",
       "    </tr>    <tr> \n",
       "        <th id=\"T_0b071c88_e221_11e9_9f99_f218983644fflevel0_row4\" class=\"row_heading level0 row4\" >5</th> \n",
       "        <td id=\"T_0b071c88_e221_11e9_9f99_f218983644ffrow4_col0\" class=\"data row4 col0\" >522777307</td> \n",
       "        <td id=\"T_0b071c88_e221_11e9_9f99_f218983644ffrow4_col1\" class=\"data row4 col1\" >DRINKING</td> \n",
       "        <td id=\"T_0b071c88_e221_11e9_9f99_f218983644ffrow4_col2\" class=\"data row4 col2\" >DRINKING</td> \n",
       "    </tr>    <tr> \n",
       "        <th id=\"T_0b071c88_e221_11e9_9f99_f218983644fflevel0_row5\" class=\"row_heading level0 row5\" >6</th> \n",
       "        <td id=\"T_0b071c88_e221_11e9_9f99_f218983644ffrow5_col0\" class=\"data row5 col0\" >520932269</td> \n",
       "        <td id=\"T_0b071c88_e221_11e9_9f99_f218983644ffrow5_col1\" class=\"data row5 col1\" >DINNER</td> \n",
       "        <td id=\"T_0b071c88_e221_11e9_9f99_f218983644ffrow5_col2\" class=\"data row5 col2\" >DINNER</td> \n",
       "    </tr>    <tr> \n",
       "        <th id=\"T_0b071c88_e221_11e9_9f99_f218983644fflevel0_row6\" class=\"row_heading level0 row6\" >7</th> \n",
       "        <td id=\"T_0b071c88_e221_11e9_9f99_f218983644ffrow6_col0\" class=\"data row6 col0\" >520961529</td> \n",
       "        <td id=\"T_0b071c88_e221_11e9_9f99_f218983644ffrow6_col1\" class=\"data row6 col1\" >FAMILY_EVENT</td> \n",
       "        <td id=\"T_0b071c88_e221_11e9_9f99_f218983644ffrow6_col2\" class=\"data row6 col2\" >DINNER</td> \n",
       "    </tr>    <tr> \n",
       "        <th id=\"T_0b071c88_e221_11e9_9f99_f218983644fflevel0_row7\" class=\"row_heading level0 row7\" >8</th> \n",
       "        <td id=\"T_0b071c88_e221_11e9_9f99_f218983644ffrow7_col0\" class=\"data row7 col0\" >522822209</td> \n",
       "        <td id=\"T_0b071c88_e221_11e9_9f99_f218983644ffrow7_col1\" class=\"data row7 col1\" >DRINKING</td> \n",
       "        <td id=\"T_0b071c88_e221_11e9_9f99_f218983644ffrow7_col2\" class=\"data row7 col2\" >DRINKING</td> \n",
       "    </tr></tbody> \n",
       "</table> "
      ],
      "text/plain": [
       "<pandas.io.formats.style.Styler at 0x12a8d9940>"
      ]
     },
     "execution_count": 11,
     "metadata": {},
     "output_type": "execute_result"
    }
   ],
   "source": [
    "table = \"hockey\"\n",
    "\n",
    "df = pd.DataFrame(results[table], columns=columns)\n",
    "df.index += 1\n",
    "df.style.apply(color, axis=1)\n",
    "# df.to_csv(str(table) + \"_3to5_test_results.csv\", index=False)"
   ]
  },
  {
   "cell_type": "code",
   "execution_count": 12,
   "metadata": {},
   "outputs": [
    {
     "data": {
      "text/html": [
       "<style  type=\"text/css\" >\n",
       "    #T_0b095dfe_e221_11e9_9f99_f218983644ffrow0_col0 {\n",
       "            background-color:  #ee1300;\n",
       "        }    #T_0b095dfe_e221_11e9_9f99_f218983644ffrow0_col1 {\n",
       "            background-color:  #ee1300;\n",
       "        }    #T_0b095dfe_e221_11e9_9f99_f218983644ffrow0_col2 {\n",
       "            background-color:  #ee1300;\n",
       "        }    #T_0b095dfe_e221_11e9_9f99_f218983644ffrow1_col0 {\n",
       "            background-color:  #58f200;\n",
       "        }    #T_0b095dfe_e221_11e9_9f99_f218983644ffrow1_col1 {\n",
       "            background-color:  #58f200;\n",
       "        }    #T_0b095dfe_e221_11e9_9f99_f218983644ffrow1_col2 {\n",
       "            background-color:  #58f200;\n",
       "        }    #T_0b095dfe_e221_11e9_9f99_f218983644ffrow2_col0 {\n",
       "            background-color:  #58f200;\n",
       "        }    #T_0b095dfe_e221_11e9_9f99_f218983644ffrow2_col1 {\n",
       "            background-color:  #58f200;\n",
       "        }    #T_0b095dfe_e221_11e9_9f99_f218983644ffrow2_col2 {\n",
       "            background-color:  #58f200;\n",
       "        }    #T_0b095dfe_e221_11e9_9f99_f218983644ffrow3_col0 {\n",
       "            background-color:  #58f200;\n",
       "        }    #T_0b095dfe_e221_11e9_9f99_f218983644ffrow3_col1 {\n",
       "            background-color:  #58f200;\n",
       "        }    #T_0b095dfe_e221_11e9_9f99_f218983644ffrow3_col2 {\n",
       "            background-color:  #58f200;\n",
       "        }</style>  \n",
       "<table id=\"T_0b095dfe_e221_11e9_9f99_f218983644ff\" > \n",
       "<thead>    <tr> \n",
       "        <th class=\"blank level0\" ></th> \n",
       "        <th class=\"col_heading level0 col0\" >order_id</th> \n",
       "        <th class=\"col_heading level0 col1\" >true_occasion</th> \n",
       "        <th class=\"col_heading level0 col2\" >pred_occasion</th> \n",
       "    </tr></thead> \n",
       "<tbody>    <tr> \n",
       "        <th id=\"T_0b095dfe_e221_11e9_9f99_f218983644fflevel0_row0\" class=\"row_heading level0 row0\" >1</th> \n",
       "        <td id=\"T_0b095dfe_e221_11e9_9f99_f218983644ffrow0_col0\" class=\"data row0 col0\" >434693771</td> \n",
       "        <td id=\"T_0b095dfe_e221_11e9_9f99_f218983644ffrow0_col1\" class=\"data row0 col1\" >FAMILY_EVENT</td> \n",
       "        <td id=\"T_0b095dfe_e221_11e9_9f99_f218983644ffrow0_col2\" class=\"data row0 col2\" >DINNER</td> \n",
       "    </tr>    <tr> \n",
       "        <th id=\"T_0b095dfe_e221_11e9_9f99_f218983644fflevel0_row1\" class=\"row_heading level0 row1\" >2</th> \n",
       "        <td id=\"T_0b095dfe_e221_11e9_9f99_f218983644ffrow1_col0\" class=\"data row1 col0\" >446750517</td> \n",
       "        <td id=\"T_0b095dfe_e221_11e9_9f99_f218983644ffrow1_col1\" class=\"data row1 col1\" >UNKNOWN</td> \n",
       "        <td id=\"T_0b095dfe_e221_11e9_9f99_f218983644ffrow1_col2\" class=\"data row1 col2\" >UNKNOWN</td> \n",
       "    </tr>    <tr> \n",
       "        <th id=\"T_0b095dfe_e221_11e9_9f99_f218983644fflevel0_row2\" class=\"row_heading level0 row2\" >3</th> \n",
       "        <td id=\"T_0b095dfe_e221_11e9_9f99_f218983644ffrow2_col0\" class=\"data row2 col0\" >447075894</td> \n",
       "        <td id=\"T_0b095dfe_e221_11e9_9f99_f218983644ffrow2_col1\" class=\"data row2 col1\" >DINNER</td> \n",
       "        <td id=\"T_0b095dfe_e221_11e9_9f99_f218983644ffrow2_col2\" class=\"data row2 col2\" >DINNER</td> \n",
       "    </tr>    <tr> \n",
       "        <th id=\"T_0b095dfe_e221_11e9_9f99_f218983644fflevel0_row3\" class=\"row_heading level0 row3\" >4</th> \n",
       "        <td id=\"T_0b095dfe_e221_11e9_9f99_f218983644ffrow3_col0\" class=\"data row3 col0\" >447589967</td> \n",
       "        <td id=\"T_0b095dfe_e221_11e9_9f99_f218983644ffrow3_col1\" class=\"data row3 col1\" >DINNER</td> \n",
       "        <td id=\"T_0b095dfe_e221_11e9_9f99_f218983644ffrow3_col2\" class=\"data row3 col2\" >DINNER</td> \n",
       "    </tr></tbody> \n",
       "</table> "
      ],
      "text/plain": [
       "<pandas.io.formats.style.Styler at 0x1287c1cc0>"
      ]
     },
     "execution_count": 12,
     "metadata": {},
     "output_type": "execute_result"
    }
   ],
   "source": [
    "table = \"valentine\"\n",
    "\n",
    "df = pd.DataFrame(results[table], columns=columns)\n",
    "df.index += 1\n",
    "df.style.apply(color, axis=1)\n",
    "# df.to_csv(str(table) + \"_3to5_test_results.csv\", index=False)"
   ]
  },
  {
   "cell_type": "code",
   "execution_count": 13,
   "metadata": {},
   "outputs": [
    {
     "data": {
      "text/html": [
       "<style  type=\"text/css\" >\n",
       "    #T_0b0bc904_e221_11e9_9f99_f218983644ffrow0_col0 {\n",
       "            background-color:  #58f200;\n",
       "        }    #T_0b0bc904_e221_11e9_9f99_f218983644ffrow0_col1 {\n",
       "            background-color:  #58f200;\n",
       "        }    #T_0b0bc904_e221_11e9_9f99_f218983644ffrow0_col2 {\n",
       "            background-color:  #58f200;\n",
       "        }    #T_0b0bc904_e221_11e9_9f99_f218983644ffrow1_col0 {\n",
       "            background-color:  #ee1300;\n",
       "        }    #T_0b0bc904_e221_11e9_9f99_f218983644ffrow1_col1 {\n",
       "            background-color:  #ee1300;\n",
       "        }    #T_0b0bc904_e221_11e9_9f99_f218983644ffrow1_col2 {\n",
       "            background-color:  #ee1300;\n",
       "        }    #T_0b0bc904_e221_11e9_9f99_f218983644ffrow2_col0 {\n",
       "            background-color:  #58f200;\n",
       "        }    #T_0b0bc904_e221_11e9_9f99_f218983644ffrow2_col1 {\n",
       "            background-color:  #58f200;\n",
       "        }    #T_0b0bc904_e221_11e9_9f99_f218983644ffrow2_col2 {\n",
       "            background-color:  #58f200;\n",
       "        }    #T_0b0bc904_e221_11e9_9f99_f218983644ffrow3_col0 {\n",
       "            background-color:  #ee1300;\n",
       "        }    #T_0b0bc904_e221_11e9_9f99_f218983644ffrow3_col1 {\n",
       "            background-color:  #ee1300;\n",
       "        }    #T_0b0bc904_e221_11e9_9f99_f218983644ffrow3_col2 {\n",
       "            background-color:  #ee1300;\n",
       "        }</style>  \n",
       "<table id=\"T_0b0bc904_e221_11e9_9f99_f218983644ff\" > \n",
       "<thead>    <tr> \n",
       "        <th class=\"blank level0\" ></th> \n",
       "        <th class=\"col_heading level0 col0\" >order_id</th> \n",
       "        <th class=\"col_heading level0 col1\" >true_occasion</th> \n",
       "        <th class=\"col_heading level0 col2\" >pred_occasion</th> \n",
       "    </tr></thead> \n",
       "<tbody>    <tr> \n",
       "        <th id=\"T_0b0bc904_e221_11e9_9f99_f218983644fflevel0_row0\" class=\"row_heading level0 row0\" >1</th> \n",
       "        <td id=\"T_0b0bc904_e221_11e9_9f99_f218983644ffrow0_col0\" class=\"data row0 col0\" >361348245</td> \n",
       "        <td id=\"T_0b0bc904_e221_11e9_9f99_f218983644ffrow0_col1\" class=\"data row0 col1\" >DINNER</td> \n",
       "        <td id=\"T_0b0bc904_e221_11e9_9f99_f218983644ffrow0_col2\" class=\"data row0 col2\" >DINNER</td> \n",
       "    </tr>    <tr> \n",
       "        <th id=\"T_0b0bc904_e221_11e9_9f99_f218983644fflevel0_row1\" class=\"row_heading level0 row1\" >2</th> \n",
       "        <td id=\"T_0b0bc904_e221_11e9_9f99_f218983644ffrow1_col0\" class=\"data row1 col0\" >360970732</td> \n",
       "        <td id=\"T_0b0bc904_e221_11e9_9f99_f218983644ffrow1_col1\" class=\"data row1 col1\" >FAMILY_EVENT</td> \n",
       "        <td id=\"T_0b0bc904_e221_11e9_9f99_f218983644ffrow1_col2\" class=\"data row1 col2\" >DINNER</td> \n",
       "    </tr>    <tr> \n",
       "        <th id=\"T_0b0bc904_e221_11e9_9f99_f218983644fflevel0_row2\" class=\"row_heading level0 row2\" >3</th> \n",
       "        <td id=\"T_0b0bc904_e221_11e9_9f99_f218983644ffrow2_col0\" class=\"data row2 col0\" >360903046</td> \n",
       "        <td id=\"T_0b0bc904_e221_11e9_9f99_f218983644ffrow2_col1\" class=\"data row2 col1\" >DINNER</td> \n",
       "        <td id=\"T_0b0bc904_e221_11e9_9f99_f218983644ffrow2_col2\" class=\"data row2 col2\" >DINNER</td> \n",
       "    </tr>    <tr> \n",
       "        <th id=\"T_0b0bc904_e221_11e9_9f99_f218983644fflevel0_row3\" class=\"row_heading level0 row3\" >4</th> \n",
       "        <td id=\"T_0b0bc904_e221_11e9_9f99_f218983644ffrow3_col0\" class=\"data row3 col0\" >363236528</td> \n",
       "        <td id=\"T_0b0bc904_e221_11e9_9f99_f218983644ffrow3_col1\" class=\"data row3 col1\" >FAMILY_EVENT</td> \n",
       "        <td id=\"T_0b0bc904_e221_11e9_9f99_f218983644ffrow3_col2\" class=\"data row3 col2\" >LUNCH</td> \n",
       "    </tr></tbody> \n",
       "</table> "
      ],
      "text/plain": [
       "<pandas.io.formats.style.Styler at 0x127619320>"
      ]
     },
     "execution_count": 13,
     "metadata": {},
     "output_type": "execute_result"
    }
   ],
   "source": [
    "table = \"silvester\"\n",
    "\n",
    "df = pd.DataFrame(results[table], columns=columns)\n",
    "df.index += 1\n",
    "df.style.apply(color, axis=1)\n",
    "# df.to_csv(str(table) + \"_3to5_test_results.csv\", index=False)"
   ]
  },
  {
   "cell_type": "code",
   "execution_count": null,
   "metadata": {},
   "outputs": [],
   "source": []
  }
 ],
 "metadata": {
  "kernelspec": {
   "display_name": "Python 3",
   "language": "python",
   "name": "python3"
  },
  "language_info": {
   "codemirror_mode": {
    "name": "ipython",
    "version": 3
   },
   "file_extension": ".py",
   "mimetype": "text/x-python",
   "name": "python",
   "nbconvert_exporter": "python",
   "pygments_lexer": "ipython3",
   "version": "3.7.1"
  }
 },
 "nbformat": 4,
 "nbformat_minor": 2
}
