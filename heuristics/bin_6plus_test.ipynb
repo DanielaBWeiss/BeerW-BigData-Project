{
 "cells": [
  {
   "cell_type": "markdown",
   "metadata": {},
   "source": [
    "# Measure The 6 Plus Bin Heuristics Accuracy"
   ]
  },
  {
   "cell_type": "markdown",
   "metadata": {},
   "source": [
    "As a refresher, these are our occasions for the 3-5 bin:"
   ]
  },
  {
   "cell_type": "markdown",
   "metadata": {},
   "source": [
    "1. `Family Event`\n",
    "2. `Drinking`\n",
    "3. `Breakfast`\n",
    "4. `Lunch`\n",
    "5. `Dinner`\n",
    "6. `Social Gathering`\n",
    "7. `After Work`"
   ]
  },
  {
   "cell_type": "markdown",
   "metadata": {},
   "source": [
    "We're going to pick specific labeled tables, and see how our heuristics is doing."
   ]
  },
  {
   "cell_type": "code",
   "execution_count": 1,
   "metadata": {},
   "outputs": [],
   "source": [
    "data_map = {\n",
    "    \"hockey\": \"../data/hockey_3_text_processed.csv\",\n",
    "    \"valentine\": \"../data/valentine_3_text_processed.csv\",\n",
    "    \"silvester\": \"../data/silvester_3_text_processed.csv\"\n",
    "}"
   ]
  },
  {
   "cell_type": "markdown",
   "metadata": {},
   "source": [
    "The following are taken from the *annotations/occasions_annotations_bin3to5* notebook."
   ]
  },
  {
   "cell_type": "code",
   "execution_count": 2,
   "metadata": {},
   "outputs": [],
   "source": [
    "labeled_tables_map = {\n",
    "    \"hockey\": \n",
    "[(514594544, \"DINNER\"),\n",
    " (520144566, \"DINNER_PARTY\"), #problem in heurstic due to item qunatity\n",
    " (512856753,\"UNKNOWN\"),\n",
    " (523552965,\"DINNER\"),\n",
    " (522777307,\"DRINKING\"),\n",
    " (520932269,\"DINNER\"),\n",
    " (520961529,\"FAMILY_EVENT\"), # bug in extracting the kid meal\n",
    " (522822209,\"DRINKING\")\n",
    "],\n",
    "    \"valentine\": \n",
    "[(434693771,\"FAMILY_EVENT\"),# bug in extracting the kid meal\n",
    " (446750517,\"UNKNOWN\"),\n",
    " (447075894,\"DINNER\"),\n",
    " (447589967,\"DINNER\"),\n",
    "],\n",
    "    \"silvester\": \n",
    "[(361348245,\"DINNER\"),\n",
    "(360970732,\"FAMILY_EVENT\"),\n",
    "(360903046,\"DINNER\"),\n",
    "(363236528,\"FAMILY_EVENT\")]\n",
    "}"
   ]
  },
  {
   "cell_type": "markdown",
   "metadata": {},
   "source": [
    "------"
   ]
  },
  {
   "cell_type": "code",
   "execution_count": 3,
   "metadata": {},
   "outputs": [],
   "source": [
    "import pandas as pd"
   ]
  },
  {
   "cell_type": "markdown",
   "metadata": {},
   "source": [
    "Import the classifier function `6Plus Classifier`:"
   ]
  },
  {
   "cell_type": "code",
   "execution_count": 4,
   "metadata": {},
   "outputs": [],
   "source": [
    "from bin_6plus import Bin6PlusClassifier as Classifier\n",
    "classifier = Classifier()"
   ]
  },
  {
   "cell_type": "markdown",
   "metadata": {},
   "source": [
    "-----"
   ]
  },
  {
   "cell_type": "markdown",
   "metadata": {},
   "source": [
    "### Results per Table:"
   ]
  },
  {
   "cell_type": "code",
   "execution_count": 5,
   "metadata": {},
   "outputs": [],
   "source": [
    "tables = [\"hockey\", \"valentine\", \"silvester\"]"
   ]
  },
  {
   "cell_type": "code",
   "execution_count": 6,
   "metadata": {},
   "outputs": [],
   "source": [
    "results = {}\n",
    "results_new = {}"
   ]
  },
  {
   "cell_type": "code",
   "execution_count": 7,
   "metadata": {},
   "outputs": [],
   "source": [
    "from main import shrink_orders_to_table"
   ]
  },
  {
   "cell_type": "code",
   "execution_count": 8,
   "metadata": {},
   "outputs": [
    {
     "name": "stdout",
     "output_type": "stream",
     "text": [
      "Running for hockey\n",
      "Running for valentine\n",
      "Running for silvester\n"
     ]
    }
   ],
   "source": [
    "for table in tables:\n",
    "    print(\"Running for\", table)\n",
    "    df_path = data_map[table]\n",
    "    df = pd.read_csv(df_path)\n",
    "    labeled_tables = labeled_tables_map[table]\n",
    "    \n",
    "    results[table] = []\n",
    "    for order_id, true_ocassion in labeled_tables:\n",
    "        orders = df[df.order_id == order_id]\n",
    "        orders = shrink_orders_to_table(orders)\n",
    "        pred_occasion = classifier.classify(orders)\n",
    "        results[table].append((order_id, true_ocassion, pred_occasion))"
   ]
  },
  {
   "cell_type": "markdown",
   "metadata": {},
   "source": [
    "#### Show the results:"
   ]
  },
  {
   "cell_type": "code",
   "execution_count": 9,
   "metadata": {},
   "outputs": [],
   "source": [
    "columns = [\"order_id\", \"true_occasion\", \"pred_occasion\"]"
   ]
  },
  {
   "cell_type": "code",
   "execution_count": 10,
   "metadata": {},
   "outputs": [],
   "source": [
    "def color(data):\n",
    "    correct = data[\"true_occasion\"] == data[\"pred_occasion\"]\n",
    "    if correct:\n",
    "        color = \"#58f200\"\n",
    "    else:\n",
    "        color = \"#ee1300\"\n",
    "\n",
    "    return [\"background-color: %s\" % color] * len(data.values)"
   ]
  },
  {
   "cell_type": "code",
   "execution_count": 11,
   "metadata": {},
   "outputs": [
    {
     "data": {
      "text/html": [
       "<style  type=\"text/css\" >\n",
       "    #T_0b071c88_e221_11e9_9f99_f218983644ffrow0_col0 {\n",
       "            background-color:  #58f200;\n",
       "        }    #T_0b071c88_e221_11e9_9f99_f218983644ffrow0_col1 {\n",
       "            background-color:  #58f200;\n",
       "        }    #T_0b071c88_e221_11e9_9f99_f218983644ffrow0_col2 {\n",
       "            background-color:  #58f200;\n",
       "        }    #T_0b071c88_e221_11e9_9f99_f218983644ffrow1_col0 {\n",
       "            background-color:  #ee1300;\n",
       "        }    #T_0b071c88_e221_11e9_9f99_f218983644ffrow1_col1 {\n",
       "            background-color:  #ee1300;\n",
       "        }    #T_0b071c88_e221_11e9_9f99_f218983644ffrow1_col2 {\n",
       "            background-color:  #ee1300;\n",
       "        }    #T_0b071c88_e221_11e9_9f99_f218983644ffrow2_col0 {\n",
       "            background-color:  #58f200;\n",
       "        }    #T_0b071c88_e221_11e9_9f99_f218983644ffrow2_col1 {\n",
       "            background-color:  #58f200;\n",
       "        }    #T_0b071c88_e221_11e9_9f99_f218983644ffrow2_col2 {\n",
       "            background-color:  #58f200;\n",
       "        }    #T_0b071c88_e221_11e9_9f99_f218983644ffrow3_col0 {\n",
       "            background-color:  #58f200;\n",
       "        }    #T_0b071c88_e221_11e9_9f99_f218983644ffrow3_col1 {\n",
       "            background-color:  #58f200;\n",
       "        }    #T_0b071c88_e221_11e9_9f99_f218983644ffrow3_col2 {\n",
       "            background-color:  #58f200;\n",
       "        }    #T_0b071c88_e221_11e9_9f99_f218983644ffrow4_col0 {\n",
       "            background-color:  #58f200;\n",
       "        }    #T_0b071c88_e221_11e9_9f99_f218983644ffrow4_col1 {\n",
       "            background-color:  #58f200;\n",
       "        }    #T_0b071c88_e221_11e9_9f99_f218983644ffrow4_col2 {\n",
       "            background-color:  #58f200;\n",
       "        }    #T_0b071c88_e221_11e9_9f99_f218983644ffrow5_col0 {\n",
       "            background-color:  #58f200;\n",
       "        }    #T_0b071c88_e221_11e9_9f99_f218983644ffrow5_col1 {\n",
       "            background-color:  #58f200;\n",
       "        }    #T_0b071c88_e221_11e9_9f99_f218983644ffrow5_col2 {\n",
       "            background-color:  #58f200;\n",
       "        }    #T_0b071c88_e221_11e9_9f99_f218983644ffrow6_col0 {\n",
       "            background-color:  #ee1300;\n",
       "        }    #T_0b071c88_e221_11e9_9f99_f218983644ffrow6_col1 {\n",
       "            background-color:  #ee1300;\n",
       "        }    #T_0b071c88_e221_11e9_9f99_f218983644ffrow6_col2 {\n",
       "            background-color:  #ee1300;\n",
       "        }    #T_0b071c88_e221_11e9_9f99_f218983644ffrow7_col0 {\n",
       "            background-color:  #58f200;\n",
       "        }    #T_0b071c88_e221_11e9_9f99_f218983644ffrow7_col1 {\n",
       "            background-color:  #58f200;\n",
       "        }    #T_0b071c88_e221_11e9_9f99_f218983644ffrow7_col2 {\n",
       "            background-color:  #58f200;\n",
       "        }</style>  \n",
       "<table id=\"T_0b071c88_e221_11e9_9f99_f218983644ff\" > \n",
       "<thead>    <tr> \n",
       "        <th class=\"blank level0\" ></th> \n",
       "        <th class=\"col_heading level0 col0\" >order_id</th> \n",
       "        <th class=\"col_heading level0 col1\" >true_occasion</th> \n",
       "        <th class=\"col_heading level0 col2\" >pred_occasion</th> \n",
       "    </tr></thead> \n",
       "<tbody>    <tr> \n",
       "        <th id=\"T_0b071c88_e221_11e9_9f99_f218983644fflevel0_row0\" class=\"row_heading level0 row0\" >1</th> \n",
       "        <td id=\"T_0b071c88_e221_11e9_9f99_f218983644ffrow0_col0\" class=\"data row0 col0\" >514594544</td> \n",
       "        <td id=\"T_0b071c88_e221_11e9_9f99_f218983644ffrow0_col1\" class=\"data row0 col1\" >DINNER</td> \n",
       "        <td id=\"T_0b071c88_e221_11e9_9f99_f218983644ffrow0_col2\" class=\"data row0 col2\" >DINNER</td> \n",
       "    </tr>    <tr> \n",
       "        <th id=\"T_0b071c88_e221_11e9_9f99_f218983644fflevel0_row1\" class=\"row_heading level0 row1\" >2</th> \n",
       "        <td id=\"T_0b071c88_e221_11e9_9f99_f218983644ffrow1_col0\" class=\"data row1 col0\" >520144566</td> \n",
       "        <td id=\"T_0b071c88_e221_11e9_9f99_f218983644ffrow1_col1\" class=\"data row1 col1\" >DINNER_PARTY</td> \n",
       "        <td id=\"T_0b071c88_e221_11e9_9f99_f218983644ffrow1_col2\" class=\"data row1 col2\" >UNKNOWN</td> \n",
       "    </tr>    <tr> \n",
       "        <th id=\"T_0b071c88_e221_11e9_9f99_f218983644fflevel0_row2\" class=\"row_heading level0 row2\" >3</th> \n",
       "        <td id=\"T_0b071c88_e221_11e9_9f99_f218983644ffrow2_col0\" class=\"data row2 col0\" >512856753</td> \n",
       "        <td id=\"T_0b071c88_e221_11e9_9f99_f218983644ffrow2_col1\" class=\"data row2 col1\" >UNKNOWN</td> \n",
       "        <td id=\"T_0b071c88_e221_11e9_9f99_f218983644ffrow2_col2\" class=\"data row2 col2\" >UNKNOWN</td> \n",
       "    </tr>    <tr> \n",
       "        <th id=\"T_0b071c88_e221_11e9_9f99_f218983644fflevel0_row3\" class=\"row_heading level0 row3\" >4</th> \n",
       "        <td id=\"T_0b071c88_e221_11e9_9f99_f218983644ffrow3_col0\" class=\"data row3 col0\" >523552965</td> \n",
       "        <td id=\"T_0b071c88_e221_11e9_9f99_f218983644ffrow3_col1\" class=\"data row3 col1\" >DINNER</td> \n",
       "        <td id=\"T_0b071c88_e221_11e9_9f99_f218983644ffrow3_col2\" class=\"data row3 col2\" >DINNER</td> \n",
       "    </tr>    <tr> \n",
       "        <th id=\"T_0b071c88_e221_11e9_9f99_f218983644fflevel0_row4\" class=\"row_heading level0 row4\" >5</th> \n",
       "        <td id=\"T_0b071c88_e221_11e9_9f99_f218983644ffrow4_col0\" class=\"data row4 col0\" >522777307</td> \n",
       "        <td id=\"T_0b071c88_e221_11e9_9f99_f218983644ffrow4_col1\" class=\"data row4 col1\" >DRINKING</td> \n",
       "        <td id=\"T_0b071c88_e221_11e9_9f99_f218983644ffrow4_col2\" class=\"data row4 col2\" >DRINKING</td> \n",
       "    </tr>    <tr> \n",
       "        <th id=\"T_0b071c88_e221_11e9_9f99_f218983644fflevel0_row5\" class=\"row_heading level0 row5\" >6</th> \n",
       "        <td id=\"T_0b071c88_e221_11e9_9f99_f218983644ffrow5_col0\" class=\"data row5 col0\" >520932269</td> \n",
       "        <td id=\"T_0b071c88_e221_11e9_9f99_f218983644ffrow5_col1\" class=\"data row5 col1\" >DINNER</td> \n",
       "        <td id=\"T_0b071c88_e221_11e9_9f99_f218983644ffrow5_col2\" class=\"data row5 col2\" >DINNER</td> \n",
       "    </tr>    <tr> \n",
       "        <th id=\"T_0b071c88_e221_11e9_9f99_f218983644fflevel0_row6\" class=\"row_heading level0 row6\" >7</th> \n",
       "        <td id=\"T_0b071c88_e221_11e9_9f99_f218983644ffrow6_col0\" class=\"data row6 col0\" >520961529</td> \n",
       "        <td id=\"T_0b071c88_e221_11e9_9f99_f218983644ffrow6_col1\" class=\"data row6 col1\" >FAMILY_EVENT</td> \n",
       "        <td id=\"T_0b071c88_e221_11e9_9f99_f218983644ffrow6_col2\" class=\"data row6 col2\" >DINNER</td> \n",
       "    </tr>    <tr> \n",
       "        <th id=\"T_0b071c88_e221_11e9_9f99_f218983644fflevel0_row7\" class=\"row_heading level0 row7\" >8</th> \n",
       "        <td id=\"T_0b071c88_e221_11e9_9f99_f218983644ffrow7_col0\" class=\"data row7 col0\" >522822209</td> \n",
       "        <td id=\"T_0b071c88_e221_11e9_9f99_f218983644ffrow7_col1\" class=\"data row7 col1\" >DRINKING</td> \n",
       "        <td id=\"T_0b071c88_e221_11e9_9f99_f218983644ffrow7_col2\" class=\"data row7 col2\" >DRINKING</td> \n",
       "    </tr></tbody> \n",
       "</table> "
      ],
      "text/plain": [
       "<pandas.io.formats.style.Styler at 0x12a8d9940>"
      ]
     },
     "execution_count": 11,
     "metadata": {},
     "output_type": "execute_result"
    }
   ],
   "source": [
    "table = \"hockey\"\n",
    "\n",
    "df = pd.DataFrame(results[table], columns=columns)\n",
    "df.index += 1\n",
    "df.style.apply(color, axis=1)\n",
    "# df.to_csv(str(table) + \"_3to5_test_results.csv\", index=False)"
   ]
  },
  {
   "cell_type": "code",
   "execution_count": 12,
   "metadata": {},
   "outputs": [
    {
     "data": {
      "text/html": [
       "<style  type=\"text/css\" >\n",
       "    #T_0b095dfe_e221_11e9_9f99_f218983644ffrow0_col0 {\n",
       "            background-color:  #ee1300;\n",
       "        }    #T_0b095dfe_e221_11e9_9f99_f218983644ffrow0_col1 {\n",
       "            background-color:  #ee1300;\n",
       "        }    #T_0b095dfe_e221_11e9_9f99_f218983644ffrow0_col2 {\n",
       "            background-color:  #ee1300;\n",
       "        }    #T_0b095dfe_e221_11e9_9f99_f218983644ffrow1_col0 {\n",
       "            background-color:  #58f200;\n",
       "        }    #T_0b095dfe_e221_11e9_9f99_f218983644ffrow1_col1 {\n",
       "            background-color:  #58f200;\n",
       "        }    #T_0b095dfe_e221_11e9_9f99_f218983644ffrow1_col2 {\n",
       "            background-color:  #58f200;\n",
       "        }    #T_0b095dfe_e221_11e9_9f99_f218983644ffrow2_col0 {\n",
       "            background-color:  #58f200;\n",
       "        }    #T_0b095dfe_e221_11e9_9f99_f218983644ffrow2_col1 {\n",
       "            background-color:  #58f200;\n",
       "        }    #T_0b095dfe_e221_11e9_9f99_f218983644ffrow2_col2 {\n",
       "            background-color:  #58f200;\n",
       "        }    #T_0b095dfe_e221_11e9_9f99_f218983644ffrow3_col0 {\n",
       "            background-color:  #58f200;\n",
       "        }    #T_0b095dfe_e221_11e9_9f99_f218983644ffrow3_col1 {\n",
       "            background-color:  #58f200;\n",
       "        }    #T_0b095dfe_e221_11e9_9f99_f218983644ffrow3_col2 {\n",
       "            background-color:  #58f200;\n",
       "        }</style>  \n",
       "<table id=\"T_0b095dfe_e221_11e9_9f99_f218983644ff\" > \n",
       "<thead>    <tr> \n",
       "        <th class=\"blank level0\" ></th> \n",
       "        <th class=\"col_heading level0 col0\" >order_id</th> \n",
       "        <th class=\"col_heading level0 col1\" >true_occasion</th> \n",
       "        <th class=\"col_heading level0 col2\" >pred_occasion</th> \n",
       "    </tr></thead> \n",
       "<tbody>    <tr> \n",
       "        <th id=\"T_0b095dfe_e221_11e9_9f99_f218983644fflevel0_row0\" class=\"row_heading level0 row0\" >1</th> \n",
       "        <td id=\"T_0b095dfe_e221_11e9_9f99_f218983644ffrow0_col0\" class=\"data row0 col0\" >434693771</td> \n",
       "        <td id=\"T_0b095dfe_e221_11e9_9f99_f218983644ffrow0_col1\" class=\"data row0 col1\" >FAMILY_EVENT</td> \n",
       "        <td id=\"T_0b095dfe_e221_11e9_9f99_f218983644ffrow0_col2\" class=\"data row0 col2\" >DINNER</td> \n",
       "    </tr>    <tr> \n",
       "        <th id=\"T_0b095dfe_e221_11e9_9f99_f218983644fflevel0_row1\" class=\"row_heading level0 row1\" >2</th> \n",
       "        <td id=\"T_0b095dfe_e221_11e9_9f99_f218983644ffrow1_col0\" class=\"data row1 col0\" >446750517</td> \n",
       "        <td id=\"T_0b095dfe_e221_11e9_9f99_f218983644ffrow1_col1\" class=\"data row1 col1\" >UNKNOWN</td> \n",
       "        <td id=\"T_0b095dfe_e221_11e9_9f99_f218983644ffrow1_col2\" class=\"data row1 col2\" >UNKNOWN</td> \n",
       "    </tr>    <tr> \n",
       "        <th id=\"T_0b095dfe_e221_11e9_9f99_f218983644fflevel0_row2\" class=\"row_heading level0 row2\" >3</th> \n",
       "        <td id=\"T_0b095dfe_e221_11e9_9f99_f218983644ffrow2_col0\" class=\"data row2 col0\" >447075894</td> \n",
       "        <td id=\"T_0b095dfe_e221_11e9_9f99_f218983644ffrow2_col1\" class=\"data row2 col1\" >DINNER</td> \n",
       "        <td id=\"T_0b095dfe_e221_11e9_9f99_f218983644ffrow2_col2\" class=\"data row2 col2\" >DINNER</td> \n",
       "    </tr>    <tr> \n",
       "        <th id=\"T_0b095dfe_e221_11e9_9f99_f218983644fflevel0_row3\" class=\"row_heading level0 row3\" >4</th> \n",
       "        <td id=\"T_0b095dfe_e221_11e9_9f99_f218983644ffrow3_col0\" class=\"data row3 col0\" >447589967</td> \n",
       "        <td id=\"T_0b095dfe_e221_11e9_9f99_f218983644ffrow3_col1\" class=\"data row3 col1\" >DINNER</td> \n",
       "        <td id=\"T_0b095dfe_e221_11e9_9f99_f218983644ffrow3_col2\" class=\"data row3 col2\" >DINNER</td> \n",
       "    </tr></tbody> \n",
       "</table> "
      ],
      "text/plain": [
       "<pandas.io.formats.style.Styler at 0x1287c1cc0>"
      ]
     },
     "execution_count": 12,
     "metadata": {},
     "output_type": "execute_result"
    }
   ],
   "source": [
    "table = \"valentine\"\n",
    "\n",
    "df = pd.DataFrame(results[table], columns=columns)\n",
    "df.index += 1\n",
    "df.style.apply(color, axis=1)\n",
    "# df.to_csv(str(table) + \"_3to5_test_results.csv\", index=False)"
   ]
  },
  {
   "cell_type": "code",
   "execution_count": 13,
   "metadata": {},
   "outputs": [
    {
     "data": {
      "text/html": [
       "<style  type=\"text/css\" >\n",
       "    #T_0b0bc904_e221_11e9_9f99_f218983644ffrow0_col0 {\n",
       "            background-color:  #58f200;\n",
       "        }    #T_0b0bc904_e221_11e9_9f99_f218983644ffrow0_col1 {\n",
       "            background-color:  #58f200;\n",
       "        }    #T_0b0bc904_e221_11e9_9f99_f218983644ffrow0_col2 {\n",
       "            background-color:  #58f200;\n",
       "        }    #T_0b0bc904_e221_11e9_9f99_f218983644ffrow1_col0 {\n",
       "            background-color:  #ee1300;\n",
       "        }    #T_0b0bc904_e221_11e9_9f99_f218983644ffrow1_col1 {\n",
       "            background-color:  #ee1300;\n",
       "        }    #T_0b0bc904_e221_11e9_9f99_f218983644ffrow1_col2 {\n",
       "            background-color:  #ee1300;\n",
       "        }    #T_0b0bc904_e221_11e9_9f99_f218983644ffrow2_col0 {\n",
       "            background-color:  #58f200;\n",
       "        }    #T_0b0bc904_e221_11e9_9f99_f218983644ffrow2_col1 {\n",
       "            background-color:  #58f200;\n",
       "        }    #T_0b0bc904_e221_11e9_9f99_f218983644ffrow2_col2 {\n",
       "            background-color:  #58f200;\n",
       "        }    #T_0b0bc904_e221_11e9_9f99_f218983644ffrow3_col0 {\n",
       "            background-color:  #ee1300;\n",
       "        }    #T_0b0bc904_e221_11e9_9f99_f218983644ffrow3_col1 {\n",
       "            background-color:  #ee1300;\n",
       "        }    #T_0b0bc904_e221_11e9_9f99_f218983644ffrow3_col2 {\n",
       "            background-color:  #ee1300;\n",
       "        }</style>  \n",
       "<table id=\"T_0b0bc904_e221_11e9_9f99_f218983644ff\" > \n",
       "<thead>    <tr> \n",
       "        <th class=\"blank level0\" ></th> \n",
       "        <th class=\"col_heading level0 col0\" >order_id</th> \n",
       "        <th class=\"col_heading level0 col1\" >true_occasion</th> \n",
       "        <th class=\"col_heading level0 col2\" >pred_occasion</th> \n",
       "    </tr></thead> \n",
       "<tbody>    <tr> \n",
       "        <th id=\"T_0b0bc904_e221_11e9_9f99_f218983644fflevel0_row0\" class=\"row_heading level0 row0\" >1</th> \n",
       "        <td id=\"T_0b0bc904_e221_11e9_9f99_f218983644ffrow0_col0\" class=\"data row0 col0\" >361348245</td> \n",
       "        <td id=\"T_0b0bc904_e221_11e9_9f99_f218983644ffrow0_col1\" class=\"data row0 col1\" >DINNER</td> \n",
       "        <td id=\"T_0b0bc904_e221_11e9_9f99_f218983644ffrow0_col2\" class=\"data row0 col2\" >DINNER</td> \n",
       "    </tr>    <tr> \n",
       "        <th id=\"T_0b0bc904_e221_11e9_9f99_f218983644fflevel0_row1\" class=\"row_heading level0 row1\" >2</th> \n",
       "        <td id=\"T_0b0bc904_e221_11e9_9f99_f218983644ffrow1_col0\" class=\"data row1 col0\" >360970732</td> \n",
       "        <td id=\"T_0b0bc904_e221_11e9_9f99_f218983644ffrow1_col1\" class=\"data row1 col1\" >FAMILY_EVENT</td> \n",
       "        <td id=\"T_0b0bc904_e221_11e9_9f99_f218983644ffrow1_col2\" class=\"data row1 col2\" >DINNER</td> \n",
       "    </tr>    <tr> \n",
       "        <th id=\"T_0b0bc904_e221_11e9_9f99_f218983644fflevel0_row2\" class=\"row_heading level0 row2\" >3</th> \n",
       "        <td id=\"T_0b0bc904_e221_11e9_9f99_f218983644ffrow2_col0\" class=\"data row2 col0\" >360903046</td> \n",
       "        <td id=\"T_0b0bc904_e221_11e9_9f99_f218983644ffrow2_col1\" class=\"data row2 col1\" >DINNER</td> \n",
       "        <td id=\"T_0b0bc904_e221_11e9_9f99_f218983644ffrow2_col2\" class=\"data row2 col2\" >DINNER</td> \n",
       "    </tr>    <tr> \n",
       "        <th id=\"T_0b0bc904_e221_11e9_9f99_f218983644fflevel0_row3\" class=\"row_heading level0 row3\" >4</th> \n",
       "        <td id=\"T_0b0bc904_e221_11e9_9f99_f218983644ffrow3_col0\" class=\"data row3 col0\" >363236528</td> \n",
       "        <td id=\"T_0b0bc904_e221_11e9_9f99_f218983644ffrow3_col1\" class=\"data row3 col1\" >FAMILY_EVENT</td> \n",
       "        <td id=\"T_0b0bc904_e221_11e9_9f99_f218983644ffrow3_col2\" class=\"data row3 col2\" >LUNCH</td> \n",
       "    </tr></tbody> \n",
       "</table> "
      ],
      "text/plain": [
       "<pandas.io.formats.style.Styler at 0x127619320>"
      ]
     },
     "execution_count": 13,
     "metadata": {},
     "output_type": "execute_result"
    }
   ],
   "source": [
    "table = \"silvester\"\n",
    "\n",
    "df = pd.DataFrame(results[table], columns=columns)\n",
    "df.index += 1\n",
    "df.style.apply(color, axis=1)\n",
    "# df.to_csv(str(table) + \"_3to5_test_results.csv\", index=False)"
   ]
  },
  {
   "cell_type": "code",
   "execution_count": null,
   "metadata": {},
   "outputs": [],
   "source": []
  }
 ],
 "metadata": {
  "kernelspec": {
   "display_name": "Python 3",
   "language": "python",
   "name": "python3"
  },
  "language_info": {
   "codemirror_mode": {
    "name": "ipython",
    "version": 3
   },
   "file_extension": ".py",
   "mimetype": "text/x-python",
   "name": "python",
   "nbconvert_exporter": "python",
   "pygments_lexer": "ipython3",
   "version": "3.7.1"
  }
 },
 "nbformat": 4,
 "nbformat_minor": 2
}
