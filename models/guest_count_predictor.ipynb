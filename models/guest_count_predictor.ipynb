{
 "cells": [
  {
   "cell_type": "markdown",
   "metadata": {},
   "source": [
    "# Guest Count Predictor"
   ]
  },
  {
   "cell_type": "markdown",
   "metadata": {},
   "source": [
    "We will use machine learning algorithms for predicting the true `guest_count` for table orders.\n",
    "\n",
    "As the company states, just about 30% of the tables report a **true** (\"trustworthy\") `guest_count` values.  \n",
    "Well, what about the rest? It is unusable."
   ]
  },
  {
   "cell_type": "markdown",
   "metadata": {},
   "source": [
    "---"
   ]
  },
  {
   "cell_type": "markdown",
   "metadata": {},
   "source": [
    "Measure notebook run time:"
   ]
  },
  {
   "cell_type": "code",
   "execution_count": 1,
   "metadata": {},
   "outputs": [],
   "source": [
    "import time\n",
    "from datetime import timedelta\n",
    "\n",
    "start = time.time()"
   ]
  },
  {
   "cell_type": "markdown",
   "metadata": {},
   "source": [
    "---"
   ]
  },
  {
   "cell_type": "markdown",
   "metadata": {},
   "source": [
    "Load the whole dataset, then, split to DEV (+ VALID) and TEST sets according to the bar filtration schema we've written in the *pre-processing* scripts."
   ]
  },
  {
   "cell_type": "code",
   "execution_count": 2,
   "metadata": {},
   "outputs": [],
   "source": [
    "import numpy as np\n",
    "import pandas as pd\n",
    "import seaborn as sns\n",
    "import matplotlib.pyplot as plt"
   ]
  },
  {
   "cell_type": "code",
   "execution_count": 3,
   "metadata": {},
   "outputs": [],
   "source": [
    "pd.set_option('display.max_columns', None)"
   ]
  },
  {
   "cell_type": "code",
   "execution_count": 4,
   "metadata": {},
   "outputs": [],
   "source": [
    "data_map_tables = {\n",
    "    \"hockey\"    : \"../data/hockey_textual_n_features_processed_tables.csv\",\n",
    "    \"valentine\" : \"../data/valentine_textual_n_features_processed_tables.csv\",\n",
    "    \"silvester\" : \"../data/silvester_textual_n_features_processed_tables.csv\"\n",
    "}"
   ]
  },
  {
   "cell_type": "code",
   "execution_count": 5,
   "metadata": {},
   "outputs": [],
   "source": [
    "columns = [\n",
    "    \"bar_id\",\n",
    "    \"order_id\",\n",
    "    #\"order_time\",\n",
    "    #\"order_time_closed\",\n",
    "    \"order_hour\",\n",
    "    #\"order_minute\",\n",
    "    \"order_close_hour\",\n",
    "    #\"order_close_minute\",\n",
    "    \"period_of_day\",\n",
    "    \"order_day_of_week\",\n",
    "    \"is_weekend\",\n",
    "    \"item_qty\",\n",
    "    \"beer_volume\",\n",
    "    \"guest_count\",\n",
    "    \"total_orders_category_id_1.0\",\n",
    "    \"total_orders_category_id_2.0\",\n",
    "    \"total_orders_category_id_3.0\",\n",
    "    \"total_orders_category_id_4.0\",\n",
    "    \"total_orders_category_id_5.0\",\n",
    "    \"total_orders_category_id_6.0\",\n",
    "    \"total_orders\",\n",
    "    \"total_large_meals\",\n",
    "    \"total_small_meals\",\n",
    "    \"total_large_sharable_meals\",\n",
    "    \"total_small_sharable_meals\",\n",
    "    \"sharable\",\n",
    "    \"kids_meal\",\n",
    "    \"birthday\",\n",
    "    \"dwell_time\",\n",
    "    \"meal_flow_last_to_close\",\n",
    "    \"total_flow_steps\",\n",
    "    \"total_meal_steps\",\n",
    "    \"avg_time_between_steps\",\n",
    "    \"sit_to_order\",\n",
    "    \"max_items_per_step\",\n",
    "    \"total_sales_before_tax\"#,\n",
    "    #\"total_sales_inc_tax\"\n",
    "]"
   ]
  },
  {
   "cell_type": "code",
   "execution_count": 6,
   "metadata": {},
   "outputs": [],
   "source": [
    "df = {}\n",
    "\n",
    "for table in data_map_tables.keys():\n",
    "    df[table] = pd.read_csv(data_map_tables[table], usecols=columns)\n",
    "\n",
    "df = pd.concat([df[table] for table in data_map_tables.keys()])"
   ]
  },
  {
   "cell_type": "code",
   "execution_count": 7,
   "metadata": {},
   "outputs": [],
   "source": [
    "df.reset_index(drop=True, inplace=True)"
   ]
  },
  {
   "cell_type": "code",
   "execution_count": 8,
   "metadata": {},
   "outputs": [
    {
     "name": "stdout",
     "output_type": "stream",
     "text": [
      "(277587, 32)\n"
     ]
    }
   ],
   "source": [
    "print(df.shape)"
   ]
  },
  {
   "cell_type": "markdown",
   "metadata": {},
   "source": [
    "## Handle Features"
   ]
  },
  {
   "cell_type": "code",
   "execution_count": 9,
   "metadata": {},
   "outputs": [
    {
     "name": "stdout",
     "output_type": "stream",
     "text": [
      "<class 'pandas.core.frame.DataFrame'>\n",
      "RangeIndex: 277587 entries, 0 to 277586\n",
      "Data columns (total 32 columns):\n",
      "order_id                        277587 non-null int64\n",
      "bar_id                          277587 non-null int64\n",
      "order_hour                      277587 non-null int64\n",
      "order_close_hour                277587 non-null int64\n",
      "period_of_day                   277587 non-null object\n",
      "order_day_of_week               277587 non-null object\n",
      "is_weekend                      277587 non-null bool\n",
      "item_qty                        277587 non-null float64\n",
      "beer_volume                     277587 non-null float64\n",
      "guest_count                     277587 non-null int64\n",
      "total_orders_category_id_1.0    277587 non-null float64\n",
      "total_orders_category_id_2.0    277587 non-null float64\n",
      "total_orders_category_id_3.0    277587 non-null float64\n",
      "total_orders_category_id_4.0    277587 non-null float64\n",
      "total_orders_category_id_5.0    277587 non-null float64\n",
      "total_orders_category_id_6.0    277587 non-null float64\n",
      "total_orders                    277587 non-null float64\n",
      "total_large_meals               277587 non-null float64\n",
      "total_small_meals               277587 non-null float64\n",
      "total_large_sharable_meals      277587 non-null float64\n",
      "total_small_sharable_meals      277587 non-null float64\n",
      "sharable                        277587 non-null int64\n",
      "kids_meal                       277587 non-null int64\n",
      "birthday                        277587 non-null int64\n",
      "dwell_time                      277587 non-null float64\n",
      "meal_flow_last_to_close         277587 non-null int64\n",
      "total_flow_steps                277587 non-null int64\n",
      "total_meal_steps                277587 non-null int64\n",
      "avg_time_between_steps          277587 non-null float64\n",
      "sit_to_order                    277587 non-null int64\n",
      "max_items_per_step              277587 non-null int64\n",
      "total_sales_before_tax          277587 non-null float64\n",
      "dtypes: bool(1), float64(16), int64(13), object(2)\n",
      "memory usage: 65.9+ MB\n"
     ]
    }
   ],
   "source": [
    "df.info()"
   ]
  },
  {
   "cell_type": "code",
   "execution_count": 10,
   "metadata": {},
   "outputs": [
    {
     "data": {
      "text/html": [
       "<div>\n",
       "<style scoped>\n",
       "    .dataframe tbody tr th:only-of-type {\n",
       "        vertical-align: middle;\n",
       "    }\n",
       "\n",
       "    .dataframe tbody tr th {\n",
       "        vertical-align: top;\n",
       "    }\n",
       "\n",
       "    .dataframe thead th {\n",
       "        text-align: right;\n",
       "    }\n",
       "</style>\n",
       "<table border=\"1\" class=\"dataframe\">\n",
       "  <thead>\n",
       "    <tr style=\"text-align: right;\">\n",
       "      <th></th>\n",
       "      <th>order_id</th>\n",
       "      <th>bar_id</th>\n",
       "      <th>order_hour</th>\n",
       "      <th>order_close_hour</th>\n",
       "      <th>period_of_day</th>\n",
       "      <th>order_day_of_week</th>\n",
       "      <th>is_weekend</th>\n",
       "      <th>item_qty</th>\n",
       "      <th>beer_volume</th>\n",
       "      <th>guest_count</th>\n",
       "      <th>total_orders_category_id_1.0</th>\n",
       "      <th>total_orders_category_id_2.0</th>\n",
       "      <th>total_orders_category_id_3.0</th>\n",
       "      <th>total_orders_category_id_4.0</th>\n",
       "      <th>total_orders_category_id_5.0</th>\n",
       "      <th>total_orders_category_id_6.0</th>\n",
       "      <th>total_orders</th>\n",
       "      <th>total_large_meals</th>\n",
       "      <th>total_small_meals</th>\n",
       "      <th>total_large_sharable_meals</th>\n",
       "      <th>total_small_sharable_meals</th>\n",
       "      <th>sharable</th>\n",
       "      <th>kids_meal</th>\n",
       "      <th>birthday</th>\n",
       "      <th>dwell_time</th>\n",
       "      <th>meal_flow_last_to_close</th>\n",
       "      <th>total_flow_steps</th>\n",
       "      <th>total_meal_steps</th>\n",
       "      <th>avg_time_between_steps</th>\n",
       "      <th>sit_to_order</th>\n",
       "      <th>max_items_per_step</th>\n",
       "      <th>total_sales_before_tax</th>\n",
       "    </tr>\n",
       "  </thead>\n",
       "  <tbody>\n",
       "    <tr>\n",
       "      <td>0</td>\n",
       "      <td>510834245</td>\n",
       "      <td>7127</td>\n",
       "      <td>0</td>\n",
       "      <td>1</td>\n",
       "      <td>night</td>\n",
       "      <td>Wednesday</td>\n",
       "      <td>False</td>\n",
       "      <td>1.0</td>\n",
       "      <td>0.000</td>\n",
       "      <td>1</td>\n",
       "      <td>0.0</td>\n",
       "      <td>0.0</td>\n",
       "      <td>0.0</td>\n",
       "      <td>0.0</td>\n",
       "      <td>0.0</td>\n",
       "      <td>1.0</td>\n",
       "      <td>1.0</td>\n",
       "      <td>0.0</td>\n",
       "      <td>0.0</td>\n",
       "      <td>0.0</td>\n",
       "      <td>0.0</td>\n",
       "      <td>0</td>\n",
       "      <td>0</td>\n",
       "      <td>0</td>\n",
       "      <td>0.630833</td>\n",
       "      <td>9</td>\n",
       "      <td>9</td>\n",
       "      <td>1</td>\n",
       "      <td>1.0</td>\n",
       "      <td>1</td>\n",
       "      <td>1</td>\n",
       "      <td>7.75</td>\n",
       "    </tr>\n",
       "    <tr>\n",
       "      <td>1</td>\n",
       "      <td>510839657</td>\n",
       "      <td>17271</td>\n",
       "      <td>0</td>\n",
       "      <td>0</td>\n",
       "      <td>night</td>\n",
       "      <td>Wednesday</td>\n",
       "      <td>False</td>\n",
       "      <td>2.0</td>\n",
       "      <td>0.828</td>\n",
       "      <td>2</td>\n",
       "      <td>2.0</td>\n",
       "      <td>0.0</td>\n",
       "      <td>0.0</td>\n",
       "      <td>0.0</td>\n",
       "      <td>0.0</td>\n",
       "      <td>0.0</td>\n",
       "      <td>2.0</td>\n",
       "      <td>0.0</td>\n",
       "      <td>0.0</td>\n",
       "      <td>0.0</td>\n",
       "      <td>0.0</td>\n",
       "      <td>0</td>\n",
       "      <td>0</td>\n",
       "      <td>0</td>\n",
       "      <td>0.612778</td>\n",
       "      <td>9</td>\n",
       "      <td>9</td>\n",
       "      <td>1</td>\n",
       "      <td>1.0</td>\n",
       "      <td>1</td>\n",
       "      <td>2</td>\n",
       "      <td>15.00</td>\n",
       "    </tr>\n",
       "    <tr>\n",
       "      <td>2</td>\n",
       "      <td>510839665</td>\n",
       "      <td>17271</td>\n",
       "      <td>0</td>\n",
       "      <td>1</td>\n",
       "      <td>night</td>\n",
       "      <td>Wednesday</td>\n",
       "      <td>False</td>\n",
       "      <td>2.0</td>\n",
       "      <td>0.000</td>\n",
       "      <td>1</td>\n",
       "      <td>0.0</td>\n",
       "      <td>1.0</td>\n",
       "      <td>1.0</td>\n",
       "      <td>0.0</td>\n",
       "      <td>0.0</td>\n",
       "      <td>0.0</td>\n",
       "      <td>2.0</td>\n",
       "      <td>0.0</td>\n",
       "      <td>1.0</td>\n",
       "      <td>0.0</td>\n",
       "      <td>0.0</td>\n",
       "      <td>0</td>\n",
       "      <td>0</td>\n",
       "      <td>0</td>\n",
       "      <td>0.880000</td>\n",
       "      <td>12</td>\n",
       "      <td>12</td>\n",
       "      <td>1</td>\n",
       "      <td>1.0</td>\n",
       "      <td>1</td>\n",
       "      <td>2</td>\n",
       "      <td>18.95</td>\n",
       "    </tr>\n",
       "    <tr>\n",
       "      <td>3</td>\n",
       "      <td>510839666</td>\n",
       "      <td>17271</td>\n",
       "      <td>0</td>\n",
       "      <td>0</td>\n",
       "      <td>night</td>\n",
       "      <td>Wednesday</td>\n",
       "      <td>False</td>\n",
       "      <td>2.0</td>\n",
       "      <td>0.828</td>\n",
       "      <td>1</td>\n",
       "      <td>2.0</td>\n",
       "      <td>0.0</td>\n",
       "      <td>0.0</td>\n",
       "      <td>0.0</td>\n",
       "      <td>0.0</td>\n",
       "      <td>0.0</td>\n",
       "      <td>2.0</td>\n",
       "      <td>0.0</td>\n",
       "      <td>0.0</td>\n",
       "      <td>0.0</td>\n",
       "      <td>0.0</td>\n",
       "      <td>0</td>\n",
       "      <td>0</td>\n",
       "      <td>0</td>\n",
       "      <td>0.424444</td>\n",
       "      <td>0</td>\n",
       "      <td>5</td>\n",
       "      <td>2</td>\n",
       "      <td>10.5</td>\n",
       "      <td>1</td>\n",
       "      <td>1</td>\n",
       "      <td>11.90</td>\n",
       "    </tr>\n",
       "    <tr>\n",
       "      <td>4</td>\n",
       "      <td>510839684</td>\n",
       "      <td>17271</td>\n",
       "      <td>0</td>\n",
       "      <td>1</td>\n",
       "      <td>night</td>\n",
       "      <td>Wednesday</td>\n",
       "      <td>False</td>\n",
       "      <td>1.0</td>\n",
       "      <td>0.000</td>\n",
       "      <td>1</td>\n",
       "      <td>0.0</td>\n",
       "      <td>0.0</td>\n",
       "      <td>1.0</td>\n",
       "      <td>0.0</td>\n",
       "      <td>0.0</td>\n",
       "      <td>0.0</td>\n",
       "      <td>1.0</td>\n",
       "      <td>0.0</td>\n",
       "      <td>0.0</td>\n",
       "      <td>0.0</td>\n",
       "      <td>0.0</td>\n",
       "      <td>0</td>\n",
       "      <td>0</td>\n",
       "      <td>0</td>\n",
       "      <td>0.782778</td>\n",
       "      <td>11</td>\n",
       "      <td>11</td>\n",
       "      <td>1</td>\n",
       "      <td>1.0</td>\n",
       "      <td>1</td>\n",
       "      <td>1</td>\n",
       "      <td>13.00</td>\n",
       "    </tr>\n",
       "  </tbody>\n",
       "</table>\n",
       "</div>"
      ],
      "text/plain": [
       "    order_id  bar_id  order_hour  order_close_hour period_of_day  \\\n",
       "0  510834245    7127           0                 1         night   \n",
       "1  510839657   17271           0                 0         night   \n",
       "2  510839665   17271           0                 1         night   \n",
       "3  510839666   17271           0                 0         night   \n",
       "4  510839684   17271           0                 1         night   \n",
       "\n",
       "  order_day_of_week  is_weekend  item_qty  beer_volume  guest_count  \\\n",
       "0         Wednesday       False       1.0        0.000            1   \n",
       "1         Wednesday       False       2.0        0.828            2   \n",
       "2         Wednesday       False       2.0        0.000            1   \n",
       "3         Wednesday       False       2.0        0.828            1   \n",
       "4         Wednesday       False       1.0        0.000            1   \n",
       "\n",
       "   total_orders_category_id_1.0  total_orders_category_id_2.0  \\\n",
       "0                           0.0                           0.0   \n",
       "1                           2.0                           0.0   \n",
       "2                           0.0                           1.0   \n",
       "3                           2.0                           0.0   \n",
       "4                           0.0                           0.0   \n",
       "\n",
       "   total_orders_category_id_3.0  total_orders_category_id_4.0  \\\n",
       "0                           0.0                           0.0   \n",
       "1                           0.0                           0.0   \n",
       "2                           1.0                           0.0   \n",
       "3                           0.0                           0.0   \n",
       "4                           1.0                           0.0   \n",
       "\n",
       "   total_orders_category_id_5.0  total_orders_category_id_6.0  total_orders  \\\n",
       "0                           0.0                           1.0           1.0   \n",
       "1                           0.0                           0.0           2.0   \n",
       "2                           0.0                           0.0           2.0   \n",
       "3                           0.0                           0.0           2.0   \n",
       "4                           0.0                           0.0           1.0   \n",
       "\n",
       "   total_large_meals  total_small_meals  total_large_sharable_meals  \\\n",
       "0                0.0                0.0                         0.0   \n",
       "1                0.0                0.0                         0.0   \n",
       "2                0.0                1.0                         0.0   \n",
       "3                0.0                0.0                         0.0   \n",
       "4                0.0                0.0                         0.0   \n",
       "\n",
       "   total_small_sharable_meals  sharable  kids_meal  birthday  dwell_time  \\\n",
       "0                         0.0         0          0         0    0.630833   \n",
       "1                         0.0         0          0         0    0.612778   \n",
       "2                         0.0         0          0         0    0.880000   \n",
       "3                         0.0         0          0         0    0.424444   \n",
       "4                         0.0         0          0         0    0.782778   \n",
       "\n",
       "   meal_flow_last_to_close  total_flow_steps  total_meal_steps  \\\n",
       "0                        9                 9                 1   \n",
       "1                        9                 9                 1   \n",
       "2                       12                12                 1   \n",
       "3                        0                 5                 2   \n",
       "4                       11                11                 1   \n",
       "\n",
       "   avg_time_between_steps  sit_to_order  max_items_per_step  \\\n",
       "0                     1.0             1                   1   \n",
       "1                     1.0             1                   2   \n",
       "2                     1.0             1                   2   \n",
       "3                    10.5             1                   1   \n",
       "4                     1.0             1                   1   \n",
       "\n",
       "   total_sales_before_tax  \n",
       "0                    7.75  \n",
       "1                   15.00  \n",
       "2                   18.95  \n",
       "3                   11.90  \n",
       "4                   13.00  "
      ]
     },
     "execution_count": 10,
     "metadata": {},
     "output_type": "execute_result"
    }
   ],
   "source": [
    "df.head()"
   ]
  },
  {
   "cell_type": "markdown",
   "metadata": {},
   "source": [
    "### Features\n",
    "All non-depicted features are continuous (/integers).\n",
    "\n",
    "- `order_id` - DROP\n",
    "- `bar_id` - DROP\n",
    "- `order_hour` - Cyclical Feature\n",
    "- `order_close_hour` - Cyclical Feature\n",
    "- `period_of_day` - Cyclical Feature\n",
    "- `order_day_of_week` - Cyclical Feature\n",
    "- `is_weekend` - Binary Feature\n",
    "- `item_qty`\n",
    "- `beer_volume`\n",
    "- `guest_count`\n",
    "- `total_orders_category_id_1.0`\n",
    "- `total_orders_category_id_2.0`\n",
    "- `total_orders_category_id_3.0`\n",
    "- `total_orders_category_id_4.0`\n",
    "- `total_orders_category_id_5.0`\n",
    "- `total_orders_category_id_6.0`\n",
    "- `total_orders`\n",
    "- `total_large_meals`\n",
    "- `total_small_meals`\n",
    "- `total_large_sharable_meals`\n",
    "- `total_small_sharable_meals`\n",
    "- `sharable` - Binary Feature\n",
    "- `kids_meal` - Binary Feature\n",
    "- `birthday` - Binary Feature\n",
    "- `dwell_time`\n",
    "- `meal_flow_last_to_close`\n",
    "- `total_flow_steps`\n",
    "- `total_meal_steps`\n",
    "- `avg_time_between_steps`\n",
    "- `sit_to_order`\n",
    "- `max_items_per_step`\n",
    "- `total_sales_before_tax` "
   ]
  },
  {
   "cell_type": "markdown",
   "metadata": {},
   "source": [
    "*To sum up*:\n",
    "\n",
    "**Cyclical Features**: `order_hour`, `order_close_hour`, `period_of_day`, `order_day_of_week`\n",
    "\n",
    "**Binary Features**: `is_weekend`, `sharable`, `kids_meal`, `birthday`"
   ]
  },
  {
   "cell_type": "markdown",
   "metadata": {},
   "source": [
    "### Handle Cyclical Features\n",
    "\n",
    "Hours of the day, days of the week.\n",
    "We should convert these features into a representation that can preserve information such as hour 23 and hour 0 being close to each other and not far.\n",
    "\n",
    "We are going to calculate the sin and cos component so that the cyclical feature will be represented as (x,y) coordinates of a circle. In this representation hour, 23 and hour 0 are right next to each other numerically, just as they should be."
   ]
  },
  {
   "cell_type": "markdown",
   "metadata": {},
   "source": [
    "**order_hour**"
   ]
  },
  {
   "cell_type": "code",
   "execution_count": 11,
   "metadata": {},
   "outputs": [],
   "source": [
    "df['order_hour_sin'] = np.sin(df.order_hour * (2. * np.pi/24))\n",
    "df['order_hour_cos'] = np.cos(df.order_hour * (2. * np.pi/24))"
   ]
  },
  {
   "cell_type": "code",
   "execution_count": 12,
   "metadata": {},
   "outputs": [],
   "source": [
    "df = df.drop(['order_hour'], axis=1)"
   ]
  },
  {
   "cell_type": "markdown",
   "metadata": {},
   "source": [
    "**order_close_hour**"
   ]
  },
  {
   "cell_type": "code",
   "execution_count": 13,
   "metadata": {},
   "outputs": [],
   "source": [
    "df['order_close_hour_sin'] = np.sin(df.order_close_hour * (2. * np.pi/24))\n",
    "df['order_close_hour_cos'] = np.cos(df.order_close_hour * (2. * np.pi/24))"
   ]
  },
  {
   "cell_type": "code",
   "execution_count": 14,
   "metadata": {},
   "outputs": [],
   "source": [
    "df = df.drop(['order_close_hour'], axis=1)"
   ]
  },
  {
   "cell_type": "markdown",
   "metadata": {},
   "source": [
    "Map *string* features to *integers*:"
   ]
  },
  {
   "cell_type": "code",
   "execution_count": 15,
   "metadata": {
    "scrolled": true
   },
   "outputs": [
    {
     "name": "stdout",
     "output_type": "stream",
     "text": [
      "['night' 'breakfast' 'lunch' 'afternoon' 'dinner' 'hang_out']\n"
     ]
    }
   ],
   "source": [
    "print(df.period_of_day.unique())"
   ]
  },
  {
   "cell_type": "code",
   "execution_count": 16,
   "metadata": {},
   "outputs": [],
   "source": [
    "periods_of_day = ['breakfast', 'lunch', 'afternoon', 'dinner', 'hang_out', 'night']\n",
    "pod2idx = {period: idx for idx, period in enumerate(periods_of_day)}"
   ]
  },
  {
   "cell_type": "code",
   "execution_count": 17,
   "metadata": {},
   "outputs": [
    {
     "data": {
      "text/plain": [
       "{'breakfast': 0,\n",
       " 'lunch': 1,\n",
       " 'afternoon': 2,\n",
       " 'dinner': 3,\n",
       " 'hang_out': 4,\n",
       " 'night': 5}"
      ]
     },
     "execution_count": 17,
     "metadata": {},
     "output_type": "execute_result"
    }
   ],
   "source": [
    "pod2idx"
   ]
  },
  {
   "cell_type": "code",
   "execution_count": 18,
   "metadata": {},
   "outputs": [
    {
     "name": "stdout",
     "output_type": "stream",
     "text": [
      "['Wednesday' 'Thursday' 'Friday' 'Saturday' 'Sunday' 'Monday' 'Tuesday']\n"
     ]
    }
   ],
   "source": [
    "print(df.order_day_of_week.unique())"
   ]
  },
  {
   "cell_type": "code",
   "execution_count": 19,
   "metadata": {},
   "outputs": [],
   "source": [
    "days_of_week = ['Monday', 'Tuesday', 'Wednesday', 'Thursday', 'Friday', 'Saturday', 'Sunday']\n",
    "odow2idx = {day: idx for idx, day in enumerate(days_of_week)}"
   ]
  },
  {
   "cell_type": "code",
   "execution_count": 20,
   "metadata": {},
   "outputs": [
    {
     "data": {
      "text/plain": [
       "{'Monday': 0,\n",
       " 'Tuesday': 1,\n",
       " 'Wednesday': 2,\n",
       " 'Thursday': 3,\n",
       " 'Friday': 4,\n",
       " 'Saturday': 5,\n",
       " 'Sunday': 6}"
      ]
     },
     "execution_count": 20,
     "metadata": {},
     "output_type": "execute_result"
    }
   ],
   "source": [
    "odow2idx"
   ]
  },
  {
   "cell_type": "markdown",
   "metadata": {},
   "source": [
    "**period_of_day**"
   ]
  },
  {
   "cell_type": "code",
   "execution_count": 21,
   "metadata": {},
   "outputs": [],
   "source": [
    "df['period_of_day_int'] = df['period_of_day'].apply(lambda period_of_day: pod2idx[period_of_day])"
   ]
  },
  {
   "cell_type": "code",
   "execution_count": 22,
   "metadata": {},
   "outputs": [],
   "source": [
    "df['period_of_day_sin'] = np.sin(df.period_of_day_int * (2. * np.pi/6))\n",
    "df['period_of_day_cos'] = np.cos(df.period_of_day_int * (2. * np.pi/6))"
   ]
  },
  {
   "cell_type": "code",
   "execution_count": 23,
   "metadata": {},
   "outputs": [],
   "source": [
    "df = df.drop(['period_of_day', 'period_of_day_int'], axis=1)"
   ]
  },
  {
   "cell_type": "markdown",
   "metadata": {},
   "source": [
    "**order_day_of_week**"
   ]
  },
  {
   "cell_type": "code",
   "execution_count": 24,
   "metadata": {},
   "outputs": [],
   "source": [
    "df['order_day_of_week_int'] = df['order_day_of_week'].apply(lambda order_day_of_week: odow2idx[order_day_of_week])"
   ]
  },
  {
   "cell_type": "code",
   "execution_count": 25,
   "metadata": {},
   "outputs": [],
   "source": [
    "df['order_day_of_week_sin'] = np.sin(df.order_day_of_week_int * (2. * np.pi/6))\n",
    "df['order_day_of_week_cos'] = np.cos(df.order_day_of_week_int * (2. * np.pi/6))"
   ]
  },
  {
   "cell_type": "code",
   "execution_count": 26,
   "metadata": {},
   "outputs": [],
   "source": [
    "df = df.drop(['order_day_of_week', 'order_day_of_week_int'], axis=1)"
   ]
  },
  {
   "cell_type": "markdown",
   "metadata": {},
   "source": [
    "### Handle Binary Features"
   ]
  },
  {
   "cell_type": "markdown",
   "metadata": {},
   "source": [
    "Binarize the `is_weekend` feature (*True*/*False* -> *1*/*0*)."
   ]
  },
  {
   "cell_type": "code",
   "execution_count": 27,
   "metadata": {},
   "outputs": [
    {
     "data": {
      "text/plain": [
       "0         False\n",
       "1         False\n",
       "2         False\n",
       "3         False\n",
       "4         False\n",
       "          ...  \n",
       "277582     True\n",
       "277583     True\n",
       "277584     True\n",
       "277585     True\n",
       "277586     True\n",
       "Name: is_weekend, Length: 277587, dtype: bool"
      ]
     },
     "execution_count": 27,
     "metadata": {},
     "output_type": "execute_result"
    }
   ],
   "source": [
    "df['is_weekend']"
   ]
  },
  {
   "cell_type": "code",
   "execution_count": 28,
   "metadata": {},
   "outputs": [],
   "source": [
    "df['is_weekend'] = df['is_weekend'].apply(lambda boolean: int(boolean))"
   ]
  },
  {
   "cell_type": "code",
   "execution_count": 29,
   "metadata": {},
   "outputs": [
    {
     "data": {
      "text/plain": [
       "0         0\n",
       "1         0\n",
       "2         0\n",
       "3         0\n",
       "4         0\n",
       "         ..\n",
       "277582    1\n",
       "277583    1\n",
       "277584    1\n",
       "277585    1\n",
       "277586    1\n",
       "Name: is_weekend, Length: 277587, dtype: int64"
      ]
     },
     "execution_count": 29,
     "metadata": {},
     "output_type": "execute_result"
    }
   ],
   "source": [
    "df['is_weekend']"
   ]
  },
  {
   "cell_type": "markdown",
   "metadata": {},
   "source": [
    "----"
   ]
  },
  {
   "cell_type": "markdown",
   "metadata": {},
   "source": [
    "Check out current features:"
   ]
  },
  {
   "cell_type": "code",
   "execution_count": 30,
   "metadata": {},
   "outputs": [
    {
     "data": {
      "text/html": [
       "<div>\n",
       "<style scoped>\n",
       "    .dataframe tbody tr th:only-of-type {\n",
       "        vertical-align: middle;\n",
       "    }\n",
       "\n",
       "    .dataframe tbody tr th {\n",
       "        vertical-align: top;\n",
       "    }\n",
       "\n",
       "    .dataframe thead th {\n",
       "        text-align: right;\n",
       "    }\n",
       "</style>\n",
       "<table border=\"1\" class=\"dataframe\">\n",
       "  <thead>\n",
       "    <tr style=\"text-align: right;\">\n",
       "      <th></th>\n",
       "      <th>order_id</th>\n",
       "      <th>bar_id</th>\n",
       "      <th>is_weekend</th>\n",
       "      <th>item_qty</th>\n",
       "      <th>beer_volume</th>\n",
       "      <th>guest_count</th>\n",
       "      <th>total_orders_category_id_1.0</th>\n",
       "      <th>total_orders_category_id_2.0</th>\n",
       "      <th>total_orders_category_id_3.0</th>\n",
       "      <th>total_orders_category_id_4.0</th>\n",
       "      <th>total_orders_category_id_5.0</th>\n",
       "      <th>total_orders_category_id_6.0</th>\n",
       "      <th>total_orders</th>\n",
       "      <th>total_large_meals</th>\n",
       "      <th>total_small_meals</th>\n",
       "      <th>total_large_sharable_meals</th>\n",
       "      <th>total_small_sharable_meals</th>\n",
       "      <th>sharable</th>\n",
       "      <th>kids_meal</th>\n",
       "      <th>birthday</th>\n",
       "      <th>dwell_time</th>\n",
       "      <th>meal_flow_last_to_close</th>\n",
       "      <th>total_flow_steps</th>\n",
       "      <th>total_meal_steps</th>\n",
       "      <th>avg_time_between_steps</th>\n",
       "      <th>sit_to_order</th>\n",
       "      <th>max_items_per_step</th>\n",
       "      <th>total_sales_before_tax</th>\n",
       "      <th>order_hour_sin</th>\n",
       "      <th>order_hour_cos</th>\n",
       "      <th>order_close_hour_sin</th>\n",
       "      <th>order_close_hour_cos</th>\n",
       "      <th>period_of_day_sin</th>\n",
       "      <th>period_of_day_cos</th>\n",
       "      <th>order_day_of_week_sin</th>\n",
       "      <th>order_day_of_week_cos</th>\n",
       "    </tr>\n",
       "  </thead>\n",
       "  <tbody>\n",
       "    <tr>\n",
       "      <td>0</td>\n",
       "      <td>510834245</td>\n",
       "      <td>7127</td>\n",
       "      <td>0</td>\n",
       "      <td>1.0</td>\n",
       "      <td>0.000</td>\n",
       "      <td>1</td>\n",
       "      <td>0.0</td>\n",
       "      <td>0.0</td>\n",
       "      <td>0.0</td>\n",
       "      <td>0.0</td>\n",
       "      <td>0.0</td>\n",
       "      <td>1.0</td>\n",
       "      <td>1.0</td>\n",
       "      <td>0.0</td>\n",
       "      <td>0.0</td>\n",
       "      <td>0.0</td>\n",
       "      <td>0.0</td>\n",
       "      <td>0</td>\n",
       "      <td>0</td>\n",
       "      <td>0</td>\n",
       "      <td>0.630833</td>\n",
       "      <td>9</td>\n",
       "      <td>9</td>\n",
       "      <td>1</td>\n",
       "      <td>1.0</td>\n",
       "      <td>1</td>\n",
       "      <td>1</td>\n",
       "      <td>7.75</td>\n",
       "      <td>0.0</td>\n",
       "      <td>1.0</td>\n",
       "      <td>0.258819</td>\n",
       "      <td>0.965926</td>\n",
       "      <td>-0.866025</td>\n",
       "      <td>0.5</td>\n",
       "      <td>0.866025</td>\n",
       "      <td>-0.5</td>\n",
       "    </tr>\n",
       "    <tr>\n",
       "      <td>1</td>\n",
       "      <td>510839657</td>\n",
       "      <td>17271</td>\n",
       "      <td>0</td>\n",
       "      <td>2.0</td>\n",
       "      <td>0.828</td>\n",
       "      <td>2</td>\n",
       "      <td>2.0</td>\n",
       "      <td>0.0</td>\n",
       "      <td>0.0</td>\n",
       "      <td>0.0</td>\n",
       "      <td>0.0</td>\n",
       "      <td>0.0</td>\n",
       "      <td>2.0</td>\n",
       "      <td>0.0</td>\n",
       "      <td>0.0</td>\n",
       "      <td>0.0</td>\n",
       "      <td>0.0</td>\n",
       "      <td>0</td>\n",
       "      <td>0</td>\n",
       "      <td>0</td>\n",
       "      <td>0.612778</td>\n",
       "      <td>9</td>\n",
       "      <td>9</td>\n",
       "      <td>1</td>\n",
       "      <td>1.0</td>\n",
       "      <td>1</td>\n",
       "      <td>2</td>\n",
       "      <td>15.00</td>\n",
       "      <td>0.0</td>\n",
       "      <td>1.0</td>\n",
       "      <td>0.000000</td>\n",
       "      <td>1.000000</td>\n",
       "      <td>-0.866025</td>\n",
       "      <td>0.5</td>\n",
       "      <td>0.866025</td>\n",
       "      <td>-0.5</td>\n",
       "    </tr>\n",
       "    <tr>\n",
       "      <td>2</td>\n",
       "      <td>510839665</td>\n",
       "      <td>17271</td>\n",
       "      <td>0</td>\n",
       "      <td>2.0</td>\n",
       "      <td>0.000</td>\n",
       "      <td>1</td>\n",
       "      <td>0.0</td>\n",
       "      <td>1.0</td>\n",
       "      <td>1.0</td>\n",
       "      <td>0.0</td>\n",
       "      <td>0.0</td>\n",
       "      <td>0.0</td>\n",
       "      <td>2.0</td>\n",
       "      <td>0.0</td>\n",
       "      <td>1.0</td>\n",
       "      <td>0.0</td>\n",
       "      <td>0.0</td>\n",
       "      <td>0</td>\n",
       "      <td>0</td>\n",
       "      <td>0</td>\n",
       "      <td>0.880000</td>\n",
       "      <td>12</td>\n",
       "      <td>12</td>\n",
       "      <td>1</td>\n",
       "      <td>1.0</td>\n",
       "      <td>1</td>\n",
       "      <td>2</td>\n",
       "      <td>18.95</td>\n",
       "      <td>0.0</td>\n",
       "      <td>1.0</td>\n",
       "      <td>0.258819</td>\n",
       "      <td>0.965926</td>\n",
       "      <td>-0.866025</td>\n",
       "      <td>0.5</td>\n",
       "      <td>0.866025</td>\n",
       "      <td>-0.5</td>\n",
       "    </tr>\n",
       "    <tr>\n",
       "      <td>3</td>\n",
       "      <td>510839666</td>\n",
       "      <td>17271</td>\n",
       "      <td>0</td>\n",
       "      <td>2.0</td>\n",
       "      <td>0.828</td>\n",
       "      <td>1</td>\n",
       "      <td>2.0</td>\n",
       "      <td>0.0</td>\n",
       "      <td>0.0</td>\n",
       "      <td>0.0</td>\n",
       "      <td>0.0</td>\n",
       "      <td>0.0</td>\n",
       "      <td>2.0</td>\n",
       "      <td>0.0</td>\n",
       "      <td>0.0</td>\n",
       "      <td>0.0</td>\n",
       "      <td>0.0</td>\n",
       "      <td>0</td>\n",
       "      <td>0</td>\n",
       "      <td>0</td>\n",
       "      <td>0.424444</td>\n",
       "      <td>0</td>\n",
       "      <td>5</td>\n",
       "      <td>2</td>\n",
       "      <td>10.5</td>\n",
       "      <td>1</td>\n",
       "      <td>1</td>\n",
       "      <td>11.90</td>\n",
       "      <td>0.0</td>\n",
       "      <td>1.0</td>\n",
       "      <td>0.000000</td>\n",
       "      <td>1.000000</td>\n",
       "      <td>-0.866025</td>\n",
       "      <td>0.5</td>\n",
       "      <td>0.866025</td>\n",
       "      <td>-0.5</td>\n",
       "    </tr>\n",
       "    <tr>\n",
       "      <td>4</td>\n",
       "      <td>510839684</td>\n",
       "      <td>17271</td>\n",
       "      <td>0</td>\n",
       "      <td>1.0</td>\n",
       "      <td>0.000</td>\n",
       "      <td>1</td>\n",
       "      <td>0.0</td>\n",
       "      <td>0.0</td>\n",
       "      <td>1.0</td>\n",
       "      <td>0.0</td>\n",
       "      <td>0.0</td>\n",
       "      <td>0.0</td>\n",
       "      <td>1.0</td>\n",
       "      <td>0.0</td>\n",
       "      <td>0.0</td>\n",
       "      <td>0.0</td>\n",
       "      <td>0.0</td>\n",
       "      <td>0</td>\n",
       "      <td>0</td>\n",
       "      <td>0</td>\n",
       "      <td>0.782778</td>\n",
       "      <td>11</td>\n",
       "      <td>11</td>\n",
       "      <td>1</td>\n",
       "      <td>1.0</td>\n",
       "      <td>1</td>\n",
       "      <td>1</td>\n",
       "      <td>13.00</td>\n",
       "      <td>0.0</td>\n",
       "      <td>1.0</td>\n",
       "      <td>0.258819</td>\n",
       "      <td>0.965926</td>\n",
       "      <td>-0.866025</td>\n",
       "      <td>0.5</td>\n",
       "      <td>0.866025</td>\n",
       "      <td>-0.5</td>\n",
       "    </tr>\n",
       "  </tbody>\n",
       "</table>\n",
       "</div>"
      ],
      "text/plain": [
       "    order_id  bar_id  is_weekend  item_qty  beer_volume  guest_count  \\\n",
       "0  510834245    7127           0       1.0        0.000            1   \n",
       "1  510839657   17271           0       2.0        0.828            2   \n",
       "2  510839665   17271           0       2.0        0.000            1   \n",
       "3  510839666   17271           0       2.0        0.828            1   \n",
       "4  510839684   17271           0       1.0        0.000            1   \n",
       "\n",
       "   total_orders_category_id_1.0  total_orders_category_id_2.0  \\\n",
       "0                           0.0                           0.0   \n",
       "1                           2.0                           0.0   \n",
       "2                           0.0                           1.0   \n",
       "3                           2.0                           0.0   \n",
       "4                           0.0                           0.0   \n",
       "\n",
       "   total_orders_category_id_3.0  total_orders_category_id_4.0  \\\n",
       "0                           0.0                           0.0   \n",
       "1                           0.0                           0.0   \n",
       "2                           1.0                           0.0   \n",
       "3                           0.0                           0.0   \n",
       "4                           1.0                           0.0   \n",
       "\n",
       "   total_orders_category_id_5.0  total_orders_category_id_6.0  total_orders  \\\n",
       "0                           0.0                           1.0           1.0   \n",
       "1                           0.0                           0.0           2.0   \n",
       "2                           0.0                           0.0           2.0   \n",
       "3                           0.0                           0.0           2.0   \n",
       "4                           0.0                           0.0           1.0   \n",
       "\n",
       "   total_large_meals  total_small_meals  total_large_sharable_meals  \\\n",
       "0                0.0                0.0                         0.0   \n",
       "1                0.0                0.0                         0.0   \n",
       "2                0.0                1.0                         0.0   \n",
       "3                0.0                0.0                         0.0   \n",
       "4                0.0                0.0                         0.0   \n",
       "\n",
       "   total_small_sharable_meals  sharable  kids_meal  birthday  dwell_time  \\\n",
       "0                         0.0         0          0         0    0.630833   \n",
       "1                         0.0         0          0         0    0.612778   \n",
       "2                         0.0         0          0         0    0.880000   \n",
       "3                         0.0         0          0         0    0.424444   \n",
       "4                         0.0         0          0         0    0.782778   \n",
       "\n",
       "   meal_flow_last_to_close  total_flow_steps  total_meal_steps  \\\n",
       "0                        9                 9                 1   \n",
       "1                        9                 9                 1   \n",
       "2                       12                12                 1   \n",
       "3                        0                 5                 2   \n",
       "4                       11                11                 1   \n",
       "\n",
       "   avg_time_between_steps  sit_to_order  max_items_per_step  \\\n",
       "0                     1.0             1                   1   \n",
       "1                     1.0             1                   2   \n",
       "2                     1.0             1                   2   \n",
       "3                    10.5             1                   1   \n",
       "4                     1.0             1                   1   \n",
       "\n",
       "   total_sales_before_tax  order_hour_sin  order_hour_cos  \\\n",
       "0                    7.75             0.0             1.0   \n",
       "1                   15.00             0.0             1.0   \n",
       "2                   18.95             0.0             1.0   \n",
       "3                   11.90             0.0             1.0   \n",
       "4                   13.00             0.0             1.0   \n",
       "\n",
       "   order_close_hour_sin  order_close_hour_cos  period_of_day_sin  \\\n",
       "0              0.258819              0.965926          -0.866025   \n",
       "1              0.000000              1.000000          -0.866025   \n",
       "2              0.258819              0.965926          -0.866025   \n",
       "3              0.000000              1.000000          -0.866025   \n",
       "4              0.258819              0.965926          -0.866025   \n",
       "\n",
       "   period_of_day_cos  order_day_of_week_sin  order_day_of_week_cos  \n",
       "0                0.5               0.866025                   -0.5  \n",
       "1                0.5               0.866025                   -0.5  \n",
       "2                0.5               0.866025                   -0.5  \n",
       "3                0.5               0.866025                   -0.5  \n",
       "4                0.5               0.866025                   -0.5  "
      ]
     },
     "execution_count": 30,
     "metadata": {},
     "output_type": "execute_result"
    }
   ],
   "source": [
    "df.head()"
   ]
  },
  {
   "cell_type": "code",
   "execution_count": 31,
   "metadata": {},
   "outputs": [
    {
     "name": "stdout",
     "output_type": "stream",
     "text": [
      "<class 'pandas.core.frame.DataFrame'>\n",
      "RangeIndex: 277587 entries, 0 to 277586\n",
      "Data columns (total 36 columns):\n",
      "order_id                        277587 non-null int64\n",
      "bar_id                          277587 non-null int64\n",
      "is_weekend                      277587 non-null int64\n",
      "item_qty                        277587 non-null float64\n",
      "beer_volume                     277587 non-null float64\n",
      "guest_count                     277587 non-null int64\n",
      "total_orders_category_id_1.0    277587 non-null float64\n",
      "total_orders_category_id_2.0    277587 non-null float64\n",
      "total_orders_category_id_3.0    277587 non-null float64\n",
      "total_orders_category_id_4.0    277587 non-null float64\n",
      "total_orders_category_id_5.0    277587 non-null float64\n",
      "total_orders_category_id_6.0    277587 non-null float64\n",
      "total_orders                    277587 non-null float64\n",
      "total_large_meals               277587 non-null float64\n",
      "total_small_meals               277587 non-null float64\n",
      "total_large_sharable_meals      277587 non-null float64\n",
      "total_small_sharable_meals      277587 non-null float64\n",
      "sharable                        277587 non-null int64\n",
      "kids_meal                       277587 non-null int64\n",
      "birthday                        277587 non-null int64\n",
      "dwell_time                      277587 non-null float64\n",
      "meal_flow_last_to_close         277587 non-null int64\n",
      "total_flow_steps                277587 non-null int64\n",
      "total_meal_steps                277587 non-null int64\n",
      "avg_time_between_steps          277587 non-null float64\n",
      "sit_to_order                    277587 non-null int64\n",
      "max_items_per_step              277587 non-null int64\n",
      "total_sales_before_tax          277587 non-null float64\n",
      "order_hour_sin                  277587 non-null float64\n",
      "order_hour_cos                  277587 non-null float64\n",
      "order_close_hour_sin            277587 non-null float64\n",
      "order_close_hour_cos            277587 non-null float64\n",
      "period_of_day_sin               277587 non-null float64\n",
      "period_of_day_cos               277587 non-null float64\n",
      "order_day_of_week_sin           277587 non-null float64\n",
      "order_day_of_week_cos           277587 non-null float64\n",
      "dtypes: float64(24), int64(12)\n",
      "memory usage: 76.2 MB\n"
     ]
    }
   ],
   "source": [
    "df.info()"
   ]
  },
  {
   "cell_type": "markdown",
   "metadata": {},
   "source": [
    "-----"
   ]
  },
  {
   "cell_type": "markdown",
   "metadata": {},
   "source": [
    "## Bars Filtration"
   ]
  },
  {
   "cell_type": "code",
   "execution_count": 32,
   "metadata": {},
   "outputs": [],
   "source": [
    "df_good = df[~(df.total_sales_before_tax == 0)]\n",
    "\n",
    "bars = df.bar_id.unique()\n",
    "features = ['bar_id', 'guest_count']\n",
    "tables = df.drop_duplicates(subset='order_id', keep='first')\n",
    "tables.set_index('order_id', inplace=True)\n",
    "tables = tables[features]\n",
    "\n",
    "desc = tables.groupby('bar_id').guest_count.describe()\n",
    "desc_columns = ['guest_count_count', 'guest_count_mean', 'guest_count_std', 'guest_count_min', \\\n",
    "                'guest_count_25%', 'guest_count_50%', 'guest_count_75%', 'guest_count_max']\n",
    "desc.columns = desc_columns\n",
    "\n",
    "tables = tables.reset_index().merge(desc, on='bar_id').set_index(tables.index).drop(['order_id'], axis=1)\n",
    "\n",
    "bars_data = tables.drop_duplicates(subset='bar_id', keep='first')[['bar_id'] + desc_columns]\n",
    "bars_data.set_index('bar_id', inplace=True)\n",
    "bars_data = bars_data[(bars_data.guest_count_max != 0) & (bars_data.guest_count_max != 1)]\n",
    "\n",
    "last_bars = bars_data[bars_data[\"guest_count_min\"] != 0]\n",
    "if len(last_bars) < 25:\n",
    "    df_good = df_good[df_good.bar_id.isin(bars_data.index)]\n",
    "else:\n",
    "    df_good = df_good[df_good.bar_id.isin(last_bars.index)]"
   ]
  },
  {
   "cell_type": "markdown",
   "metadata": {},
   "source": [
    "##### Drop any table with `guest_count` < 1"
   ]
  },
  {
   "cell_type": "code",
   "execution_count": 33,
   "metadata": {},
   "outputs": [],
   "source": [
    "df_good = df_good[df_good.guest_count >= 1]"
   ]
  },
  {
   "cell_type": "markdown",
   "metadata": {},
   "source": [
    "##### TODO: figure out how to filter extra tables (the existing logic is too forgiving)"
   ]
  },
  {
   "cell_type": "markdown",
   "metadata": {},
   "source": [
    "---"
   ]
  },
  {
   "cell_type": "markdown",
   "metadata": {},
   "source": [
    "Take a look at the `guest_count` feature distribution:"
   ]
  },
  {
   "cell_type": "code",
   "execution_count": 34,
   "metadata": {},
   "outputs": [
    {
     "data": {
      "text/plain": [
       "1      96845\n",
       "2      56583\n",
       "3      18333\n",
       "4      10399\n",
       "5       4010\n",
       "6       2131\n",
       "7       1001\n",
       "8        628\n",
       "9        417\n",
       "10       260\n",
       "11       156\n",
       "12       115\n",
       "13        95\n",
       "14        60\n",
       "15        44\n",
       "18        31\n",
       "16        28\n",
       "17        28\n",
       "19        27\n",
       "20        19\n",
       "21        18\n",
       "22        16\n",
       "24        13\n",
       "23         9\n",
       "25         7\n",
       "26         7\n",
       "32         5\n",
       "27         4\n",
       "28         3\n",
       "30         3\n",
       "35         3\n",
       "55         2\n",
       "29         2\n",
       "33         2\n",
       "52         2\n",
       "37         2\n",
       "78         1\n",
       "180        1\n",
       "60         1\n",
       "58         1\n",
       "46         1\n",
       "48         1\n",
       "39         1\n",
       "45         1\n",
       "43         1\n",
       "42         1\n",
       "40         1\n",
       "38         1\n",
       "34         1\n",
       "108        1\n",
       "Name: guest_count, dtype: int64"
      ]
     },
     "execution_count": 34,
     "metadata": {},
     "output_type": "execute_result"
    }
   ],
   "source": [
    "df_good.guest_count.value_counts()"
   ]
  },
  {
   "cell_type": "code",
   "execution_count": 35,
   "metadata": {},
   "outputs": [
    {
     "data": {
      "text/plain": [
       "1      0.506189\n",
       "2      0.295747\n",
       "3      0.095823\n",
       "4      0.054353\n",
       "5      0.020959\n",
       "6      0.011138\n",
       "7      0.005232\n",
       "8      0.003282\n",
       "9      0.002180\n",
       "10     0.001359\n",
       "11     0.000815\n",
       "12     0.000601\n",
       "13     0.000497\n",
       "14     0.000314\n",
       "15     0.000230\n",
       "18     0.000162\n",
       "16     0.000146\n",
       "17     0.000146\n",
       "19     0.000141\n",
       "20     0.000099\n",
       "21     0.000094\n",
       "22     0.000084\n",
       "24     0.000068\n",
       "23     0.000047\n",
       "25     0.000037\n",
       "26     0.000037\n",
       "32     0.000026\n",
       "27     0.000021\n",
       "28     0.000016\n",
       "30     0.000016\n",
       "35     0.000016\n",
       "55     0.000010\n",
       "29     0.000010\n",
       "33     0.000010\n",
       "52     0.000010\n",
       "37     0.000010\n",
       "78     0.000005\n",
       "180    0.000005\n",
       "60     0.000005\n",
       "58     0.000005\n",
       "46     0.000005\n",
       "48     0.000005\n",
       "39     0.000005\n",
       "45     0.000005\n",
       "43     0.000005\n",
       "42     0.000005\n",
       "40     0.000005\n",
       "38     0.000005\n",
       "34     0.000005\n",
       "108    0.000005\n",
       "Name: guest_count, dtype: float64"
      ]
     },
     "execution_count": 35,
     "metadata": {},
     "output_type": "execute_result"
    }
   ],
   "source": [
    "df_good.guest_count.value_counts(normalize=True)"
   ]
  },
  {
   "cell_type": "code",
   "execution_count": 36,
   "metadata": {},
   "outputs": [
    {
     "data": {
      "text/plain": [
       "<matplotlib.axes._subplots.AxesSubplot at 0x22da0480828>"
      ]
     },
     "execution_count": 36,
     "metadata": {},
     "output_type": "execute_result"
    },
    {
     "data": {
      "image/png": "[encoded data removed]",
      "text/plain": [
       "<Figure size 432x288 with 1 Axes>"
      ]
     },
     "metadata": {
      "needs_background": "light"
     },
     "output_type": "display_data"
    }
   ],
   "source": [
    "sns.countplot(x=\"guest_count\", data=df_good)"
   ]
  },
  {
   "cell_type": "code",
   "execution_count": 37,
   "metadata": {},
   "outputs": [
    {
     "data": {
      "text/plain": [
       "<matplotlib.axes._subplots.AxesSubplot at 0x22da083fc18>"
      ]
     },
     "execution_count": 37,
     "metadata": {},
     "output_type": "execute_result"
    },
    {
     "data": {
      "image/png": "[encoded data removed]",
      "text/plain": [
       "<Figure size 432x288 with 1 Axes>"
      ]
     },
     "metadata": {
      "needs_background": "light"
     },
     "output_type": "display_data"
    }
   ],
   "source": [
    "sns.countplot(x=\"guest_count\", data=df_good[df_good.guest_count <= 30])"
   ]
  },
  {
   "cell_type": "code",
   "execution_count": 38,
   "metadata": {},
   "outputs": [
    {
     "data": {
      "text/plain": [
       "<matplotlib.axes._subplots.AxesSubplot at 0x22da0bd1358>"
      ]
     },
     "execution_count": 38,
     "metadata": {},
     "output_type": "execute_result"
    },
    {
     "data": {
      "image/png": "[encoded data removed]",
      "text/plain": [
       "<Figure size 432x288 with 1 Axes>"
      ]
     },
     "metadata": {
      "needs_background": "light"
     },
     "output_type": "display_data"
    }
   ],
   "source": [
    "sns.countplot(x=\"guest_count\", data=df_good[df_good.guest_count <= 10])"
   ]
  },
  {
   "cell_type": "markdown",
   "metadata": {},
   "source": [
    "Now, using bins:"
   ]
  },
  {
   "cell_type": "code",
   "execution_count": 39,
   "metadata": {},
   "outputs": [],
   "source": [
    "def map_gc_bin(guest_count):\n",
    "    if guest_count == 1:\n",
    "        return '1'\n",
    "    elif guest_count == 2:\n",
    "        return '2'\n",
    "    elif guest_count >= 3 and guest_count <= 5:\n",
    "        return '3-5'\n",
    "    elif guest_count >= 6:\n",
    "        return '6+'\n",
    "    \n",
    "    raise ValueError('An unexpected value occurred')"
   ]
  },
  {
   "cell_type": "code",
   "execution_count": 40,
   "metadata": {},
   "outputs": [],
   "source": [
    "df_good['guest_count_bin'] = df_good.apply(lambda table: map_gc_bin(table.guest_count), axis=1)"
   ]
  },
  {
   "cell_type": "code",
   "execution_count": 41,
   "metadata": {},
   "outputs": [
    {
     "data": {
      "text/plain": [
       "1      96845\n",
       "2      56583\n",
       "3-5    32742\n",
       "6+      5152\n",
       "Name: guest_count_bin, dtype: int64"
      ]
     },
     "execution_count": 41,
     "metadata": {},
     "output_type": "execute_result"
    }
   ],
   "source": [
    "df_good.guest_count_bin.value_counts()"
   ]
  },
  {
   "cell_type": "code",
   "execution_count": 42,
   "metadata": {},
   "outputs": [
    {
     "data": {
      "text/plain": [
       "1      0.506189\n",
       "2      0.295747\n",
       "3-5    0.171136\n",
       "6+     0.026928\n",
       "Name: guest_count_bin, dtype: float64"
      ]
     },
     "execution_count": 42,
     "metadata": {},
     "output_type": "execute_result"
    }
   ],
   "source": [
    "df_good.guest_count_bin.value_counts(normalize=True)"
   ]
  },
  {
   "cell_type": "code",
   "execution_count": 43,
   "metadata": {},
   "outputs": [
    {
     "data": {
      "text/plain": [
       "<matplotlib.axes._subplots.AxesSubplot at 0x22da0c7e2e8>"
      ]
     },
     "execution_count": 43,
     "metadata": {},
     "output_type": "execute_result"
    },
    {
     "data": {
      "image/png": "[encoded data removed]",
      "text/plain": [
       "<Figure size 432x288 with 1 Axes>"
      ]
     },
     "metadata": {
      "needs_background": "light"
     },
     "output_type": "display_data"
    }
   ],
   "source": [
    "sns.countplot(x=\"guest_count_bin\", data=df_good)"
   ]
  },
  {
   "cell_type": "code",
   "execution_count": 44,
   "metadata": {},
   "outputs": [],
   "source": [
    "df_good.drop(['guest_count_bin'], axis=1, inplace=True)"
   ]
  },
  {
   "cell_type": "markdown",
   "metadata": {},
   "source": [
    "----"
   ]
  },
  {
   "cell_type": "code",
   "execution_count": 45,
   "metadata": {},
   "outputs": [],
   "source": [
    "df_bad = df[~(df.order_id.isin(df_good.order_id.values))]"
   ]
  },
  {
   "cell_type": "code",
   "execution_count": 46,
   "metadata": {},
   "outputs": [],
   "source": [
    "df = df.drop(['bar_id'], axis=1)\n",
    "df_good = df_good.drop(['bar_id'], axis=1)\n",
    "df_bad = df_bad.drop(['bar_id'], axis=1)"
   ]
  },
  {
   "cell_type": "code",
   "execution_count": 47,
   "metadata": {},
   "outputs": [],
   "source": [
    "assert(len(df) == len(df_good) + len(df_bad))"
   ]
  },
  {
   "cell_type": "code",
   "execution_count": 48,
   "metadata": {},
   "outputs": [
    {
     "name": "stdout",
     "output_type": "stream",
     "text": [
      "Size of trustworthy guest_count orders:  191322\n"
     ]
    }
   ],
   "source": [
    "print(\"Size of trustworthy guest_count orders: \", len(df_good))"
   ]
  },
  {
   "cell_type": "markdown",
   "metadata": {},
   "source": [
    "We'll use these orders for train (DEV + VALID sets) + test (TEST set)"
   ]
  },
  {
   "cell_type": "code",
   "execution_count": 49,
   "metadata": {},
   "outputs": [
    {
     "name": "stdout",
     "output_type": "stream",
     "text": [
      "Size of untrustworthy guest_count orders:  86265\n"
     ]
    }
   ],
   "source": [
    "print(\"Size of untrustworthy guest_count orders: \", len(df_bad))"
   ]
  },
  {
   "cell_type": "markdown",
   "metadata": {},
   "source": [
    "We'll not perform our prediction for these orders."
   ]
  },
  {
   "cell_type": "markdown",
   "metadata": {},
   "source": [
    "----"
   ]
  },
  {
   "cell_type": "markdown",
   "metadata": {},
   "source": [
    "Pick **good** entries:"
   ]
  },
  {
   "cell_type": "code",
   "execution_count": 50,
   "metadata": {},
   "outputs": [],
   "source": [
    "df_orig = df\n",
    "df = df_good"
   ]
  },
  {
   "cell_type": "markdown",
   "metadata": {},
   "source": [
    "---"
   ]
  },
  {
   "cell_type": "markdown",
   "metadata": {},
   "source": [
    "## Machine Learning"
   ]
  },
  {
   "cell_type": "markdown",
   "metadata": {},
   "source": [
    "This is a classification problem, a table can get any integer value for `guest_count` starting from 1."
   ]
  },
  {
   "cell_type": "markdown",
   "metadata": {},
   "source": [
    "This is a **regression** task.  \n",
    "Note we will have to round the results to integer values (typeof `guest_count` == int)"
   ]
  },
  {
   "cell_type": "code",
   "execution_count": 51,
   "metadata": {},
   "outputs": [],
   "source": [
    "from sklearn.model_selection import train_test_split"
   ]
  },
  {
   "cell_type": "code",
   "execution_count": 52,
   "metadata": {},
   "outputs": [],
   "source": [
    "X = df.drop(['order_id', 'guest_count'], axis=1)"
   ]
  },
  {
   "cell_type": "code",
   "execution_count": 53,
   "metadata": {},
   "outputs": [],
   "source": [
    "y = df['guest_count']"
   ]
  },
  {
   "cell_type": "code",
   "execution_count": 54,
   "metadata": {},
   "outputs": [],
   "source": [
    "X_train, X_test, y_train, y_test = train_test_split(X, y, test_size=0.3, random_state=0)"
   ]
  },
  {
   "cell_type": "code",
   "execution_count": 55,
   "metadata": {},
   "outputs": [],
   "source": [
    "truths = list(y_test.values)"
   ]
  },
  {
   "cell_type": "code",
   "execution_count": 56,
   "metadata": {},
   "outputs": [],
   "source": [
    "bins = ['1', '2', '3-5', '6+']"
   ]
  },
  {
   "cell_type": "code",
   "execution_count": 57,
   "metadata": {},
   "outputs": [],
   "source": [
    "def bin_it(label):\n",
    "    if label == 1:\n",
    "        return 0\n",
    "    elif label == 2:\n",
    "        return 1\n",
    "    elif label >= 3 and label <= 5:\n",
    "        return 2\n",
    "    elif label >= 6:\n",
    "        return 3\n",
    "    \n",
    "    raise ValueError('An unexpected value occurred')"
   ]
  },
  {
   "cell_type": "code",
   "execution_count": 58,
   "metadata": {},
   "outputs": [],
   "source": [
    "def bin_them(labels):\n",
    "    return [bin_it(label) for label in labels]"
   ]
  },
  {
   "cell_type": "code",
   "execution_count": 59,
   "metadata": {},
   "outputs": [],
   "source": [
    "def measure_bin(trues, preds, bin_idx):\n",
    "    trues_idx = np.where(trues == bin_idx)\n",
    "    preds_idx = np.where(preds == bin_idx)\n",
    "    \n",
    "    recall = sum(preds[trues_idx] == bin_idx) / len(trues_idx[0])\n",
    "    precision = sum(trues[preds_idx] == bin_idx) / len(preds_idx[0])\n",
    "\n",
    "    print(\"\\tMeasuring performance for bin {}\".format(bins[bin_idx]))\n",
    "    print(\"\\t\\tRecall = {:.2f}\".format(recall))\n",
    "    print(\"\\t\\tPrecision = {:.2f}\".format(precision))"
   ]
  },
  {
   "cell_type": "code",
   "execution_count": 60,
   "metadata": {},
   "outputs": [],
   "source": [
    "def measure_performance(model_name, trues, preds):\n",
    "    trues, preds = bin_them(trues), bin_them(preds)\n",
    "    trues, preds = np.array(trues), np.array(preds)\n",
    "    print(\"Measuring performance (recall + precision) for the {} model\".format(model_name))\n",
    "    \n",
    "    for bin_idx in range(len(bins)):\n",
    "        measure_bin(trues, preds, bin_idx)"
   ]
  },
  {
   "cell_type": "markdown",
   "metadata": {},
   "source": [
    "---"
   ]
  },
  {
   "cell_type": "markdown",
   "metadata": {},
   "source": [
    "### Decision Tree"
   ]
  },
  {
   "cell_type": "code",
   "execution_count": 61,
   "metadata": {},
   "outputs": [],
   "source": [
    "from sklearn.tree import DecisionTreeRegressor"
   ]
  },
  {
   "cell_type": "code",
   "execution_count": 62,
   "metadata": {},
   "outputs": [],
   "source": [
    "tree = DecisionTreeRegressor(criterion='mse', max_depth=5)"
   ]
  },
  {
   "cell_type": "code",
   "execution_count": 63,
   "metadata": {},
   "outputs": [
    {
     "data": {
      "text/plain": [
       "DecisionTreeRegressor(criterion='mse', max_depth=5, max_features=None,\n",
       "                      max_leaf_nodes=None, min_impurity_decrease=0.0,\n",
       "                      min_impurity_split=None, min_samples_leaf=1,\n",
       "                      min_samples_split=2, min_weight_fraction_leaf=0.0,\n",
       "                      presort=False, random_state=None, splitter='best')"
      ]
     },
     "execution_count": 63,
     "metadata": {},
     "output_type": "execute_result"
    }
   ],
   "source": [
    "tree.fit(X_train, y_train)"
   ]
  },
  {
   "cell_type": "code",
   "execution_count": 64,
   "metadata": {},
   "outputs": [],
   "source": [
    "tree_preds = tree.predict(X_test)"
   ]
  },
  {
   "cell_type": "code",
   "execution_count": 65,
   "metadata": {},
   "outputs": [
    {
     "data": {
      "text/plain": [
       "array([2.39166556, 3.22749376, 1.17081383, 1.17081383, 1.17081383,\n",
       "       1.79531469, 4.92556054, 1.79531469, 1.17081383, 2.39166556,\n",
       "       1.79531469, 1.79531469, 1.17081383, 1.17081383, 1.17081383,\n",
       "       1.78481502, 2.39166556, 1.17081383, 1.17081383, 1.78481502])"
      ]
     },
     "execution_count": 65,
     "metadata": {},
     "output_type": "execute_result"
    }
   ],
   "source": [
    "tree_preds[:20]"
   ]
  },
  {
   "cell_type": "code",
   "execution_count": 66,
   "metadata": {},
   "outputs": [],
   "source": [
    "tree_preds = [int(round(pred)) for pred in tree_preds]"
   ]
  },
  {
   "cell_type": "markdown",
   "metadata": {},
   "source": [
    "DT Preds:"
   ]
  },
  {
   "cell_type": "code",
   "execution_count": 67,
   "metadata": {},
   "outputs": [
    {
     "data": {
      "text/plain": [
       "[2, 3, 1, 1, 1, 2, 5, 2, 1, 2, 2, 2, 1, 1, 1, 2, 2, 1, 1, 2]"
      ]
     },
     "execution_count": 67,
     "metadata": {},
     "output_type": "execute_result"
    }
   ],
   "source": [
    "tree_preds[:20]"
   ]
  },
  {
   "cell_type": "markdown",
   "metadata": {},
   "source": [
    "Truths:"
   ]
  },
  {
   "cell_type": "code",
   "execution_count": 68,
   "metadata": {},
   "outputs": [
    {
     "data": {
      "text/plain": [
       "[2, 2, 1, 2, 1, 3, 6, 1, 1, 4, 2, 1, 1, 1, 1, 2, 2, 1, 1, 2]"
      ]
     },
     "execution_count": 68,
     "metadata": {},
     "output_type": "execute_result"
    }
   ],
   "source": [
    "truths[:20]"
   ]
  },
  {
   "cell_type": "code",
   "execution_count": 69,
   "metadata": {},
   "outputs": [],
   "source": [
    "comp = [true_pred == tree_pred for true_pred, tree_pred in zip(truths, tree_preds)]"
   ]
  },
  {
   "cell_type": "code",
   "execution_count": 70,
   "metadata": {},
   "outputs": [
    {
     "name": "stdout",
     "output_type": "stream",
     "text": [
      "Accuracy for model: 64.12%\n"
     ]
    }
   ],
   "source": [
    "acc = sum(comp) / len(y_test)\n",
    "print(\"Accuracy for model: {:.2%}\".format(acc))"
   ]
  },
  {
   "cell_type": "code",
   "execution_count": 71,
   "metadata": {},
   "outputs": [
    {
     "name": "stdout",
     "output_type": "stream",
     "text": [
      "Measuring performance (recall + precision) for the decision-tree model\n",
      "\tMeasuring performance for bin 1\n",
      "\t\tRecall = 0.71\n",
      "\t\tPrecision = 0.89\n",
      "\tMeasuring performance for bin 2\n",
      "\t\tRecall = 0.84\n",
      "\t\tPrecision = 0.52\n",
      "\tMeasuring performance for bin 3-5\n",
      "\t\tRecall = 0.44\n",
      "\t\tPrecision = 0.75\n",
      "\tMeasuring performance for bin 6+\n",
      "\t\tRecall = 0.50\n",
      "\t\tPrecision = 0.74\n"
     ]
    }
   ],
   "source": [
    "measure_performance('decision-tree', truths, tree_preds)"
   ]
  },
  {
   "cell_type": "markdown",
   "metadata": {},
   "source": [
    "----"
   ]
  },
  {
   "cell_type": "markdown",
   "metadata": {},
   "source": [
    "### Random Forest"
   ]
  },
  {
   "cell_type": "code",
   "execution_count": 72,
   "metadata": {},
   "outputs": [],
   "source": [
    "from sklearn.ensemble import RandomForestClassifier"
   ]
  },
  {
   "cell_type": "code",
   "execution_count": 73,
   "metadata": {},
   "outputs": [],
   "source": [
    "rfc = RandomForestClassifier(n_estimators=100)"
   ]
  },
  {
   "cell_type": "code",
   "execution_count": 74,
   "metadata": {},
   "outputs": [
    {
     "data": {
      "text/plain": [
       "RandomForestClassifier(bootstrap=True, class_weight=None, criterion='gini',\n",
       "                       max_depth=None, max_features='auto', max_leaf_nodes=None,\n",
       "                       min_impurity_decrease=0.0, min_impurity_split=None,\n",
       "                       min_samples_leaf=1, min_samples_split=2,\n",
       "                       min_weight_fraction_leaf=0.0, n_estimators=100,\n",
       "                       n_jobs=None, oob_score=False, random_state=None,\n",
       "                       verbose=0, warm_start=False)"
      ]
     },
     "execution_count": 74,
     "metadata": {},
     "output_type": "execute_result"
    }
   ],
   "source": [
    "rfc.fit(X_train, y_train)"
   ]
  },
  {
   "cell_type": "code",
   "execution_count": 75,
   "metadata": {},
   "outputs": [],
   "source": [
    "rfc_preds = rfc.predict(X_test)"
   ]
  },
  {
   "cell_type": "code",
   "execution_count": 76,
   "metadata": {},
   "outputs": [
    {
     "data": {
      "text/plain": [
       "array([1, 3, 1, 1, 1, 1, 6, 1, 1, 2, 1, 1, 1, 1, 1, 2, 1, 1, 1, 2],\n",
       "      dtype=int64)"
      ]
     },
     "execution_count": 76,
     "metadata": {},
     "output_type": "execute_result"
    }
   ],
   "source": [
    "rfc_preds[:20]"
   ]
  },
  {
   "cell_type": "code",
   "execution_count": 77,
   "metadata": {},
   "outputs": [],
   "source": [
    "rfc_preds = [int(round(pred)) for pred in rfc_preds]"
   ]
  },
  {
   "cell_type": "markdown",
   "metadata": {},
   "source": [
    "RFC Preds:"
   ]
  },
  {
   "cell_type": "code",
   "execution_count": 78,
   "metadata": {},
   "outputs": [
    {
     "data": {
      "text/plain": [
       "[1, 3, 1, 1, 1, 1, 6, 1, 1, 2, 1, 1, 1, 1, 1, 2, 1, 1, 1, 2]"
      ]
     },
     "execution_count": 78,
     "metadata": {},
     "output_type": "execute_result"
    }
   ],
   "source": [
    "rfc_preds[:20]"
   ]
  },
  {
   "cell_type": "markdown",
   "metadata": {},
   "source": [
    "Truths:"
   ]
  },
  {
   "cell_type": "code",
   "execution_count": 79,
   "metadata": {},
   "outputs": [
    {
     "data": {
      "text/plain": [
       "[2, 2, 1, 2, 1, 3, 6, 1, 1, 4, 2, 1, 1, 1, 1, 2, 2, 1, 1, 2]"
      ]
     },
     "execution_count": 79,
     "metadata": {},
     "output_type": "execute_result"
    }
   ],
   "source": [
    "truths[:20]"
   ]
  },
  {
   "cell_type": "code",
   "execution_count": 80,
   "metadata": {},
   "outputs": [],
   "source": [
    "comp = [true_pred == rfc_pred for true_pred, rfc_pred in zip(truths, rfc_preds)]"
   ]
  },
  {
   "cell_type": "code",
   "execution_count": 81,
   "metadata": {},
   "outputs": [
    {
     "name": "stdout",
     "output_type": "stream",
     "text": [
      "Accuracy for model: 76.14%\n"
     ]
    }
   ],
   "source": [
    "acc = sum(comp) / len(y_test)\n",
    "print(\"Accuracy for model: {:.2%}\".format(acc))"
   ]
  },
  {
   "cell_type": "code",
   "execution_count": 82,
   "metadata": {},
   "outputs": [
    {
     "name": "stdout",
     "output_type": "stream",
     "text": [
      "Measuring performance (recall + precision) for the random-forest-classifier model\n",
      "\tMeasuring performance for bin 1\n",
      "\t\tRecall = 0.87\n",
      "\t\tPrecision = 0.87\n",
      "\tMeasuring performance for bin 2\n",
      "\t\tRecall = 0.77\n",
      "\t\tPrecision = 0.72\n",
      "\tMeasuring performance for bin 3-5\n",
      "\t\tRecall = 0.69\n",
      "\t\tPrecision = 0.75\n",
      "\tMeasuring performance for bin 6+\n",
      "\t\tRecall = 0.52\n",
      "\t\tPrecision = 0.79\n"
     ]
    }
   ],
   "source": [
    "measure_performance('random-forest-classifier', truths, rfc_preds)"
   ]
  },
  {
   "cell_type": "markdown",
   "metadata": {},
   "source": [
    "---"
   ]
  },
  {
   "cell_type": "code",
   "execution_count": 83,
   "metadata": {},
   "outputs": [],
   "source": [
    "from sklearn.ensemble import RandomForestRegressor"
   ]
  },
  {
   "cell_type": "code",
   "execution_count": 84,
   "metadata": {},
   "outputs": [],
   "source": [
    "rfr = RandomForestRegressor(n_estimators=100)"
   ]
  },
  {
   "cell_type": "code",
   "execution_count": 85,
   "metadata": {},
   "outputs": [
    {
     "data": {
      "text/plain": [
       "RandomForestRegressor(bootstrap=True, criterion='mse', max_depth=None,\n",
       "                      max_features='auto', max_leaf_nodes=None,\n",
       "                      min_impurity_decrease=0.0, min_impurity_split=None,\n",
       "                      min_samples_leaf=1, min_samples_split=2,\n",
       "                      min_weight_fraction_leaf=0.0, n_estimators=100,\n",
       "                      n_jobs=None, oob_score=False, random_state=None,\n",
       "                      verbose=0, warm_start=False)"
      ]
     },
     "execution_count": 85,
     "metadata": {},
     "output_type": "execute_result"
    }
   ],
   "source": [
    "rfr.fit(X_train, y_train)"
   ]
  },
  {
   "cell_type": "code",
   "execution_count": 86,
   "metadata": {},
   "outputs": [],
   "source": [
    "rfr_preds = rfr.predict(X_test)"
   ]
  },
  {
   "cell_type": "code",
   "execution_count": 87,
   "metadata": {},
   "outputs": [
    {
     "data": {
      "text/plain": [
       "array([1.48, 3.18, 1.15, 1.02, 1.04, 2.8 , 4.28, 1.96, 4.08, 2.09, 1.81,\n",
       "       1.88, 1.  , 1.  , 1.  , 1.6 , 1.84, 1.03, 1.  , 2.  ])"
      ]
     },
     "execution_count": 87,
     "metadata": {},
     "output_type": "execute_result"
    }
   ],
   "source": [
    "rfr_preds[:20]"
   ]
  },
  {
   "cell_type": "code",
   "execution_count": 88,
   "metadata": {},
   "outputs": [],
   "source": [
    "rfr_preds = [int(round(pred)) for pred in rfr_preds]"
   ]
  },
  {
   "cell_type": "markdown",
   "metadata": {},
   "source": [
    "RFR Preds:"
   ]
  },
  {
   "cell_type": "code",
   "execution_count": 89,
   "metadata": {},
   "outputs": [
    {
     "data": {
      "text/plain": [
       "[1, 3, 1, 1, 1, 3, 4, 2, 4, 2, 2, 2, 1, 1, 1, 2, 2, 1, 1, 2]"
      ]
     },
     "execution_count": 89,
     "metadata": {},
     "output_type": "execute_result"
    }
   ],
   "source": [
    "rfr_preds[:20]"
   ]
  },
  {
   "cell_type": "markdown",
   "metadata": {},
   "source": [
    "Truths:"
   ]
  },
  {
   "cell_type": "code",
   "execution_count": 90,
   "metadata": {},
   "outputs": [
    {
     "data": {
      "text/plain": [
       "[2, 2, 1, 2, 1, 3, 6, 1, 1, 4, 2, 1, 1, 1, 1, 2, 2, 1, 1, 2]"
      ]
     },
     "execution_count": 90,
     "metadata": {},
     "output_type": "execute_result"
    }
   ],
   "source": [
    "truths[:20]"
   ]
  },
  {
   "cell_type": "code",
   "execution_count": 91,
   "metadata": {},
   "outputs": [],
   "source": [
    "comp = [true_pred == rfr_pred for true_pred, rfr_pred in zip(truths, rfr_preds)]"
   ]
  },
  {
   "cell_type": "code",
   "execution_count": 92,
   "metadata": {},
   "outputs": [
    {
     "name": "stdout",
     "output_type": "stream",
     "text": [
      "Accuracy for model: 72.33%\n"
     ]
    }
   ],
   "source": [
    "acc = sum(comp) / len(y_test)\n",
    "print(\"Accuracy for model: {:.2%}\".format(acc))"
   ]
  },
  {
   "cell_type": "code",
   "execution_count": 93,
   "metadata": {},
   "outputs": [
    {
     "name": "stdout",
     "output_type": "stream",
     "text": [
      "Measuring performance (recall + precision) for the random-forest-regressor model\n",
      "\tMeasuring performance for bin 1\n",
      "\t\tRecall = 0.78\n",
      "\t\tPrecision = 0.92\n",
      "\tMeasuring performance for bin 2\n",
      "\t\tRecall = 0.81\n",
      "\t\tPrecision = 0.64\n",
      "\tMeasuring performance for bin 3-5\n",
      "\t\tRecall = 0.72\n",
      "\t\tPrecision = 0.68\n",
      "\tMeasuring performance for bin 6+\n",
      "\t\tRecall = 0.51\n",
      "\t\tPrecision = 0.73\n"
     ]
    }
   ],
   "source": [
    "measure_performance('random-forest-regressor', truths, rfr_preds)"
   ]
  },
  {
   "cell_type": "markdown",
   "metadata": {},
   "source": [
    "----"
   ]
  },
  {
   "cell_type": "code",
   "execution_count": 94,
   "metadata": {},
   "outputs": [
    {
     "name": "stdout",
     "output_type": "stream",
     "text": [
      "Notebook run time: 0:04:28.467324\n"
     ]
    }
   ],
   "source": [
    "end = time.time()\n",
    "elapsed = end - start\n",
    "print(\"Notebook run time:\", str(timedelta(seconds=elapsed)))"
   ]
  }
 ],
 "metadata": {
  "kernelspec": {
   "display_name": "Python 3",
   "language": "python",
   "name": "python3"
  },
  "language_info": {
   "codemirror_mode": {
    "name": "ipython",
    "version": 3
   },
   "file_extension": ".py",
   "mimetype": "text/x-python",
   "name": "python",
   "nbconvert_exporter": "python",
   "pygments_lexer": "ipython3",
   "version": "3.7.3"
  }
 },
 "nbformat": 4,
 "nbformat_minor": 2
}
